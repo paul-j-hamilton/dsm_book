{
 "cells": [
  {
   "cell_type": "code",
   "execution_count": 1,
   "id": "0939565b",
   "metadata": {
    "tags": [
     "remove-cell"
    ]
   },
   "outputs": [
    {
     "name": "stderr",
     "output_type": "stream",
     "text": [
      "Registered S3 methods overwritten by 'ggplot2':\n",
      "  method         from \n",
      "  [.quosures     rlang\n",
      "  c.quosures     rlang\n",
      "  print.quosures rlang\n"
     ]
    },
    {
     "name": "stderr",
     "output_type": "stream",
     "text": [
      "Registered S3 method overwritten by 'rvest':\n",
      "  method            from\n",
      "  read_xml.response xml2\n"
     ]
    },
    {
     "name": "stderr",
     "output_type": "stream",
     "text": [
      "-- Attaching packages --------------------------------------- tidyverse 1.2.1 --\n"
     ]
    },
    {
     "name": "stderr",
     "output_type": "stream",
     "text": [
      "v ggplot2 3.1.1       v purrr   0.3.2  \n",
      "v tibble  2.1.1       v dplyr   0.8.0.1\n",
      "v tidyr   0.8.3       v stringr 1.4.0  \n",
      "v readr   1.3.1       v forcats 0.4.0  \n"
     ]
    },
    {
     "name": "stderr",
     "output_type": "stream",
     "text": [
      "-- Conflicts ------------------------------------------ tidyverse_conflicts() --\n",
      "x dplyr::filter() masks stats::filter()\n",
      "x dplyr::lag()    masks stats::lag()\n"
     ]
    },
    {
     "name": "stderr",
     "output_type": "stream",
     "text": [
      "Parsed with column specification:\n",
      "cols(\n",
      "  ID = col_double(),\n",
      "  Name = col_character(),\n",
      "  Gender = col_character(),\n",
      "  Age = col_double(),\n",
      "  Rating = col_double(),\n",
      "  Degree = col_character(),\n",
      "  Start_Date = col_character(),\n",
      "  Retired = col_logical(),\n",
      "  Division = col_character(),\n",
      "  Salary = col_character()\n",
      ")\n"
     ]
    }
   ],
   "source": [
    "library(tidyverse)\n",
    "employees <- read_csv(\"_build/data/employee_data.csv\")\n",
    "employees$Salary <- parse_number(employees$Salary)\n",
    "employees$Start_Date <- parse_date(employees$Start_Date, format = \"%m/%d/%Y\")\n",
    "degreeLevels <- c(\"High School\", \"Associate's\", \"Bachelor's\", \"Master's\", \"Ph.D\")\n",
    "employees$Degree <- parse_factor(employees$Degree, levels = degreeLevels, ordered = TRUE)"
   ]
  },
  {
   "cell_type": "markdown",
   "id": "e5e16745",
   "metadata": {},
   "source": [
    "# Confidence Intervals\n",
    "\n",
    "As described in the previous section, we often want to use sample data to estimate population quantities. Due to the randomness inherent to sampling, an observed sample statistic is almost certainly not equal to the true population parameter. To quantify the variability surrounding the sample statistic, we can compute a **confidence interval** which provides a lower and upper bound for where we think the true population value lies. Note that unless we take a sample which consists of the entire population (often called a census), we will never know the true population parameter with absolute certainty.\n",
    "\n",
    "## Confidence Intervals for Proportions\n",
    "\n",
    "Suppose that in a survey of one hundred adult cell phone users, 30% switched carriers in the past two years. Based on this sample statistic, what can we conclude about the entire population of adult cell phone users? Our sample estimate of 30% is based on a random sample of one hundred users and not the entire population, so we cannot conclude that the true population parameter is 30%. Instead, we must calculate a confidence interval to understand the range of plausible values for the population proportion.\n",
    "\n",
    "In R, we can calculate a confidence interval for proportions with the `binom.test()` command, which uses the following syntax:\n",
    "\n",
    "```{admonition} Syntax\n",
    "`binom.test(x, n, conf.level = 0.95)`\n",
    "+ *Required arguments*\n",
    "  + `x`: The number of “successes” in the sample.\n",
    "  + `n`: The sample size.\n",
    "+ *Optional arguments*\n",
    "  + `conf.level`: The confidence level of the interval.\n",
    "```\n",
    "\n",
    "Applying this to our sample of cell phone users, we can run `binom.test()` with `x` equal to thirty and `n` equal to one hundred:"
   ]
  },
  {
   "cell_type": "code",
   "execution_count": 2,
   "id": "8194cf88",
   "metadata": {},
   "outputs": [
    {
     "data": {
      "text/plain": [
       "\n",
       "\tExact binomial test\n",
       "\n",
       "data:  30 and 100\n",
       "number of successes = 30, number of trials = 100, p-value = 7.85e-05\n",
       "alternative hypothesis: true probability of success is not equal to 0.5\n",
       "95 percent confidence interval:\n",
       " 0.2124064 0.3998147\n",
       "sample estimates:\n",
       "probability of success \n",
       "                   0.3 \n"
      ]
     },
     "metadata": {},
     "output_type": "display_data"
    }
   ],
   "source": [
    "binom.test(30, 100)"
   ]
  },
  {
   "cell_type": "markdown",
   "id": "17a93b8b",
   "metadata": {},
   "source": [
    "For now, all we care about in this output is the line that reads `95 percent confidence interval:`. We interpret this output as follows: we are 95% confident that the true population proportion of adult cell phone users who switched carriers in the past two years is between 21.24% and 39.98%.\n",
    "\n",
    "## Confidence Intervals for Means\n",
    "\n",
    "Recall that our `employees` data set has the salary of the sampled employees. Imagine that based on this sample, we would like to estimate the true average salary of all employees at the company. For means, we need to use the `t.test()` function to calculate the 95% confidence interval:\n",
    "\n",
    "```{admonition} Syntax\n",
    "`t.test(x, conf.level = 0.95)`\n",
    "+ *Required arguments*\n",
    "  + `x`: An atomic vector with the sample values.\n",
    "+ *Optional arguments*\n",
    "  + `conf.level`: The confidence level of the interval.\n",
    "```\n",
    "\n",
    "Applying this to our sample of employees:"
   ]
  },
  {
   "cell_type": "code",
   "execution_count": 3,
   "id": "f8d6e801",
   "metadata": {},
   "outputs": [
    {
     "data": {
      "text/plain": [
       "\n",
       "\tOne Sample t-test\n",
       "\n",
       "data:  employees$Salary\n",
       "t = 120.22, df = 919, p-value < 2.2e-16\n",
       "alternative hypothesis: true mean is not equal to 0\n",
       "95 percent confidence interval:\n",
       " 153931.5 159040.5\n",
       "sample estimates:\n",
       "mean of x \n",
       "   156486 \n"
      ]
     },
     "metadata": {},
     "output_type": "display_data"
    }
   ],
   "source": [
    "t.test(employees$Salary)"
   ]
  },
  {
   "cell_type": "markdown",
   "id": "1c6b369f",
   "metadata": {},
   "source": [
    "As with the output for proportions, we can (for now) ignore everything besides the line that reads `95 percent confidence interval:`. We interpret this output as follows: we are 95% confident that the true population average salary at the company is between $153,931.5 and $159,040.5.\n",
    "\n",
    "We could also calculate confidence intervals for specific subgroups. Let’s use the `employees` data to calculate the salary confidence intervals for men and women separately:"
   ]
  },
  {
   "cell_type": "code",
   "execution_count": 4,
   "id": "41d34bf4",
   "metadata": {},
   "outputs": [
    {
     "data": {
      "text/plain": [
       "\n",
       "\tOne Sample t-test\n",
       "\n",
       "data:  maleEmployees$Salary\n",
       "t = 85.751, df = 457, p-value < 2.2e-16\n",
       "alternative hypothesis: true mean is not equal to 0\n",
       "95 percent confidence interval:\n",
       " 157515.6 164904.5\n",
       "sample estimates:\n",
       "mean of x \n",
       "   161210 \n"
      ]
     },
     "metadata": {},
     "output_type": "display_data"
    }
   ],
   "source": [
    "maleEmployees <- filter(employees, Gender==\"Male\")\n",
    "t.test(maleEmployees$Salary)"
   ]
  },
  {
   "cell_type": "code",
   "execution_count": 5,
   "id": "a6e6f9a0",
   "metadata": {},
   "outputs": [
    {
     "data": {
      "text/plain": [
       "\n",
       "\tOne Sample t-test\n",
       "\n",
       "data:  femaleEmployees$Salary\n",
       "t = 85.442, df = 461, p-value < 2.2e-16\n",
       "alternative hypothesis: true mean is not equal to 0\n",
       "95 percent confidence interval:\n",
       " 148311.4 155294.2\n",
       "sample estimates:\n",
       "mean of x \n",
       " 151802.8 \n"
      ]
     },
     "metadata": {},
     "output_type": "display_data"
    }
   ],
   "source": [
    "femaleEmployees <- filter(employees, Gender==\"Female\")\n",
    "t.test(femaleEmployees$Salary)"
   ]
  },
  {
   "cell_type": "markdown",
   "id": "3e0014ad",
   "metadata": {},
   "source": [
    "Note that the 95% confidence intervals do *not* overlap, which suggests that on average, women at the company are paid lower than men. To investigate this further, we need a formal method to compare groups statistically. This topic is covered in the next section."
   ]
  }
 ],
 "metadata": {
  "jupytext": {
   "cell_metadata_filter": "-all",
   "formats": "md:myst",
   "text_representation": {
    "extension": ".md",
    "format_name": "myst",
    "format_version": 0.13,
    "jupytext_version": "1.11.5"
   }
  },
  "kernelspec": {
   "display_name": "R",
   "language": "R",
   "name": "ir"
  },
  "language_info": {
   "codemirror_mode": "r",
   "file_extension": ".r",
   "mimetype": "text/x-r-source",
   "name": "R",
   "pygments_lexer": "r",
   "version": "3.6.1"
  },
  "source_map": [
   16,
   24,
   47,
   49,
   67,
   69,
   75,
   80,
   83
  ]
 },
 "nbformat": 4,
 "nbformat_minor": 5
}