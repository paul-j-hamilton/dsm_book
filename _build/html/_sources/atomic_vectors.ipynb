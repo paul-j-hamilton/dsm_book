{
 "cells": [
  {
   "cell_type": "markdown",
   "id": "aa04aded",
   "metadata": {},
   "source": [
    "# Atomic Vectors\n",
    "\n",
    "So far we have seen how to create variables that store a single value only. However, in practice we almost always work with sets of many different values. To work with this type of data in R we can create an **atomic vector**, which stores a set of one or more values of the same type. There are two important components to this definition:\n",
    "\n",
    "+ Atomic vectors can store one or more values, meaning an object that stores just a single value is an atomic vector. This means that every object we have created so far (*e.g.*, `myFirstTextVar`) has been an atomic vector. Below we will see how to create atomic vectors with more than one value.\n",
    "+ Atomic vectors cannot mix data types. This means you could not have an atomic vector with numbers *and* characters, for example. Note that `NA` (which indicates a missing value) is *not* considered a distinct data type, so you can have atomic vectors that contain values of a particular data type as well as `NA`s. \n",
    "\n",
    ":::{note}\n",
    "Atomic vectors store one or more values of the same type.\n",
    ":::\n",
    "\n",
    "As we’ve seen throughout the book so far, single-value atomic vectors can be created by simply assigning a value to a variable:"
   ]
  },
  {
   "cell_type": "code",
   "execution_count": 1,
   "id": "7a8bb738",
   "metadata": {},
   "outputs": [],
   "source": [
    "v1 <- 2             # Numeric atomic vector\n",
    "v2 <- TRUE          # Logical atomic vector\n",
    "v3 <- \"R is fun!\"   # Character atomic vector"
   ]
  },
  {
   "cell_type": "markdown",
   "id": "9bf1ecba",
   "metadata": {},
   "source": [
    "If we want to combine multiple values into a single atomic vector, we need to use the `c()` function, which stands for “**c**ombine”:"
   ]
  },
  {
   "cell_type": "code",
   "execution_count": 2,
   "id": "33972b0f",
   "metadata": {},
   "outputs": [],
   "source": [
    "v4 <- c(2, 3, 4, 5)                 # Numeric atomic vector\n",
    "v5 <- c(TRUE, TRUE, FALSE)          # Logical atomic vector\n",
    "v6 <- c(\"R is fun!\", \"I hate R\")    # Character atomic vector\n",
    "v7 <- c(8, 9, 10, NA)               # Numeric atomic vector with missing value"
   ]
  },
  {
   "cell_type": "markdown",
   "id": "f2f75b99",
   "metadata": {},
   "source": [
    "Now that we have multiple values stored in a single atomic vector, there are many different functions we can apply to these atomic vectors."
   ]
  }
 ],
 "metadata": {
  "jupytext": {
   "cell_metadata_filter": "-all",
   "formats": "md:myst",
   "text_representation": {
    "extension": ".md",
    "format_name": "myst",
    "format_version": 0.13,
    "jupytext_version": "1.11.5"
   }
  },
  "kernelspec": {
   "display_name": "R",
   "language": "R",
   "name": "ir"
  },
  "language_info": {
   "codemirror_mode": "r",
   "file_extension": ".r",
   "mimetype": "text/x-r-source",
   "name": "R",
   "pygments_lexer": "r",
   "version": "3.6.1"
  },
  "source_map": [
   14,
   29,
   33,
   37,
   42
  ]
 },
 "nbformat": 4,
 "nbformat_minor": 5
}