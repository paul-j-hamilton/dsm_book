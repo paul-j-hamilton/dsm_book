{
 "cells": [
  {
   "cell_type": "code",
   "execution_count": 1,
   "id": "2e760937",
   "metadata": {
    "tags": [
     "remove-cell"
    ]
   },
   "outputs": [
    {
     "name": "stderr",
     "output_type": "stream",
     "text": [
      "Warning message:\n",
      "\"package 'MLmetrics' was built under R version 3.6.3\""
     ]
    },
    {
     "name": "stderr",
     "output_type": "stream",
     "text": [
      "\n",
      "Attaching package: 'MLmetrics'\n",
      "\n"
     ]
    },
    {
     "name": "stderr",
     "output_type": "stream",
     "text": [
      "The following object is masked from 'package:base':\n",
      "\n",
      "    Recall\n",
      "\n"
     ]
    },
    {
     "name": "stderr",
     "output_type": "stream",
     "text": [
      "Registered S3 methods overwritten by 'ggplot2':\n",
      "  method         from \n",
      "  [.quosures     rlang\n",
      "  c.quosures     rlang\n",
      "  print.quosures rlang\n"
     ]
    },
    {
     "name": "stderr",
     "output_type": "stream",
     "text": [
      "Registered S3 method overwritten by 'rvest':\n",
      "  method            from\n",
      "  read_xml.response xml2\n"
     ]
    },
    {
     "name": "stderr",
     "output_type": "stream",
     "text": [
      "-- Attaching packages --------------------------------------- tidyverse 1.2.1 --\n"
     ]
    },
    {
     "name": "stderr",
     "output_type": "stream",
     "text": [
      "v ggplot2 3.1.1       v purrr   0.3.2  \n",
      "v tibble  2.1.1       v dplyr   0.8.0.1\n",
      "v tidyr   0.8.3       v stringr 1.4.0  \n",
      "v readr   1.3.1       v forcats 0.4.0  \n"
     ]
    },
    {
     "name": "stderr",
     "output_type": "stream",
     "text": [
      "-- Conflicts ------------------------------------------ tidyverse_conflicts() --\n",
      "x dplyr::filter() masks stats::filter()\n",
      "x dplyr::lag()    masks stats::lag()\n"
     ]
    },
    {
     "name": "stderr",
     "output_type": "stream",
     "text": [
      "Warning message:\n",
      "\"package 'kableExtra' was built under R version 3.6.3\""
     ]
    },
    {
     "name": "stderr",
     "output_type": "stream",
     "text": [
      "\n",
      "Attaching package: 'kableExtra'\n",
      "\n"
     ]
    },
    {
     "name": "stderr",
     "output_type": "stream",
     "text": [
      "The following object is masked from 'package:dplyr':\n",
      "\n",
      "    group_rows\n",
      "\n"
     ]
    },
    {
     "name": "stderr",
     "output_type": "stream",
     "text": [
      "Loading required package: lattice\n"
     ]
    },
    {
     "name": "stderr",
     "output_type": "stream",
     "text": [
      "\n",
      "Attaching package: 'caret'\n",
      "\n"
     ]
    },
    {
     "name": "stderr",
     "output_type": "stream",
     "text": [
      "The following object is masked from 'package:purrr':\n",
      "\n",
      "    lift\n",
      "\n"
     ]
    },
    {
     "name": "stderr",
     "output_type": "stream",
     "text": [
      "The following objects are masked from 'package:MLmetrics':\n",
      "\n",
      "    MAE, RMSE\n",
      "\n"
     ]
    }
   ],
   "source": [
    "library(MLmetrics)\n",
    "library(tidyverse)\n",
    "library(kableExtra)\n",
    "library(ggplot2)\n",
    "library(caret)\n",
    "library(class)\n",
    "options(readr.num_columns = 0)\n",
    "churn <- read_csv(\"../_build/data/churn_train.csv\")\n",
    "scaler <- preProcess(churn, method=\"range\")\n",
    "churnScaled <- predict(scaler, churn)\n",
    "churnScaled$international_plan <- ifelse(churnScaled$international_plan==\"yes\", 1, 0)\n",
    "churnScaled$voice_mail_plan <- ifelse(churnScaled$voice_mail_plan==\"yes\", 1, 0)"
   ]
  },
  {
   "cell_type": "markdown",
   "id": "b897c6d6",
   "metadata": {},
   "source": [
    "# Partitioning Data\n",
    "\n",
    "## Train & Validation Sets\n",
    "\n",
    "Let's return to the kNN model we applied to the `churn` data in the previous chapter. In order to traverse the bias-variance tradeoff, we need to **tune** the model hyperparameter $k$. If $k$ is too small we risk overfitting the data and picking up on the noise of the sample, while if $k$ is too large we risk underfitting the data and missing the signal. Consequently, we need to find the value of $k$ that maximizes the ability of the model to make accurate predictions on unseen data.\n",
    "\n",
    "A typical approach to this problem is to split the data into a training set and a validation set. One rule of thumb is to devote 80% of the available data to the training set, and 20% to the validation set. The **training set** is used to build models with different values of our hyperparameter $k$. We start by defining a **grid** of different values for the hyperparameter that we want to test. In this case, our grid will be $k = {1, 3, 5, 10, 20}$. We then use the training set to build five different models, each with a different value of $k$.\n",
    "\n",
    "Next, we apply all five of those models to the **validation set**, which is used to compare the accuracy of different models. Whichever value of $k$ results in the most accurate predictions on the validation set is taken to be the optimal value.\n",
    "\n",
    "Note that instead of using a validation set, we could just calculate the accuracy of each model on the training data. In other words, we could build a model on the training set, then calculate the accuracy of that model on the same data it was trained on. The reason one should never do this is that it will almost certainly result in overfitting. On the training set, the most accurate model is the one where $k$ equals one, as this model very closely fits the training data. However, this model will not generalize well to unseen data. Therefore, we need the validation set to ensure that our model is not overfitting the training data, and that it will generalize well to new data.\n",
    "\n",
    "We can split our processed data set (`churnScaled`) into training and validation sets using the `sample.split()` function from the `caTools` package. One advantage of using `sample.split()` is that it ensures that the training and validation sets have the same proportions of the target feature, in our case `churn`.\n",
    "\n",
    "Note that we are *randomly* dividing the data, meaning that each observation should have a chance of being included in the training set and a chance of being included in the validation set. We want this sampling process to be random, but we also want to ensure that every time the code is run, the same observations are sorted into the training set and the same observations are sorted into the validation set. This will guarantee that every time the code is re-run, we have the exact same training and validation sets. If we did not do this, two different runs of the code would almost certainly have a different set of observations in the training set, so the results would be different each time. \n",
    "\n",
    "We can ensure that a random process is stable (*i.e.*, leads to the same result) by setting the random seed with `set.seed()`. The number you pass into this function \"seeds\" the randomization that R uses to split the data, so two people using the same random seed will have identical splits of the data. In the code below we use a random seed of `972941`, a number which was itself randomly chosen.\n",
    "\n",
    "After setting the random seed we then apply `sample.split()`, which uses the following syntax:\n",
    "\n",
    "```{admonition} Syntax\n",
    "`caTools::sample.split(Y, SplitRatio = 2/3)`\n",
    "+ *Required arguments*\n",
    "  - `Y`: An atomic vector with the values of the target feature in the data set. \n",
    "+ *Optional arguments*\n",
    "  - `SplitRatio`: The proportion of observations to use for the training set. The remaining observations are used for the validation set.\n",
    "```\n",
    "\n",
    "We save the output of `sample.split()` into `sample`, a vector with either `TRUE` or `FALSE` for each observation in our data set. An element of `sample` is set equal to `TRUE` if the observation is assigned to the training set and `FALSE` if the observation is assigned to the validation set. We can then create the two separate data sets `train` and `validate` using the `subset()` function. Note that we will place 80% of the data into the training set and 20% into the validation set."
   ]
  },
  {
   "cell_type": "code",
   "execution_count": 2,
   "id": "b39901a3",
   "metadata": {},
   "outputs": [
    {
     "name": "stderr",
     "output_type": "stream",
     "text": [
      "Warning message:\n",
      "\"package 'caTools' was built under R version 3.6.3\""
     ]
    }
   ],
   "source": [
    "# Set the random seed\n",
    "set.seed(972943)\n",
    "\n",
    "# Define the training and validation sets\n",
    "library(caTools)\n",
    "sample <- sample.split(churnScaled$churn, SplitRatio = 0.8)\n",
    "\n",
    "# Split the data into two data frames\n",
    "train <- subset(churnScaled, sample == TRUE)\n",
    "validate <- subset(churnScaled, sample == FALSE)"
   ]
  },
  {
   "cell_type": "markdown",
   "id": "4e6dcf5d",
   "metadata": {},
   "source": [
    "If we view the dimensions of `train` and `validate`, we can see that `train` contains 80% of the observations and `validate` contains 20%."
   ]
  },
  {
   "cell_type": "code",
   "execution_count": 3,
   "id": "c362e531",
   "metadata": {},
   "outputs": [
    {
     "data": {
      "text/html": [
       "<ol class=list-inline>\n",
       "\t<li>2720</li>\n",
       "\t<li>13</li>\n",
       "</ol>\n"
      ],
      "text/latex": [
       "\\begin{enumerate*}\n",
       "\\item 2720\n",
       "\\item 13\n",
       "\\end{enumerate*}\n"
      ],
      "text/markdown": [
       "1. 2720\n",
       "2. 13\n",
       "\n",
       "\n"
      ],
      "text/plain": [
       "[1] 2720   13"
      ]
     },
     "metadata": {},
     "output_type": "display_data"
    },
    {
     "data": {
      "text/html": [
       "<ol class=list-inline>\n",
       "\t<li>680</li>\n",
       "\t<li>13</li>\n",
       "</ol>\n"
      ],
      "text/latex": [
       "\\begin{enumerate*}\n",
       "\\item 680\n",
       "\\item 13\n",
       "\\end{enumerate*}\n"
      ],
      "text/markdown": [
       "1. 680\n",
       "2. 13\n",
       "\n",
       "\n"
      ],
      "text/plain": [
       "[1] 680  13"
      ]
     },
     "metadata": {},
     "output_type": "display_data"
    }
   ],
   "source": [
    "dim(train)\n",
    "dim(validate)"
   ]
  },
  {
   "cell_type": "markdown",
   "id": "87a1dea5",
   "metadata": {},
   "source": [
    "Now we can use `train` to build five different models, each with a different value of $k$. We can then calculate the accuracy of those models on `validate` to determine the optimal value of $k$. In the code below, we fit all five of these models using the `knn()` function. Note that we set the `test` parameter equal to `validate` so that the models are applied to the validation set."
   ]
  },
  {
   "cell_type": "code",
   "execution_count": 4,
   "id": "e8899727",
   "metadata": {},
   "outputs": [],
   "source": [
    "knnModelK1 <- knn(train = train[,-13], test = validate[,-13], \n",
    "                  cl = train$churn, k = 1, prob=TRUE)\n",
    "\n",
    "knnModelK3 <- knn(train = train[,-13], test = validate[,-13], \n",
    "                  cl = train$churn, k = 3, prob=TRUE)\n",
    "\n",
    "knnModelK5 <- knn(train = train[,-13], test = validate[,-13], \n",
    "                  cl = train$churn, k = 5, prob=TRUE)\n",
    "\n",
    "knnModelK10 <- knn(train = train[,-13], test = validate[,-13], \n",
    "                  cl = train$churn, k = 10, prob=TRUE)\n",
    "\n",
    "knnModelK20 <- knn(train = train[,-13], test = validate[,-13], \n",
    "                  cl = train$churn, k = 20, prob=TRUE)"
   ]
  },
  {
   "cell_type": "markdown",
   "id": "7989a465",
   "metadata": {},
   "source": [
    "To determine the performance of each model on the validation set, we need to compare the model's predictions against the known, true values. Here we will score the models using **accuracy**, or the proportion of observations where the model's prediction was correct. In Section [Performance Metrics](performance_metrics.html#performance-metrics), we will learn about other metrics that can be used to assess model performance. \n",
    "\n",
    "We can easily calculate the accuracy of our models on the validation set using the `Accuracy()` function from the `MLmetrics` package, which uses the following syntax:\n",
    "\n",
    "```{admonition} Syntax\n",
    "`MLmetrics::Accuracy(y_pred, y_true)`\n",
    "+ *Required arguments*\n",
    "  - `y_pred`: An atomic vector with the model predictions. \n",
    "  - `y_true`: An atomic vector with the true labels. \n",
    "```\n",
    "  \n",
    "The model objects that we created (*e.g.*, `knnModelK1`) store a vector of the model's predictions on the validation set. For example, if we display the first few elements of `knnModelK1`, we see the model's prediction for the first few observations in `validate`. In this case, the model predicted that four of the five observations will not churn."
   ]
  },
  {
   "cell_type": "code",
   "execution_count": 5,
   "id": "01e4728b",
   "metadata": {},
   "outputs": [
    {
     "data": {
      "text/html": [
       "<ol class=list-inline>\n",
       "\t<li>no</li>\n",
       "\t<li>no</li>\n",
       "\t<li>no</li>\n",
       "\t<li>yes</li>\n",
       "\t<li>no</li>\n",
       "</ol>\n",
       "\n",
       "<details>\n",
       "\t<summary style=display:list-item;cursor:pointer>\n",
       "\t\t<strong>Levels</strong>:\n",
       "\t</summary>\n",
       "\t<ol class=list-inline>\n",
       "\t\t<li>'no'</li>\n",
       "\t\t<li>'yes'</li>\n",
       "\t</ol>\n",
       "</details>"
      ],
      "text/latex": [
       "\\begin{enumerate*}\n",
       "\\item no\n",
       "\\item no\n",
       "\\item no\n",
       "\\item yes\n",
       "\\item no\n",
       "\\end{enumerate*}\n",
       "\n",
       "\\emph{Levels}: \\begin{enumerate*}\n",
       "\\item 'no'\n",
       "\\item 'yes'\n",
       "\\end{enumerate*}\n"
      ],
      "text/markdown": [
       "1. no\n",
       "2. no\n",
       "3. no\n",
       "4. yes\n",
       "5. no\n",
       "\n",
       "\n",
       "\n",
       "**Levels**: 1. 'no'\n",
       "2. 'yes'\n",
       "\n",
       "\n"
      ],
      "text/plain": [
       "[1] no  no  no  yes no \n",
       "Levels: no yes"
      ]
     },
     "metadata": {},
     "output_type": "display_data"
    }
   ],
   "source": [
    "knnModelK1[1:5]"
   ]
  },
  {
   "cell_type": "markdown",
   "id": "ba088728",
   "metadata": {},
   "source": [
    "To use `Accuracy()`, we pass in our vector of model predictions as `y_pred` and the true values (stored in the column `validate$churn`) as `y_true`:"
   ]
  },
  {
   "cell_type": "code",
   "execution_count": 6,
   "id": "44f321f7",
   "metadata": {},
   "outputs": [
    {
     "data": {
      "text/html": [
       "0.854411764705882"
      ],
      "text/latex": [
       "0.854411764705882"
      ],
      "text/markdown": [
       "0.854411764705882"
      ],
      "text/plain": [
       "[1] 0.8544118"
      ]
     },
     "metadata": {},
     "output_type": "display_data"
    }
   ],
   "source": [
    "Accuracy(knnModelK1, validate$churn)"
   ]
  },
  {
   "cell_type": "markdown",
   "id": "5b7147fe",
   "metadata": {},
   "source": [
    "This means that the model where $k$ was one correctly predicted 85.44% of the observations in the validation set. Now let's apply this to the other models:"
   ]
  },
  {
   "cell_type": "code",
   "execution_count": 7,
   "id": "536140e5",
   "metadata": {},
   "outputs": [
    {
     "data": {
      "text/html": [
       "0.883823529411765"
      ],
      "text/latex": [
       "0.883823529411765"
      ],
      "text/markdown": [
       "0.883823529411765"
      ],
      "text/plain": [
       "[1] 0.8838235"
      ]
     },
     "metadata": {},
     "output_type": "display_data"
    },
    {
     "data": {
      "text/html": [
       "0.883823529411765"
      ],
      "text/latex": [
       "0.883823529411765"
      ],
      "text/markdown": [
       "0.883823529411765"
      ],
      "text/plain": [
       "[1] 0.8838235"
      ]
     },
     "metadata": {},
     "output_type": "display_data"
    },
    {
     "data": {
      "text/html": [
       "0.873529411764706"
      ],
      "text/latex": [
       "0.873529411764706"
      ],
      "text/markdown": [
       "0.873529411764706"
      ],
      "text/plain": [
       "[1] 0.8735294"
      ]
     },
     "metadata": {},
     "output_type": "display_data"
    },
    {
     "data": {
      "text/html": [
       "0.876470588235294"
      ],
      "text/latex": [
       "0.876470588235294"
      ],
      "text/markdown": [
       "0.876470588235294"
      ],
      "text/plain": [
       "[1] 0.8764706"
      ]
     },
     "metadata": {},
     "output_type": "display_data"
    }
   ],
   "source": [
    "Accuracy(knnModelK3, validate$churn)\n",
    "Accuracy(knnModelK5, validate$churn)\n",
    "Accuracy(knnModelK10, validate$churn)\n",
    "Accuracy(knnModelK20, validate$churn)"
   ]
  },
  {
   "cell_type": "markdown",
   "id": "b9cfc748",
   "metadata": {},
   "source": [
    "Based on these results, we can conclude that the best value for $k$ is somewhere around three to five. We will use a $k$ of three because it tied for the highest accuracy on the validation set.\n",
    "\n",
    "Now that we have chosen a value for $k$, we would fit a final model with $k$ equals three using all of the available data (*i.e.*, the combined training and validation sets, which is stored in `churnScaled`). This is the model we would deploy to predict which customers will churn in the upcoming quarter. \n",
    "\n",
    "## $k$-Fold Cross Validation\n",
    "\n",
    "Although we can help prevent overfitting by dividing our data into train and validation sets, this method is not without its shortcomings. It requires that we sacrifice a significant portion of our data (usually around 20%) for model validation, so we can only build our models on 80% of the data. We always want to build our models with as much data as possible, and this becomes especially problematic when working with smaller data sets.\n",
    "\n",
    "An alternative method for training and validating different models is called **$k$-fold cross validation**. Note that this $k$ is unrelated to the hyperparameter $k$ from the kNN algorithm; to distinguish between them, moving forward we will use $k_{fold}$ when discussing cross validation, and $k_{knn}$ when discussing the kNN algorithm. Cross validation randomly divides our data set into $k_{fold}$ partitions (called folds). It then builds a model on all but one of these folds, and uses the held-out fold to validate that model's predictive ability. It then repeats this procedure $k_{fold}$ times, each time holding out a different one of the $k_{fold}$ folds.  \n",
    "\n",
    "For example, we would apply the following steps if we chose a $k_{fold}$ of five:\n",
    "\n",
    "1. Randomly divide the data set into five equally-sized folds.\n",
    "2. Treat the fifth fold as the validation set and train the model on the first four folds.\n",
    "3. Evaluate the model's performance error on the fifth fold.\n",
    "4. Repeat Steps 2 and 3 four more times, but each time treat a different fold as the validation set. \n",
    "5. Calculate the model error for five-fold cross-validation by averaging the five error estimates from Step 3.\n",
    "\n",
    "This process is shown in the visualization below:\n",
    "\n",
    "```{figure} ../_build/images/kfold.png\n",
    "---\n",
    "height: 300px\n",
    "---\n",
    "```\n",
    "\n",
    "<br>\n",
    "\n",
    "Imagine that we applied this process with the kNN algorithm and a $k_{knn}$ of three. We would first divide our data into five folds, and train the kNN model on the first four folds using a $k_{knn}$ of three. Then, we would calculate the accuracy of that model on the fifth fold. Next, we would train another kNN model (again using a $k_{knn}$ of three) on folds one, two, three, and five, then calculate the accuracy of that model on the fourth fold. We would repeat this process five times, each time using a different one of the folds for validation. This would provide us with five separate estimates of the model's accuracy, which we could average together for a final accuracy score.\n",
    "\n",
    "Just as we tried several different values of $k_{knn}$ in the previous section, we can perform cross validation with a grid of different values for our hyperparameter. Whichever value attains the best average accuracy score can be chosen as our final value of $k_{knn}$.\n",
    "\n",
    "The `caret` package in R provides a framework for building and validating models with cross validation. The first step is to set up the conditions of the cross validation process with the `trainControl()` function, which uses the following syntax:\n",
    "\n",
    "```{admonition} Syntax\n",
    "`caret::trainControl(method, number)`\n",
    "+ *Required arguments*\n",
    "  - `method`: The method used to divide the data; there are many different approaches, but we will set it to \"cv\" for **c**ross **v**alidation.\n",
    "  - `number`: The number of folds (*i.e.*, $k_{fold}$).\n",
    "```"
   ]
  },
  {
   "cell_type": "code",
   "execution_count": 8,
   "id": "e3b59f1e",
   "metadata": {},
   "outputs": [],
   "source": [
    "cvConditions <- trainControl(method = \"cv\", number = 5)"
   ]
  },
  {
   "cell_type": "markdown",
   "id": "b04e1a2e",
   "metadata": {},
   "source": [
    "What is this object for? We always want to build and compare multiple models under the same conditions. If we were evaluating two kNN models, one with a $k_{knn}$ of three and another with a $k_{knn}$ of ten, we would want to ensure that the models were trained and evaluated on the same set of observations so that they are directly comparable. The `cvConditions` object defines these conditions so that we are always consistent when training different models.\n",
    "\n",
    "We will next use the `cvConditions` object with the `train()` function from `caret`, which actually performs the cross validation. This function uses the following syntax:\n",
    "\n",
    "```{admonition} Syntax\n",
    "`caret::train(y ~ x1 + x2 + … + xp, data, method = \"rf\" , trControl = trainControl(), tuneGrid = NULL)`\n",
    "+ *Required arguments*\n",
    "  - `y`: The name of the dependent ($Y$) feature.\n",
    "  - `x1`, `x2`, ..., `xp`:  The name of the first, second, and $p_{th}$ independent feature. Note that if you just replace the names of the features with the wildcard character `.`, the model will be built using all of the features in the data set.\n",
    "  - `data`: The name of the data frame with the `y`, `x1`, `x2`, and `xp` variables.\n",
    "+ *Optional arguments*\n",
    "  - `method`: The algorithm to apply. See [here](https://topepo.github.io/caret/available-models.html) for the complete list of available models. \n",
    "  - `trControl`: A list defining the conditions of the training procedure. \n",
    "  - `tuneGrid`: A data frame with different values of the hyperparameter(s) to test.               \n",
    "```\n",
    "  \n",
    "In the code below, we apply this function to the `churn` data set. Within `train()`, we define the model with `churn` as the independent ($Y$) feature, and all the remaining features in the data set as dependent ($X$) features. Because we are using the kNN algorithm, we set `method` equal to `\"knn\"` (from the list [here](https://topepo.github.io/caret/available-models.html)). We set `trControl` equal to the `cvConditions` object we created above to control how the cross validation is performed. Finally, we define a grid of different values for $k_{knn}$ and pass that in to `tuneGrid`. Note that we set the random seed so that the process is replicable."
   ]
  },
  {
   "cell_type": "code",
   "execution_count": 9,
   "id": "97f46325",
   "metadata": {},
   "outputs": [
    {
     "data": {
      "text/plain": [
       "k-Nearest Neighbors \n",
       "\n",
       "3400 samples\n",
       "  12 predictor\n",
       "   2 classes: 'no', 'yes' \n",
       "\n",
       "No pre-processing\n",
       "Resampling: Cross-Validated (5 fold) \n",
       "Summary of sample sizes: 2720, 2720, 2719, 2720, 2721 \n",
       "Resampling results across tuning parameters:\n",
       "\n",
       "  k   Accuracy   Kappa    \n",
       "   1  0.8552832  0.3708154\n",
       "   3  0.8844082  0.4207154\n",
       "   5  0.8841206  0.3858950\n",
       "  10  0.8820605  0.3480523\n",
       "  20  0.8764739  0.2582296\n",
       "\n",
       "Accuracy was used to select the optimal model using the largest value.\n",
       "The final value used for the model was k = 3."
      ]
     },
     "metadata": {},
     "output_type": "display_data"
    }
   ],
   "source": [
    "set.seed(972945)\n",
    "knnCV <- train(churn ~ ., \n",
    "                 data = churnScaled,\n",
    "                 method = \"knn\", \n",
    "                 trControl = cvConditions, \n",
    "                 tuneGrid = expand.grid(k = c(1, 3, 5, 10, 20)))\n",
    "\n",
    "knnCV"
   ]
  },
  {
   "cell_type": "markdown",
   "id": "76d8a843",
   "metadata": {},
   "source": [
    "How do we interpret this? In the output we see a small table with the following results:\n",
    "\n",
    "|k|Accuracy|Kappa|\n",
    "|:-:|:-:|:-:|\n",
    "| 1 | 0.8552832 | 0.3708154 |\n",
    "| 3 | 0.8844082 | 0.4207154 |\n",
    "| 5 | 0.8841206 | 0.3858950 |\n",
    "| 10 | 0.8820605 | 0.3480523 |\n",
    "| 20 | 0.8764739 | 0.2582296 |\n",
    "\n",
    "For each value of $k_{knn}$, the function performed five-fold cross validation, the results of which are shown in this table. For example, for a $k_{knn}$ of one, `train()` built five different models on different folds of the data, and evaluated each one on the held-out fold. It then averaged those five accuracy estimates together for a final accuracy score of 85.53% (we will ignore kappa). As we can see from the table, `train()` determined that three is the optimal value of $k_{knn}$. \n",
    "\n",
    "## Holdout Sets\n",
    "\n",
    "Finally, in addition to the train and validation sets, we always reserve a portion of our data as a **holdout set**. The purpose of the holdout set is to provide a final estimate of our model's predictive accuracy on unseen data. \n",
    "\n",
    "After we use the train and validation sets (or cross validation) to build and compare different models, we decide on a final model. We know how this model performs on the validation set, but this still does not provide an unbiased estimate for how our model will perform on unseen data. The reason for this is that although the model may not be directly trained on the observations in the validation set, the validation set was still used to tune the model's hyperparameters. This means that the validation set had some influence on how the model was built. Consequently, it cannot provide a completely unbiased estimate for how the model will perform on observations it has never seen before. For this, we need to evaluate our final model on the holdout set. \n",
    "\n",
    "It is important to emphasize that the holdout set should *never* influence the model building process. If you use the holdout set to make decisions about your model (which algorithm to use, the values of any hyperparameter(s), etc.), the holdout set can no longer provide an unbiased estimate of your model's performance. Therefore, you should only look at the holdout set after you have decided on a final model.\n",
    "\n",
    "For the churn data, we have held out a portion of the observations for the holdout set. These observations are saved in a data frame called `churnHoldout`; the first few observations are shown below."
   ]
  },
  {
   "cell_type": "code",
   "execution_count": 10,
   "id": "e841c175",
   "metadata": {
    "tags": [
     "remove-input"
    ]
   },
   "outputs": [
    {
     "data": {
      "text/html": [
       "<table>\n",
       "<thead><tr><th scope=col>account_length</th><th scope=col>international_plan</th><th scope=col>voice_mail_plan</th><th scope=col>number_vmail_messages</th><th scope=col>total_day_minutes</th><th scope=col>total_day_calls</th><th scope=col>total_night_minutes</th><th scope=col>total_night_calls</th><th scope=col>total_intl_minutes</th><th scope=col>total_intl_calls</th><th scope=col>total_intl_charge</th><th scope=col>number_customer_service_calls</th><th scope=col>churn</th></tr></thead>\n",
       "<tbody>\n",
       "\t<tr><td>147  </td><td>yes  </td><td>no   </td><td> 0   </td><td>157.0</td><td> 79  </td><td>211.8</td><td> 96  </td><td> 7.1 </td><td>6    </td><td>1.92 </td><td>0    </td><td>no   </td></tr>\n",
       "\t<tr><td> 85  </td><td>no   </td><td>yes  </td><td>27   </td><td>196.4</td><td>139  </td><td> 89.3</td><td> 75  </td><td>13.8 </td><td>4    </td><td>3.73 </td><td>1    </td><td>no   </td></tr>\n",
       "\t<tr><td> 57  </td><td>no   </td><td>yes  </td><td>39   </td><td>213.0</td><td>115  </td><td>182.7</td><td>115  </td><td> 9.5 </td><td>3    </td><td>2.57 </td><td>0    </td><td>no   </td></tr>\n",
       "\t<tr><td> 54  </td><td>no   </td><td>no   </td><td> 0   </td><td>134.3</td><td> 73  </td><td>102.1</td><td> 68  </td><td>14.7 </td><td>4    </td><td>3.97 </td><td>3    </td><td>no   </td></tr>\n",
       "\t<tr><td>121  </td><td>no   </td><td>yes  </td><td>30   </td><td>198.4</td><td>129  </td><td>181.2</td><td> 77  </td><td> 5.8 </td><td>3    </td><td>1.57 </td><td>3    </td><td>yes  </td></tr>\n",
       "\t<tr><td>116  </td><td>no   </td><td>yes  </td><td>34   </td><td>268.6</td><td> 83  </td><td>166.3</td><td>106  </td><td>11.6 </td><td>3    </td><td>3.13 </td><td>2    </td><td>no   </td></tr>\n",
       "</tbody>\n",
       "</table>\n"
      ],
      "text/latex": [
       "\\begin{tabular}{r|lllllllllllll}\n",
       " account\\_length & international\\_plan & voice\\_mail\\_plan & number\\_vmail\\_messages & total\\_day\\_minutes & total\\_day\\_calls & total\\_night\\_minutes & total\\_night\\_calls & total\\_intl\\_minutes & total\\_intl\\_calls & total\\_intl\\_charge & number\\_customer\\_service\\_calls & churn\\\\\n",
       "\\hline\n",
       "\t 147   & yes   & no    &  0    & 157.0 &  79   & 211.8 &  96   &  7.1  & 6     & 1.92  & 0     & no   \\\\\n",
       "\t  85   & no    & yes   & 27    & 196.4 & 139   &  89.3 &  75   & 13.8  & 4     & 3.73  & 1     & no   \\\\\n",
       "\t  57   & no    & yes   & 39    & 213.0 & 115   & 182.7 & 115   &  9.5  & 3     & 2.57  & 0     & no   \\\\\n",
       "\t  54   & no    & no    &  0    & 134.3 &  73   & 102.1 &  68   & 14.7  & 4     & 3.97  & 3     & no   \\\\\n",
       "\t 121   & no    & yes   & 30    & 198.4 & 129   & 181.2 &  77   &  5.8  & 3     & 1.57  & 3     & yes  \\\\\n",
       "\t 116   & no    & yes   & 34    & 268.6 &  83   & 166.3 & 106   & 11.6  & 3     & 3.13  & 2     & no   \\\\\n",
       "\\end{tabular}\n"
      ],
      "text/markdown": [
       "\n",
       "| account_length | international_plan | voice_mail_plan | number_vmail_messages | total_day_minutes | total_day_calls | total_night_minutes | total_night_calls | total_intl_minutes | total_intl_calls | total_intl_charge | number_customer_service_calls | churn |\n",
       "|---|---|---|---|---|---|---|---|---|---|---|---|---|\n",
       "| 147   | yes   | no    |  0    | 157.0 |  79   | 211.8 |  96   |  7.1  | 6     | 1.92  | 0     | no    |\n",
       "|  85   | no    | yes   | 27    | 196.4 | 139   |  89.3 |  75   | 13.8  | 4     | 3.73  | 1     | no    |\n",
       "|  57   | no    | yes   | 39    | 213.0 | 115   | 182.7 | 115   |  9.5  | 3     | 2.57  | 0     | no    |\n",
       "|  54   | no    | no    |  0    | 134.3 |  73   | 102.1 |  68   | 14.7  | 4     | 3.97  | 3     | no    |\n",
       "| 121   | no    | yes   | 30    | 198.4 | 129   | 181.2 |  77   |  5.8  | 3     | 1.57  | 3     | yes   |\n",
       "| 116   | no    | yes   | 34    | 268.6 |  83   | 166.3 | 106   | 11.6  | 3     | 3.13  | 2     | no    |\n",
       "\n"
      ],
      "text/plain": [
       "  account_length international_plan voice_mail_plan number_vmail_messages\n",
       "1 147            yes                no               0                   \n",
       "2  85            no                 yes             27                   \n",
       "3  57            no                 yes             39                   \n",
       "4  54            no                 no               0                   \n",
       "5 121            no                 yes             30                   \n",
       "6 116            no                 yes             34                   \n",
       "  total_day_minutes total_day_calls total_night_minutes total_night_calls\n",
       "1 157.0              79             211.8                96              \n",
       "2 196.4             139              89.3                75              \n",
       "3 213.0             115             182.7               115              \n",
       "4 134.3              73             102.1                68              \n",
       "5 198.4             129             181.2                77              \n",
       "6 268.6              83             166.3               106              \n",
       "  total_intl_minutes total_intl_calls total_intl_charge\n",
       "1  7.1               6                1.92             \n",
       "2 13.8               4                3.73             \n",
       "3  9.5               3                2.57             \n",
       "4 14.7               4                3.97             \n",
       "5  5.8               3                1.57             \n",
       "6 11.6               3                3.13             \n",
       "  number_customer_service_calls churn\n",
       "1 0                             no   \n",
       "2 1                             no   \n",
       "3 0                             no   \n",
       "4 3                             no   \n",
       "5 3                             yes  \n",
       "6 2                             no   "
      ]
     },
     "metadata": {},
     "output_type": "display_data"
    }
   ],
   "source": [
    "churnHoldout <- read_csv(\"../_build/data/churn_holdout.csv\")\n",
    "head(churnHoldout)"
   ]
  },
  {
   "cell_type": "markdown",
   "id": "41a3bfef",
   "metadata": {},
   "source": [
    "<br>\n",
    "\n",
    "To stay consistent, we need to (1) normalize the holdout data using the scaler we created in Section [Applying kNN in R](knn.html#applying-knn-in-r), and (2) convert the categorical variables into dummies."
   ]
  },
  {
   "cell_type": "code",
   "execution_count": 11,
   "id": "222588c7",
   "metadata": {},
   "outputs": [],
   "source": [
    "# Apply min-max scaling to the holdout set\n",
    "churnHoldoutScaled <- predict(scaler, churnHoldout)\n",
    "\n",
    "# Convert categorical variables in the holdout set to dummy variables\n",
    "churnHoldoutScaled$international_plan <- ifelse(churnHoldoutScaled$international_plan==\"yes\", 1, 0)\n",
    "churnHoldoutScaled$voice_mail_plan <- ifelse(churnHoldoutScaled$voice_mail_plan==\"yes\", 1, 0)"
   ]
  },
  {
   "cell_type": "code",
   "execution_count": 12,
   "id": "95cb6b77",
   "metadata": {
    "tags": [
     "remove-input"
    ]
   },
   "outputs": [
    {
     "data": {
      "text/html": [
       "<table>\n",
       "<thead><tr><th scope=col>account_length</th><th scope=col>international_plan</th><th scope=col>voice_mail_plan</th><th scope=col>number_vmail_messages</th><th scope=col>total_day_minutes</th><th scope=col>total_day_calls</th><th scope=col>total_night_minutes</th><th scope=col>total_night_calls</th><th scope=col>total_intl_minutes</th><th scope=col>total_intl_calls</th><th scope=col>total_intl_charge</th><th scope=col>number_customer_service_calls</th><th scope=col>churn</th></tr></thead>\n",
       "<tbody>\n",
       "\t<tr><td>0.6033058</td><td>1        </td><td>0        </td><td>0.00     </td><td>0.4466572</td><td>0.4787879</td><td>0.5362025</td><td>0.5647059</td><td>0.355    </td><td>0.30     </td><td>0.3555556</td><td>0.0000000</td><td>no       </td></tr>\n",
       "\t<tr><td>0.3471074</td><td>0        </td><td>1        </td><td>0.54     </td><td>0.5587482</td><td>0.8424242</td><td>0.2260759</td><td>0.4411765</td><td>0.690    </td><td>0.20     </td><td>0.6907407</td><td>0.1111111</td><td>no       </td></tr>\n",
       "\t<tr><td>0.2314050</td><td>0        </td><td>1        </td><td>0.78     </td><td>0.6059744</td><td>0.6969697</td><td>0.4625316</td><td>0.6764706</td><td>0.475    </td><td>0.15     </td><td>0.4759259</td><td>0.0000000</td><td>no       </td></tr>\n",
       "\t<tr><td>0.2190083</td><td>0        </td><td>0        </td><td>0.00     </td><td>0.3820768</td><td>0.4424242</td><td>0.2584810</td><td>0.4000000</td><td>0.735    </td><td>0.20     </td><td>0.7351852</td><td>0.3333333</td><td>no       </td></tr>\n",
       "\t<tr><td>0.4958678</td><td>0        </td><td>1        </td><td>0.60     </td><td>0.5644381</td><td>0.7818182</td><td>0.4587342</td><td>0.4529412</td><td>0.290    </td><td>0.15     </td><td>0.2907407</td><td>0.3333333</td><td>yes      </td></tr>\n",
       "\t<tr><td>0.4752066</td><td>0        </td><td>1        </td><td>0.68     </td><td>0.7641536</td><td>0.5030303</td><td>0.4210127</td><td>0.6235294</td><td>0.580    </td><td>0.15     </td><td>0.5796296</td><td>0.2222222</td><td>no       </td></tr>\n",
       "</tbody>\n",
       "</table>\n"
      ],
      "text/latex": [
       "\\begin{tabular}{r|lllllllllllll}\n",
       " account\\_length & international\\_plan & voice\\_mail\\_plan & number\\_vmail\\_messages & total\\_day\\_minutes & total\\_day\\_calls & total\\_night\\_minutes & total\\_night\\_calls & total\\_intl\\_minutes & total\\_intl\\_calls & total\\_intl\\_charge & number\\_customer\\_service\\_calls & churn\\\\\n",
       "\\hline\n",
       "\t 0.6033058 & 1         & 0         & 0.00      & 0.4466572 & 0.4787879 & 0.5362025 & 0.5647059 & 0.355     & 0.30      & 0.3555556 & 0.0000000 & no       \\\\\n",
       "\t 0.3471074 & 0         & 1         & 0.54      & 0.5587482 & 0.8424242 & 0.2260759 & 0.4411765 & 0.690     & 0.20      & 0.6907407 & 0.1111111 & no       \\\\\n",
       "\t 0.2314050 & 0         & 1         & 0.78      & 0.6059744 & 0.6969697 & 0.4625316 & 0.6764706 & 0.475     & 0.15      & 0.4759259 & 0.0000000 & no       \\\\\n",
       "\t 0.2190083 & 0         & 0         & 0.00      & 0.3820768 & 0.4424242 & 0.2584810 & 0.4000000 & 0.735     & 0.20      & 0.7351852 & 0.3333333 & no       \\\\\n",
       "\t 0.4958678 & 0         & 1         & 0.60      & 0.5644381 & 0.7818182 & 0.4587342 & 0.4529412 & 0.290     & 0.15      & 0.2907407 & 0.3333333 & yes      \\\\\n",
       "\t 0.4752066 & 0         & 1         & 0.68      & 0.7641536 & 0.5030303 & 0.4210127 & 0.6235294 & 0.580     & 0.15      & 0.5796296 & 0.2222222 & no       \\\\\n",
       "\\end{tabular}\n"
      ],
      "text/markdown": [
       "\n",
       "| account_length | international_plan | voice_mail_plan | number_vmail_messages | total_day_minutes | total_day_calls | total_night_minutes | total_night_calls | total_intl_minutes | total_intl_calls | total_intl_charge | number_customer_service_calls | churn |\n",
       "|---|---|---|---|---|---|---|---|---|---|---|---|---|\n",
       "| 0.6033058 | 1         | 0         | 0.00      | 0.4466572 | 0.4787879 | 0.5362025 | 0.5647059 | 0.355     | 0.30      | 0.3555556 | 0.0000000 | no        |\n",
       "| 0.3471074 | 0         | 1         | 0.54      | 0.5587482 | 0.8424242 | 0.2260759 | 0.4411765 | 0.690     | 0.20      | 0.6907407 | 0.1111111 | no        |\n",
       "| 0.2314050 | 0         | 1         | 0.78      | 0.6059744 | 0.6969697 | 0.4625316 | 0.6764706 | 0.475     | 0.15      | 0.4759259 | 0.0000000 | no        |\n",
       "| 0.2190083 | 0         | 0         | 0.00      | 0.3820768 | 0.4424242 | 0.2584810 | 0.4000000 | 0.735     | 0.20      | 0.7351852 | 0.3333333 | no        |\n",
       "| 0.4958678 | 0         | 1         | 0.60      | 0.5644381 | 0.7818182 | 0.4587342 | 0.4529412 | 0.290     | 0.15      | 0.2907407 | 0.3333333 | yes       |\n",
       "| 0.4752066 | 0         | 1         | 0.68      | 0.7641536 | 0.5030303 | 0.4210127 | 0.6235294 | 0.580     | 0.15      | 0.5796296 | 0.2222222 | no        |\n",
       "\n"
      ],
      "text/plain": [
       "  account_length international_plan voice_mail_plan number_vmail_messages\n",
       "1 0.6033058      1                  0               0.00                 \n",
       "2 0.3471074      0                  1               0.54                 \n",
       "3 0.2314050      0                  1               0.78                 \n",
       "4 0.2190083      0                  0               0.00                 \n",
       "5 0.4958678      0                  1               0.60                 \n",
       "6 0.4752066      0                  1               0.68                 \n",
       "  total_day_minutes total_day_calls total_night_minutes total_night_calls\n",
       "1 0.4466572         0.4787879       0.5362025           0.5647059        \n",
       "2 0.5587482         0.8424242       0.2260759           0.4411765        \n",
       "3 0.6059744         0.6969697       0.4625316           0.6764706        \n",
       "4 0.3820768         0.4424242       0.2584810           0.4000000        \n",
       "5 0.5644381         0.7818182       0.4587342           0.4529412        \n",
       "6 0.7641536         0.5030303       0.4210127           0.6235294        \n",
       "  total_intl_minutes total_intl_calls total_intl_charge\n",
       "1 0.355              0.30             0.3555556        \n",
       "2 0.690              0.20             0.6907407        \n",
       "3 0.475              0.15             0.4759259        \n",
       "4 0.735              0.20             0.7351852        \n",
       "5 0.290              0.15             0.2907407        \n",
       "6 0.580              0.15             0.5796296        \n",
       "  number_customer_service_calls churn\n",
       "1 0.0000000                     no   \n",
       "2 0.1111111                     no   \n",
       "3 0.0000000                     no   \n",
       "4 0.3333333                     no   \n",
       "5 0.3333333                     yes  \n",
       "6 0.2222222                     no   "
      ]
     },
     "metadata": {},
     "output_type": "display_data"
    }
   ],
   "source": [
    "head(churnHoldoutScaled)"
   ]
  },
  {
   "cell_type": "markdown",
   "id": "839610bb",
   "metadata": {},
   "source": [
    "<br>\n",
    "\n",
    "Now we can use our final model to make predictions on the holdout set. Note that the object we created with the `train()` function, `knnCV`, automatically identifies the optimal hyperparameters and trains a final model on all of the data. We can view the details of this final model with `$finalModel`, as follows:"
   ]
  },
  {
   "cell_type": "code",
   "execution_count": 13,
   "id": "e3616c22",
   "metadata": {},
   "outputs": [
    {
     "data": {
      "text/plain": [
       "3-nearest neighbor model\n",
       "Training set outcome distribution:\n",
       "\n",
       "  no  yes \n",
       "2912  488 \n"
      ]
     },
     "metadata": {},
     "output_type": "display_data"
    }
   ],
   "source": [
    "knnCV$finalModel"
   ]
  },
  {
   "cell_type": "markdown",
   "id": "8dbcec64",
   "metadata": {},
   "source": [
    "Because the optimal $k_{knn}$ according to our cross validation was three, the final model is a `3-nearest neighbor model`. \n",
    "\n",
    "Now we can use our final model to make predictions on the holdout set. We can do this using the same `predict()` function we used with linear regression. To do this we simply pass in our model object (`knnCV`) and the data we want to make predictions on (`churnHoldoutScaled`). The result is an atomic vector with the final model's predictions on the holdout set. The predictions on the first few observations are shown in the output below."
   ]
  },
  {
   "cell_type": "code",
   "execution_count": 14,
   "id": "a815be52",
   "metadata": {},
   "outputs": [
    {
     "data": {
      "text/html": [
       "<ol class=list-inline>\n",
       "\t<li>no</li>\n",
       "\t<li>no</li>\n",
       "\t<li>no</li>\n",
       "\t<li>no</li>\n",
       "\t<li>no</li>\n",
       "</ol>\n",
       "\n",
       "<details>\n",
       "\t<summary style=display:list-item;cursor:pointer>\n",
       "\t\t<strong>Levels</strong>:\n",
       "\t</summary>\n",
       "\t<ol class=list-inline>\n",
       "\t\t<li>'no'</li>\n",
       "\t\t<li>'yes'</li>\n",
       "\t</ol>\n",
       "</details>"
      ],
      "text/latex": [
       "\\begin{enumerate*}\n",
       "\\item no\n",
       "\\item no\n",
       "\\item no\n",
       "\\item no\n",
       "\\item no\n",
       "\\end{enumerate*}\n",
       "\n",
       "\\emph{Levels}: \\begin{enumerate*}\n",
       "\\item 'no'\n",
       "\\item 'yes'\n",
       "\\end{enumerate*}\n"
      ],
      "text/markdown": [
       "1. no\n",
       "2. no\n",
       "3. no\n",
       "4. no\n",
       "5. no\n",
       "\n",
       "\n",
       "\n",
       "**Levels**: 1. 'no'\n",
       "2. 'yes'\n",
       "\n",
       "\n"
      ],
      "text/plain": [
       "[1] no no no no no\n",
       "Levels: no yes"
      ]
     },
     "metadata": {},
     "output_type": "display_data"
    }
   ],
   "source": [
    "finalModelPredictions <- predict(knnCV, churnHoldoutScaled)\n",
    "finalModelPredictions[1:5]"
   ]
  },
  {
   "cell_type": "markdown",
   "id": "6899492b",
   "metadata": {},
   "source": [
    "Finally, we can calculate the accuracy of our final model on the holdout set using the `Accuracy()` function:"
   ]
  },
  {
   "cell_type": "code",
   "execution_count": 15,
   "id": "b1f46dc9",
   "metadata": {},
   "outputs": [
    {
     "data": {
      "text/html": [
       "0.898823529411765"
      ],
      "text/latex": [
       "0.898823529411765"
      ],
      "text/markdown": [
       "0.898823529411765"
      ],
      "text/plain": [
       "[1] 0.8988235"
      ]
     },
     "metadata": {},
     "output_type": "display_data"
    }
   ],
   "source": [
    "Accuracy(finalModelPredictions, churnHoldoutScaled$churn)"
   ]
  },
  {
   "cell_type": "markdown",
   "id": "9d0591a8",
   "metadata": {},
   "source": [
    "This final accuracy measure provides an estimate for how well our model will perform on future observations."
   ]
  }
 ],
 "metadata": {
  "jupytext": {
   "cell_metadata_filter": "-all",
   "formats": "md:myst",
   "text_representation": {
    "extension": ".md",
    "format_name": "myst",
    "format_version": 0.13,
    "jupytext_version": "1.11.5"
   }
  },
  "kernelspec": {
   "display_name": "R",
   "language": "R",
   "name": "ir"
  },
  "language_info": {
   "codemirror_mode": "r",
   "file_extension": ".r",
   "mimetype": "text/x-r-source",
   "name": "R",
   "pygments_lexer": "r",
   "version": "3.6.1"
  },
  "source_map": [
   16,
   30,
   62,
   73,
   77,
   80,
   84,
   99,
   114,
   116,
   120,
   122,
   126,
   131,
   174,
   176,
   196,
   205,
   229,
   233,
   238,
   247,
   250,
   255,
   257,
   263,
   266,
   270,
   272
  ]
 },
 "nbformat": 4,
 "nbformat_minor": 5
}