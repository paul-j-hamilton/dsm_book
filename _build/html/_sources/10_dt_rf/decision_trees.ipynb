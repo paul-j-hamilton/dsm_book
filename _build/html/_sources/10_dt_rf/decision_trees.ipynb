{
 "cells": [
  {
   "cell_type": "code",
   "execution_count": 1,
   "id": "2dc82253",
   "metadata": {
    "tags": [
     "remove-cell"
    ]
   },
   "outputs": [
    {
     "name": "stderr",
     "output_type": "stream",
     "text": [
      "Registered S3 methods overwritten by 'ggplot2':\n",
      "  method         from \n",
      "  [.quosures     rlang\n",
      "  c.quosures     rlang\n",
      "  print.quosures rlang\n"
     ]
    },
    {
     "name": "stderr",
     "output_type": "stream",
     "text": [
      "Registered S3 method overwritten by 'rvest':\n",
      "  method            from\n",
      "  read_xml.response xml2\n"
     ]
    },
    {
     "name": "stderr",
     "output_type": "stream",
     "text": [
      "-- Attaching packages --------------------------------------- tidyverse 1.2.1 --\n"
     ]
    },
    {
     "name": "stderr",
     "output_type": "stream",
     "text": [
      "v ggplot2 3.1.1       v purrr   0.3.2  \n",
      "v tibble  2.1.1       v dplyr   0.8.0.1\n",
      "v tidyr   0.8.3       v stringr 1.4.0  \n",
      "v readr   1.3.1       v forcats 0.4.0  \n"
     ]
    },
    {
     "name": "stderr",
     "output_type": "stream",
     "text": [
      "-- Conflicts ------------------------------------------ tidyverse_conflicts() --\n",
      "x dplyr::filter() masks stats::filter()\n",
      "x dplyr::lag()    masks stats::lag()\n"
     ]
    },
    {
     "name": "stderr",
     "output_type": "stream",
     "text": [
      "Warning message:\n",
      "\"package 'kableExtra' was built under R version 3.6.3\""
     ]
    },
    {
     "name": "stderr",
     "output_type": "stream",
     "text": [
      "\n",
      "Attaching package: 'kableExtra'\n",
      "\n"
     ]
    },
    {
     "name": "stderr",
     "output_type": "stream",
     "text": [
      "The following object is masked from 'package:dplyr':\n",
      "\n",
      "    group_rows\n",
      "\n"
     ]
    },
    {
     "name": "stderr",
     "output_type": "stream",
     "text": [
      "Loading required package: lattice\n"
     ]
    },
    {
     "name": "stderr",
     "output_type": "stream",
     "text": [
      "\n",
      "Attaching package: 'caret'\n",
      "\n"
     ]
    },
    {
     "name": "stderr",
     "output_type": "stream",
     "text": [
      "The following object is masked from 'package:purrr':\n",
      "\n",
      "    lift\n",
      "\n"
     ]
    },
    {
     "name": "stderr",
     "output_type": "stream",
     "text": [
      "randomForest 4.6-14\n"
     ]
    },
    {
     "name": "stderr",
     "output_type": "stream",
     "text": [
      "Type rfNews() to see new features/changes/bug fixes.\n"
     ]
    },
    {
     "name": "stderr",
     "output_type": "stream",
     "text": [
      "\n",
      "Attaching package: 'randomForest'\n",
      "\n"
     ]
    },
    {
     "name": "stderr",
     "output_type": "stream",
     "text": [
      "The following object is masked from 'package:dplyr':\n",
      "\n",
      "    combine\n",
      "\n"
     ]
    },
    {
     "name": "stderr",
     "output_type": "stream",
     "text": [
      "The following object is masked from 'package:ggplot2':\n",
      "\n",
      "    margin\n",
      "\n"
     ]
    },
    {
     "name": "stdout",
     "output_type": "stream",
     "text": [
      "\n",
      "  There is a binary version available but the source version is later:\n",
      "      binary source needs_compilation\n",
      "e1071  1.7-6  1.7-9              TRUE\n",
      "\n",
      "  Binaries will be installed\n",
      "package 'e1071' successfully unpacked and MD5 sums checked\n"
     ]
    },
    {
     "name": "stdout",
     "output_type": "stream",
     "text": [
      "\n",
      "The downloaded binary packages are in\n",
      "\tC:\\Users\\phamilton\\AppData\\Local\\Temp\\RtmpsDS5I3\\downloaded_packages\n"
     ]
    },
    {
     "name": "stderr",
     "output_type": "stream",
     "text": [
      "Warning message:\n",
      "\"package 'e1071' was built under R version 3.6.3\""
     ]
    },
    {
     "name": "stderr",
     "output_type": "stream",
     "text": [
      "Parsed with column specification:\n",
      "cols(\n",
      "  account_length = col_double(),\n",
      "  international_plan = col_character(),\n",
      "  voice_mail_plan = col_character(),\n",
      "  number_vmail_messages = col_double(),\n",
      "  total_day_minutes = col_double(),\n",
      "  total_day_calls = col_double(),\n",
      "  total_night_minutes = col_double(),\n",
      "  total_night_calls = col_double(),\n",
      "  total_intl_minutes = col_double(),\n",
      "  total_intl_calls = col_double(),\n",
      "  total_intl_charge = col_double(),\n",
      "  number_customer_service_calls = col_double(),\n",
      "  churn = col_character()\n",
      ")\n"
     ]
    }
   ],
   "source": [
    "library(tidyverse)\n",
    "library(ggplot2)\n",
    "library(kableExtra)\n",
    "library(caret)\n",
    "library(rpart)\n",
    "library(rpart.plot)\n",
    "library(randomForest)\n",
    "install.packages(\"e1071\")\n",
    "library(e1071)\n",
    "churn <- read_csv(\"../_build/data/churn_train.csv\")\n",
    "cvConditions <- trainControl(method = \"cv\", number = 5)"
   ]
  },
  {
   "cell_type": "markdown",
   "id": "f4dec522",
   "metadata": {},
   "source": [
    "# Decision Trees\n",
    "\n",
    "**Classification and regression tree (CART) models** are a popular class of machine learning algorithms that make predictions according to a set of logical rules learned from training data. Tree models that predict discrete outcomes are referred to as **classification trees**, while tree models that predict continuous outcomes are referred to as **regression trees**. \n",
    "\n",
    "One major advantage of CART models is their interpretability. As we will see, CART models make predictions according to a series of logical rules that can be analyzed and understood by human users. This is in contrast to many other algorithms (like the random forest model discussed in the next section), which are more difficult to interpret.\n",
    "\n",
    "## Classification Trees\n",
    "\n",
    "To understand classification trees, let's start with a simplified version of our `churn` data set that only has twelve observations and two independent features, `total_intl_charge` and `account_length`. Our feature space looks as follows:"
   ]
  },
  {
   "cell_type": "code",
   "execution_count": 2,
   "id": "124e66c0",
   "metadata": {
    "tags": [
     "remove-input"
    ]
   },
   "outputs": [
    {
     "name": "stderr",
     "output_type": "stream",
     "text": [
      "Parsed with column specification:\n",
      "cols(\n",
      "  account_length = col_double(),\n",
      "  total_intl_charge = col_double(),\n",
      "  churn = col_double()\n",
      ")\n"
     ]
    },
    {
     "data": {
      "image/png": "[encoded data removed]",
      "text/plain": [
       "plot without title"
      ]
     },
     "metadata": {
      "filenames": {
       "image/png": "C:\\Users\\phamilton\\Documents\\dsm\\dsm_book\\_build\\jupyter_execute\\10_dt_rf\\decision_trees_2_1.png"
      }
     },
     "output_type": "display_data"
    }
   ],
   "source": [
    "churnSample <- read_csv(\"../_build/data/churn_sample2.csv\")\n",
    "churnSample$churn = ifelse(churnSample$churn==1, \"churn\", \"no churn\")\n",
    "churnSample$account_length = churnSample$account_length*sd(churn$account_length) + mean(churn$account_length)\n",
    "churnSample$total_intl_charge = churnSample$total_intl_charge*sd(churn$total_intl_charge) + mean(churn$total_intl_charge)\n",
    "library(ggplot2)\n",
    "\n",
    "ggplot(churnSample, aes(x=account_length, y=total_intl_charge, color=churn, shape=churn)) + geom_point(size=3) + theme_bw() +\n",
    "  theme(axis.text=element_text(size=12),\n",
    "        axis.title=element_text(size=14,face=\"bold\"))"
   ]
  },
  {
   "cell_type": "markdown",
   "id": "7044f101",
   "metadata": {},
   "source": [
    "The classification tree algorithm works by drawing a straight line that partitions the feature space to maximize the homogeneity (or minimize the entropy) of each sub-region. For example, imagine we drew a vertical line at around `account_length` = 87, dividing the feature space into **R1** and **R2**. Intuitively, R2 is completely homogeneous because it only contains observations with the same outcome—\"no churn\". R1 is less homogeneous because it contains two \"churn\" observations and one \"no churn\" observation."
   ]
  },
  {
   "cell_type": "code",
   "execution_count": 3,
   "id": "ef1fa824",
   "metadata": {
    "tags": [
     "remove-input"
    ]
   },
   "outputs": [
    {
     "name": "stderr",
     "output_type": "stream",
     "text": [
      "Parsed with column specification:\n",
      "cols(\n",
      "  account_length = col_double(),\n",
      "  total_intl_charge = col_double(),\n",
      "  churn = col_double()\n",
      ")\n"
     ]
    },
    {
     "data": {
      "image/png": "[encoded data removed]",
      "text/plain": [
       "plot without title"
      ]
     },
     "metadata": {
      "filenames": {
       "image/png": "C:\\Users\\phamilton\\Documents\\dsm\\dsm_book\\_build\\jupyter_execute\\10_dt_rf\\decision_trees_4_1.png"
      }
     },
     "output_type": "display_data"
    }
   ],
   "source": [
    "churnSample <- read_csv(\"../_build/data/churn_sample2.csv\")\n",
    "churnSample$churn = ifelse(churnSample$churn==1, \"churn\", \"no churn\")\n",
    "churnSample$account_length = churnSample$account_length*sd(churn$account_length) + mean(churn$account_length)\n",
    "churnSample$total_intl_charge = churnSample$total_intl_charge*sd(churn$total_intl_charge) + mean(churn$total_intl_charge)\n",
    "\n",
    "ggplot(churnSample, aes(x=account_length, y=total_intl_charge, color=churn, shape=churn)) + geom_point(size=3) + theme_bw() +\n",
    "  theme(axis.text=element_text(size=12),\n",
    "        axis.title=element_text(size=14,face=\"bold\")) + \n",
    "    geom_vline(xintercept = 87) + \n",
    "  annotate(\"text\", x = 50, y = 3, label = \"R1\", size=6) + \n",
    "  annotate(\"text\", x = 140, y = 3.5, label = \"R2\", size=6)"
   ]
  },
  {
   "cell_type": "markdown",
   "id": "6e2796d8",
   "metadata": {},
   "source": [
    "In this simple example we made cuts based on a visual inspection of the data, but the classification tree algorithm uses a measure known as **entropy** to ensure that each cut maximizes the homogeneity of the resulting subspaces. Entropy is defined as follows:\n",
    "\n",
    "$$Entropy = -\\sum_i^C{p_ilog(p_i)}$$\n",
    "\n",
    "where the data set has $C$ classes (or unique outcome values), and $p_i$ represents the proportion of observations in the data from the $i$th class. In our case $C=2$ because we have two classes: \"churn\" and \"no churn\". Notice, this is very similar to the log loss formula that we introduced in [Log Loss](../09_model_eval/performance_metrics.html#log-loss). \n",
    "\n",
    "Using this formula, we can first calculate the entropy of our original data set (before we made any cuts), which we'll call $E_0$. There are two \"churn\" customers and ten \"no churn\" customers, so the entropy is:\n",
    "\n",
    "$$E_0 = -[\\frac{2}{12}log(\\frac{2}{12}) + \\frac{10}{12}log(\\frac{10}{12})] = 0.1957$$\n",
    "\n",
    "Now we will calculate the entropy after making the cut, for each subspace separately. The subspace **R2** is completely homogeneous (all nine customers are \"no churn\"), so the entropy equals zero:\n",
    "\n",
    "$$E_{R2} = -[\\frac{9}{9}log(\\frac{9}{9})] = 0$$\n",
    "\n",
    "The subspace $R1$ has one \"no churn\" and two \"churns\", so the entropy equals:\n",
    "\n",
    "$$E_{R1} = -[\\frac{2}{3}log(\\frac{2}{3}) + \\frac{1}{3}log(\\frac{1}{3})] = 0.2764$$\n",
    "\n",
    "To calculate the overall entropy after making the cut at `account_length` = 87, we take a weighted average of $E_{R1}$ and $E_{R2}$ based on the number of observations in each subspace:\n",
    "\n",
    "$$E_{Cut1} = \\frac{3}{12}E_{R1} + \\frac{9}{12}E_{R2} = 0.0691$$\n",
    "\n",
    "The **information gain**, or the reduction in entropy due to this cut, is then:\n",
    "$$E_0 - E_{Cut1} = 0.1957 - 0.0691 = 0.1266$$ \n",
    "\n",
    "Each cut is made at the point that will result in the greatest reduction in the information gain. To further reduce the entropy of **R1**, we can make a cut around `total_intl_charge` = 3.8 to partition **R1** into two smaller regions (**R3** and **R4**) that are completely homogeneous. Because the feature space is completely divided into pure regions, the entropy after the second cut is zero:\n",
    "\n",
    "$$\\begin{aligned}E_{Cut2} & = \\frac{9}{12}E_{R2} + \\frac{2}{12}E_{R3} + \\frac{1}{12}E_{R4} \\\\ & = \\frac{9}{12}(0) + \\frac{2}{12}(0) + \\frac{1}{12}(0) \\\\ & = 0\n",
    "\\end{aligned}$$"
   ]
  },
  {
   "cell_type": "code",
   "execution_count": 4,
   "id": "6a03a866",
   "metadata": {
    "tags": [
     "remove-input"
    ]
   },
   "outputs": [
    {
     "name": "stderr",
     "output_type": "stream",
     "text": [
      "Parsed with column specification:\n",
      "cols(\n",
      "  account_length = col_double(),\n",
      "  total_intl_charge = col_double(),\n",
      "  churn = col_double()\n",
      ")\n"
     ]
    },
    {
     "data": {
      "image/png": "[encoded data removed]",
      "text/plain": [
       "plot without title"
      ]
     },
     "metadata": {
      "filenames": {
       "image/png": "C:\\Users\\phamilton\\Documents\\dsm\\dsm_book\\_build\\jupyter_execute\\10_dt_rf\\decision_trees_6_1.png"
      }
     },
     "output_type": "display_data"
    }
   ],
   "source": [
    "churnSample <- read_csv(\"../_build/data/churn_sample2.csv\")\n",
    "churnSample$churn = ifelse(churnSample$churn==1, \"churn\", \"no churn\")\n",
    "churnSample$account_length = churnSample$account_length*sd(churn$account_length) + mean(churn$account_length)\n",
    "churnSample$total_intl_charge = churnSample$total_intl_charge*sd(churn$total_intl_charge) + mean(churn$total_intl_charge)\n",
    "\n",
    "ggplot(churnSample, aes(x=account_length, y=total_intl_charge, color=churn, shape=churn)) + geom_point(size=3) + theme_bw() +\n",
    "  theme(axis.text=element_text(size=12),\n",
    "        axis.title=element_text(size=14,face=\"bold\")) + \n",
    "    geom_vline(xintercept = 85) + \n",
    "  annotate(\"text\", x = 140, y = 3.5, label = \"R2\", size=6) + \n",
    "  annotate(\"text\", x = 40, y = 4, label = \"R4\", size=6) + \n",
    "  annotate(\"text\", x = 40, y = 2.75, label = \"R3\", size=6) + \n",
    "  geom_segment(aes(x = 0, y = 3.8, xend = 85, yend = 3.8), color=\"black\") +\n",
    "  scale_x_continuous(limits = c(0, 170), expand = c(0, 0))\n",
    "  "
   ]
  },
  {
   "cell_type": "markdown",
   "id": "4c1370c6",
   "metadata": {},
   "source": [
    "Because each subspace is completely pure, there are no additional cuts we could make to further reduce the entropy. \n",
    "\n",
    "To create pure feature space, we first made a cut at `account_length` = 87, then within the region where `account_length` was less than 87 made an additional cut at `total_intl_charge` = 3.8.  From this we can write out a set of decision rules:"
   ]
  },
  {
   "cell_type": "code",
   "execution_count": 5,
   "id": "06af389b",
   "metadata": {
    "tags": [
     "remove-input"
    ]
   },
   "outputs": [
    {
     "data": {
      "image/png": "[encoded data removed]",
      "text/plain": [
       "plot without title"
      ]
     },
     "metadata": {
      "filenames": {
       "image/png": "C:\\Users\\phamilton\\Documents\\dsm\\dsm_book\\_build\\jupyter_execute\\10_dt_rf\\decision_trees_8_0.png"
      }
     },
     "output_type": "display_data"
    }
   ],
   "source": [
    "thing <- churnSample\n",
    "thing$churn <- factor(thing$churn, levels=c(\"churn\", \"no churn\"))\n",
    "thing$churn <- ordered(thing$churn, levels = c(\"no churn\", \"churn\"))\n",
    "modelDT1 <- rpart(churn ~ ., data = thing, minsplit = 1)\n",
    "rpart.plot(modelDT1)"
   ]
  },
  {
   "cell_type": "markdown",
   "id": "280cfd31",
   "metadata": {},
   "source": [
    "We can use this decision tree to predict whether or not a new observation will churn. For example:\n",
    "\n",
    "+ If a new observation has an `account_length` greater than or equal to 87, we move down the left branch of the tree and predict \"no churn\". \n",
    "+ If a new observation has an `account_length` less than 87 and a `total_intl_charge` greater than or equal to 3.8, we would move right at the first split and left at the second split of the tree, leading to a prediction of \"no churn\". \n",
    "+ If a new observation has an `account_length` less than 87 and a `total_intl_charge` less than 3.8, we would move right at the first split and right at the second split of the tree, leading to a prediction of \"churn\".\n",
    "\n",
    "How do we interpret the numbers shown in the tree? In the plot each node has three rows, showing (in order):\n",
    "\n",
    "+ The majority class in that node (\"churn\" / \"no churn\").\n",
    "+ The proportion of the observations in that node that churned.\n",
    "+ The percentage of the total data inside that node.\n",
    "\n",
    "For example, let's start at the top node, which represents the data set before any cuts have been made. Because no cuts have been made, this node includes all of the data, so the third line shows 100%. Of the twelve observations in the data set, two of them churned, so the proportion of observations that churned equals (2 / 12) $\\approx$ 0.17. Because this proportion is lower than the default cutoff of 0.5, the majority class for this node is \"no churn\". \n",
    "\n",
    "Now imagine what happens as we work our way down the tree. If `account_length` is greater than or equal to 87 we move to the left branch. This corresponds to the subspace R2 in the plot of the feature space. This subspace contains nine observations, or 75% of the total observations in the data set ((9 / 12) = 75%). None of these observations churned, so the second line in the node is 0.00, and the majority class is \"no churn\". \n",
    "\n",
    "Now imagine we work our way down the right branch of the tree. If `account_length` is less than 87, we move into the subspace R1. R1 has three observations ((3 / 12) = 25%), two of which churned ((2 / 3) $\\approx$ 0.67). From this node, if `total_intl_charge` is less than 3.8 we move to the right, which represents subspace R3. Here we have two observations ((2 / 12) $\\approx$ 17%), both of which churned ((2 / 2) = 1.00). If instead `total_intl_charge` is greater than or equal to 3.8 we move to the left, which represents subspace R4. Here we have one observation ((1 / 12) $\\approx$ 8%), which did not churn ((0 / 1) = 0.00).\n",
    "\n",
    "In R, we can fit a classification tree to our data using the `rpart()` function from the `rpart` package. This function uses the following syntax:\n",
    "\n",
    "```{admonition} Syntax\n",
    "`rpart::rpart(y ~ x1 + x2 + ... + xp, data, maxdepth = 30)`\n",
    "+ *Required arguments*\n",
    "  - `y`: The name of the dependent ($Y$) variable.\n",
    "  - `x1`, `x2`, ... `xp`: The name of the first, second, and $pth$ independent variables.\n",
    "  - `data`: The name of the data frame with the `y`, `x1`, `x2`, and `xp` variables.\n",
    "+ *Optional arguments*\n",
    "  - `maxdepth`: The maximum depth of the tree (see [Tuning Hyperparameters](decision_trees.html#tuning-hyperparameters) below).\n",
    "```\n",
    "\n",
    "Then, after we have built a model with `rpart()`, we can visualize the tree with the `rpart.plot()` function from the `rpart.plot` package:\n",
    "\n",
    "```{admonition} Syntax\n",
    "`rpart.plot::rpart.plot(x)`\n",
    "+ *Required arguments*\n",
    "  - `x`: A tree model built with `rpart()`.\n",
    "```\n",
    "\n",
    "Below we apply these functions to our full `churn` data set:"
   ]
  },
  {
   "cell_type": "code",
   "execution_count": 6,
   "id": "824feaab",
   "metadata": {},
   "outputs": [
    {
     "data": {
      "image/png": "[encoded data removed]",
      "text/plain": [
       "plot without title"
      ]
     },
     "metadata": {
      "filenames": {
       "image/png": "C:\\Users\\phamilton\\Documents\\dsm\\dsm_book\\_build\\jupyter_execute\\10_dt_rf\\decision_trees_10_0.png"
      }
     },
     "output_type": "display_data"
    }
   ],
   "source": [
    "model <- rpart(churn ~ ., data = churn)\n",
    "rpart.plot(model)"
   ]
  },
  {
   "cell_type": "markdown",
   "id": "69e0f8de",
   "metadata": {},
   "source": [
    "### Tuning Hyperparameters\n",
    "\n",
    "Let's return to the simplified data set from the previous section, with only twelve observations and two features. After inspecting the classification tree we built from this data, you may suspect that something is wrong with the right branch - customers with a higher `total_intl_charge` are classified as \"no churn\", while customers with a lower `total_intl_charge` are classified as \"churn\". Based on the context of the business we may find this pattern surprising, as we expect customers with high international charges to be *more* likely to switch services. One possibility is that we are overfitting the data, so the decision tree is picking up on the noise in the sample instead of the signal.\n",
    "\n",
    "To prevent overfitting, we can **prune** the decision tree to a certain depth; or, in other words, limit how many cuts we can perform. For example, let us prune this tree to a depth of one, meaning the algorithm cannot make more than one cut. The resulting pruned tree is shown below. Under this set of rules, customers with an `account_length` greater than or equal to 87 are classified as \"no churn\"; this is because subspace R2 (which represents `account_length` >= 87) contains only \"no churn\" observations. Customers with an `account_length` less than 87 are assigned a probability of churning of 0.67; this is because subspace R1 (which represents `account_length` < 87) contains two \"churn\" observations and one \"no churn\" observation ((2 / 3) $\\approx$ 0.67). \n",
    "\n",
    "For CART models, the **depth** hyperparameter serves a similar purpose as the $k_{knn}$ hyperparameter for the kNN algorithm. By tuning the value of the tree's depth, we seek to balance the bias-variance tradeoff. If the depth is too large, our tree will grow too deep and overfit the training data. Conversely, if the depth is too small, our tree will not grow deep enough and will underfit the training data. Therefore, we need to use cross validation to identify the value of depth that balances this tradeoff on our data."
   ]
  },
  {
   "cell_type": "code",
   "execution_count": 7,
   "id": "55a06ba1",
   "metadata": {
    "tags": [
     "remove-cell"
    ]
   },
   "outputs": [
    {
     "data": {
      "image/png": "[encoded data removed]",
      "text/plain": [
       "plot without title"
      ]
     },
     "metadata": {
      "filenames": {
       "image/png": "C:\\Users\\phamilton\\Documents\\dsm\\dsm_book\\_build\\jupyter_execute\\10_dt_rf\\decision_trees_12_0.png"
      }
     },
     "output_type": "display_data"
    }
   ],
   "source": [
    "thing <- churnSample\n",
    "thing$churn <- factor(thing$churn, levels=c(\"churn\", \"no churn\"))\n",
    "thing$churn <- ordered(thing$churn, levels = c(\"no churn\", \"churn\"))\n",
    "modelDT2 <- rpart(churn ~ ., data = thing, minsplit = 0, maxdepth=1)#\n",
    "rpart.plot(modelDT2)"
   ]
  },
  {
   "cell_type": "markdown",
   "id": "b7a4fa29",
   "metadata": {},
   "source": [
    "In R, we can tune the depth hyperparameter through cross validation using the exact same functions shown in the previous chapter. To train a cross-validated classification tree, we can use the `train()` function from the `caret` package just as we did in the previous chapter ([$k$-Fold Cross Validation](../09_model_eval/data_partition.html#k-fold-cross-validation)). To apply this function with the classification tree algorithm:\n",
    "\n",
    "+ As before, we specify the independent and dependent variables in our model using the tilde (`~`). Remember that if you just replace the names of the features with the wildcard character `.`, the model will be built using all of the features in the data set. \n",
    "+ Because the classification tree algorithm does not require the data to be normalized like kNN, we can pass in the data set `churn` instead of `churnScaled`. \n",
    "+ To apply the classification tree algorithm, we set the `method` argument equal to `\"rpart2\"`. \n",
    "+ Recall that in [$k$-Fold Cross Validation](../09_model_eval/data_partition.html#k-fold-cross-validation) we created an object called `cvConditions`, which is used to ensure that for each model we test, the cross validation process is performed consistently. We can re-use that object here so we can directly compare these results to the results from the kNN model.\n",
    "\n",
    "By default, the `train()` function comes up with a grid of different hyperparameter values to test."
   ]
  },
  {
   "cell_type": "code",
   "execution_count": 8,
   "id": "cd5670fc",
   "metadata": {},
   "outputs": [
    {
     "data": {
      "text/plain": [
       "CART \n",
       "\n",
       "3400 samples\n",
       "  12 predictor\n",
       "   2 classes: 'no', 'yes' \n",
       "\n",
       "No pre-processing\n",
       "Resampling: Cross-Validated (5 fold) \n",
       "Summary of sample sizes: 2720, 2720, 2719, 2720, 2721 \n",
       "Resampling results across tuning parameters:\n",
       "\n",
       "  maxdepth  Accuracy   Kappa    \n",
       "  1         0.8720613  0.3290213\n",
       "  2         0.8823554  0.3917376\n",
       "  4         0.9161777  0.5991045\n",
       "\n",
       "Accuracy was used to select the optimal model using the largest value.\n",
       "The final value used for the model was maxdepth = 4."
      ]
     },
     "metadata": {},
     "output_type": "display_data"
    }
   ],
   "source": [
    "set.seed(972945)\n",
    "rpartCV <- train(churn ~ ., \n",
    "                 data = churn,\n",
    "                 method = \"rpart2\", \n",
    "                 trControl = cvConditions)\n",
    "\n",
    "rpartCV"
   ]
  },
  {
   "cell_type": "markdown",
   "id": "cb422752",
   "metadata": {},
   "source": [
    "Based on these results the optimal value of `maxdepth` is four, so our final tree will be pruned to a depth of four. We can visualize this tree by applying the `rpart.plot()` function to `rpartCV$finalModel`:"
   ]
  },
  {
   "cell_type": "code",
   "execution_count": 9,
   "id": "211d1c24",
   "metadata": {},
   "outputs": [
    {
     "data": {
      "image/png": "[encoded data removed]",
      "text/plain": [
       "plot without title"
      ]
     },
     "metadata": {
      "filenames": {
       "image/png": "C:\\Users\\phamilton\\Documents\\dsm\\dsm_book\\_build\\jupyter_execute\\10_dt_rf\\decision_trees_16_0.png"
      }
     },
     "output_type": "display_data"
    }
   ],
   "source": [
    "rpart.plot(rpartCV$finalModel)"
   ]
  },
  {
   "cell_type": "markdown",
   "id": "6b37bbf0",
   "metadata": {},
   "source": [
    "## (&sect;) Regression Trees\n",
    "\n",
    "[In Progress]"
   ]
  }
 ],
 "metadata": {
  "jupytext": {
   "cell_metadata_filter": "-all",
   "formats": "md:myst",
   "text_representation": {
    "extension": ".md",
    "format_name": "myst",
    "format_version": 0.13,
    "jupytext_version": "1.11.5"
   }
  },
  "kernelspec": {
   "display_name": "R",
   "language": "R",
   "name": "ir"
  },
  "language_info": {
   "codemirror_mode": "r",
   "file_extension": ".r",
   "mimetype": "text/x-r-source",
   "name": "R",
   "pygments_lexer": "r",
   "version": "3.6.1"
  },
  "source_map": [
   16,
   29,
   41,
   52,
   56,
   69,
   101,
   118,
   124,
   131,
   173,
   176,
   186,
   193,
   204,
   212,
   216,
   218
  ]
 },
 "nbformat": 4,
 "nbformat_minor": 5
}