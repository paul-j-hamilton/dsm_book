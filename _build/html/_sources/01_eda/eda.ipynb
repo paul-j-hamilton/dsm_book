{
 "cells": [
  {
   "cell_type": "code",
   "execution_count": 1,
   "id": "d6ab5e8c",
   "metadata": {
    "tags": [
     "remove-cell"
    ]
   },
   "outputs": [
    {
     "name": "stderr",
     "output_type": "stream",
     "text": [
      "Registered S3 methods overwritten by 'ggplot2':\n",
      "  method         from \n",
      "  [.quosures     rlang\n",
      "  c.quosures     rlang\n",
      "  print.quosures rlang\n"
     ]
    },
    {
     "name": "stderr",
     "output_type": "stream",
     "text": [
      "Registered S3 method overwritten by 'rvest':\n",
      "  method            from\n",
      "  read_xml.response xml2\n"
     ]
    },
    {
     "name": "stderr",
     "output_type": "stream",
     "text": [
      "-- Attaching packages --------------------------------------- tidyverse 1.2.1 --\n"
     ]
    },
    {
     "name": "stderr",
     "output_type": "stream",
     "text": [
      "v ggplot2 3.1.1       v purrr   0.3.2  \n",
      "v tibble  2.1.1       v dplyr   0.8.0.1\n",
      "v tidyr   0.8.3       v stringr 1.4.0  \n",
      "v readr   1.3.1       v forcats 0.4.0  \n"
     ]
    },
    {
     "name": "stderr",
     "output_type": "stream",
     "text": [
      "-- Conflicts ------------------------------------------ tidyverse_conflicts() --\n",
      "x dplyr::filter() masks stats::filter()\n",
      "x dplyr::lag()    masks stats::lag()\n"
     ]
    },
    {
     "name": "stderr",
     "output_type": "stream",
     "text": [
      "Parsed with column specification:\n",
      "cols(\n",
      "  ID = col_double(),\n",
      "  Name = col_character(),\n",
      "  Gender = col_character(),\n",
      "  Age = col_double(),\n",
      "  Rating = col_double(),\n",
      "  Degree = col_character(),\n",
      "  Start_Date = col_character(),\n",
      "  Retired = col_logical(),\n",
      "  Division = col_character(),\n",
      "  Salary = col_character()\n",
      ")\n"
     ]
    }
   ],
   "source": [
    "library(tidyverse)\n",
    "employees <- read_csv(\"../_build/data/employee_data.csv\")\n",
    "employees$Salary <- parse_number(employees$Salary)\n",
    "employees$Start_Date <- parse_date(employees$Start_Date, format = \"%m/%d/%Y\")"
   ]
  },
  {
   "cell_type": "markdown",
   "id": "d404aa42",
   "metadata": {},
   "source": [
    "# Exploring Data\n",
    "\n",
    "````{panels}\n",
    ":column: col-4\n",
    ":card: border-2\n",
    "**Motivation**\n",
    "^^^\n",
    "Framiliarize yourself with the data and establish a common set of facts among all stakeholders. Answer basic descriptive questions and identify irregularities in the data.\n",
    "---\n",
    "**Methods**\n",
    "^^^\n",
    "+ Summary Statistics - Unambiguous, numerical measures of the data.\n",
    "+ Visualization - Visual representations of data that tell a clear and compelling story.\n",
    "---\n",
    "**Message**\n",
    "^^^\n",
    "Present data-driven insights to stakeholders as clearly as possible. Complement domain-area expertise with quantitative evidence. Focus on producing insights that are actionable. \n",
    "````\n",
    "\n",
    "One of the fundamental pillars of data science is to understand the data by visualizing it and computing basic descriptive summary statistics (*e.g.*, average, standard deviation, maximum, and minimum). This collection of techniques is typically referred to as **exploratory data analysis (EDA)**. Often, visualizing data is enough to answer basic descriptive questions (such as, which types of customers are buying different products?) devise more complex hypotheses about various relationships (such as, which types of customers are more likely to buy different products?) and identify irregularities (such as mistakes in the data collection or outlier data).\n",
    "\n",
    "```{admonition} Why is this important?\n",
    "The main purpose of EDA is to help look at data before making any assumptions. It can help identify obvious errors, as well as better understand patterns within the data, detect outliers or anomalous events, find interesting relations among the variables. Data scientists can use exploratory analysis to ensure the results they produce are valid and applicable to any desired business outcomes and goals. EDA also helps stakeholders by confirming they are asking the right questions. EDA can help answer questions about standard deviations, categorical variables, and confidence intervals. Once EDA is complete and insights are drawn, its features can then be used for more sophisticated data analysis or modeling, including machine learning.\n",
    "\n",
    "*IBM, [Exploratory Data Analysis](https://www.ibm.com/cloud/learn/exploratory-data-analysis)*\n",
    "```\n",
    "\n",
    "Descriptive statistics of key business metrics are aggregations of data that should form the information backbone of every enterprise. For example, sales, revenue, and customer churn are all examples of business metrics. Creating meaningful visualizations and analyzing descriptive statistics is the first important step in addressing business problems with data.\n",
    "\n",
    "\n",
    "```{admonition} How will this help me as a manager?\n",
    "An understanding of EDA will help you: \n",
    "\n",
    "+ Develop a deeper understanding of key business metrics;\n",
    "+ Examine assumptions and hypotheses more rigorously; \n",
    "+ Convince stakeholders of new insights through compelling visualizations.\n",
    "```\n",
    "\n",
    "In this chapter, we will explore EDA using the employee data introduced in the [R Bootcamp](../00_bootcamp/02_dataframes/dataframes.html#data-frames). This data contains information on 1,000 employees at a software company, and is stored in a data frame called `employees`:"
   ]
  },
  {
   "cell_type": "code",
   "execution_count": 2,
   "id": "02d0a825",
   "metadata": {
    "tags": [
     "remove-input"
    ]
   },
   "outputs": [
    {
     "data": {
      "text/html": [
       "<table>\n",
       "<thead><tr><th scope=col>ID</th><th scope=col>Name</th><th scope=col>Gender</th><th scope=col>Age</th><th scope=col>Rating</th><th scope=col>Degree</th><th scope=col>Start_Date</th><th scope=col>Retired</th><th scope=col>Division</th><th scope=col>Salary</th></tr></thead>\n",
       "<tbody>\n",
       "\t<tr><td>6881               </td><td>al-Rahimi, Tayyiba </td><td>Female             </td><td>51                 </td><td>10                 </td><td>High School        </td><td>1990-02-23         </td><td>FALSE              </td><td>Operations         </td><td>108804             </td></tr>\n",
       "\t<tr><td>2671               </td><td>Lewis, Austin      </td><td>Male               </td><td>34                 </td><td> 4                 </td><td>Ph.D               </td><td>2007-02-23         </td><td>FALSE              </td><td>Engineering        </td><td>182343             </td></tr>\n",
       "\t<tr><td>8925               </td><td>el-Jaffer, Manaal  </td><td>Female             </td><td>50                 </td><td>10                 </td><td>Master's           </td><td>1991-02-23         </td><td>FALSE              </td><td>Engineering        </td><td>206770             </td></tr>\n",
       "\t<tr><td>2769               </td><td>Soto, Michael      </td><td>Male               </td><td>52                 </td><td>10                 </td><td>High School        </td><td>1987-02-23         </td><td>FALSE              </td><td>Sales              </td><td>183407             </td></tr>\n",
       "\t<tr><td>2658               </td><td>al-Ebrahimi, Mamoon</td><td>Male               </td><td>55                 </td><td> 8                 </td><td>Ph.D               </td><td>1985-02-23         </td><td>FALSE              </td><td>Corporate          </td><td>236240             </td></tr>\n",
       "\t<tr><td>1933               </td><td>Medina, Brandy     </td><td>Female             </td><td>62                 </td><td> 7                 </td><td>Associate's        </td><td>1979-02-23         </td><td> TRUE              </td><td>Sales              </td><td>    NA             </td></tr>\n",
       "</tbody>\n",
       "</table>\n"
      ],
      "text/latex": [
       "\\begin{tabular}{r|llllllllll}\n",
       " ID & Name & Gender & Age & Rating & Degree & Start\\_Date & Retired & Division & Salary\\\\\n",
       "\\hline\n",
       "\t 6881                & al-Rahimi, Tayyiba  & Female              & 51                  & 10                  & High School         & 1990-02-23          & FALSE               & Operations          & 108804             \\\\\n",
       "\t 2671                & Lewis, Austin       & Male                & 34                  &  4                  & Ph.D                & 2007-02-23          & FALSE               & Engineering         & 182343             \\\\\n",
       "\t 8925                & el-Jaffer, Manaal   & Female              & 50                  & 10                  & Master's            & 1991-02-23          & FALSE               & Engineering         & 206770             \\\\\n",
       "\t 2769                & Soto, Michael       & Male                & 52                  & 10                  & High School         & 1987-02-23          & FALSE               & Sales               & 183407             \\\\\n",
       "\t 2658                & al-Ebrahimi, Mamoon & Male                & 55                  &  8                  & Ph.D                & 1985-02-23          & FALSE               & Corporate           & 236240             \\\\\n",
       "\t 1933                & Medina, Brandy      & Female              & 62                  &  7                  & Associate's         & 1979-02-23          &  TRUE               & Sales               &     NA             \\\\\n",
       "\\end{tabular}\n"
      ],
      "text/markdown": [
       "\n",
       "| ID | Name | Gender | Age | Rating | Degree | Start_Date | Retired | Division | Salary |\n",
       "|---|---|---|---|---|---|---|---|---|---|\n",
       "| 6881                | al-Rahimi, Tayyiba  | Female              | 51                  | 10                  | High School         | 1990-02-23          | FALSE               | Operations          | 108804              |\n",
       "| 2671                | Lewis, Austin       | Male                | 34                  |  4                  | Ph.D                | 2007-02-23          | FALSE               | Engineering         | 182343              |\n",
       "| 8925                | el-Jaffer, Manaal   | Female              | 50                  | 10                  | Master's            | 1991-02-23          | FALSE               | Engineering         | 206770              |\n",
       "| 2769                | Soto, Michael       | Male                | 52                  | 10                  | High School         | 1987-02-23          | FALSE               | Sales               | 183407              |\n",
       "| 2658                | al-Ebrahimi, Mamoon | Male                | 55                  |  8                  | Ph.D                | 1985-02-23          | FALSE               | Corporate           | 236240              |\n",
       "| 1933                | Medina, Brandy      | Female              | 62                  |  7                  | Associate's         | 1979-02-23          |  TRUE               | Sales               |     NA              |\n",
       "\n"
      ],
      "text/plain": [
       "  ID   Name                Gender Age Rating Degree      Start_Date Retired\n",
       "1 6881 al-Rahimi, Tayyiba  Female 51  10     High School 1990-02-23 FALSE  \n",
       "2 2671 Lewis, Austin       Male   34   4     Ph.D        2007-02-23 FALSE  \n",
       "3 8925 el-Jaffer, Manaal   Female 50  10     Master's    1991-02-23 FALSE  \n",
       "4 2769 Soto, Michael       Male   52  10     High School 1987-02-23 FALSE  \n",
       "5 2658 al-Ebrahimi, Mamoon Male   55   8     Ph.D        1985-02-23 FALSE  \n",
       "6 1933 Medina, Brandy      Female 62   7     Associate's 1979-02-23  TRUE  \n",
       "  Division    Salary\n",
       "1 Operations  108804\n",
       "2 Engineering 182343\n",
       "3 Engineering 206770\n",
       "4 Sales       183407\n",
       "5 Corporate   236240\n",
       "6 Sales           NA"
      ]
     },
     "metadata": {},
     "output_type": "display_data"
    }
   ],
   "source": [
    "head(employees)"
   ]
  },
  {
   "cell_type": "markdown",
   "id": "71552439",
   "metadata": {},
   "source": [
    "These variables are defined as follows:\n",
    "\n",
    "+ `ID`: A unique ID for each employee.\n",
    "+ `Name`: The name of each employee.\n",
    "+ `Gender`: The gender of each employee.\n",
    "+ `Age`: The age of each employee at the time the data were collected.\n",
    "+ `Rating`: Each employee's rating from one to ten on their last performance evaluation.\n",
    "+ `Degree`: The highest degree attained by the employee.\n",
    "+ `Start_Date`: The date the employee started with the company.\n",
    "+ `Retired`: Whether or not the employee is retired (`TRUE` / `FALSE`).\n",
    "+ `Division`: The division the employee works in.\n",
    "+ `Salary`: The employee's most recent yearly salary."
   ]
  }
 ],
 "metadata": {
  "jupytext": {
   "cell_metadata_filter": "-all",
   "formats": "md:myst",
   "text_representation": {
    "extension": ".md",
    "format_name": "myst",
    "format_version": 0.13,
    "jupytext_version": "1.11.5"
   }
  },
  "kernelspec": {
   "display_name": "R",
   "language": "R",
   "name": "ir"
  },
  "language_info": {
   "codemirror_mode": "r",
   "file_extension": ".r",
   "mimetype": "text/x-r-source",
   "name": "R",
   "pygments_lexer": "r",
   "version": "3.6.1"
  },
  "source_map": [
   16,
   22,
   64,
   67
  ]
 },
 "nbformat": 4,
 "nbformat_minor": 5
}