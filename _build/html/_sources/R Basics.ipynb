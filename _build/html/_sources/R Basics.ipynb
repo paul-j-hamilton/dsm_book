{
 "cells": [
  {
   "cell_type": "markdown",
   "id": "2cab2e35",
   "metadata": {},
   "source": [
    "# R Basics\n",
    "\n",
    "This chapter provides an introduction to the very basics of R (and coding in general). By the end, you will be familiar with all of the following concepts:\n",
    "\n",
    "+ R as a Calculator\n",
    "+ Assignment\n",
    "+ Functions\n",
    "+ Data Types\n",
    "+ Atomic Vectors\n",
    "\n",
    "If you already have experience with the coding and/or the R language, you may skip this chapter. However, you must still successfully complete the coding exercise at the end of the bootcamp before our third class.  \n",
    "\n",
    "To begin, watch the following video:"
   ]
  },
  {
   "cell_type": "code",
   "execution_count": null,
   "id": "4d4e0cad",
   "metadata": {},
   "outputs": [],
   "source": []
  }
 ],
 "metadata": {
  "kernelspec": {
   "display_name": "R",
   "language": "R",
   "name": "ir"
  },
  "language_info": {
   "codemirror_mode": "r",
   "file_extension": ".r",
   "mimetype": "text/x-r-source",
   "name": "R",
   "pygments_lexer": "r",
   "version": "3.6.1"
  }
 },
 "nbformat": 4,
 "nbformat_minor": 5
}
