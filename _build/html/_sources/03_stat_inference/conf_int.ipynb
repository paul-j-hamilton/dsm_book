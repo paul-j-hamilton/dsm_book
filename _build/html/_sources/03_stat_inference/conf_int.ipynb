{
 "cells": [
  {
   "cell_type": "code",
   "execution_count": 1,
   "id": "e6db02ee",
   "metadata": {
    "tags": [
     "remove-cell"
    ]
   },
   "outputs": [
    {
     "name": "stderr",
     "output_type": "stream",
     "text": [
      "Registered S3 methods overwritten by 'ggplot2':\n",
      "  method         from \n",
      "  [.quosures     rlang\n",
      "  c.quosures     rlang\n",
      "  print.quosures rlang\n"
     ]
    },
    {
     "name": "stderr",
     "output_type": "stream",
     "text": [
      "Registered S3 method overwritten by 'rvest':\n",
      "  method            from\n",
      "  read_xml.response xml2\n"
     ]
    },
    {
     "name": "stderr",
     "output_type": "stream",
     "text": [
      "-- Attaching packages --------------------------------------- tidyverse 1.2.1 --\n"
     ]
    },
    {
     "name": "stderr",
     "output_type": "stream",
     "text": [
      "v ggplot2 3.1.1       v purrr   0.3.2  \n",
      "v tibble  2.1.1       v dplyr   0.8.0.1\n",
      "v tidyr   0.8.3       v stringr 1.4.0  \n",
      "v readr   1.3.1       v forcats 0.4.0  \n"
     ]
    },
    {
     "name": "stderr",
     "output_type": "stream",
     "text": [
      "-- Conflicts ------------------------------------------ tidyverse_conflicts() --\n",
      "x dplyr::filter() masks stats::filter()\n",
      "x dplyr::lag()    masks stats::lag()\n"
     ]
    },
    {
     "name": "stderr",
     "output_type": "stream",
     "text": [
      "Parsed with column specification:\n",
      "cols(\n",
      "  ID = col_double(),\n",
      "  Name = col_character(),\n",
      "  Gender = col_character(),\n",
      "  Age = col_double(),\n",
      "  Rating = col_double(),\n",
      "  Degree = col_character(),\n",
      "  Start_Date = col_character(),\n",
      "  Retired = col_logical(),\n",
      "  Division = col_character(),\n",
      "  Salary = col_character()\n",
      ")\n"
     ]
    }
   ],
   "source": [
    "library(tidyverse)\n",
    "employees <- read_csv(\"../_build/data/employee_data.csv\")\n",
    "employees$Salary <- parse_number(employees$Salary)\n",
    "employees$Start_Date <- parse_date(employees$Start_Date, format = \"%m/%d/%Y\")\n",
    "degreeLevels <- c(\"High School\", \"Associate's\", \"Bachelor's\", \"Master's\", \"Ph.D\")\n",
    "employees$Degree <- parse_factor(employees$Degree, levels = degreeLevels, ordered = TRUE)"
   ]
  },
  {
   "cell_type": "markdown",
   "id": "9c7116b2",
   "metadata": {},
   "source": [
    "# Confidence Intervals\n",
    "\n",
    "As described in the previous section, we often want to use sample data to estimate population quantities. Due to the randomness inherent to sampling, an observed sample statistic is almost certainly not equal to the true population parameter. To quantify the variability surrounding the sample statistic, we can compute a **confidence interval** which provides a lower and upper bound for where we think the true population value lies. Note that unless we take a sample which consists of the entire population (often called a census), we will never know the true population parameter with absolute certainty.\n",
    "\n",
    "## Confidence Intervals for Proportions\n",
    "\n",
    "Suppose that in a survey of one hundred adult cell phone users, 30% switched carriers in the past two years. Based on this sample statistic (which we denote $\\hat{p}$), what can we conclude about the proportion of all adult cell phone users who switched carriers (which we denote $p$)? Our sample estimate of $\\hat{p} = 30%$ is based on a random sample of one hundred users and not the entire population, so we cannot conclude that the true population parameter is $p = 30%$. Instead, we must calculate a confidence interval to understand the range of plausible values for the population proportion $p$.\n",
    "\n",
    "For proportions, we generally use the following formula to calculate a confidence interval from our sample estimate:\n",
    "\n",
    "$$ \\hat{p} \\pm z^\\ast \\sqrt{\\frac{\\hat{p}(1 - \\hat{p})}{n}} $$\n",
    "\n",
    "where $\\hat{p}$ is our estimate from the sample, $n$ is the number of observations in the sample, and $z^\\ast$ is a constant that determines our desired level of confidence in the interval (we typically use a value of 1.96, which corresponds to a 95% level of confidence). \n",
    "\n",
    "Now imagine we wanted to construct a 95% confidence interval based on our sample of one hundred cell phone users. Applying the above formula:\n",
    "\n",
    "$$\n",
    "\\begin{aligned}\n",
    "\\hat{p} \\pm z^\\ast \\sqrt{\\frac{\\hat{p}(1 - \\hat{p})}{n}} &= 0.30\\ \\pm\\ 1.96\\sqrt{\\frac{0.30\\left(0.70\\right)}{100}} \\\\\n",
    "&=\\ [0.2124,\\ 0.3998] \n",
    "\\end{aligned}\n",
    "$$\n",
    "\n",
    "We interpret this confidence interval as follows: \"we are 95% confident that the true population proportion of adult cell phone users who switched carriers in the past two years is between 21.24% and 39.98%.\" \n",
    "\n",
    "Note that we can adjust our desired level of confidence by changing the value of $z^\\ast$. For example, imagine we only desired 80% confidence in our interval estimate. In this case, we would apply the same formula but use a $z^\\ast$ value of 1.28.\n",
    "\n",
    "$$\n",
    "\\begin{aligned}\n",
    "hat{p} \\pm z^{\\ast}\\sqrt{\\frac{\\hat{p}\\left(1-\\hat{p}\\right)}{n}}\\ &= 0.30\\ \\pm\\ 1.28\\sqrt{\\frac{0.30\\left(0.70\\right)}{100}} \\\\\n",
    "&=\\ [0.2398,\\ 0.3664]\n",
    "\\end{aligned}\n",
    "$$\n",
    "\n",
    "We interpret this confidence interval as follows: \"we are 80% confident that the true population proportion of adult cell phone users who switched carriers in the past two years is between 23.98% and 36.64%.\" In this case, relative to the 95% confidence interval we are slightly less confident that the interval contains the true population proportion, but the interval is narrower. This implies that as we decrease our level of confidence, our interval becomes more precise (and vice versa). The table below shows the appropriate value of $z^{\\ast}$ for several common confidence levels. \n",
    "\n",
    "| Confidence Level | $z^{\\ast}$ |\n",
    "| :-: | :-: |\n",
    "| 80\\% | 1.28 |\n",
    "| 90\\% | 1.645 |\n",
    "| 95\\% | 1.96 |\n",
    "| 98\\% | 2.33 |\n",
    "| 99\\% | 2.58 |\n",
    "\n",
    "In R, we can calculate a confidence interval for proportions with the `binom.test()` command, which uses the following syntax:\n",
    "\n",
    "```{admonition} Syntax\n",
    "`binom.test(x, n, conf.level = 0.95)`\n",
    "+ *Required arguments*\n",
    "  + `x`: The number of “successes” in the sample.\n",
    "  + `n`: The sample size.\n",
    "+ *Optional arguments*\n",
    "  + `conf.level`: The confidence level of the interval.\n",
    "```\n",
    "\n",
    "Applying this to our sample of cell phone users, we can run `binom.test()` with `x` equal to thirty and `n` equal to one hundred:"
   ]
  },
  {
   "cell_type": "code",
   "execution_count": 2,
   "id": "8e13781a",
   "metadata": {},
   "outputs": [
    {
     "data": {
      "text/plain": [
       "\n",
       "\tExact binomial test\n",
       "\n",
       "data:  30 and 100\n",
       "number of successes = 30, number of trials = 100, p-value = 7.85e-05\n",
       "alternative hypothesis: true probability of success is not equal to 0.5\n",
       "95 percent confidence interval:\n",
       " 0.2124064 0.3998147\n",
       "sample estimates:\n",
       "probability of success \n",
       "                   0.3 \n"
      ]
     },
     "metadata": {},
     "output_type": "display_data"
    }
   ],
   "source": [
    "binom.test(30, 100)"
   ]
  },
  {
   "cell_type": "markdown",
   "id": "a5ea52eb",
   "metadata": {},
   "source": [
    "For now, all we care about in this output is the line that reads `95 percent confidence interval:`. We interpret this output as follows: we are 95% confident that the true population proportion of adult cell phone users who switched carriers in the past two years is between 21.24% and 39.98%.\n",
    "\n",
    "## Confidence Intervals for Means\n",
    "\n",
    "Now suppose that in our sample of one hundred adult cell phone users, we also asked them to rate their satisfaction with their most recent service provider on a continuous scale from one to ten. In this sample, the average rating was 6.72 with a standard deviation of 1.72. Based on this sample statistic (which we denote $\\bar{x}$), what can we conclude about the average level of satisfaction among the entire population of adult cell phone users (which we denote $\\mu$)? Our sample estimate of $\\bar{x} = 6.72$ is based on a random sample of one hundred users and not the entire population, so we cannot conclude that the true population parameter is $\\mu = 6.72$. Instead, we must calculate a confidence interval to understand the range of plausible values for the population mean $\\mu$.\n",
    "\n",
    "When working with means, we use a different formula to calculate the confidence interval:\n",
    "\n",
    "$$ \\bar{x} \\pm t^{\\ast}\\frac{s}{\\sqrt n},\\ \\ \\ \\ \\ \\ \\ \\ df\\ =\\ n\\ -\\ 1 $$\n",
    "\n",
    "where $\\bar{x}$ is our estimate from the sample, $n$ is the number of observations in the sample, $s$ is the standard deviation from the sample, $df$ is the degrees of freedom (described below), and $t^{\\ast}$ is a constant that determines our desired level of confidence in the interval.\n",
    "\n",
    "The standard deviation from the sample ($s$) is calculated using the following formula:\n",
    "\n",
    "$$ s\\ =\\ \\sqrt{\\frac{\\sum{(x_i\\ -\\ \\bar{x})}^2}{n\\ -\\ 1}} $$\n",
    "\n",
    "Unlike the z^\\ast from the previous section, the value $t^\\ast$ depends on both our desired level of confidence and something called the **degrees of freedom** of the test. In the case of confidence intervals for means, the degrees of freedom is simply the sample size ($n$) minus one. To determine the appropriate value of $t^{\\ast}$ for our 95% confidence interval, we therefore need to look up the value of $t^{\\ast}$ that corresponds to a confidence level of 0.95 with 99 degrees of freedom. This can be done by searching the web for a calculator that returns the appropriate value of $t^{\\ast}$ based on our degrees of freedom and confidence level; in this case, the value is approximately 1.98. Note that in practice, one would often use statistical software (such as the R or Python programming languages, SPSS, Excel, etc.) to calculate confidence intervals instead of calculating them by hand. These packages determine the appropriate value of $t^{\\ast}$ for you behind the scenes, so you will rarely need to look it up yourself. \n",
    "\n",
    "Now let’s apply the above formulas to calculate a 95% confidence interval (note there may be some error due to rounding):\n",
    "\n",
    "$$\n",
    "\\begin{aligned}\n",
    "\\bar{x}\\ \\pm\\ t^{\\ast}\\frac{s}{\\sqrt n}\\ &=\\ 6.72\\ \\pm\\ 1.98\\frac{1.72}{\\sqrt{100}} \\\\\n",
    "&=\\ [6.38,\\ 7.06]\n",
    "\\end{aligned}\n",
    "$$\n",
    "\n",
    "We interpret this confidence interval as follows: \"we are 95% confident that the true population average satisfaction among all adult cell phone users is between 6.38 and 7.06.\"\n",
    "\n",
    "Recall that our `employees` data set has the salary of the sampled employees. Imagine that based on this sample, we would like to estimate the true average salary of all employees at the company. For means, we need to use the `t.test()` function to calculate the 95% confidence interval:\n",
    "\n",
    "```{admonition} Syntax\n",
    "`t.test(x, conf.level = 0.95)`\n",
    "+ *Required arguments*\n",
    "  + `x`: An atomic vector with the sample values.\n",
    "+ *Optional arguments*\n",
    "  + `conf.level`: The confidence level of the interval.\n",
    "```\n",
    "\n",
    "Applying this to our sample of employees:"
   ]
  },
  {
   "cell_type": "code",
   "execution_count": 3,
   "id": "2d32d68c",
   "metadata": {},
   "outputs": [
    {
     "data": {
      "text/plain": [
       "\n",
       "\tOne Sample t-test\n",
       "\n",
       "data:  employees$Salary\n",
       "t = 120.22, df = 919, p-value < 2.2e-16\n",
       "alternative hypothesis: true mean is not equal to 0\n",
       "95 percent confidence interval:\n",
       " 153931.5 159040.5\n",
       "sample estimates:\n",
       "mean of x \n",
       "   156486 \n"
      ]
     },
     "metadata": {},
     "output_type": "display_data"
    }
   ],
   "source": [
    "t.test(employees$Salary)"
   ]
  },
  {
   "cell_type": "markdown",
   "id": "42127fc5",
   "metadata": {},
   "source": [
    "As with the output for proportions, we can (for now) ignore everything besides the line that reads `95 percent confidence interval:`. We interpret this output as follows: we are 95% confident that the true population average salary at the company is between \\$153,931.5 and \\$159,040.5.\n",
    "\n",
    "We could also calculate confidence intervals for specific subgroups. Let’s use the `employees` data to calculate the salary confidence intervals for men and women separately:"
   ]
  },
  {
   "cell_type": "code",
   "execution_count": 4,
   "id": "b403568f",
   "metadata": {},
   "outputs": [
    {
     "data": {
      "text/plain": [
       "\n",
       "\tOne Sample t-test\n",
       "\n",
       "data:  maleEmployees$Salary\n",
       "t = 85.751, df = 457, p-value < 2.2e-16\n",
       "alternative hypothesis: true mean is not equal to 0\n",
       "95 percent confidence interval:\n",
       " 157515.6 164904.5\n",
       "sample estimates:\n",
       "mean of x \n",
       "   161210 \n"
      ]
     },
     "metadata": {},
     "output_type": "display_data"
    }
   ],
   "source": [
    "maleEmployees <- filter(employees, Gender==\"Male\")\n",
    "t.test(maleEmployees$Salary)"
   ]
  },
  {
   "cell_type": "code",
   "execution_count": 5,
   "id": "977961d0",
   "metadata": {},
   "outputs": [
    {
     "data": {
      "text/plain": [
       "\n",
       "\tOne Sample t-test\n",
       "\n",
       "data:  femaleEmployees$Salary\n",
       "t = 85.442, df = 461, p-value < 2.2e-16\n",
       "alternative hypothesis: true mean is not equal to 0\n",
       "95 percent confidence interval:\n",
       " 148311.4 155294.2\n",
       "sample estimates:\n",
       "mean of x \n",
       " 151802.8 \n"
      ]
     },
     "metadata": {},
     "output_type": "display_data"
    }
   ],
   "source": [
    "femaleEmployees <- filter(employees, Gender==\"Female\")\n",
    "t.test(femaleEmployees$Salary)"
   ]
  },
  {
   "cell_type": "markdown",
   "id": "ed724479",
   "metadata": {},
   "source": [
    "Note that the 95% confidence intervals do *not* overlap, which suggests that on average, women at the company are paid lower than men. To investigate this further, we need a formal method to compare groups statistically. This topic is covered in the next section."
   ]
  }
 ],
 "metadata": {
  "jupytext": {
   "cell_metadata_filter": "-all",
   "formats": "md:myst",
   "text_representation": {
    "extension": ".md",
    "format_name": "myst",
    "format_version": 0.13,
    "jupytext_version": "1.11.5"
   }
  },
  "kernelspec": {
   "display_name": "R",
   "language": "R",
   "name": "ir"
  },
  "language_info": {
   "codemirror_mode": "r",
   "file_extension": ".r",
   "mimetype": "text/x-r-source",
   "name": "R",
   "pygments_lexer": "r",
   "version": "3.6.1"
  },
  "source_map": [
   16,
   24,
   83,
   85,
   128,
   130,
   136,
   141,
   144
  ]
 },
 "nbformat": 4,
 "nbformat_minor": 5
}