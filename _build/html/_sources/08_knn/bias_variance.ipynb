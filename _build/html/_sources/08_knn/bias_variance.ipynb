{
 "cells": [
  {
   "cell_type": "code",
   "execution_count": 1,
   "id": "e457b8fa",
   "metadata": {
    "tags": [
     "remove-cell"
    ]
   },
   "outputs": [
    {
     "name": "stderr",
     "output_type": "stream",
     "text": [
      "Registered S3 methods overwritten by 'ggplot2':\n",
      "  method         from \n",
      "  [.quosures     rlang\n",
      "  c.quosures     rlang\n",
      "  print.quosures rlang\n"
     ]
    },
    {
     "name": "stderr",
     "output_type": "stream",
     "text": [
      "Registered S3 method overwritten by 'rvest':\n",
      "  method            from\n",
      "  read_xml.response xml2\n"
     ]
    },
    {
     "name": "stderr",
     "output_type": "stream",
     "text": [
      "-- Attaching packages --------------------------------------- tidyverse 1.2.1 --\n"
     ]
    },
    {
     "name": "stderr",
     "output_type": "stream",
     "text": [
      "v ggplot2 3.1.1       v purrr   0.3.2  \n",
      "v tibble  2.1.1       v dplyr   0.8.0.1\n",
      "v tidyr   0.8.3       v stringr 1.4.0  \n",
      "v readr   1.3.1       v forcats 0.4.0  \n"
     ]
    },
    {
     "name": "stderr",
     "output_type": "stream",
     "text": [
      "-- Conflicts ------------------------------------------ tidyverse_conflicts() --\n",
      "x dplyr::filter() masks stats::filter()\n",
      "x dplyr::lag()    masks stats::lag()\n"
     ]
    },
    {
     "name": "stderr",
     "output_type": "stream",
     "text": [
      "\n",
      "Attaching package: 'kableExtra'\n",
      "\n"
     ]
    },
    {
     "name": "stderr",
     "output_type": "stream",
     "text": [
      "The following object is masked from 'package:dplyr':\n",
      "\n",
      "    group_rows\n",
      "\n"
     ]
    },
    {
     "name": "stderr",
     "output_type": "stream",
     "text": [
      "Loading required package: lattice\n"
     ]
    },
    {
     "name": "stderr",
     "output_type": "stream",
     "text": [
      "\n",
      "Attaching package: 'caret'\n",
      "\n"
     ]
    },
    {
     "name": "stderr",
     "output_type": "stream",
     "text": [
      "The following object is masked from 'package:purrr':\n",
      "\n",
      "    lift\n",
      "\n"
     ]
    }
   ],
   "source": [
    "options(warn=-1)\n",
    "options(readr.num_columns = 0)\n",
    "\n",
    "library(tidyverse)\n",
    "library(kableExtra)\n",
    "library(ggplot2)\n",
    "library(caret)\n",
    "library(class)\n",
    "\n",
    "churn <- read_csv(\"../_build/data/churn_train.csv\")"
   ]
  },
  {
   "cell_type": "markdown",
   "id": "90d120aa",
   "metadata": {},
   "source": [
    "# The Bias-Variance Tradeoff\n",
    "\n",
    "An open question from the previous section is how to choose the value of the hyperparameter $k$. To explore this, let's return to the simplified `churn` data set, which only has 100 observations and two independent features (`total_intl_charge` and `account_length`). \n",
    "\n",
    "To visualize the kNN model when $k$ equals five, we can plot the **decision boundary** of our model on this data, or the line that partitions the feature space into two classes. In the plot below, the area shaded in red represents points where a majority of the five nearest neighbors churned. Similarly, the area shaded in blue represents points where a majority of the five nearest neighbors did *not* churn. Therefore, this plot shows how our kNN model separates the data into two classes."
   ]
  },
  {
   "cell_type": "code",
   "execution_count": 2,
   "id": "3a8a4fa2",
   "metadata": {
    "tags": [
     "remove-input"
    ]
   },
   "outputs": [
    {
     "data": {
      "image/png": "[encoded data removed]",
      "text/plain": [
       "Plot with title \"k = 5\""
      ]
     },
     "metadata": {
      "filenames": {
       "image/png": "C:\\Users\\phamilton\\Documents\\dsm\\dsm_book\\_build\\jupyter_execute\\08_knn\\bias_variance_2_0.png"
      }
     },
     "output_type": "display_data"
    }
   ],
   "source": [
    "churnSample <- read_csv(\"../_build/data/churn_sample.csv\")\n",
    "churnSample$account_length <- (churnSample$account_length - min(churnSample$account_length)) / (max(churnSample$account_length) - min(churnSample$account_length))\n",
    "churnSample$total_intl_charge <- (churnSample$total_intl_charge - min(churnSample$total_intl_charge)) / (max(churnSample$total_intl_charge) - min(churnSample$total_intl_charge))\n",
    "# get the range of x1 and x2\n",
    "rx1 <- range(churnSample$account_length)\n",
    "rx2 <- range(churnSample$total_intl_charge)\n",
    "# get lattice points in predictor space\n",
    "px1 <- seq(from = rx1[1], to = rx1[2], by = 0.015 )\n",
    "px2 <- seq(from = rx2[1], to = rx2[2], by = 0.015 )\n",
    "xnew <- expand.grid(x1 = px1, x2 = px2)\n",
    "\n",
    "# get the contour map\n",
    "k=5\n",
    "knnK <- knn(train = churnSample[,1:2], test = xnew, cl = churnSample$churn, k = k, prob = TRUE)\n",
    "prob <- attr(knnK, \"prob\")\n",
    "prob <- ifelse(knnK==\"1\", prob, 1-prob)\n",
    "probK <- matrix(prob, nrow = length(px1), ncol = length(px2))\n",
    "\n",
    "# Figure 2.2\n",
    "#par(mar = rep(2,4))\n",
    "contour(px1, px2, probK, levels=0.5, labels=\"\", xlab=\"account_length\", ylab=\"total_intl_charge\", axes=FALSE)\n",
    "points(churnSample[,1:2], col=ifelse(churnSample[,3]==1, \"#F8766D\", \"#00BFC4\"),\n",
    "       pch=ifelse(churnSample[,3]==1, 19, 17))\n",
    "points(xnew, pch=\".\", cex=1.2, col=ifelse(probK>0.5, \"#F8766D\", \"#00BFC4\"),\n",
    "       shape=ifelse(churnSample[,3]==1, \"a\", \"b\"))\n",
    "title(xlab=\"account_length\", ylab=\"total_intl_charge\", main=paste0(\"k = \", k))\n",
    "box()"
   ]
  },
  {
   "cell_type": "markdown",
   "id": "3860412b",
   "metadata": {},
   "source": [
    "Now observe what happens if we run the model with a $k$ of one instead. By decreasing the value of $k$, we have increased the \"sensitivity\" of the model. In other words, the decision boundary now contorts itself so that every single point in the data set lies in the correct region; there is not a single misclassified observation. Compare that to the model when $k$ equals five, where the decision boundary is less flexible and there are some observations in the wrong region."
   ]
  },
  {
   "cell_type": "code",
   "execution_count": 3,
   "id": "da545c76",
   "metadata": {
    "tags": [
     "remove-input"
    ]
   },
   "outputs": [
    {
     "data": {
      "image/png": "[encoded data removed]",
      "text/plain": [
       "Plot with title \"k = 1\""
      ]
     },
     "metadata": {
      "filenames": {
       "image/png": "C:\\Users\\phamilton\\Documents\\dsm\\dsm_book\\_build\\jupyter_execute\\08_knn\\bias_variance_4_0.png"
      }
     },
     "output_type": "display_data"
    }
   ],
   "source": [
    "k=1\n",
    "knnK <- knn(train = churnSample[,1:2], test = xnew, cl = churnSample$churn, k = k, prob = TRUE)\n",
    "prob <- attr(knnK, \"prob\")\n",
    "prob <- ifelse(knnK==\"1\", prob, 1-prob)\n",
    "probK <- matrix(prob, nrow = length(px1), ncol = length(px2))\n",
    "\n",
    "# Figure 2.2\n",
    "#par(mar = rep(2,4))\n",
    "contour(px1, px2, probK, levels=0.5, labels=\"\", xlab=\"account_length\", ylab=\"total_intl_charge\", axes=FALSE)\n",
    "points(churnSample[,1:2], col=ifelse(churnSample[,3]==1, \"#F8766D\", \"#00BFC4\"),\n",
    "       pch=ifelse(churnSample[,3]==1, 19, 17))\n",
    "points(xnew, pch=\".\", cex=1.2, col=ifelse(probK>0.5, \"#F8766D\", \"#00BFC4\"),\n",
    "       shape=ifelse(churnSample[,3]==1, \"a\", \"b\"))\n",
    "title(xlab=\"account_length\", ylab=\"total_intl_charge\", main=paste0(\"k = \", k))\n",
    "box()"
   ]
  },
  {
   "cell_type": "markdown",
   "id": "fe37f19b",
   "metadata": {},
   "source": [
    "Finally, let's see the decision boundary when we set $k$ to twenty. Now the model seems much more inflexible - the boundary is almost a straight line and does not closely adhere to any individual point."
   ]
  },
  {
   "cell_type": "code",
   "execution_count": 4,
   "id": "3ea8cc6c",
   "metadata": {
    "tags": [
     "remove-input"
    ]
   },
   "outputs": [
    {
     "data": {
      "image/png": "[encoded data removed]",
      "text/plain": [
       "Plot with title \"k = 20\""
      ]
     },
     "metadata": {
      "filenames": {
       "image/png": "C:\\Users\\phamilton\\Documents\\dsm\\dsm_book\\_build\\jupyter_execute\\08_knn\\bias_variance_6_0.png"
      }
     },
     "output_type": "display_data"
    }
   ],
   "source": [
    "k=20\n",
    "knnK <- knn(train = churnSample[,1:2], test = xnew, cl = churnSample$churn, k = k, prob = TRUE)\n",
    "prob <- attr(knnK, \"prob\")\n",
    "prob <- ifelse(knnK==\"1\", prob, 1-prob)\n",
    "probK <- matrix(prob, nrow = length(px1), ncol = length(px2))\n",
    "\n",
    "# Figure 2.2\n",
    "#par(mar = rep(2,4))\n",
    "contour(px1, px2, probK, levels=0.5, labels=\"\", xlab=\"account_length\", ylab=\"total_intl_charge\", axes=FALSE)\n",
    "points(churnSample[,1:2], col=ifelse(churnSample[,3]==1, \"#F8766D\", \"#00BFC4\"),\n",
    "       pch=ifelse(churnSample[,3]==1, 19, 17))\n",
    "points(xnew, pch=\".\", cex=1.2, col=ifelse(probK>0.5, \"#F8766D\", \"#00BFC4\"),\n",
    "       shape=ifelse(churnSample[,3]==1, \"a\", \"b\"))\n",
    "title(xlab=\"account_length\", ylab=\"total_intl_charge\", main=paste0(\"k = \", k))\n",
    "box()"
   ]
  },
  {
   "cell_type": "markdown",
   "id": "96e4ab78",
   "metadata": {},
   "source": [
    "Which one of these scenarios is best? It may be tempting to assume that the best model is the one where $k$ equals one. After all, this model provides the closest fit to the data. However, this is often not the case due to a principle known as the bias-variance tradeoff. The **bias-variance tradeoff** refers to the tension between how closely a model fits its training data, versus how well it generalizes to unseen data. \n",
    "\n",
    "For the kNN algorithm, the closest fit is achieved when $k$ equals one. The primary issue is that this fit is likely *too* close. When $k$ is very low, the model may be so flexible that it starts to pick up on the random idiosyncrasies of the training data. Remember that we are building our model on a sample of data, and the information that sample provides is a combination of **signal** and **noise**. The signal of the sample reflects the true, underlying relationships between the variables of interest. This information is generalizable to other observations not in our sample, and is therefore useful for building our predictive model. The noise of the sample refers to the random variation that is unique to the particular observations in the training data. When a model starts to fit the noise of a sample, we say that it is **overfitting** the data. \n",
    "\n",
    "Access the web application below to further explore the overfitting and the bias-variance tradeoff.\n",
    "\n",
    "<a href=\"https://hbs-data-science.shinyapps.io/overfitting/\" class=\"btn btn-primary\" style=\"color:white;\" target=\"_blank\">Launch Application!</a>\n",
    "\n",
    "Ultimately we want our model to be flexible enough that it can pick up the signal in the sample, but not so flexible that it starts to pick up on the noise. This is the essence of the bias-variance tradeoff. What, then, is the value of $k$ that correctly balances this tradeoff? Unfortunately, there is no single correct answer. The right value for $k$ depends on the properties of the data set one is working with. Therefore, data scientists typically divide their data up into train and validation sets to test different values of $k$, according to a variety of performance metrics. This process is described in the next chapter."
   ]
  }
 ],
 "metadata": {
  "jupytext": {
   "cell_metadata_filter": "-all",
   "formats": "md:myst",
   "text_representation": {
    "extension": ".md",
    "format_name": "myst",
    "format_version": 0.13,
    "jupytext_version": "1.11.5"
   }
  },
  "kernelspec": {
   "display_name": "R",
   "language": "R",
   "name": "ir"
  },
  "language_info": {
   "codemirror_mode": "r",
   "file_extension": ".r",
   "mimetype": "text/x-r-source",
   "name": "R",
   "pygments_lexer": "r",
   "version": "3.6.1"
  },
  "source_map": [
   16,
   29,
   37,
   66,
   70,
   87,
   91,
   108
  ]
 },
 "nbformat": 4,
 "nbformat_minor": 5
}