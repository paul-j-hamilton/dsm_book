{
 "cells": [
  {
   "cell_type": "markdown",
   "id": "f9d2a103",
   "metadata": {},
   "source": [
    "# Assignment\n",
    "\n",
    "When you work with data in Excel, each value in your data set is stored in an individual cell, and each one of those cells has a unique name made up of a letter and a number. For example, in the figure below, cell A2 stores the number `110,000`, cell B3 stores the text `\"Operations\"`, etc.\n",
    "\n",
    "```{figure} ../../_build/images/Excel_Example.png\n",
    "---\n",
    "height: 200px\n",
    "name: excel1\n",
    "---\n",
    "Example Excel Worksheet\n",
    "```\n",
    "\n",
    "Once you have data stored in cells, you can apply formulas to those cells by referencing the cell names. For example, if you ran `=SUM(A2:A7)`, Excel would sum the salaries of all employees in the data set. If this example is framiliar to you, you already understand the basics of R programming!\n",
    "\n",
    "To learn how to code in R, you do not need a complete understanding of how the language is designed. However, you should know that everything you create in an R program is referred to as an **object**. Every object you create belongs to one of several **classes**, which determines the properties and attributes of the object.\n",
    "\n",
    "To see what this means in concrete terms, let’s take a look at some R code. In the code below, we create an object called `A2`, which contains the value `110000`. We can create objects (or **variables**) with the **assignment operator** `<-`. When we run this line of code, we create an object called `A2` that stores the value `110000`. Think of this as similar to entering the value `110000` into cell `A2` in an Excel worksheet."
   ]
  },
  {
   "cell_type": "code",
   "execution_count": 1,
   "id": "93a5c85e",
   "metadata": {},
   "outputs": [],
   "source": [
    "A2 <- 110000"
   ]
  },
  {
   "cell_type": "markdown",
   "id": "9f30a0cf",
   "metadata": {},
   "source": [
    "This code does not produce any output; all we are doing is storing the value `11000` in a variable called `A2`, so there are no results to print out. If we want to see what’s stored in our variable, we can simply run a line of code with the name of the variable and R will output its contents."
   ]
  },
  {
   "cell_type": "code",
   "execution_count": 2,
   "id": "37494b4e",
   "metadata": {
    "tags": [
     "remove-output"
    ]
   },
   "outputs": [
    {
     "data": {
      "text/html": [
       "110000"
      ],
      "text/latex": [
       "110000"
      ],
      "text/markdown": [
       "110000"
      ],
      "text/plain": [
       "[1] 110000"
      ]
     },
     "metadata": {},
     "output_type": "display_data"
    }
   ],
   "source": [
    "A2"
   ]
  },
  {
   "cell_type": "code",
   "execution_count": 3,
   "id": "309f5903",
   "metadata": {
    "tags": [
     "remove-input"
    ]
   },
   "outputs": [
    {
     "name": "stdout",
     "output_type": "stream",
     "text": [
      "[1] 110000\n"
     ]
    }
   ],
   "source": [
    "print(A2)"
   ]
  },
  {
   "cell_type": "markdown",
   "id": "4ef6efe0",
   "metadata": {},
   "source": [
    "Fortunately, we can be more descriptive with our variable names. We can name our variables anything we want, subject to two rules.\n",
    "\n",
    ":::{note}\n",
    "+ A variable name has to start with a letter and can contain letters, numbers, underscores, and periods.\n",
    "+ A variable cannot have the same name as any of R’s **reserved words**. These are words that already have meaning in the R language. For example, we could not create a variable called `class`, because this word is already being used for the `class()` function in R.\n",
    ":::\n",
    "\n",
    "Below we create some more variables."
   ]
  },
  {
   "cell_type": "code",
   "execution_count": 4,
   "id": "5de508b4",
   "metadata": {
    "tags": [
     "remove-output"
    ]
   },
   "outputs": [
    {
     "data": {
      "text/html": [
       "5.5"
      ],
      "text/latex": [
       "5.5"
      ],
      "text/markdown": [
       "5.5"
      ],
      "text/plain": [
       "[1] 5.5"
      ]
     },
     "metadata": {},
     "output_type": "display_data"
    }
   ],
   "source": [
    "a <- 5.5\n",
    "a"
   ]
  },
  {
   "cell_type": "code",
   "execution_count": 5,
   "id": "bb204b22",
   "metadata": {
    "tags": [
     "remove-input"
    ]
   },
   "outputs": [
    {
     "name": "stdout",
     "output_type": "stream",
     "text": [
      "[1] 5.5\n"
     ]
    }
   ],
   "source": [
    "a <- 5.5\n",
    "print(a)"
   ]
  },
  {
   "cell_type": "markdown",
   "id": "a5b410f3",
   "metadata": {},
   "source": [
    "If you create a variable in R but then want to change its value, you can simply overwrite it with the assignment operator `<-`. Imagine we wanted `a` to store the value `6.5` instead of `5.5`; we can fix it as follows:"
   ]
  },
  {
   "cell_type": "code",
   "execution_count": 6,
   "id": "3374aff8",
   "metadata": {
    "tags": [
     "remove-output"
    ]
   },
   "outputs": [
    {
     "data": {
      "text/html": [
       "6.5"
      ],
      "text/latex": [
       "6.5"
      ],
      "text/markdown": [
       "6.5"
      ],
      "text/plain": [
       "[1] 6.5"
      ]
     },
     "metadata": {},
     "output_type": "display_data"
    }
   ],
   "source": [
    "a <- 6.5\n",
    "a"
   ]
  },
  {
   "cell_type": "code",
   "execution_count": 7,
   "id": "fe7be5b5",
   "metadata": {
    "tags": [
     "remove-input"
    ]
   },
   "outputs": [
    {
     "name": "stdout",
     "output_type": "stream",
     "text": [
      "[1] 6.5\n"
     ]
    }
   ],
   "source": [
    "a <- 6.5\n",
    "print(a)"
   ]
  },
  {
   "cell_type": "markdown",
   "id": "0ff56140",
   "metadata": {},
   "source": [
    "The variables we create can store more than just numbers. We can store text in a variable by surrounding the text with quotation marks (`\"\"`):"
   ]
  },
  {
   "cell_type": "code",
   "execution_count": 8,
   "id": "4618fa43",
   "metadata": {
    "tags": [
     "remove-output"
    ]
   },
   "outputs": [
    {
     "data": {
      "text/html": [
       "'I love DSM!'"
      ],
      "text/latex": [
       "'I love DSM!'"
      ],
      "text/markdown": [
       "'I love DSM!'"
      ],
      "text/plain": [
       "[1] \"I love DSM!\""
      ]
     },
     "metadata": {},
     "output_type": "display_data"
    }
   ],
   "source": [
    "myFirstTextVar <- \"I love DSM!\"\n",
    "myFirstTextVar"
   ]
  },
  {
   "cell_type": "code",
   "execution_count": 9,
   "id": "2e80e032",
   "metadata": {
    "tags": [
     "remove-input"
    ]
   },
   "outputs": [
    {
     "name": "stdout",
     "output_type": "stream",
     "text": [
      "[1] \"I love DSM!\"\n"
     ]
    }
   ],
   "source": [
    "myFirstTextVar <- \"I love DSM!\"\n",
    "print(myFirstTextVar)"
   ]
  },
  {
   "cell_type": "markdown",
   "id": "ecfcf4c5",
   "metadata": {},
   "source": [
    "You'll notice in the code example above that in our variable name, the first letter of each word (except the first word) is capitalized. Writing variable names this way is a convention known as **camel case**, and although it is not required, we recommend it to keep your R code easily readable. \n",
    "\n",
    "Before moving on to the next section, work through the two questions below. \n",
    "\n",
    "---\n",
    "\n",
    "<iframe src=\"https://hbs-data-science.shinyapps.io/assignment/\" width=\"800\" height=\"800\" frameborder=\"0\" marginheight=\"0\" marginwidth=\"0\"  scrolling=\"no\">Loading…</iframe>"
   ]
  }
 ],
 "metadata": {
  "jupytext": {
   "cell_metadata_filter": "-all",
   "formats": "md:myst",
   "text_representation": {
    "extension": ".md",
    "format_name": "myst",
    "format_version": 0.13,
    "jupytext_version": "1.11.5"
   }
  },
  "kernelspec": {
   "display_name": "R",
   "language": "R",
   "name": "ir"
  },
  "language_info": {
   "codemirror_mode": "r",
   "file_extension": ".r",
   "mimetype": "text/x-r-source",
   "name": "R",
   "pygments_lexer": "r",
   "version": "3.6.1"
  },
  "source_map": [
   14,
   34,
   36,
   40,
   45,
   48,
   59,
   65,
   69,
   73,
   79,
   83,
   87,
   93,
   97
  ]
 },
 "nbformat": 4,
 "nbformat_minor": 5
}