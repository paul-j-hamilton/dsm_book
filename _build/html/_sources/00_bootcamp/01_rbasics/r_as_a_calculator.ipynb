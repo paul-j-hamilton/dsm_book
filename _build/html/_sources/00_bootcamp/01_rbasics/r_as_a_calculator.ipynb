{
 "cells": [
  {
   "cell_type": "markdown",
   "id": "9920c695",
   "metadata": {},
   "source": [
    "# R as a Calculator\n",
    "\n",
    "At its most basic, R can be used as a calculator. As you would expect, you can use all the standard mathematical operators:\n",
    "\n",
    "+ Addition (`+`) & Subtraction (`-`)\n",
    "+ Multiplication (`*`) & Division (`/`)\n",
    "+ Exponentiation (`^`)"
   ]
  },
  {
   "cell_type": "code",
   "execution_count": 1,
   "id": "a6492560",
   "metadata": {
    "tags": [
     "remove-output"
    ]
   },
   "outputs": [
    {
     "data": {
      "text/html": [
       "4"
      ],
      "text/latex": [
       "4"
      ],
      "text/markdown": [
       "4"
      ],
      "text/plain": [
       "[1] 4"
      ]
     },
     "metadata": {},
     "output_type": "display_data"
    }
   ],
   "source": [
    "2 + 2"
   ]
  },
  {
   "cell_type": "code",
   "execution_count": 2,
   "id": "3e170041",
   "metadata": {
    "tags": [
     "remove-input"
    ]
   },
   "outputs": [
    {
     "name": "stdout",
     "output_type": "stream",
     "text": [
      "[1] 4\n"
     ]
    }
   ],
   "source": [
    "print(2 + 2)"
   ]
  },
  {
   "cell_type": "code",
   "execution_count": 3,
   "id": "7620ae0d",
   "metadata": {
    "tags": [
     "remove-output"
    ]
   },
   "outputs": [
    {
     "data": {
      "text/html": [
       "5"
      ],
      "text/latex": [
       "5"
      ],
      "text/markdown": [
       "5"
      ],
      "text/plain": [
       "[1] 5"
      ]
     },
     "metadata": {},
     "output_type": "display_data"
    }
   ],
   "source": [
    "100 / 20"
   ]
  },
  {
   "cell_type": "code",
   "execution_count": 4,
   "id": "6e590734",
   "metadata": {
    "tags": [
     "remove-input"
    ]
   },
   "outputs": [
    {
     "name": "stdout",
     "output_type": "stream",
     "text": [
      "[1] 5\n"
     ]
    }
   ],
   "source": [
    "print(100 / 20)"
   ]
  },
  {
   "cell_type": "code",
   "execution_count": 5,
   "id": "a4a09ed1",
   "metadata": {
    "tags": [
     "remove-output"
    ]
   },
   "outputs": [
    {
     "data": {
      "text/html": [
       "27"
      ],
      "text/latex": [
       "27"
      ],
      "text/markdown": [
       "27"
      ],
      "text/plain": [
       "[1] 27"
      ]
     },
     "metadata": {},
     "output_type": "display_data"
    }
   ],
   "source": [
    "3 ^ 3"
   ]
  },
  {
   "cell_type": "code",
   "execution_count": 6,
   "id": "5cdfed7a",
   "metadata": {
    "tags": [
     "remove-input"
    ]
   },
   "outputs": [
    {
     "name": "stdout",
     "output_type": "stream",
     "text": [
      "[1] 27\n"
     ]
    }
   ],
   "source": [
    "print(3 ^ 3)"
   ]
  },
  {
   "cell_type": "markdown",
   "id": "4c92417f",
   "metadata": {},
   "source": [
    "---\n",
    "\n",
    "<iframe src=\"https://hbs-data-science.shinyapps.io/r_as_a_calculator/\" width=\"800\" height=\"350\" frameborder=\"0\" marginheight=\"0\" marginwidth=\"0\"  scrolling=\"no\">Loading…</iframe>\n",
    "\n",
    "---\n",
    "\n",
    "Of course, R is much more than a simple calculator! In the following sections, you'll learn the building blocks of R that we'll rely on throughout the entire course."
   ]
  }
 ],
 "metadata": {
  "jupytext": {
   "cell_metadata_filter": "-all",
   "formats": "md:myst",
   "text_representation": {
    "extension": ".md",
    "format_name": "myst",
    "format_version": 0.13,
    "jupytext_version": "1.11.5"
   }
  },
  "kernelspec": {
   "display_name": "R",
   "language": "R",
   "name": "ir"
  },
  "language_info": {
   "codemirror_mode": "r",
   "file_extension": ".r",
   "mimetype": "text/x-r-source",
   "name": "R",
   "pygments_lexer": "r",
   "version": "3.6.1"
  },
  "source_map": [
   14,
   24,
   29,
   34,
   39,
   44,
   49,
   52
  ]
 },
 "nbformat": 4,
 "nbformat_minor": 5
}