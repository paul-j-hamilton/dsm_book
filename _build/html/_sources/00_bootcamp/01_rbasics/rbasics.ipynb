{
 "cells": [
  {
   "cell_type": "markdown",
   "id": "3b05bdf4",
   "metadata": {},
   "source": [
    "# R Basics\n",
    "\n",
    "This chapter provides an introduction to the very basics of R (and coding in general). By the end, you will be familiar with all of the following concepts:\n",
    "\n",
    "+ R as a Calculator\n",
    "+ Assignment\n",
    "+ Data Types\n",
    "+ Atomic Vectors\n",
    "+ Functions\n",
    "\n",
    "If you already have experience with coding and/or the R language, you may skip this chapter. However, you must still successfully complete the quizzes throughout to get credit.\n",
    "\n",
    "```{warning}\n",
    "To get credit for the R Bootcamp, you must complete the three quizzes throughout this section ([R Basics](rbasics.html#r-basics)) and the next ([Data Frames](../02_dataframes/dataframes.html#data-frames)).\n",
    "```"
   ]
  }
 ],
 "metadata": {
  "jupytext": {
   "cell_metadata_filter": "-all",
   "formats": "md:myst",
   "text_representation": {
    "extension": ".md",
    "format_name": "myst",
    "format_version": 0.13,
    "jupytext_version": "1.11.5"
   }
  },
  "kernelspec": {
   "display_name": "R",
   "language": "R",
   "name": "ir"
  },
  "language_info": {
   "codemirror_mode": "r",
   "file_extension": ".r",
   "mimetype": "text/x-r-source",
   "name": "R",
   "pygments_lexer": "r",
   "version": "3.6.1"
  },
  "source_map": [
   14
  ]
 },
 "nbformat": 4,
 "nbformat_minor": 5
}