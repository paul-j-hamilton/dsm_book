{
 "cells": [
  {
   "cell_type": "code",
   "execution_count": 1,
   "id": "67663bab",
   "metadata": {
    "tags": [
     "remove-cell"
    ]
   },
   "outputs": [
    {
     "name": "stderr",
     "output_type": "stream",
     "text": [
      "Registered S3 methods overwritten by 'ggplot2':\n",
      "  method         from \n",
      "  [.quosures     rlang\n",
      "  c.quosures     rlang\n",
      "  print.quosures rlang\n"
     ]
    },
    {
     "name": "stderr",
     "output_type": "stream",
     "text": [
      "Registered S3 method overwritten by 'rvest':\n",
      "  method            from\n",
      "  read_xml.response xml2\n"
     ]
    },
    {
     "name": "stderr",
     "output_type": "stream",
     "text": [
      "-- Attaching packages --------------------------------------- tidyverse 1.2.1 --\n"
     ]
    },
    {
     "name": "stderr",
     "output_type": "stream",
     "text": [
      "v ggplot2 3.1.1       v purrr   0.3.2  \n",
      "v tibble  2.1.1       v dplyr   0.8.0.1\n",
      "v tidyr   0.8.3       v stringr 1.4.0  \n",
      "v readr   1.3.1       v forcats 0.4.0  \n"
     ]
    },
    {
     "name": "stderr",
     "output_type": "stream",
     "text": [
      "-- Conflicts ------------------------------------------ tidyverse_conflicts() --\n",
      "x dplyr::filter() masks stats::filter()\n",
      "x dplyr::lag()    masks stats::lag()\n"
     ]
    },
    {
     "name": "stderr",
     "output_type": "stream",
     "text": [
      "Parsed with column specification:\n",
      "cols(\n",
      "  ID = col_double(),\n",
      "  Name = col_character(),\n",
      "  Gender = col_character(),\n",
      "  Age = col_double(),\n",
      "  Rating = col_double(),\n",
      "  Degree = col_character(),\n",
      "  Start_Date = col_character(),\n",
      "  Retired = col_logical(),\n",
      "  Division = col_character(),\n",
      "  Salary = col_character()\n",
      ")\n"
     ]
    }
   ],
   "source": [
    "library(tidyverse)\n",
    "employees <- read_csv(\"../../_build/data/employee_data.csv\")"
   ]
  },
  {
   "cell_type": "markdown",
   "id": "bf652f32",
   "metadata": {},
   "source": [
    "# Data Frame Basics\n",
    "\n",
    "Now that our employee data has been read into a data frame, we can begin exploring the data! We will start by exploring the dimensions of the data set. We can determine the **n**umber of **rows** (or observations) in our data set with the `nrow()` function:\n",
    "\n",
    "```{admonition} Syntax\n",
    "`nrow(x)`\n",
    "+ *Required arguments*\n",
    "  + `x`: A data frame.\n",
    "```"
   ]
  },
  {
   "cell_type": "code",
   "execution_count": 2,
   "id": "235b805d",
   "metadata": {
    "tags": [
     "remove-output"
    ]
   },
   "outputs": [
    {
     "data": {
      "text/html": [
       "1000"
      ],
      "text/latex": [
       "1000"
      ],
      "text/markdown": [
       "1000"
      ],
      "text/plain": [
       "[1] 1000"
      ]
     },
     "metadata": {},
     "output_type": "display_data"
    }
   ],
   "source": [
    "nrow(employees)"
   ]
  },
  {
   "cell_type": "code",
   "execution_count": 3,
   "id": "d1b52210",
   "metadata": {
    "tags": [
     "remove-input"
    ]
   },
   "outputs": [
    {
     "name": "stdout",
     "output_type": "stream",
     "text": [
      "[1] 1000\n"
     ]
    }
   ],
   "source": [
    "print(nrow(employees))"
   ]
  },
  {
   "cell_type": "markdown",
   "id": "a1efe5db",
   "metadata": {},
   "source": [
    "Similarly, we can use `ncol()` to determine the **n**umber of **col**umns:\n",
    "\n",
    "```{admonition} Syntax\n",
    "`ncol(x)`\n",
    "+ *Required arguments*\n",
    "  + `x`: A data frame.\n",
    "```"
   ]
  },
  {
   "cell_type": "code",
   "execution_count": 4,
   "id": "018d4ae1",
   "metadata": {
    "tags": [
     "remove-output"
    ]
   },
   "outputs": [
    {
     "data": {
      "text/html": [
       "10"
      ],
      "text/latex": [
       "10"
      ],
      "text/markdown": [
       "10"
      ],
      "text/plain": [
       "[1] 10"
      ]
     },
     "metadata": {},
     "output_type": "display_data"
    }
   ],
   "source": [
    "ncol(employees)"
   ]
  },
  {
   "cell_type": "code",
   "execution_count": 5,
   "id": "3e7eda3d",
   "metadata": {
    "tags": [
     "remove-input"
    ]
   },
   "outputs": [
    {
     "name": "stdout",
     "output_type": "stream",
     "text": [
      "[1] 10\n"
     ]
    }
   ],
   "source": [
    "print(ncol(employees))"
   ]
  },
  {
   "cell_type": "markdown",
   "id": "eb987c9e",
   "metadata": {},
   "source": [
    "The `dim()` function returns the full **dim**ensions of the data (*i.e.*, both the number of rows and columns):\n",
    "\n",
    "```{admonition} Syntax\n",
    "`dim(x)`\n",
    "+ *Required arguments*\n",
    "  + `x`: A data frame.\n",
    "```"
   ]
  },
  {
   "cell_type": "code",
   "execution_count": 6,
   "id": "e7324edb",
   "metadata": {
    "tags": [
     "remove-output"
    ]
   },
   "outputs": [
    {
     "data": {
      "text/html": [
       "<ol class=list-inline>\n",
       "\t<li>1000</li>\n",
       "\t<li>10</li>\n",
       "</ol>\n"
      ],
      "text/latex": [
       "\\begin{enumerate*}\n",
       "\\item 1000\n",
       "\\item 10\n",
       "\\end{enumerate*}\n"
      ],
      "text/markdown": [
       "1. 1000\n",
       "2. 10\n",
       "\n",
       "\n"
      ],
      "text/plain": [
       "[1] 1000   10"
      ]
     },
     "metadata": {},
     "output_type": "display_data"
    }
   ],
   "source": [
    "dim(employees)"
   ]
  },
  {
   "cell_type": "code",
   "execution_count": 7,
   "id": "96450ec6",
   "metadata": {
    "tags": [
     "remove-input"
    ]
   },
   "outputs": [
    {
     "name": "stdout",
     "output_type": "stream",
     "text": [
      "[1] 1000   10\n"
     ]
    }
   ],
   "source": [
    "print(dim(employees))"
   ]
  },
  {
   "cell_type": "markdown",
   "id": "3d00355f",
   "metadata": {},
   "source": [
    "We can view the first and last few rows of the data set with the `head()` and `tail()` functions, respectively:\n",
    "\n",
    "```{admonition} Syntax\n",
    "`head(x)` & `tail(x)`\n",
    "+ *Required arguments*\n",
    "  + `x`: A data frame.\n",
    "```"
   ]
  },
  {
   "cell_type": "code",
   "execution_count": 8,
   "id": "1b709e5e",
   "metadata": {},
   "outputs": [
    {
     "data": {
      "text/html": [
       "<table>\n",
       "<thead><tr><th scope=col>ID</th><th scope=col>Name</th><th scope=col>Gender</th><th scope=col>Age</th><th scope=col>Rating</th><th scope=col>Degree</th><th scope=col>Start_Date</th><th scope=col>Retired</th><th scope=col>Division</th><th scope=col>Salary</th></tr></thead>\n",
       "<tbody>\n",
       "\t<tr><td>6881               </td><td>al-Rahimi, Tayyiba </td><td>Female             </td><td>51                 </td><td>10                 </td><td>High School        </td><td>2/23/1990          </td><td>FALSE              </td><td>Operations         </td><td>$108,804           </td></tr>\n",
       "\t<tr><td>2671               </td><td>Lewis, Austin      </td><td>Male               </td><td>34                 </td><td> 4                 </td><td>Ph.D               </td><td>2/23/2007          </td><td>FALSE              </td><td>Engineering        </td><td>$182,343           </td></tr>\n",
       "\t<tr><td>8925               </td><td>el-Jaffer, Manaal  </td><td>Female             </td><td>50                 </td><td>10                 </td><td>Master's           </td><td>2/23/1991          </td><td>FALSE              </td><td>Engineering        </td><td>$206,770           </td></tr>\n",
       "\t<tr><td>2769               </td><td>Soto, Michael      </td><td>Male               </td><td>52                 </td><td>10                 </td><td>High School        </td><td>2/23/1987          </td><td>FALSE              </td><td>Sales              </td><td>$183,407           </td></tr>\n",
       "\t<tr><td>2658               </td><td>al-Ebrahimi, Mamoon</td><td>Male               </td><td>55                 </td><td> 8                 </td><td>Ph.D               </td><td>2/23/1985          </td><td>FALSE              </td><td>Corporate          </td><td>$236,240           </td></tr>\n",
       "\t<tr><td>1933               </td><td>Medina, Brandy     </td><td>Female             </td><td>62                 </td><td> 7                 </td><td>Associate's        </td><td>2/23/1979          </td><td> TRUE              </td><td>Sales              </td><td>NA                 </td></tr>\n",
       "</tbody>\n",
       "</table>\n"
      ],
      "text/latex": [
       "\\begin{tabular}{r|llllllllll}\n",
       " ID & Name & Gender & Age & Rating & Degree & Start\\_Date & Retired & Division & Salary\\\\\n",
       "\\hline\n",
       "\t 6881                & al-Rahimi, Tayyiba  & Female              & 51                  & 10                  & High School         & 2/23/1990           & FALSE               & Operations          & \\$108,804         \\\\\n",
       "\t 2671                & Lewis, Austin       & Male                & 34                  &  4                  & Ph.D                & 2/23/2007           & FALSE               & Engineering         & \\$182,343         \\\\\n",
       "\t 8925                & el-Jaffer, Manaal   & Female              & 50                  & 10                  & Master's            & 2/23/1991           & FALSE               & Engineering         & \\$206,770         \\\\\n",
       "\t 2769                & Soto, Michael       & Male                & 52                  & 10                  & High School         & 2/23/1987           & FALSE               & Sales               & \\$183,407         \\\\\n",
       "\t 2658                & al-Ebrahimi, Mamoon & Male                & 55                  &  8                  & Ph.D                & 2/23/1985           & FALSE               & Corporate           & \\$236,240         \\\\\n",
       "\t 1933                & Medina, Brandy      & Female              & 62                  &  7                  & Associate's         & 2/23/1979           &  TRUE               & Sales               & NA                 \\\\\n",
       "\\end{tabular}\n"
      ],
      "text/markdown": [
       "\n",
       "| ID | Name | Gender | Age | Rating | Degree | Start_Date | Retired | Division | Salary |\n",
       "|---|---|---|---|---|---|---|---|---|---|\n",
       "| 6881                | al-Rahimi, Tayyiba  | Female              | 51                  | 10                  | High School         | 2/23/1990           | FALSE               | Operations          | $108,804            |\n",
       "| 2671                | Lewis, Austin       | Male                | 34                  |  4                  | Ph.D                | 2/23/2007           | FALSE               | Engineering         | $182,343            |\n",
       "| 8925                | el-Jaffer, Manaal   | Female              | 50                  | 10                  | Master's            | 2/23/1991           | FALSE               | Engineering         | $206,770            |\n",
       "| 2769                | Soto, Michael       | Male                | 52                  | 10                  | High School         | 2/23/1987           | FALSE               | Sales               | $183,407            |\n",
       "| 2658                | al-Ebrahimi, Mamoon | Male                | 55                  |  8                  | Ph.D                | 2/23/1985           | FALSE               | Corporate           | $236,240            |\n",
       "| 1933                | Medina, Brandy      | Female              | 62                  |  7                  | Associate's         | 2/23/1979           |  TRUE               | Sales               | NA                  |\n",
       "\n"
      ],
      "text/plain": [
       "  ID   Name                Gender Age Rating Degree      Start_Date Retired\n",
       "1 6881 al-Rahimi, Tayyiba  Female 51  10     High School 2/23/1990  FALSE  \n",
       "2 2671 Lewis, Austin       Male   34   4     Ph.D        2/23/2007  FALSE  \n",
       "3 8925 el-Jaffer, Manaal   Female 50  10     Master's    2/23/1991  FALSE  \n",
       "4 2769 Soto, Michael       Male   52  10     High School 2/23/1987  FALSE  \n",
       "5 2658 al-Ebrahimi, Mamoon Male   55   8     Ph.D        2/23/1985  FALSE  \n",
       "6 1933 Medina, Brandy      Female 62   7     Associate's 2/23/1979   TRUE  \n",
       "  Division    Salary  \n",
       "1 Operations  $108,804\n",
       "2 Engineering $182,343\n",
       "3 Engineering $206,770\n",
       "4 Sales       $183,407\n",
       "5 Corporate   $236,240\n",
       "6 Sales       NA      "
      ]
     },
     "metadata": {},
     "output_type": "display_data"
    }
   ],
   "source": [
    "head(employees)"
   ]
  },
  {
   "cell_type": "code",
   "execution_count": 9,
   "id": "c4a8c534",
   "metadata": {},
   "outputs": [
    {
     "data": {
      "text/html": [
       "<table>\n",
       "<thead><tr><th scope=col>ID</th><th scope=col>Name</th><th scope=col>Gender</th><th scope=col>Age</th><th scope=col>Rating</th><th scope=col>Degree</th><th scope=col>Start_Date</th><th scope=col>Retired</th><th scope=col>Division</th><th scope=col>Salary</th></tr></thead>\n",
       "<tbody>\n",
       "\t<tr><td>6681                </td><td>Bruns, Austin       </td><td>Male                </td><td>41                  </td><td> 8                  </td><td>Ph.D                </td><td>2/23/2002           </td><td>FALSE               </td><td>Engineering         </td><td>$188,656            </td></tr>\n",
       "\t<tr><td>2031                </td><td>Martinez, Caleb     </td><td>Male                </td><td>57                  </td><td> 8                  </td><td>Ph.D                </td><td>2/23/1984           </td><td>FALSE               </td><td>Engineering         </td><td>$218,430            </td></tr>\n",
       "\t<tr><td>2066                </td><td>Gonzales, Alicia    </td><td>Female              </td><td>32                  </td><td> 2                  </td><td>High School         </td><td>2/23/2008           </td><td>FALSE               </td><td>Operations          </td><td>$84,032             </td></tr>\n",
       "\t<tr><td>3239                </td><td>Larson, Trusten     </td><td>Male                </td><td>37                  </td><td> 5                  </td><td>Bachelor's          </td><td>2/23/2002           </td><td>FALSE               </td><td>Human Resources     </td><td>$149,789            </td></tr>\n",
       "\t<tr><td>3717                </td><td>Levy-Minter, Quintin</td><td>Male                </td><td>53                  </td><td>10                  </td><td>Bachelor's          </td><td>2/23/1989           </td><td>FALSE               </td><td>Operations          </td><td>$172,703            </td></tr>\n",
       "\t<tr><td>4209                </td><td>Dena, Gianna        </td><td>Female              </td><td>49                  </td><td> 6                  </td><td>Master's            </td><td>2/23/1991           </td><td>FALSE               </td><td>Accounting          </td><td>$185,445            </td></tr>\n",
       "</tbody>\n",
       "</table>\n"
      ],
      "text/latex": [
       "\\begin{tabular}{r|llllllllll}\n",
       " ID & Name & Gender & Age & Rating & Degree & Start\\_Date & Retired & Division & Salary\\\\\n",
       "\\hline\n",
       "\t 6681                 & Bruns, Austin        & Male                 & 41                   &  8                   & Ph.D                 & 2/23/2002            & FALSE                & Engineering          & \\$188,656          \\\\\n",
       "\t 2031                 & Martinez, Caleb      & Male                 & 57                   &  8                   & Ph.D                 & 2/23/1984            & FALSE                & Engineering          & \\$218,430          \\\\\n",
       "\t 2066                 & Gonzales, Alicia     & Female               & 32                   &  2                   & High School          & 2/23/2008            & FALSE                & Operations           & \\$84,032           \\\\\n",
       "\t 3239                 & Larson, Trusten      & Male                 & 37                   &  5                   & Bachelor's           & 2/23/2002            & FALSE                & Human Resources      & \\$149,789          \\\\\n",
       "\t 3717                 & Levy-Minter, Quintin & Male                 & 53                   & 10                   & Bachelor's           & 2/23/1989            & FALSE                & Operations           & \\$172,703          \\\\\n",
       "\t 4209                 & Dena, Gianna         & Female               & 49                   &  6                   & Master's             & 2/23/1991            & FALSE                & Accounting           & \\$185,445          \\\\\n",
       "\\end{tabular}\n"
      ],
      "text/markdown": [
       "\n",
       "| ID | Name | Gender | Age | Rating | Degree | Start_Date | Retired | Division | Salary |\n",
       "|---|---|---|---|---|---|---|---|---|---|\n",
       "| 6681                 | Bruns, Austin        | Male                 | 41                   |  8                   | Ph.D                 | 2/23/2002            | FALSE                | Engineering          | $188,656             |\n",
       "| 2031                 | Martinez, Caleb      | Male                 | 57                   |  8                   | Ph.D                 | 2/23/1984            | FALSE                | Engineering          | $218,430             |\n",
       "| 2066                 | Gonzales, Alicia     | Female               | 32                   |  2                   | High School          | 2/23/2008            | FALSE                | Operations           | $84,032              |\n",
       "| 3239                 | Larson, Trusten      | Male                 | 37                   |  5                   | Bachelor's           | 2/23/2002            | FALSE                | Human Resources      | $149,789             |\n",
       "| 3717                 | Levy-Minter, Quintin | Male                 | 53                   | 10                   | Bachelor's           | 2/23/1989            | FALSE                | Operations           | $172,703             |\n",
       "| 4209                 | Dena, Gianna         | Female               | 49                   |  6                   | Master's             | 2/23/1991            | FALSE                | Accounting           | $185,445             |\n",
       "\n"
      ],
      "text/plain": [
       "  ID   Name                 Gender Age Rating Degree      Start_Date Retired\n",
       "1 6681 Bruns, Austin        Male   41   8     Ph.D        2/23/2002  FALSE  \n",
       "2 2031 Martinez, Caleb      Male   57   8     Ph.D        2/23/1984  FALSE  \n",
       "3 2066 Gonzales, Alicia     Female 32   2     High School 2/23/2008  FALSE  \n",
       "4 3239 Larson, Trusten      Male   37   5     Bachelor's  2/23/2002  FALSE  \n",
       "5 3717 Levy-Minter, Quintin Male   53  10     Bachelor's  2/23/1989  FALSE  \n",
       "6 4209 Dena, Gianna         Female 49   6     Master's    2/23/1991  FALSE  \n",
       "  Division        Salary  \n",
       "1 Engineering     $188,656\n",
       "2 Engineering     $218,430\n",
       "3 Operations      $84,032 \n",
       "4 Human Resources $149,789\n",
       "5 Operations      $172,703\n",
       "6 Accounting      $185,445"
      ]
     },
     "metadata": {},
     "output_type": "display_data"
    }
   ],
   "source": [
    "tail(employees)"
   ]
  },
  {
   "cell_type": "markdown",
   "id": "250d83d8",
   "metadata": {},
   "source": [
    "It is easy to get a quick view of the **str**ucture of the data using the `str()` function. This shows the number of observations, the number of variables, the type of each variable, and the first few values of each variable. \n",
    "\n",
    "```{admonition} Syntax\n",
    "`str(x)`\n",
    "+ *Required arguments*\n",
    "  + `x`: A data frame.\n",
    "```"
   ]
  },
  {
   "cell_type": "code",
   "execution_count": 10,
   "id": "6310d7d2",
   "metadata": {
    "tags": [
     "remove-output"
    ]
   },
   "outputs": [
    {
     "name": "stdout",
     "output_type": "stream",
     "text": [
      "Classes 'spec_tbl_df', 'tbl_df', 'tbl' and 'data.frame':\t1000 obs. of  10 variables:\n",
      " $ ID        : num  6881 2671 8925 2769 2658 ...\n",
      " $ Name      : chr  \"al-Rahimi, Tayyiba\" \"Lewis, Austin\" \"el-Jaffer, Manaal\" \"Soto, Michael\" ...\n",
      " $ Gender    : chr  \"Female\" \"Male\" \"Female\" \"Male\" ...\n",
      " $ Age       : num  51 34 50 52 55 62 47 43 27 30 ...\n",
      " $ Rating    : num  10 4 10 10 8 7 8 8 7 6 ...\n",
      " $ Degree    : chr  \"High School\" \"Ph.D\" \"Master's\" \"High School\" ...\n",
      " $ Start_Date: chr  \"2/23/1990\" \"2/23/2007\" \"2/23/1991\" \"2/23/1987\" ...\n",
      " $ Retired   : logi  FALSE FALSE FALSE FALSE FALSE TRUE ...\n",
      " $ Division  : chr  \"Operations\" \"Engineering\" \"Engineering\" \"Sales\" ...\n",
      " $ Salary    : chr  \"$108,804\" \"$182,343\" \"$206,770\" \"$183,407\" ...\n",
      " - attr(*, \"spec\")=\n",
      "  .. cols(\n",
      "  ..   ID = col_double(),\n",
      "  ..   Name = col_character(),\n",
      "  ..   Gender = col_character(),\n",
      "  ..   Age = col_double(),\n",
      "  ..   Rating = col_double(),\n",
      "  ..   Degree = col_character(),\n",
      "  ..   Start_Date = col_character(),\n",
      "  ..   Retired = col_logical(),\n",
      "  ..   Division = col_character(),\n",
      "  ..   Salary = col_character()\n",
      "  .. )\n"
     ]
    }
   ],
   "source": [
    "str(employees)"
   ]
  },
  {
   "cell_type": "code",
   "execution_count": 11,
   "id": "ac5a2583",
   "metadata": {
    "tags": [
     "remove-input"
    ]
   },
   "outputs": [
    {
     "name": "stdout",
     "output_type": "stream",
     "text": [
      "Classes 'spec_tbl_df', 'tbl_df', 'tbl' and 'data.frame':\t1000 obs. of  10 variables:\n",
      " $ ID        : num  6881 2671 8925 2769 2658 ...\n",
      " $ Name      : chr  \"al-Rahimi, Tayyiba\" \"Lewis, Austin\" \"el-Jaffer, Manaal\" \"Soto, Michael\" ...\n",
      " $ Gender    : chr  \"Female\" \"Male\" \"Female\" \"Male\" ...\n",
      " $ Age       : num  51 34 50 52 55 62 47 43 27 30 ...\n",
      " $ Rating    : num  10 4 10 10 8 7 8 8 7 6 ...\n",
      " $ Degree    : chr  \"High School\" \"Ph.D\" \"Master's\" \"High School\" ...\n",
      " $ Start_Date: chr  \"2/23/1990\" \"2/23/2007\" \"2/23/1991\" \"2/23/1987\" ...\n",
      " $ Retired   : logi  FALSE FALSE FALSE FALSE FALSE TRUE ...\n",
      " $ Division  : chr  \"Operations\" \"Engineering\" \"Engineering\" \"Sales\" ...\n",
      " $ Salary    : chr  \"$108,804\" \"$182,343\" \"$206,770\" \"$183,407\" ...\n",
      " - attr(*, \"spec\")=\n",
      "  .. cols(\n",
      "  ..   ID = col_double(),\n",
      "  ..   Name = col_character(),\n",
      "  ..   Gender = col_character(),\n",
      "  ..   Age = col_double(),\n",
      "  ..   Rating = col_double(),\n",
      "  ..   Degree = col_character(),\n",
      "  ..   Start_Date = col_character(),\n",
      "  ..   Retired = col_logical(),\n",
      "  ..   Division = col_character(),\n",
      "  ..   Salary = col_character()\n",
      "  .. )\n",
      "NULL\n"
     ]
    }
   ],
   "source": [
    "print(str(employees))"
   ]
  },
  {
   "cell_type": "markdown",
   "id": "97a98457",
   "metadata": {},
   "source": [
    "After reading in a data set, it is best practice to check the dimensions of the data and explore its structure using the functions shown in this section. This will help uncover any immediate problems with the data.\n",
    "\n",
    "So far we have seen some functions that can applied to an entire data frame. However, we often want to work with an individual column in a data frame. For example, we may be interested in calculating the average `Age` of all employees in the data set. We can access specific columns of a data frame using the `$` operator, which takes the general form:\n",
    "\n",
    "```{admonition} Syntax\n",
    "`dataFrameName$variableName`\n",
    "```\n",
    "\n",
    "If we write `employees$Age`, we will get an atomic vector with the age of the 1,000 employees in the data frame. If you recall from the previous chapter, there are many different functions we can apply to atomic vectors in R. Because `employees$Age` is an atomic vector, we can apply those functions here to explore the `Age` variable. For example, to calculate the mean, minimum, and maximum `Age`, we could write:"
   ]
  },
  {
   "cell_type": "code",
   "execution_count": 12,
   "id": "f2d6e050",
   "metadata": {
    "tags": [
     "remove-output"
    ]
   },
   "outputs": [
    {
     "data": {
      "text/html": [
       "45.53"
      ],
      "text/latex": [
       "45.53"
      ],
      "text/markdown": [
       "45.53"
      ],
      "text/plain": [
       "[1] 45.53"
      ]
     },
     "metadata": {},
     "output_type": "display_data"
    },
    {
     "data": {
      "text/html": [
       "25"
      ],
      "text/latex": [
       "25"
      ],
      "text/markdown": [
       "25"
      ],
      "text/plain": [
       "[1] 25"
      ]
     },
     "metadata": {},
     "output_type": "display_data"
    },
    {
     "data": {
      "text/html": [
       "65"
      ],
      "text/latex": [
       "65"
      ],
      "text/markdown": [
       "65"
      ],
      "text/plain": [
       "[1] 65"
      ]
     },
     "metadata": {},
     "output_type": "display_data"
    }
   ],
   "source": [
    "mean(employees$Age)\n",
    "min(employees$Age)\n",
    "max(employees$Age)"
   ]
  },
  {
   "cell_type": "code",
   "execution_count": 13,
   "id": "e8e6114b",
   "metadata": {
    "tags": [
     "remove-input"
    ]
   },
   "outputs": [
    {
     "name": "stdout",
     "output_type": "stream",
     "text": [
      "[1] 45.53\n"
     ]
    },
    {
     "name": "stdout",
     "output_type": "stream",
     "text": [
      "[1] 25\n"
     ]
    },
    {
     "name": "stdout",
     "output_type": "stream",
     "text": [
      "[1] 65\n"
     ]
    }
   ],
   "source": [
    "print(mean(employees$Age))\n",
    "print(min(employees$Age))\n",
    "print(max(employees$Age))"
   ]
  }
 ],
 "metadata": {
  "jupytext": {
   "cell_metadata_filter": "-all",
   "formats": "md:myst",
   "text_representation": {
    "extension": ".md",
    "format_name": "myst",
    "format_version": 0.13,
    "jupytext_version": "1.11.5"
   }
  },
  "kernelspec": {
   "display_name": "R",
   "language": "R",
   "name": "ir"
  },
  "language_info": {
   "codemirror_mode": "r",
   "file_extension": ".r",
   "mimetype": "text/x-r-source",
   "name": "R",
   "pygments_lexer": "r",
   "version": "3.6.1"
  },
  "source_map": [
   16,
   20,
   32,
   37,
   40,
   50,
   55,
   58,
   68,
   73,
   76,
   86,
   90,
   92,
   102,
   107,
   110,
   122,
   129
  ]
 },
 "nbformat": 4,
 "nbformat_minor": 5
}