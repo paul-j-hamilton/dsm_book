{
 "cells": [
  {
   "cell_type": "markdown",
   "id": "798a82b5",
   "metadata": {},
   "source": [
    "# R Packages\n",
    "\n",
    "Before we get to data frames, we first need to briefly discuss packages in R. \n",
    "\n",
    "In its most basic form, the R language contains a set of commands and functionality that are collectively referred to as **base R**. Any time you run R code, you will always have access to these base commands. However, you can import additional functionality by installing and loading **packages**, which expand what the R language can do. The R community has developed an immense number of packages that can help with nearly any type of analysis you can think of.\n",
    "\n",
    "It is not always clear when to import a package and when to rely on base R. Your repertoire of packages will grow with experience. However, as a first step it would be helpful to review the list of the most popular R packages [here](https://data-flair.training/blogs/list-of-r-packages/). Throughout the book we will showcase a variety of different packages, many of which are on this list. Beyond the book, your best resource is Google - whenever you want to perform a new type of analysis, start by Googling to see if a relevant R package already exists.\n",
    "\n",
    "In general, there are two steps you must complete to use a package in R:\n",
    "\n",
    "1. Install the package using the `install.packages()` function. To use a package in R, that package must be installed on the machine where you are running your code. \n",
    "\n",
    "2. Load the package into your working R session using the `library()` function. Once the package is installed, you need to load it into your R session.\n",
    "\n",
    "Below is the general syntax for installing and loading a package:\n",
    "\n",
    "```{admonition} Syntax\n",
    "`install.packages(\"packageName\")`\n",
    "\n",
    "`library(packageName)`\n",
    "```\n",
    "\n",
    "For example, if we wanted to use the `psych` package (information [here](https://cran.r-project.org/web/packages/psych/index.html)), we would run the following code:"
   ]
  },
  {
   "cell_type": "code",
   "execution_count": 1,
   "id": "a8b79b4f",
   "metadata": {
    "tags": [
     "remove-output"
    ]
   },
   "outputs": [
    {
     "name": "stdout",
     "output_type": "stream",
     "text": [
      "\n",
      "  There is a binary version available but the source version is later:\n",
      "      binary source needs_compilation\n",
      "psych  2.1.3  2.1.9             FALSE\n",
      "\n"
     ]
    },
    {
     "name": "stderr",
     "output_type": "stream",
     "text": [
      "installing the source package 'psych'\n",
      "\n"
     ]
    },
    {
     "name": "stderr",
     "output_type": "stream",
     "text": [
      "Warning message in install.packages(\"psych\"):\n",
      "\"installation of package 'psych' had non-zero exit status\""
     ]
    }
   ],
   "source": [
    "install.packages(\"psych\")  # Install the package\n",
    "library(psych)      # Load the package in the current R session"
   ]
  },
  {
   "cell_type": "markdown",
   "id": "57d13e41",
   "metadata": {},
   "source": [
    "**Note** that in the `install.packages()` function, the package name needs to be in quotation marks (`\"psych\"`), but in the `library()` function it should *not* be in quotation marks.\n",
    "\n",
    "Once a package is installed on a machine, it does not need to be re-installed in the future. This means that if you run your code on the same computer all the time, you will only need to run the `install.packages()` function once (the first time you use the package). Then, each subsequent time you use the package, it will already be installed and you can simply load it with the `library()` function.\n",
    "\n",
    "Every time we introduce a new function that comes from an external package and is not part of base R, we will write the syntax as `package::function()`. For example, the `psych` package contains a useful function called `describe()` that calculates a variety of summary statistics for each variable in a data frame. We would write the syntax of this function as follows:\n",
    "\n",
    "```{admonition} Syntax\n",
    "`psych::describe(x, digits = 2, na.rm = TRUE)`\n",
    "+ *Required arguments*\n",
    "  + `x`: A data frame.\n",
    "+ *Optional arguments*\n",
    "  + `digits`: The number of significant digits to report.\n",
    "  + `na.rm`: Whether to ignore missing values (`NA`).\n",
    "```\n",
    "\n",
    "## The tidyverse\n",
    "\n",
    "Throughout the course, we will rely on a collection of R packages known as the **tidyverse** ([Wickham et al. 2019](https://bookdown.org/hbsabafaculty/ids_book/programming-concepts.html#ref-tidyverse)). The tidyverse packages were designed to create a streamlined workflow in R for data manipulation, exploration, and visualization. Everything that we will do with the tidyverse could be accomplished in base R. However, the tidyverse provides an elegant and efficient workflow that makes many of these tasks significantly easier and more efficient.\n",
    "\n",
    "Because we will use the tidyverse so heavily throughout the course, we will always start by loading the tidyverse into our working R session with:"
   ]
  },
  {
   "cell_type": "code",
   "execution_count": 2,
   "id": "6264d298",
   "metadata": {},
   "outputs": [
    {
     "name": "stderr",
     "output_type": "stream",
     "text": [
      "Registered S3 methods overwritten by 'ggplot2':\n",
      "  method         from \n",
      "  [.quosures     rlang\n",
      "  c.quosures     rlang\n",
      "  print.quosures rlang\n"
     ]
    },
    {
     "name": "stderr",
     "output_type": "stream",
     "text": [
      "Registered S3 method overwritten by 'rvest':\n",
      "  method            from\n",
      "  read_xml.response xml2\n"
     ]
    },
    {
     "name": "stderr",
     "output_type": "stream",
     "text": [
      "-- Attaching packages --------------------------------------- tidyverse 1.2.1 --\n"
     ]
    },
    {
     "name": "stderr",
     "output_type": "stream",
     "text": [
      "v ggplot2 3.1.1       v purrr   0.3.2  \n",
      "v tibble  2.1.1       v dplyr   0.8.0.1\n",
      "v tidyr   0.8.3       v stringr 1.4.0  \n",
      "v readr   1.3.1       v forcats 0.4.0  \n"
     ]
    },
    {
     "name": "stderr",
     "output_type": "stream",
     "text": [
      "-- Conflicts ------------------------------------------ tidyverse_conflicts() --\n",
      "x ggplot2::%+%()   masks psych::%+%()\n",
      "x ggplot2::alpha() masks psych::alpha()\n",
      "x dplyr::filter()  masks stats::filter()\n",
      "x dplyr::lag()     masks stats::lag()\n"
     ]
    }
   ],
   "source": [
    "library(tidyverse)"
   ]
  },
  {
   "cell_type": "markdown",
   "id": "2cdb1291",
   "metadata": {},
   "source": [
    "Loading the `tidyverse` package prints a variety of messages to the screen, which can be ignored. If you fail to load the tidyverse at the start of an R session, you will get an error if you try to use any functions from the tidyverse."
   ]
  }
 ],
 "metadata": {
  "jupytext": {
   "cell_metadata_filter": "-all",
   "formats": "md:myst",
   "text_representation": {
    "extension": ".md",
    "format_name": "myst",
    "format_version": 0.13,
    "jupytext_version": "1.11.5"
   }
  },
  "kernelspec": {
   "display_name": "R",
   "language": "R",
   "name": "ir"
  },
  "language_info": {
   "codemirror_mode": "r",
   "file_extension": ".r",
   "mimetype": "text/x-r-source",
   "name": "R",
   "pygments_lexer": "r",
   "version": "3.6.1"
  },
  "source_map": [
   14,
   40,
   44,
   67,
   69
  ]
 },
 "nbformat": 4,
 "nbformat_minor": 5
}