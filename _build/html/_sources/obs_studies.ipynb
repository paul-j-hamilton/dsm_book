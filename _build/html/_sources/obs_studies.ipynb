{
 "cells": [
  {
   "cell_type": "code",
   "execution_count": 1,
   "id": "b7d226b6",
   "metadata": {
    "tags": [
     "remove-cell"
    ]
   },
   "outputs": [
    {
     "name": "stdout",
     "output_type": "stream",
     "text": [
      "package 'pwr' successfully unpacked and MD5 sums checked\n"
     ]
    },
    {
     "name": "stdout",
     "output_type": "stream",
     "text": [
      "package 'purrr' successfully unpacked and MD5 sums checked\n"
     ]
    },
    {
     "name": "stderr",
     "output_type": "stream",
     "text": [
      "Warning message:\n",
      "\"cannot remove prior installation of package 'purrr'\""
     ]
    },
    {
     "name": "stderr",
     "output_type": "stream",
     "text": [
      "Warning message:\n",
      "\"restored 'purrr'\""
     ]
    },
    {
     "name": "stdout",
     "output_type": "stream",
     "text": [
      "\n",
      "The downloaded binary packages are in\n",
      "\tC:\\Users\\phamilton\\AppData\\Local\\Temp\\RtmpOk4bIA\\downloaded_packages\n"
     ]
    },
    {
     "name": "stderr",
     "output_type": "stream",
     "text": [
      "Warning message:\n",
      "\"package 'pwr' was built under R version 3.6.3\""
     ]
    }
   ],
   "source": [
    "install.packages(c(\"pwr\", \"purrr\"))\n",
    "library(pwr)\n",
    "library(purrr)\n",
    "\n",
    "inv.logit <- function(x) {\n",
    "    1 / (1 + exp(-x))\n",
    "}\n",
    "\n",
    "data_causal_inf <- function(n, tau = 1, b = 2, base = 100) {\n",
    "    ## DGP\n",
    "    age <- rnbinom(n, 10, 0.3)\n",
    "    ps <- inv.logit(0.2*(age- mean(age)))\n",
    "    Y0s <- round(base + b * age + rnorm(n, 0, 3))\n",
    "    Y1s <- round(Y0s + tau)\n",
    "    Z <- map_dbl(ps, ~ sample(c(0,1), 1, F, c(1-., .)))\n",
    "    Y <- Z * Y1s + (1-Z) * Y0s\n",
    "    return(list(age = age, Y = Y, Z = Z, ps = ps))\n",
    "}\n",
    "\n",
    "data_causal_inf_rand_exp <- function(n, tau = 1, b = 2, base = 100) {\n",
    "    ## DGP\n",
    "    age <- rnbinom(n, 10, 0.3)\n",
    "    ps <- inv.logit(0.2*(age- mean(age)))\n",
    "    Y0s <- round(base + b * age + rnorm(n, 0, 3))\n",
    "    Y1s <- round(Y0s + tau)\n",
    "    Z <- rbinom(n, 1, 0.5)\n",
    "    Y <- Z * Y1s + (1-Z) * Y0s\n",
    "    return(list(age = age, Y = Y, Z = Z, ps = ps))\n",
    "}\n",
    "\n",
    "set.seed(7)\n",
    "n <- 500\n",
    "\n",
    "causal_int_obs <- data_causal_inf(n, tau = 0.9123, b = - 1.0314)\n",
    "\n",
    "Age <- causal_int_obs$age; StreamingMinutes <- causal_int_obs$Y; AccountType <- ifelse(causal_int_obs$Z, \"Premium\", \"Free\")\n",
    "musicfi <- data.frame(Age, AccountType, StreamingMinutes)\n",
    "\n",
    "causal_int_obsrand <- data_causal_inf_rand_exp(n=500, tau = 0.9123, b = - 0.5314)\n",
    "\n",
    "Age <- causal_int_obsrand$age; StreamingMinutes <- causal_int_obsrand$Y; AccountType <- ifelse(causal_int_obsrand$Z, \"Premium\", \"Free\")\n",
    "musicfiExp <- data.frame(Age, AccountType, StreamingMinutes)"
   ]
  },
  {
   "cell_type": "markdown",
   "id": "5d41d465",
   "metadata": {},
   "source": [
    "# Observational Studies\n",
    "\n",
    "The vast majority of statistics courses begin and end with the premise that correlation is not causation. But they rarely explain why we can not directly assume that correlation is not causation.\n",
    "\n",
    "Let’s consider a simple example. Imagine you are working as a data scientist for Musicfi, a firm that offers on-demand music streaming services. To keep things simple, let’s assume the firm has two account types: a free account and a premium account. Musicfi’s main measure of customer engagement is the total streaming minutes that measure how many minutes each customer spent on the service per day. As a data scientist, you want to understand your customers, so you decide to perform a simple analysis that compares the total streaming minutes across the two account types. To put this in causal terms:\n",
    "\n",
    "+ Our treatment is having a premium account\n",
    "+ Our control is having a free account\n",
    "+ Our outcome is total streaming minutes\n",
    "\n",
    "Suppose we have a random sample of 500 customers, stored in a data frame called `musicfi`:"
   ]
  },
  {
   "cell_type": "code",
   "execution_count": 2,
   "id": "ddf9aba6",
   "metadata": {},
   "outputs": [
    {
     "data": {
      "text/html": [
       "<table>\n",
       "<thead><tr><th scope=col>Age</th><th scope=col>AccountType</th><th scope=col>StreamingMinutes</th></tr></thead>\n",
       "<tbody>\n",
       "\t<tr><td>33     </td><td>Premium</td><td>63     </td></tr>\n",
       "\t<tr><td>38     </td><td>Premium</td><td>61     </td></tr>\n",
       "\t<tr><td>24     </td><td>Free   </td><td>82     </td></tr>\n",
       "\t<tr><td>28     </td><td>Premium</td><td>72     </td></tr>\n",
       "\t<tr><td>61     </td><td>Premium</td><td>38     </td></tr>\n",
       "\t<tr><td>33     </td><td>Free   </td><td>71     </td></tr>\n",
       "</tbody>\n",
       "</table>\n"
      ],
      "text/latex": [
       "\\begin{tabular}{r|lll}\n",
       " Age & AccountType & StreamingMinutes\\\\\n",
       "\\hline\n",
       "\t 33      & Premium & 63     \\\\\n",
       "\t 38      & Premium & 61     \\\\\n",
       "\t 24      & Free    & 82     \\\\\n",
       "\t 28      & Premium & 72     \\\\\n",
       "\t 61      & Premium & 38     \\\\\n",
       "\t 33      & Free    & 71     \\\\\n",
       "\\end{tabular}\n"
      ],
      "text/markdown": [
       "\n",
       "| Age | AccountType | StreamingMinutes |\n",
       "|---|---|---|\n",
       "| 33      | Premium | 63      |\n",
       "| 38      | Premium | 61      |\n",
       "| 24      | Free    | 82      |\n",
       "| 28      | Premium | 72      |\n",
       "| 61      | Premium | 38      |\n",
       "| 33      | Free    | 71      |\n",
       "\n"
      ],
      "text/plain": [
       "  Age AccountType StreamingMinutes\n",
       "1 33  Premium     63              \n",
       "2 38  Premium     61              \n",
       "3 24  Free        82              \n",
       "4 28  Premium     72              \n",
       "5 61  Premium     38              \n",
       "6 33  Free        71              "
      ]
     },
     "metadata": {},
     "output_type": "display_data"
    }
   ],
   "source": [
    "head(musicfi)"
   ]
  },
  {
   "cell_type": "markdown",
   "id": "9882cec9",
   "metadata": {},
   "source": [
    "First, let's create a side-by-side boxplot that compares the `StreamingMinutes` of free and premium customers:"
   ]
  },
  {
   "cell_type": "code",
   "execution_count": 3,
   "id": "42f9f5c7",
   "metadata": {},
   "outputs": [
    {
     "data": {
      "image/png": "[encoded data removed]",
      "text/plain": [
       "plot without title"
      ]
     },
     "metadata": {
      "filenames": {
       "image/png": "C:\\Users\\phamilton\\Documents\\dsm\\jupyter_book\\_build\\jupyter_execute\\obs_studies_4_0.png"
      }
     },
     "output_type": "display_data"
    }
   ],
   "source": [
    "boxplot(musicfi$StreamingMinutes ~ musicfi$AccountType, \n",
    "        ylab = \"Streaming Minutes\", xlab = \"Treatment\")"
   ]
  },
  {
   "cell_type": "markdown",
   "id": "a8cd21b7",
   "metadata": {},
   "source": [
    "From the figure, we can see that the customers with premium accounts had lower total streaming minutes than customers with free accounts! The average in the premium group was 71 minutes compared to 80 minutes in the free group, meaning that (on average) customers with a premium account listened to less music! We can use a t-test to check if this observed difference is statistically significant:"
   ]
  },
  {
   "cell_type": "code",
   "execution_count": 4,
   "id": "cf424ddf",
   "metadata": {},
   "outputs": [
    {
     "data": {
      "text/plain": [
       "\n",
       "\tWelch Two Sample t-test\n",
       "\n",
       "data:  musicfi$StreamingMinutes by musicfi$AccountType\n",
       "t = 11.774, df = 444.24, p-value < 2.2e-16\n",
       "alternative hypothesis: true difference in means is not equal to 0\n",
       "95 percent confidence interval:\n",
       "  7.52599 10.54174\n",
       "sample estimates:\n",
       "   mean in group Free mean in group Premium \n",
       "             80.42205              71.38819 \n"
      ]
     },
     "metadata": {},
     "output_type": "display_data"
    }
   ],
   "source": [
    "t.test(musicfi$StreamingMinutes ~ musicfi$AccountType)"
   ]
  },
  {
   "cell_type": "markdown",
   "id": "16299390",
   "metadata": {},
   "source": [
    "Suppose we take the above results at face value. In that case, we might incorrectly conclude that having a premium account reduces customer engagement. But this seems unlikely! Our general understanding suggests that buying a premium account should have the opposite effect. So what's going on? Well, we are likely falling victim to what is often called **selection bias**. Selection bias occurs when the treatment group is systematically different from the control group before the treatment has occurred, making it hard to disentangle differences due to the treatment from those due to the systematic difference between the two groups.\n",
    "\n",
    "Mathematically, we can model selection bias as a third variable---often called a confounding variable---associated with both a unit's propensity to receive the treatment and that unit's outcome. In our Musicfi example, this variable could be the age of the customer: younger customers tend to listen to more music and are less likely to purchase a premium account. Therefore, the age variable is a confounding variable as it limits our ability to draw causal inferences.\n",
    "\n",
    "To see this, we can compare how age is related to total streaming minutes and the account type. First, let's create a scatter plot of age and streaming minutes:"
   ]
  },
  {
   "cell_type": "code",
   "execution_count": 5,
   "id": "87b94a8b",
   "metadata": {},
   "outputs": [
    {
     "data": {
      "image/png": "[encoded data removed]",
      "text/plain": [
       "plot without title"
      ]
     },
     "metadata": {
      "filenames": {
       "image/png": "C:\\Users\\phamilton\\Documents\\dsm\\jupyter_book\\_build\\jupyter_execute\\obs_studies_8_0.png"
      }
     },
     "output_type": "display_data"
    }
   ],
   "source": [
    "plot(musicfi$Age, musicfi$StreamingMinutes)"
   ]
  },
  {
   "cell_type": "markdown",
   "id": "7c399a08",
   "metadata": {},
   "source": [
    "If we wanted to adjust for the age variable (assuming it is observed), we could run a linear regression with both `AccountType` and `Age` as independent variables:"
   ]
  },
  {
   "cell_type": "code",
   "execution_count": 6,
   "id": "b5fbb5cb",
   "metadata": {},
   "outputs": [
    {
     "data": {
      "text/plain": [
       "\n",
       "Call:\n",
       "lm(formula = StreamingMinutes ~ AccountType + Age, data = musicfi)\n",
       "\n",
       "Residuals:\n",
       "    Min      1Q  Median      3Q     Max \n",
       "-9.1032 -2.2259  0.0901  2.0055  8.6514 \n",
       "\n",
       "Coefficients:\n",
       "                    Estimate Std. Error t value Pr(>|t|)    \n",
       "(Intercept)        100.57573    0.41028 245.138  < 2e-16 ***\n",
       "AccountTypePremium   1.51568    0.33928   4.467 9.82e-06 ***\n",
       "Age                 -1.06136    0.01904 -55.736  < 2e-16 ***\n",
       "---\n",
       "Signif. codes:  0 '***' 0.001 '**' 0.01 '*' 0.05 '.' 0.1 ' ' 1\n",
       "\n",
       "Residual standard error: 3.144 on 497 degrees of freedom\n",
       "Multiple R-squared:  0.8927,\tAdjusted R-squared:  0.8923 \n",
       "F-statistic:  2068 on 2 and 497 DF,  p-value: < 2.2e-16\n"
      ]
     },
     "metadata": {},
     "output_type": "display_data"
    }
   ],
   "source": [
    "summary(lm(StreamingMinutes ~ AccountType + Age, data=musicfi))"
   ]
  },
  {
   "cell_type": "markdown",
   "id": "c58b35a0",
   "metadata": {},
   "source": [
    "From this output, we see that the coefficient on `AccountType` is positive! This means that after controlling for age, premium users actually listen to *more* music, on average. Including `Age` in the regression removes its confounding effect on the relationship between `AccountType` and `StreamingMinutes`. \n",
    "\n",
    "However, even after controlling for age, can we be confident in interpreting this as a causal outcome? The answer is still most likely no. That is because there may exist more confounding variables that are not a part of our data set; these are known as **unobserved confounders**. Even if there were no unobserved confounders, there are much more robust methods for analyzing observational studies than linear regression."
   ]
  }
 ],
 "metadata": {
  "jupytext": {
   "cell_metadata_filter": "-all",
   "formats": "md:myst",
   "text_representation": {
    "extension": ".md",
    "format_name": "myst",
    "format_version": 0.13,
    "jupytext_version": "1.11.5"
   }
  },
  "kernelspec": {
   "display_name": "R",
   "language": "R",
   "name": "ir"
  },
  "language_info": {
   "codemirror_mode": "r",
   "file_extension": ".r",
   "mimetype": "text/x-r-source",
   "name": "R",
   "pygments_lexer": "r",
   "version": "3.6.1"
  },
  "source_map": [
   16,
   60,
   74,
   76,
   80,
   83,
   88,
   90,
   98,
   100,
   104,
   106
  ]
 },
 "nbformat": 4,
 "nbformat_minor": 5
}