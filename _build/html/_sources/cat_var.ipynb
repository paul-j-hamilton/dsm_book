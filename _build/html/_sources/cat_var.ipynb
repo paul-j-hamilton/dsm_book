{
 "cells": [
  {
   "cell_type": "code",
   "execution_count": 1,
   "id": "0d6bffc8",
   "metadata": {
    "tags": [
     "remove-cell"
    ]
   },
   "outputs": [
    {
     "name": "stderr",
     "output_type": "stream",
     "text": [
      "Registered S3 methods overwritten by 'ggplot2':\n",
      "  method         from \n",
      "  [.quosures     rlang\n",
      "  c.quosures     rlang\n",
      "  print.quosures rlang\n"
     ]
    },
    {
     "name": "stderr",
     "output_type": "stream",
     "text": [
      "Registered S3 method overwritten by 'rvest':\n",
      "  method            from\n",
      "  read_xml.response xml2\n"
     ]
    },
    {
     "name": "stderr",
     "output_type": "stream",
     "text": [
      "-- Attaching packages --------------------------------------- tidyverse 1.2.1 --\n"
     ]
    },
    {
     "name": "stderr",
     "output_type": "stream",
     "text": [
      "v ggplot2 3.1.1       v purrr   0.3.2  \n",
      "v tibble  2.1.1       v dplyr   0.8.0.1\n",
      "v tidyr   0.8.3       v stringr 1.4.0  \n",
      "v readr   1.3.1       v forcats 0.4.0  \n"
     ]
    },
    {
     "name": "stderr",
     "output_type": "stream",
     "text": [
      "-- Conflicts ------------------------------------------ tidyverse_conflicts() --\n",
      "x dplyr::filter() masks stats::filter()\n",
      "x dplyr::lag()    masks stats::lag()\n"
     ]
    },
    {
     "name": "stderr",
     "output_type": "stream",
     "text": [
      "Parsed with column specification:\n",
      "cols(\n",
      "  ID = col_double(),\n",
      "  Name = col_character(),\n",
      "  Gender = col_character(),\n",
      "  Age = col_double(),\n",
      "  Rating = col_double(),\n",
      "  Degree = col_character(),\n",
      "  Start_Date = col_character(),\n",
      "  Retired = col_logical(),\n",
      "  Division = col_character(),\n",
      "  Salary = col_character()\n",
      ")\n"
     ]
    }
   ],
   "source": [
    "library(tidyverse)\n",
    "employees <- read_csv(\"_build/data/employee_data.csv\")\n",
    "employees$Salary <- parse_number(employees$Salary)\n",
    "employees$Start_Date <- parse_date(employees$Start_Date, format = \"%m/%d/%Y\")"
   ]
  },
  {
   "cell_type": "markdown",
   "id": "51ecf73a",
   "metadata": {},
   "source": [
    "# Categorical Variables\n",
    "\n",
    "Categorical variables take on values corresponding to a category. For example, `Degree` in `employees` can only take on the values `High School`, `Associate's`, `Bachelor's`, `Master's`, and `Ph.D`. Categorical variables cannot be summarized by the mean, median, or standard deviation. Instead, these variables are often summarized using tables and bar plots. For categorical variables, the `table()` and `prop.table()` commands show the number and percentage (**prop**ortion) of observations in each category, respectively. Note that to use `prop.table()`, we need to apply `table()` first.\n",
    "\n",
    "```{admonition} Syntax\n",
    "`table(x)` & `prop.table(table(x))`\n",
    "+ *Required arguments*\n",
    "  - `x`: The atomic vector of values.\n",
    "```"
   ]
  },
  {
   "cell_type": "code",
   "execution_count": 2,
   "id": "8a079091",
   "metadata": {},
   "outputs": [
    {
     "data": {
      "text/plain": [
       "\n",
       "     Accounting       Corporate     Engineering Human Resources      Operations \n",
       "             63             103             236              97             287 \n",
       "          Sales \n",
       "            214 "
      ]
     },
     "metadata": {},
     "output_type": "display_data"
    }
   ],
   "source": [
    "table(employees$Division)"
   ]
  },
  {
   "cell_type": "code",
   "execution_count": 3,
   "id": "249d6d29",
   "metadata": {},
   "outputs": [
    {
     "data": {
      "text/plain": [
       "\n",
       "     Accounting       Corporate     Engineering Human Resources      Operations \n",
       "          0.063           0.103           0.236           0.097           0.287 \n",
       "          Sales \n",
       "          0.214 "
      ]
     },
     "metadata": {},
     "output_type": "display_data"
    }
   ],
   "source": [
    "prop.table(table(employees$Division))"
   ]
  },
  {
   "cell_type": "markdown",
   "id": "44a891d7",
   "metadata": {},
   "source": [
    "Two categorical variables can be summarized in a two-way table using the same `table()` and `prop.table()` commands shown above. For example:"
   ]
  },
  {
   "cell_type": "code",
   "execution_count": 4,
   "id": "3fe9ab7e",
   "metadata": {},
   "outputs": [
    {
     "data": {
      "text/plain": [
       "                 \n",
       "                  Associate's Bachelor's High School Master's Ph.D\n",
       "  Accounting                0         31           0       32    0\n",
       "  Corporate                 0         20           0       40   43\n",
       "  Engineering               0         36           0       43  157\n",
       "  Human Resources          35         30           0       32    0\n",
       "  Operations              110         16         146       15    0\n",
       "  Sales                    55         67          54       38    0"
      ]
     },
     "metadata": {},
     "output_type": "display_data"
    }
   ],
   "source": [
    "table(employees$Division, employees$Degree)"
   ]
  },
  {
   "cell_type": "markdown",
   "id": "5689fcac",
   "metadata": {},
   "source": [
    "The `prop.table()` command has an optional second argument `margin` that calculates the proportion of observations by row (`margin` = 1) or column (`margin` = 2). Note that the term `margin` refers to the \"margins\" (*i.e.*, the outer edges) of the table, where the sum of the rows and columns are often written. In the code chunk below we do not specify the `margin` parameter in `prop.table()`, so each cell represents the proportion over all observations in the data set. For example, 5.4% of all employees work in Sales and have a high school diploma."
   ]
  },
  {
   "cell_type": "code",
   "execution_count": 5,
   "id": "1bcdb542",
   "metadata": {},
   "outputs": [
    {
     "data": {
      "text/plain": [
       "                 \n",
       "                  Associate's Bachelor's High School Master's  Ph.D\n",
       "  Accounting            0.000      0.031       0.000    0.032 0.000\n",
       "  Corporate             0.000      0.020       0.000    0.040 0.043\n",
       "  Engineering           0.000      0.036       0.000    0.043 0.157\n",
       "  Human Resources       0.035      0.030       0.000    0.032 0.000\n",
       "  Operations            0.110      0.016       0.146    0.015 0.000\n",
       "  Sales                 0.055      0.067       0.054    0.038 0.000"
      ]
     },
     "metadata": {},
     "output_type": "display_data"
    }
   ],
   "source": [
    "prop.table(table(employees$Division, employees$Degree))"
   ]
  },
  {
   "cell_type": "markdown",
   "id": "d98adc5d",
   "metadata": {},
   "source": [
    "If we set `margin` equal to 1, each cell represents the proportion of observations by row. For example, of all employees in Accounting, 49.2% have a Bachelor's."
   ]
  },
  {
   "cell_type": "code",
   "execution_count": 6,
   "id": "c9e5b3cf",
   "metadata": {},
   "outputs": [
    {
     "data": {
      "text/plain": [
       "                 \n",
       "                  Associate's Bachelor's High School   Master's       Ph.D\n",
       "  Accounting       0.00000000 0.49206349  0.00000000 0.50793651 0.00000000\n",
       "  Corporate        0.00000000 0.19417476  0.00000000 0.38834951 0.41747573\n",
       "  Engineering      0.00000000 0.15254237  0.00000000 0.18220339 0.66525424\n",
       "  Human Resources  0.36082474 0.30927835  0.00000000 0.32989691 0.00000000\n",
       "  Operations       0.38327526 0.05574913  0.50871080 0.05226481 0.00000000\n",
       "  Sales            0.25700935 0.31308411  0.25233645 0.17757009 0.00000000"
      ]
     },
     "metadata": {},
     "output_type": "display_data"
    }
   ],
   "source": [
    "prop.table(table(employees$Division, employees$Degree), margin = 1)"
   ]
  },
  {
   "cell_type": "markdown",
   "id": "515d034c",
   "metadata": {},
   "source": [
    "If we set `margin` equal to 2, each cell represents the proportion of observations by column. For example, of all employees with an Associate's, 55.0% work in Operations."
   ]
  },
  {
   "cell_type": "code",
   "execution_count": 7,
   "id": "4a55c2ac",
   "metadata": {},
   "outputs": [
    {
     "data": {
      "text/plain": [
       "                 \n",
       "                  Associate's Bachelor's High School Master's  Ph.D\n",
       "  Accounting            0.000      0.155       0.000    0.160 0.000\n",
       "  Corporate             0.000      0.100       0.000    0.200 0.215\n",
       "  Engineering           0.000      0.180       0.000    0.215 0.785\n",
       "  Human Resources       0.175      0.150       0.000    0.160 0.000\n",
       "  Operations            0.550      0.080       0.730    0.075 0.000\n",
       "  Sales                 0.275      0.335       0.270    0.190 0.000"
      ]
     },
     "metadata": {},
     "output_type": "display_data"
    }
   ],
   "source": [
    "prop.table(table(employees$Division, employees$Degree), margin = 2)"
   ]
  }
 ],
 "metadata": {
  "jupytext": {
   "cell_metadata_filter": "-all",
   "formats": "md:myst",
   "text_representation": {
    "extension": ".md",
    "format_name": "myst",
    "format_version": 0.13,
    "jupytext_version": "1.11.5"
   }
  },
  "kernelspec": {
   "display_name": "R",
   "language": "R",
   "name": "ir"
  },
  "language_info": {
   "codemirror_mode": "r",
   "file_extension": ".r",
   "mimetype": "text/x-r-source",
   "name": "R",
   "pygments_lexer": "r",
   "version": "3.6.1"
  },
  "source_map": [
   16,
   22,
   34,
   38,
   40,
   44,
   46,
   50,
   52,
   56,
   58,
   62
  ]
 },
 "nbformat": 4,
 "nbformat_minor": 5
}