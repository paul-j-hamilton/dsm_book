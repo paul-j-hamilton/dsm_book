{
 "cells": [
  {
   "cell_type": "code",
   "execution_count": 1,
   "id": "ab337cab",
   "metadata": {
    "tags": [
     "remove-cell"
    ]
   },
   "outputs": [
    {
     "name": "stderr",
     "output_type": "stream",
     "text": [
      "Registered S3 methods overwritten by 'ggplot2':\n",
      "  method         from \n",
      "  [.quosures     rlang\n",
      "  c.quosures     rlang\n",
      "  print.quosures rlang\n"
     ]
    },
    {
     "name": "stderr",
     "output_type": "stream",
     "text": [
      "Registered S3 method overwritten by 'rvest':\n",
      "  method            from\n",
      "  read_xml.response xml2\n"
     ]
    },
    {
     "name": "stderr",
     "output_type": "stream",
     "text": [
      "-- Attaching packages --------------------------------------- tidyverse 1.2.1 --\n"
     ]
    },
    {
     "name": "stderr",
     "output_type": "stream",
     "text": [
      "v ggplot2 3.1.1       v purrr   0.3.2  \n",
      "v tibble  2.1.1       v dplyr   0.8.0.1\n",
      "v tidyr   0.8.3       v stringr 1.4.0  \n",
      "v readr   1.3.1       v forcats 0.4.0  \n"
     ]
    },
    {
     "name": "stderr",
     "output_type": "stream",
     "text": [
      "-- Conflicts ------------------------------------------ tidyverse_conflicts() --\n",
      "x dplyr::filter() masks stats::filter()\n",
      "x dplyr::lag()    masks stats::lag()\n"
     ]
    },
    {
     "name": "stderr",
     "output_type": "stream",
     "text": [
      "Parsed with column specification:\n",
      "cols(\n",
      "  age = col_double(),\n",
      "  marital = col_character(),\n",
      "  education = col_character(),\n",
      "  default = col_character(),\n",
      "  housing = col_character(),\n",
      "  loan = col_character(),\n",
      "  contact = col_character(),\n",
      "  duration = col_double(),\n",
      "  campaign = col_double(),\n",
      "  previous = col_double(),\n",
      "  poutcome = col_character(),\n",
      "  subscription = col_double()\n",
      ")\n"
     ]
    }
   ],
   "source": [
    "library(tidyverse)\n",
    "library(ggplot2)\n",
    "deposit <- read_csv(\"_build/data/marketing.csv\")"
   ]
  },
  {
   "cell_type": "markdown",
   "id": "0e8f4d49",
   "metadata": {},
   "source": [
    "# Simple Logistic Regression\n",
    "\n",
    "Instead of modeling the response variable ($Y$) directly, logistic regression uses independent ($X$) variables to model the probability that $Y$ equals the outcome of interest. In other words, logistic regression allows us to model $P(Y = 1 | X)$, or the probability that $Y$ equals one *given* $X$. To do this, we need a mathematical function that provides predictions between zero and one for all possible values of $X$. There are many functions that meet this description, but for logistic regression we use the **logistic function** and assume the following relationship:\n",
    "\n",
    "$$P(Y = 1 | X) = \\frac{e^{\\beta_0+\\beta_1X}}{1+e^{\\beta_0+\\beta_1X}}$$\n",
    "\n",
    "As with linear regression, our goal is to find estimates of $\\beta_0$ and $\\beta_1$ using our observed data. Whereas linear regression does this using the method of least squares, logistic regression calculates sample estimates of $\\beta_0$ and $\\beta_1$ using a method known as **maximum likelihood estimation (MLE)**. We will not describe MLE in detail, but it essentially uses the sample data to find estimates of $\\beta_0$ and $\\beta_1$ such that the model's predicted probability is high when $Y$ actually equals one and low when $Y$ actually equals zero. \n",
    "\n",
    "We can fit a logistic regression model in R with the `glm()` command (the `glm` stands for **g**eneral **l**inear **m**odel). This function uses the following syntax:\n",
    "\n",
    "```{admonition} Syntax\n",
    "`glm(y ~ x, data = df, family = \"binomial\")`\n",
    "+ *Required arguments*\n",
    "  - `y`: The name of the dependent ($Y$) variable.\n",
    "  - `x`: The name of the independent ($X$) variable.\n",
    "  - `data`: The name of the data frame with the `y` and `x` variables.\n",
    "  - `family`: The type of model we would like to fit; for logistic regression, we set this equal to `\"binomial\"` because we are modeling a binomial process (*i.e.*, one with two possible outcomes).\n",
    "```\n",
    "\n",
    "As with linear regression, we can fit a logistic regression to our data and then use `summary()` to obtain detailed information about the model:"
   ]
  },
  {
   "cell_type": "code",
   "execution_count": 2,
   "id": "355c9f90",
   "metadata": {},
   "outputs": [
    {
     "data": {
      "text/plain": [
       "\n",
       "Call:\n",
       "glm(formula = subscription ~ duration, family = \"binomial\", data = deposit)\n",
       "\n",
       "Deviance Residuals: \n",
       "    Min       1Q   Median       3Q      Max  \n",
       "-3.8683  -0.4303  -0.3548  -0.3106   2.5264  \n",
       "\n",
       "Coefficients:\n",
       "              Estimate Std. Error z value Pr(>|z|)    \n",
       "(Intercept) -3.2559346  0.0845767  -38.50   <2e-16 ***\n",
       "duration     0.0035496  0.0001714   20.71   <2e-16 ***\n",
       "---\n",
       "Signif. codes:  0 '***' 0.001 '**' 0.01 '*' 0.05 '.' 0.1 ' ' 1\n",
       "\n",
       "(Dispersion parameter for binomial family taken to be 1)\n",
       "\n",
       "    Null deviance: 3231.0  on 4520  degrees of freedom\n",
       "Residual deviance: 2701.8  on 4519  degrees of freedom\n",
       "AIC: 2705.8\n",
       "\n",
       "Number of Fisher Scoring iterations: 5\n"
      ]
     },
     "metadata": {},
     "output_type": "display_data"
    }
   ],
   "source": [
    "depositLog <- glm(subscription ~ duration, data = deposit, family = \"binomial\")\n",
    "summary(depositLog)"
   ]
  },
  {
   "cell_type": "markdown",
   "id": "183fc1d4",
   "metadata": {},
   "source": [
    "Based on this output, our estimated regression equation is:\n",
    "\n",
    "$$\\begin{aligned}predicted \\;probability = \\hat{p}(y=1) = \\frac{e^{-3.2559346 + 0.0035496(duration)}}{1+e^{-3.2559346 + 0.0035496(duration)}}\\end{aligned}$$\n",
    "\n",
    "If we plot this line on top of our data, we can see how logistic regression suits the problem better than linear regression. Because the logistic function is bounded between zero and one, we see the characteristic \"s-shape\" curve:"
   ]
  },
  {
   "cell_type": "code",
   "execution_count": 3,
   "id": "b4ba5d3f",
   "metadata": {
    "tags": [
     "remove-input"
    ]
   },
   "outputs": [
    {
     "data": {
      "image/png": "[encoded data removed]",
      "text/plain": [
       "plot without title"
      ]
     },
     "metadata": {
      "filenames": {
       "image/png": "C:\\Users\\phamilton\\Documents\\dsm\\jupyter_book\\_build\\jupyter_execute\\simple_log_reg_4_0.png"
      }
     },
     "output_type": "display_data"
    }
   ],
   "source": [
    "suppressWarnings(print(ggplot(deposit, aes(x=duration, y=subscription)) + geom_point()  +\n",
    "  geom_smooth(method='glm', se=F, method.args = list(family=binomial), size=2) + theme_bw() +\n",
    "  xlim(-500, 3000) + ylim(-0.2, 1.2) +\n",
    "  theme(axis.text=element_text(size=12),\n",
    "        axis.title=element_text(size=14,face=\"bold\"))))"
   ]
  },
  {
   "cell_type": "markdown",
   "id": "1792f2a1",
   "metadata": {},
   "source": [
    "Now if `duration` equals 2,500 seconds, the model's prediction does not exceed one:\n",
    "\n",
    "$$\\begin{aligned}predicted \\;probability = \\hat{p}(y=1) & \\approx \\frac{e^{-3.2559346 + 0.0035496(2500)}}{1+e^{-3.2559346 + 0.0035496(2500)}} \\\\ & \\approx \\frac{275.3237478}{276.3237478} \\\\ & \\approx 0.9963811\\end{aligned}$$\n",
    "\n",
    "We can also use the model to make predictions with the `predict()` function. Note that for logistic regression, we need to include `type=\"response\"`. This ensures that `predict()` returns the prediction as a probability between zero and one (as opposed to the log-odds form)."
   ]
  },
  {
   "cell_type": "code",
   "execution_count": 4,
   "id": "ab7f773c",
   "metadata": {
    "tags": [
     "remove-output"
    ]
   },
   "outputs": [
    {
     "data": {
      "text/html": [
       "<strong>1:</strong> 0.996381056612652"
      ],
      "text/latex": [
       "\\textbf{1:} 0.996381056612652"
      ],
      "text/markdown": [
       "**1:** 0.996381056612652"
      ],
      "text/plain": [
       "        1 \n",
       "0.9963811 "
      ]
     },
     "metadata": {},
     "output_type": "display_data"
    }
   ],
   "source": [
    "newData <- data.frame(duration = 2500)\n",
    "predict(depositLog, newData, type = \"response\")"
   ]
  },
  {
   "cell_type": "code",
   "execution_count": 5,
   "id": "aa0dbafe",
   "metadata": {
    "tags": [
     "remove-input"
    ]
   },
   "outputs": [
    {
     "name": "stdout",
     "output_type": "stream",
     "text": [
      "        1 \n",
      "0.9963811 \n"
     ]
    }
   ],
   "source": [
    "print(predict(depositLog, newData, type = \"response\"))"
   ]
  },
  {
   "cell_type": "markdown",
   "id": "518da849",
   "metadata": {},
   "source": [
    "Because the logistic regression models a non-linear relationship, we cannot interpret the model coefficients as we did with linear regression. Instead, we interpret the coefficient on a continuous $X$ as follows:\n",
    "\n",
    " - If $b_1>0$, a one unit increase in the predictor corresponds to an *increase* in the probability that $y = 1$. Note that we don't specify the amount of the increase, as this is not as straight forward as linear regression where the amount is the value of the coefficient.\n",
    "\n",
    " -  If $b_1<0$, a one unit increase in the predictor corresponds to a *decrease* in the probability that $y = 1$. Again, note that we don't specify the amount of the decrease.\n",
    " \n",
    "Using this guideline, we can interpret the $b_1$ coefficient in our model as follows:\n",
    "\n",
    "+ Because $b_1$ is *greater than* zero, a one-unit increase in `duration` corresponds to an *increase* in the probability that the contacted person makes a deposit.\n",
    "\n",
    "Now instead of a continuous $X$ like `duration`, let's use the categorical $X$ variable, `loan`. As a reminder, `glm()` automatically converts categorical variables to dummy variables behind the scenes, so we can simply include `loan` in our call to `glm()`:"
   ]
  },
  {
   "cell_type": "code",
   "execution_count": 6,
   "id": "949ba6f4",
   "metadata": {},
   "outputs": [
    {
     "data": {
      "text/plain": [
       "\n",
       "Call:\n",
       "glm(formula = subscription ~ loan, family = \"binomial\", data = deposit)\n",
       "\n",
       "Deviance Residuals: \n",
       "    Min       1Q   Median       3Q      Max  \n",
       "-0.5163  -0.5163  -0.5163  -0.3585   2.3567  \n",
       "\n",
       "Coefficients:\n",
       "            Estimate Std. Error z value Pr(>|z|)    \n",
       "(Intercept) -1.94770    0.04889 -39.837  < 2e-16 ***\n",
       "loanyes     -0.76499    0.16489  -4.639 3.49e-06 ***\n",
       "---\n",
       "Signif. codes:  0 '***' 0.001 '**' 0.01 '*' 0.05 '.' 0.1 ' ' 1\n",
       "\n",
       "(Dispersion parameter for binomial family taken to be 1)\n",
       "\n",
       "    Null deviance: 3231.0  on 4520  degrees of freedom\n",
       "Residual deviance: 3205.2  on 4519  degrees of freedom\n",
       "AIC: 3209.2\n",
       "\n",
       "Number of Fisher Scoring iterations: 5\n"
      ]
     },
     "metadata": {},
     "output_type": "display_data"
    }
   ],
   "source": [
    "depositLogDummy <- glm(subscription ~ loan, data = deposit, family = \"binomial\")\n",
    "summary(depositLogDummy)"
   ]
  },
  {
   "cell_type": "markdown",
   "id": "0c15b838",
   "metadata": {},
   "source": [
    " \n",
    "If $X$ is a dummy variable, we interpret the coefficient as follows:\n",
    "\n",
    " - If $b_1>0$, observations where the dummy equals one have a *greater* probability that $y = 1$.\n",
    "\n",
    " - If $b_1<0$, observations where the dummy equals one have a *lower* probability that $y = 1$.\n",
    " \n",
    "Applying this to our output, we interpret the negative coefficient on `loanyes` as follows:\n",
    "\n",
    "+ On average, contacted persons who have a personal loan (*i.e.*, `loanyes = 1`) have a *lower* probability of making a deposit than contacted persons who do not have a personal loan."
   ]
  }
 ],
 "metadata": {
  "jupytext": {
   "cell_metadata_filter": "-all",
   "formats": "md:myst",
   "text_representation": {
    "extension": ".md",
    "format_name": "myst",
    "format_version": 0.13,
    "jupytext_version": "1.11.5"
   }
  },
  "kernelspec": {
   "display_name": "R",
   "language": "R",
   "name": "ir"
  },
  "language_info": {
   "codemirror_mode": "r",
   "file_extension": ".r",
   "mimetype": "text/x-r-source",
   "name": "R",
   "pygments_lexer": "r",
   "version": "3.6.1"
  },
  "source_map": [
   16,
   21,
   44,
   47,
   55,
   62,
   70,
   76,
   79,
   93,
   96
  ]
 },
 "nbformat": 4,
 "nbformat_minor": 5
}