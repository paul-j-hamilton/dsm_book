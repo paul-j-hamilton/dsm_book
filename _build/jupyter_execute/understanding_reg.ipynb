{
 "cells": [
  {
   "cell_type": "code",
   "execution_count": 1,
   "id": "15ee2445",
   "metadata": {
    "tags": [
     "remove-cell"
    ]
   },
   "outputs": [
    {
     "name": "stderr",
     "output_type": "stream",
     "text": [
      "Registered S3 methods overwritten by 'ggplot2':\n",
      "  method         from \n",
      "  [.quosures     rlang\n",
      "  c.quosures     rlang\n",
      "  print.quosures rlang\n"
     ]
    },
    {
     "name": "stderr",
     "output_type": "stream",
     "text": [
      "Registered S3 method overwritten by 'rvest':\n",
      "  method            from\n",
      "  read_xml.response xml2\n"
     ]
    },
    {
     "name": "stderr",
     "output_type": "stream",
     "text": [
      "-- Attaching packages --------------------------------------- tidyverse 1.2.1 --\n"
     ]
    },
    {
     "name": "stderr",
     "output_type": "stream",
     "text": [
      "v ggplot2 3.1.1       v purrr   0.3.2  \n",
      "v tibble  2.1.1       v dplyr   0.8.0.1\n",
      "v tidyr   0.8.3       v stringr 1.4.0  \n",
      "v readr   1.3.1       v forcats 0.4.0  \n"
     ]
    },
    {
     "name": "stderr",
     "output_type": "stream",
     "text": [
      "-- Conflicts ------------------------------------------ tidyverse_conflicts() --\n",
      "x dplyr::filter() masks stats::filter()\n",
      "x dplyr::lag()    masks stats::lag()\n"
     ]
    },
    {
     "name": "stderr",
     "output_type": "stream",
     "text": [
      "Parsed with column specification:\n",
      "cols(\n",
      "  ID = col_double(),\n",
      "  Name = col_character(),\n",
      "  Gender = col_character(),\n",
      "  Age = col_double(),\n",
      "  Rating = col_double(),\n",
      "  Degree = col_character(),\n",
      "  Start_Date = col_character(),\n",
      "  Retired = col_logical(),\n",
      "  Division = col_character(),\n",
      "  Salary = col_character()\n",
      ")\n"
     ]
    }
   ],
   "source": [
    "library(tidyverse)\n",
    "employees <- read_csv(\"_build/data/employee_data.csv\")\n",
    "employees$Salary <- parse_number(employees$Salary)\n",
    "employees$Start_Date <- parse_date(employees$Start_Date, format = \"%m/%d/%Y\")\n",
    "degreeLevels <- c(\"High School\", \"Associate's\", \"Bachelor's\", \"Master's\", \"Ph.D\")\n",
    "employees$Degree <- parse_factor(employees$Degree, levels = degreeLevels, ordered = TRUE)\n",
    "modelAge <- lm(Salary ~ Age, data=employees)"
   ]
  },
  {
   "cell_type": "markdown",
   "id": "73a466aa",
   "metadata": {},
   "source": [
    "# Understanding Our Regression Model\n",
    "\n",
    "Our least squares estimates $b_0$ and $b_1$ are estimates of the true theoretical values $\\beta_0$ and $\\beta_1$ respectively. Since the regression line is calculated using sample data, we can construct confidence intervals and perform hypothesis tests on our estimates. The `confint()` function reports 95\\% confidence intervals for the regression coefficients.\n",
    "\n",
    "```{admonition} Syntax\n",
    "`confint(model)`\n",
    "```"
   ]
  },
  {
   "cell_type": "code",
   "execution_count": 2,
   "id": "620584f1",
   "metadata": {},
   "outputs": [
    {
     "data": {
      "text/html": [
       "<table>\n",
       "<thead><tr><th></th><th scope=col>2.5 %</th><th scope=col>97.5 %</th></tr></thead>\n",
       "<tbody>\n",
       "\t<tr><th scope=row>(Intercept)</th><td>58390.197</td><td>75877.208</td></tr>\n",
       "\t<tr><th scope=row>Age</th><td> 1834.364</td><td> 2219.292</td></tr>\n",
       "</tbody>\n",
       "</table>\n"
      ],
      "text/latex": [
       "\\begin{tabular}{r|ll}\n",
       "  & 2.5 \\% & 97.5 \\%\\\\\n",
       "\\hline\n",
       "\t(Intercept) & 58390.197 & 75877.208\\\\\n",
       "\tAge &  1834.364 &  2219.292\\\\\n",
       "\\end{tabular}\n"
      ],
      "text/markdown": [
       "\n",
       "| <!--/--> | 2.5 % | 97.5 % |\n",
       "|---|---|---|\n",
       "| (Intercept) | 58390.197 | 75877.208 |\n",
       "| Age |  1834.364 |  2219.292 |\n",
       "\n"
      ],
      "text/plain": [
       "            2.5 %     97.5 %   \n",
       "(Intercept) 58390.197 75877.208\n",
       "Age          1834.364  2219.292"
      ]
     },
     "metadata": {},
     "output_type": "display_data"
    }
   ],
   "source": [
    "confint(modelAge)"
   ]
  },
  {
   "cell_type": "markdown",
   "id": "2aef2011",
   "metadata": {},
   "source": [
    "We can obtain more detailed output using the `summary()` command.\n",
    "\n",
    "```{admonition} Syntax\n",
    "`summary(model)`\n",
    "```"
   ]
  },
  {
   "cell_type": "code",
   "execution_count": 3,
   "id": "1cdcf43a",
   "metadata": {},
   "outputs": [
    {
     "data": {
      "text/plain": [
       "\n",
       "Call:\n",
       "lm(formula = Salary ~ Age, data = employees)\n",
       "\n",
       "Residuals:\n",
       "    Min      1Q  Median      3Q     Max \n",
       "-103272  -21766    2428   23138   90680 \n",
       "\n",
       "Coefficients:\n",
       "            Estimate Std. Error t value Pr(>|t|)    \n",
       "(Intercept) 67133.70    4455.17   15.07   <2e-16 ***\n",
       "Age          2026.83      98.07   20.67   <2e-16 ***\n",
       "---\n",
       "Signif. codes:  0 '***' 0.001 '**' 0.01 '*' 0.05 '.' 0.1 ' ' 1\n",
       "\n",
       "Residual standard error: 32630 on 918 degrees of freedom\n",
       "  (80 observations deleted due to missingness)\n",
       "Multiple R-squared:  0.3175,\tAdjusted R-squared:  0.3168 \n",
       "F-statistic: 427.1 on 1 and 918 DF,  p-value: < 2.2e-16\n"
      ]
     },
     "metadata": {},
     "output_type": "display_data"
    }
   ],
   "source": [
    "summary(modelAge)"
   ]
  },
  {
   "cell_type": "markdown",
   "id": "aa7cc26a",
   "metadata": {},
   "source": [
    "We usually focus on just $b_1$ since we are primarily interested in the relationship between the variables. Our best estimate for $b_1$ is \\$2,026.83, but because we are basing this estimate on a data sample, we could be wrong. We can say with 95% confidence that the true value of the slope (denoted $\\beta_1$) could be as low as \\$1,834.36 to as high as \\$2,219.29. The good news is the confidence interval contains only positive values, indicating a positive relationship between `Salary` and `Age`. If zero fell into this interval we would not be able to conclude that there was a positive relationship between `Salary` and `Age`.\n",
    "\n",
    "By applying the `summary()` command to our regression we can see p-values listed for each coefficient. The hypothesis test being done here is \"does the true slope equal 0?\", and \"does the true intercept equal 0?\". In symbols we are testing for the slope:\n",
    "\n",
    "+ $H_o: \\beta_1 = 0$ \n",
    "+ $H_a: \\beta_1 \\ne 0$\n",
    "\n",
    "A small p-value, less than the significance level (often 0.05), means we reject the null hypothesis and can conclude there is likely a linear relationship between the $x$ and $y$ variables; simply put, a small p-value indicates we need $x$ in the model. \n",
    "\n",
    "The p-value for the intercept corresponds to the hypothesis test asking, \"does the true intercept equal 0?\" We often ignore the p-value of the intercept when the intercept is difficult to interpret.\n",
    "\n",
    "## The R-Squared ($R^2$)\n",
    "\n",
    "The `summary()` command gives additional information about the regression fit. In particular, at the bottom of the summary output, we see two items:\n",
    "\n",
    "+ Multiple R-squared, often denoted $R^2$\n",
    "+ Adjusted R-squared, often denoted $R_a^{2}$\n",
    "\n",
    "The $R^2$ is a goodness of fit measure and always falls in the interval 0 to 1. In essence, we do regression to try to understand how changes in the $x$ variable explain what is happening to a $y$ variable. If $y$ didn't vary when $x$ changes, it would be very boring to explain, so in essence we are trying to explain the variation in $y$ using $x$. The $R^2$ tells us the percentage of the variation in $y$ explained by $x$, with higher being better. One issue with $R^2$ is that it can go up simply by adding more $x$ variables to a model, so $R_a^2$ reflects a penalty factor related to the number of $x$ variables in the model. The adjusted R-squared value is always the preferred measure to report.\n",
    "\n",
    "```{warning}\n",
    "When a linear regression model has more than one independent variable, report $R_a^2$ instead of $R^2$.\n",
    "```\n",
    "\n",
    "However, neither $R^2$ nor $R_a^2$ indicates anything about predictability, so another measure described below is more useful to consider.\n",
    "\n",
    "## Estimate of Noise and Prediction\n",
    "\n",
    "When we look at the scatter plot, we see noise in the model; that is, we see a line plus variation (“noise”) around the line. Regression modeling assumes that the noise $\\epsilon$ is normally distributed with mean 0 and variance $\\sigma^2$. The value $\\sigma^2$ is key when using a regression model for prediction, since it tells us how accurate our predictions are. The estimate of $\\sigma$ from our sample data is denoted $s_e$ and is called the **residual standard error**. \n",
    "\n",
    "This residual standard error is important because we can create approximate prediction intervals using the formula:\n",
    "\n",
    "$$predicted\\; y =\\hat{y} =  (b_0+b_1(x))\\pm 1.96(s_e)$$\n",
    "\n",
    "The `summary()` function applied to the regression tells us that the residual standard error is \\$32,630. Thus, the predicted income of someone 40 years old is:\n",
    "\n",
    "$$\\$67,133.70 + \\$2,026.83(40) = \\$148,206.9$$\n",
    "\n",
    "But we know it's not an exact relationship, so it would be nice to put lower and upper bounds on this prediction. We are roughly 95\\% confident that the predicted income for someone 40 years old is in the interval: \n",
    "\n",
    "$$\\$148,206.9 \\pm 1.96(\\$32,630) = (\\$84,252.1 ; \\$212,161.7)$$\n",
    "\n",
    "A more formal prediction interval can be found in R using the `predict()` function. Note that the formula shown above is an approximation and that this function's results are more precise, so the intervals differ slightly."
   ]
  },
  {
   "cell_type": "code",
   "execution_count": 4,
   "id": "a0f1525f",
   "metadata": {},
   "outputs": [
    {
     "data": {
      "text/html": [
       "<table>\n",
       "<thead><tr><th scope=col>fit</th><th scope=col>lwr</th><th scope=col>upr</th></tr></thead>\n",
       "<tbody>\n",
       "\t<tr><td>148206.8</td><td>84124.55</td><td>212289.1</td></tr>\n",
       "</tbody>\n",
       "</table>\n"
      ],
      "text/latex": [
       "\\begin{tabular}{r|lll}\n",
       " fit & lwr & upr\\\\\n",
       "\\hline\n",
       "\t 148206.8 & 84124.55 & 212289.1\\\\\n",
       "\\end{tabular}\n"
      ],
      "text/markdown": [
       "\n",
       "| fit | lwr | upr |\n",
       "|---|---|---|\n",
       "| 148206.8 | 84124.55 | 212289.1 |\n",
       "\n"
      ],
      "text/plain": [
       "  fit      lwr      upr     \n",
       "1 148206.8 84124.55 212289.1"
      ]
     },
     "metadata": {},
     "output_type": "display_data"
    }
   ],
   "source": [
    "newData <- data.frame(Age = 40)\n",
    "predict(modelAge, newData, interval = \"predict\")"
   ]
  },
  {
   "cell_type": "markdown",
   "id": "30bd886b",
   "metadata": {},
   "source": [
    "A rough rule of thumb when looking at regression models is to look at $s_e$ then double it; your 95% prediction interval will be roughly $\\hat{y} \\pm 2(s_e)$ (for this estimate 2 is rounded up from 1.96). You can use this as a quick guide to decide if you think it is an acceptable model.\n",
    "\n",
    "```{warning}\n",
    "$R^2$ does not inform about a linear regression model's predictive ability, so one must also report $s_e$.\n",
    "```\n",
    "\n",
    "## Basic Diagnostic Plots\n",
    "\n",
    "When doing regression analysis, we assume a linear relationship between the $X$ and $Y$ variable. We also assume the noise in the model follows a normal distribution. Both of these assumptions may be checked with separate **diagnostic plots**.\n",
    "\n",
    "The residuals $e_i$, also called the **errors**, are the observed ($y_i$) minus the predicted ($\\hat{y_i}$) values for each row in our data set. The most basic plot is a residual versus fitted (predicted) value plot. This plot is easily created in R as shown below, and if the modeling assumptions are correct should show a random scatter of points. Note that we pass our regression model into the same `plot()` function we have seen before, but set the `which` argument to `1` in order to get a residual vs. fitted plot."
   ]
  },
  {
   "cell_type": "code",
   "execution_count": 5,
   "id": "f2de919f",
   "metadata": {},
   "outputs": [
    {
     "data": {
      "image/png": "[encoded data removed]",
      "text/plain": [
       "Plot with title \"\""
      ]
     },
     "metadata": {
      "filenames": {
       "image/png": "C:\\Users\\phamilton\\Documents\\dsm\\jupyter_book\\_build\\jupyter_execute\\understanding_reg_8_0.png"
      }
     },
     "output_type": "display_data"
    }
   ],
   "source": [
    "plot(modelAge, which=1)"
   ]
  },
  {
   "cell_type": "markdown",
   "id": "d7f82a0f",
   "metadata": {},
   "source": [
    "The red line shown in the plot is a local linear smooth used to capture the trend of the points. We see no relationship between the residuals and the fitted values, which must be true if the regression assumptions hold.\n",
    "\n",
    "To contrast with the ideal plot, consider some simulated data of a non-linear relationship between $X$ and $Y$, which we don't know so we fit a line. As the plots below indicate, there is an unusual relationship between the residuals and fitted values that would indicate we should investigate this model more fully.\n",
    "\n",
    "```{figure} ../images/unusual_resid_fitted.png\n",
    "---\n",
    "height: 400px\n",
    "align: center\n",
    "name: unusual_resid\n",
    "---\n",
    "Unusual Residuals v. Fitted Plot\n",
    "```\n",
    "\n",
    "The normality assumption of the noise in the model may be checked by either looking at a histogram or a **qq-plot** of the error terms. We can extract an atomic vector of the residuals from our model using the `residuals()` function:\n",
    "\n",
    "```{admonition} Syntax\n",
    "`residuals(model)`\n",
    "```\n",
    "\n",
    "By passing these residuals into `hist()`, we can observe the histogram of the residuals to check whether they are normally-distributed:"
   ]
  },
  {
   "cell_type": "code",
   "execution_count": 6,
   "id": "39382315",
   "metadata": {},
   "outputs": [
    {
     "data": {
      "image/png": "[encoded data removed]",
      "text/plain": [
       "Plot with title \"Histogram of residuals(modelAge)\""
      ]
     },
     "metadata": {
      "filenames": {
       "image/png": "C:\\Users\\phamilton\\Documents\\dsm\\jupyter_book\\_build\\jupyter_execute\\understanding_reg_10_0.png"
      }
     },
     "output_type": "display_data"
    }
   ],
   "source": [
    "hist(residuals(modelAge))"
   ]
  },
  {
   "cell_type": "markdown",
   "id": "4b36d8e7",
   "metadata": {},
   "source": [
    "Based on this plot, the residuals of our model appear to be relatively normal. Another important diagnostic plot to look at is the **qq-plot**, which also helps us visually inspect whether our residuals are normally distributed. A qq-plot plots the residuals from our model against a straight line. If the plotted residuals fall mostly on the straight line, we conclude that they are most likely normally-distributed. If they deviate from the straight line, we conclude they might not be normally-distributed.\n",
    "\n",
    "To create the qq-plot, we can pass our model into the `plot()` function and set the `which` parameter equal to `2`:"
   ]
  },
  {
   "cell_type": "code",
   "execution_count": 7,
   "id": "5d429ff8",
   "metadata": {},
   "outputs": [
    {
     "data": {
      "image/png": "[encoded data removed]",
      "text/plain": [
       "Plot with title \"\""
      ]
     },
     "metadata": {
      "filenames": {
       "image/png": "C:\\Users\\phamilton\\Documents\\dsm\\jupyter_book\\_build\\jupyter_execute\\understanding_reg_12_0.png"
      }
     },
     "output_type": "display_data"
    }
   ],
   "source": [
    "plot(modelAge, which = 2)"
   ]
  },
  {
   "cell_type": "markdown",
   "id": "1bc4714f",
   "metadata": {},
   "source": [
    "Consistent with the histogram of the residuals, the qq-plot shows that the residuals are approximately normal (*i.e.*, they mostly fall on the straight line).\n",
    "\n",
    "```{warning}\n",
    "Always verify that the model residuals are normally distributed.\n",
    "```"
   ]
  }
 ],
 "metadata": {
  "jupytext": {
   "cell_metadata_filter": "-all",
   "formats": "md:myst",
   "text_representation": {
    "extension": ".md",
    "format_name": "myst",
    "format_version": 0.13,
    "jupytext_version": "1.11.5"
   }
  },
  "kernelspec": {
   "display_name": "R",
   "language": "R",
   "name": "ir"
  },
  "language_info": {
   "codemirror_mode": "r",
   "file_extension": ".r",
   "mimetype": "text/x-r-source",
   "name": "R",
   "pygments_lexer": "r",
   "version": "3.6.1"
  },
  "source_map": [
   16,
   25,
   35,
   37,
   45,
   47,
   93,
   96,
   110,
   112,
   135,
   137,
   143,
   145
  ]
 },
 "nbformat": 4,
 "nbformat_minor": 5
}