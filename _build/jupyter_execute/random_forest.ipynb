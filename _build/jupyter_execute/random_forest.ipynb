{
 "cells": [
  {
   "cell_type": "code",
   "execution_count": 1,
   "id": "3e3aae8b",
   "metadata": {
    "tags": [
     "remove-cell"
    ]
   },
   "outputs": [
    {
     "name": "stderr",
     "output_type": "stream",
     "text": [
      "Registered S3 methods overwritten by 'ggplot2':\n",
      "  method         from \n",
      "  [.quosures     rlang\n",
      "  c.quosures     rlang\n",
      "  print.quosures rlang\n"
     ]
    },
    {
     "name": "stderr",
     "output_type": "stream",
     "text": [
      "Registered S3 method overwritten by 'rvest':\n",
      "  method            from\n",
      "  read_xml.response xml2\n"
     ]
    },
    {
     "name": "stderr",
     "output_type": "stream",
     "text": [
      "-- Attaching packages --------------------------------------- tidyverse 1.2.1 --\n"
     ]
    },
    {
     "name": "stderr",
     "output_type": "stream",
     "text": [
      "v ggplot2 3.1.1       v purrr   0.3.2  \n",
      "v tibble  2.1.1       v dplyr   0.8.0.1\n",
      "v tidyr   0.8.3       v stringr 1.4.0  \n",
      "v readr   1.3.1       v forcats 0.4.0  \n"
     ]
    },
    {
     "name": "stderr",
     "output_type": "stream",
     "text": [
      "-- Conflicts ------------------------------------------ tidyverse_conflicts() --\n",
      "x dplyr::filter() masks stats::filter()\n",
      "x dplyr::lag()    masks stats::lag()\n"
     ]
    },
    {
     "name": "stderr",
     "output_type": "stream",
     "text": [
      "Warning message:\n",
      "\"package 'kableExtra' was built under R version 3.6.3\""
     ]
    },
    {
     "name": "stderr",
     "output_type": "stream",
     "text": [
      "\n",
      "Attaching package: 'kableExtra'\n",
      "\n"
     ]
    },
    {
     "name": "stderr",
     "output_type": "stream",
     "text": [
      "The following object is masked from 'package:dplyr':\n",
      "\n",
      "    group_rows\n",
      "\n"
     ]
    },
    {
     "name": "stderr",
     "output_type": "stream",
     "text": [
      "Loading required package: lattice\n"
     ]
    },
    {
     "name": "stderr",
     "output_type": "stream",
     "text": [
      "\n",
      "Attaching package: 'caret'\n",
      "\n"
     ]
    },
    {
     "name": "stderr",
     "output_type": "stream",
     "text": [
      "The following object is masked from 'package:purrr':\n",
      "\n",
      "    lift\n",
      "\n"
     ]
    },
    {
     "name": "stderr",
     "output_type": "stream",
     "text": [
      "randomForest 4.6-14\n"
     ]
    },
    {
     "name": "stderr",
     "output_type": "stream",
     "text": [
      "Type rfNews() to see new features/changes/bug fixes.\n"
     ]
    },
    {
     "name": "stderr",
     "output_type": "stream",
     "text": [
      "\n",
      "Attaching package: 'randomForest'\n",
      "\n"
     ]
    },
    {
     "name": "stderr",
     "output_type": "stream",
     "text": [
      "The following object is masked from 'package:dplyr':\n",
      "\n",
      "    combine\n",
      "\n"
     ]
    },
    {
     "name": "stderr",
     "output_type": "stream",
     "text": [
      "The following object is masked from 'package:ggplot2':\n",
      "\n",
      "    margin\n",
      "\n"
     ]
    },
    {
     "name": "stderr",
     "output_type": "stream",
     "text": [
      "Parsed with column specification:\n",
      "cols(\n",
      "  account_length = col_double(),\n",
      "  international_plan = col_character(),\n",
      "  voice_mail_plan = col_character(),\n",
      "  number_vmail_messages = col_double(),\n",
      "  total_day_minutes = col_double(),\n",
      "  total_day_calls = col_double(),\n",
      "  total_night_minutes = col_double(),\n",
      "  total_night_calls = col_double(),\n",
      "  total_intl_minutes = col_double(),\n",
      "  total_intl_calls = col_double(),\n",
      "  total_intl_charge = col_double(),\n",
      "  number_customer_service_calls = col_double(),\n",
      "  churn = col_character()\n",
      ")\n"
     ]
    }
   ],
   "source": [
    "library(tidyverse)\n",
    "library(ggplot2)\n",
    "library(kableExtra)\n",
    "library(caret)\n",
    "library(rpart)\n",
    "library(rpart.plot)\n",
    "library(randomForest)\n",
    "churn <- read_csv(\"_build/data/churn_train.csv\") %>% mutate_if(is.character, as.factor)\n",
    "cvConditions <- trainControl(method = \"cv\", number = 5)"
   ]
  },
  {
   "cell_type": "markdown",
   "id": "00a99c00",
   "metadata": {},
   "source": [
    "# Random Forest\n",
    "\n",
    "One shortcoming of the CART model discussed in the previous section is that it typically exhibits high variance. This means that the model might change significantly if it were built on a different sample of data. In general we hope that our models are robust, and not highly dependent on the particular observations in the training set. Instead we prefer models that exhibit low variance, meaning the model parameters would not change drastically if we built the model on a different random sample of data.\n",
    "\n",
    "Statistical theory tells us that even if the variance of an individual model is high, the variance of many such models averaged together will be significantly lower. Of course, we usually only have one training set, so we do not have the luxury of building many different CART models on separate data sets and averaging them together. However, thanks to a technique known as bootstrapping, there is a way to build many different trees on a single data set. This model, known as the **random forest**, works according to the following steps: \n",
    "\n",
    "  1. Generate $B$ replicates of the training data by randomly sampling from the training data *with replacement*. Each replicate should be the same size as the original data set.\n",
    "  \n",
    "      + Drawing a sample with replacement means that a given observation can be included multiple times in the sample. Imagine that we were randomly drawing a sample of bingo balls out of a hat. If we drew G7, we would record that value in our sample and then throw it back into the hat before drawing the next ball. This implies that we could potentially draw G7 again later on.\n",
    "      \n",
    "      + This process is called **bootstrapping**.\n",
    "  \n",
    "  2. Build separate decision trees on each of the $B$ samples, with one caveat. Instead of freely building the decision trees, there is one additional rule: each time we make a cut, consider only a random subset of $m$ features from the full set of $p$ features; a common rule of thumb is that $m$ should be around the square root of $p$.\n",
    "  \n",
    "      + In this example, we are training a random forest to predict `churn` using the twelve independent features in our data set (so $p$ = 12). As the square root of twelve is 3.46, let's think through the random forest model with an $m$ of four. Each individual tree in our forest is built on one of the $B$ independent samples that were drawn in the previous step. Every time a cut is made within each of these trees, the algorithm randomly selects four of the twelve independent features in our data set. As before, the cut is made based on whichever one of these four features minimizes the entropy (*i.e.*, maximizes the information gain). For the next cut, another set of four features are randomly selected, and the process is repeated.\n",
    "  \n",
    "  3. Make predictions for new observations by averaging the predictions of all of the trees together. \n",
    "\n",
    "This process is shown in the visualization below (with a simplified sample of only six observations):\n",
    "\n",
    "```{figure} _build/images/rf2.png\n",
    "---\n",
    "height: 600px\n",
    "width: 800px\n",
    "---\n",
    "```\n",
    "\n",
    "<br>"
   ]
  },
  {
   "cell_type": "code",
   "execution_count": 2,
   "id": "bc3e4807",
   "metadata": {
    "tags": [
     "remove-cell"
    ]
   },
   "outputs": [],
   "source": [
    "churn$churn <- ifelse(churn$churn==\"yes\", \"churn\", \"no churn\")\n",
    "churn$churn <- factor(churn$churn, levels=c(\"churn\", \"no churn\"))"
   ]
  },
  {
   "cell_type": "markdown",
   "id": "3782c712",
   "metadata": {},
   "source": [
    "We can fit a random forest model in R with the `randomForest()` function from the `randomForest` package, which uses the following syntax:\n",
    "\n",
    "```{admonition} Syntax\n",
    "`randomForest::randomForest(y ~ x1 + x2 + ... + xp, data, ntree = 500, mtry, importance = FALSE)`\n",
    "+ *Required arguments*\n",
    "  - `y`: The name of the dependent ($Y$) variable. If this variable is coded as a factor the model assumes you are trying to perform classification; if it is coded as a numeric, the model assumes you are trying to perform regression. \n",
    "  - `x1`, `x2`, ... `xp`: The name of the first, second, and $pth$ independent variables.\n",
    "  - `data`: The name of the data frame with the `y`, `x1`, `x2`, and `xp` variables.\n",
    "+ *Optional arguments*\n",
    "  - `ntree`: The number of trees to build in the forest (*i.e.*, the number of bootstrap samples $B$).\n",
    "  - `mtry`: The number of variables randomly sampled as candidates at each split ($m$). For classification, the default value is the square root of the number of independent features ($\\sqrt{p}$). For regression, the default is the number of independent features divided by three ($p / 3$).\n",
    "  - `importance`: Whether the importance of the predictors should be assessed. By default this is `FALSE`, but we will set it to `TRUE` so that we can observe the importance of each feature in the next section. \n",
    "```\n",
    "\n",
    "Below we apply this to the `churn` data set:"
   ]
  },
  {
   "cell_type": "code",
   "execution_count": 3,
   "id": "9697eb00",
   "metadata": {},
   "outputs": [],
   "source": [
    "modelRF <- randomForest(churn ~ ., data = churn, importance=TRUE)"
   ]
  },
  {
   "cell_type": "markdown",
   "id": "89b32c54",
   "metadata": {},
   "source": [
    "## Feature Importance\n",
    "\n",
    "Because a random forest model is comprised of many, many individual trees, we cannot interpret it as easily as we did with the CART model in the previous section. With the classification tree we built, we could visualize the tree and understand how the model made predictions. This is not possible with a random forest model, as each prediction is a weighted average of (typically) hundreds of different trees. How, then, can we develop some sense of how the model makes predictions?\n",
    "\n",
    "One method that has been developed for random forest models is **variable importance**, which attempts to measure the relative importance of each independent feature ($X$) in the model. Following the process described below, each independent feature is ranked according to how important that feature is in predicting the target feature ($Y$). This allows one to develop a sense for which information the model is relying on to make predictions. \n",
    "\n",
    "Feature importance is calculated according to the following steps:\n",
    "\n",
    "  1. Calculate the Out-of-Bag (OOB) score for each tree in the forest.\n",
    "  \n",
    "      + Remember that each tree in the forest is built on a bootstrap sample of the training data, which means each one of these samples is likely missing some of the observations from the training set. For example, in the visualization of the random forest in the previous section, the first bootstrap sample only contains observations 2, 3, 5, and 6; it does not contain observations 1 or 4. This means that for this sample, observations 1 and 4 are \"out-of-bag\" (*i.e.*, not included). The OOB score for a tree is the prediction accuracy of that tree on its own out-of-bag observations. For the first tree, the OOB score is therefore the predictive accuracy of that tree on observations 1 and 4. \n",
    "      \n",
    "  2. Randomly shuffle the values of the variable of interest. For example, if we were calculating the feature importance of `total_day_minutes`, we would randomly shuffle the `total_day_minutes` column in our data set. Then, re-calculate the OOB score for each tree as we did in Step 1, but now with one of the columns shuffled.\n",
    "  \n",
    "  3. Calculate the final feature importance as the average difference between each tree's two OOB scores, divided by the standard deviation of those differences.\n",
    "\n",
    "Below we calculate the feature importance values for our model using the `importance()` function from the `randomForest` package, which uses the following syntax:\n",
    "\n",
    "```{admonition} Syntax\n",
    "`randomForest::importance(x, type = NULL)`\n",
    "+ *Required arguments*\n",
    "  - `x`: An model object created using `randomForest()`.\n",
    "+ *Optional arguments*\n",
    "  - `type`: Either 1 or 2, specifying the type of importance measure (1=mean decrease in accuracy, 2=mean decrease in node impurity). We will use `type=1`. \n",
    "```"
   ]
  },
  {
   "cell_type": "code",
   "execution_count": 4,
   "id": "a30858a0",
   "metadata": {},
   "outputs": [
    {
     "data": {
      "text/html": [
       "<table>\n",
       "<thead><tr><th></th><th scope=col>MeanDecreaseAccuracy</th></tr></thead>\n",
       "<tbody>\n",
       "\t<tr><th scope=row>account_length</th><td>  0.1902070</td></tr>\n",
       "\t<tr><th scope=row>international_plan</th><td> 84.8083543</td></tr>\n",
       "\t<tr><th scope=row>voice_mail_plan</th><td> 18.5900673</td></tr>\n",
       "\t<tr><th scope=row>number_vmail_messages</th><td> 19.0918117</td></tr>\n",
       "\t<tr><th scope=row>total_day_minutes</th><td>106.6200981</td></tr>\n",
       "\t<tr><th scope=row>total_day_calls</th><td>  1.1199931</td></tr>\n",
       "\t<tr><th scope=row>total_night_minutes</th><td>  9.4061085</td></tr>\n",
       "\t<tr><th scope=row>total_night_calls</th><td> -0.5614556</td></tr>\n",
       "\t<tr><th scope=row>total_intl_minutes</th><td> 30.6333849</td></tr>\n",
       "\t<tr><th scope=row>total_intl_calls</th><td> 48.2434548</td></tr>\n",
       "\t<tr><th scope=row>total_intl_charge</th><td> 32.5377530</td></tr>\n",
       "\t<tr><th scope=row>number_customer_service_calls</th><td> 78.3956167</td></tr>\n",
       "</tbody>\n",
       "</table>\n"
      ],
      "text/latex": [
       "\\begin{tabular}{r|l}\n",
       "  & MeanDecreaseAccuracy\\\\\n",
       "\\hline\n",
       "\taccount\\_length &   0.1902070\\\\\n",
       "\tinternational\\_plan &  84.8083543\\\\\n",
       "\tvoice\\_mail\\_plan &  18.5900673\\\\\n",
       "\tnumber\\_vmail\\_messages &  19.0918117\\\\\n",
       "\ttotal\\_day\\_minutes & 106.6200981\\\\\n",
       "\ttotal\\_day\\_calls &   1.1199931\\\\\n",
       "\ttotal\\_night\\_minutes &   9.4061085\\\\\n",
       "\ttotal\\_night\\_calls &  -0.5614556\\\\\n",
       "\ttotal\\_intl\\_minutes &  30.6333849\\\\\n",
       "\ttotal\\_intl\\_calls &  48.2434548\\\\\n",
       "\ttotal\\_intl\\_charge &  32.5377530\\\\\n",
       "\tnumber\\_customer\\_service\\_calls &  78.3956167\\\\\n",
       "\\end{tabular}\n"
      ],
      "text/markdown": [
       "\n",
       "| <!--/--> | MeanDecreaseAccuracy |\n",
       "|---|---|\n",
       "| account_length |   0.1902070 |\n",
       "| international_plan |  84.8083543 |\n",
       "| voice_mail_plan |  18.5900673 |\n",
       "| number_vmail_messages |  19.0918117 |\n",
       "| total_day_minutes | 106.6200981 |\n",
       "| total_day_calls |   1.1199931 |\n",
       "| total_night_minutes |   9.4061085 |\n",
       "| total_night_calls |  -0.5614556 |\n",
       "| total_intl_minutes |  30.6333849 |\n",
       "| total_intl_calls |  48.2434548 |\n",
       "| total_intl_charge |  32.5377530 |\n",
       "| number_customer_service_calls |  78.3956167 |\n",
       "\n"
      ],
      "text/plain": [
       "                              MeanDecreaseAccuracy\n",
       "account_length                  0.1902070         \n",
       "international_plan             84.8083543         \n",
       "voice_mail_plan                18.5900673         \n",
       "number_vmail_messages          19.0918117         \n",
       "total_day_minutes             106.6200981         \n",
       "total_day_calls                 1.1199931         \n",
       "total_night_minutes             9.4061085         \n",
       "total_night_calls              -0.5614556         \n",
       "total_intl_minutes             30.6333849         \n",
       "total_intl_calls               48.2434548         \n",
       "total_intl_charge              32.5377530         \n",
       "number_customer_service_calls  78.3956167         "
      ]
     },
     "metadata": {},
     "output_type": "display_data"
    }
   ],
   "source": [
    "importance(modelRF, type = 1)"
   ]
  },
  {
   "cell_type": "markdown",
   "id": "59246972",
   "metadata": {},
   "source": [
    "This output indicates that `total_day_minutes` is the most important predictive feature in the model, followed by `international_plan`, then `number_customer_service_calls`, etc.\n",
    "\n",
    "## Tuning Hyperparameters\n",
    "\n",
    "For random forest we can use cross validation to tune the hyperparameter $m$, or the number of independent features randomly sampled as candidates at each split. As with the other models in this chapter, we can do this with the `train()` function from the `caret` package. Note that for random forest, we set `method` to `\"rf\"`."
   ]
  },
  {
   "cell_type": "code",
   "execution_count": 5,
   "id": "887374c2",
   "metadata": {},
   "outputs": [
    {
     "data": {
      "text/plain": [
       "Random Forest \n",
       "\n",
       "3400 samples\n",
       "  12 predictor\n",
       "   2 classes: 'churn', 'no churn' \n",
       "\n",
       "No pre-processing\n",
       "Resampling: Cross-Validated (5 fold) \n",
       "Summary of sample sizes: 2719, 2721, 2719, 2720, 2721 \n",
       "Resampling results across tuning parameters:\n",
       "\n",
       "  mtry  Accuracy   Kappa    \n",
       "   2    0.9258848  0.6484207\n",
       "   7    0.9344173  0.7069461\n",
       "  12    0.9320622  0.6964866\n",
       "\n",
       "Accuracy was used to select the optimal model using the largest value.\n",
       "The final value used for the model was mtry = 7."
      ]
     },
     "metadata": {},
     "output_type": "display_data"
    }
   ],
   "source": [
    "set.seed(972945)\n",
    "rfCV <- train(churn ~ ., \n",
    "                 data = churn,\n",
    "                 method = \"rf\", \n",
    "                 trControl = cvConditions)\n",
    "\n",
    "rfCV"
   ]
  }
 ],
 "metadata": {
  "jupytext": {
   "cell_metadata_filter": "-all",
   "formats": "md:myst",
   "text_representation": {
    "extension": ".md",
    "format_name": "myst",
    "format_version": 0.13,
    "jupytext_version": "1.11.5"
   }
  },
  "kernelspec": {
   "display_name": "R",
   "language": "R",
   "name": "ir"
  },
  "language_info": {
   "codemirror_mode": "r",
   "file_extension": ".r",
   "mimetype": "text/x-r-source",
   "name": "R",
   "pygments_lexer": "r",
   "version": "3.6.1"
  },
  "source_map": [
   16,
   27,
   58,
   62,
   80,
   82,
   110,
   112,
   120
  ]
 },
 "nbformat": 4,
 "nbformat_minor": 5
}