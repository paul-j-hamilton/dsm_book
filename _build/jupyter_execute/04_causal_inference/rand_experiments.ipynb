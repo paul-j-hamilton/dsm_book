{
 "cells": [
  {
   "cell_type": "code",
   "execution_count": 1,
   "id": "37eb8f9d",
   "metadata": {
    "tags": [
     "remove-cell"
    ]
   },
   "outputs": [
    {
     "name": "stderr",
     "output_type": "stream",
     "text": [
      "Warning message:\n",
      "\"package 'pwr' was built under R version 3.6.3\""
     ]
    }
   ],
   "source": [
    "library(pwr)\n",
    "library(purrr)\n",
    "\n",
    "inv.logit <- function(x) {\n",
    "    1 / (1 + exp(-x))\n",
    "}\n",
    "\n",
    "data_causal_inf <- function(n, tau = 1, b = 2, base = 100) {\n",
    "    ## DGP\n",
    "    age <- rnbinom(n, 10, 0.3)\n",
    "    ps <- inv.logit(0.2*(age- mean(age)))\n",
    "    Y0s <- round(base + b * age + rnorm(n, 0, 3))\n",
    "    Y1s <- round(Y0s + tau)\n",
    "    Z <- map_dbl(ps, ~ sample(c(0,1), 1, F, c(1-., .)))\n",
    "    Y <- Z * Y1s + (1-Z) * Y0s\n",
    "    return(list(age = age, Y = Y, Z = Z, ps = ps))\n",
    "}\n",
    "\n",
    "data_causal_inf_rand_exp <- function(n, tau = 1, b = 2, base = 100) {\n",
    "    ## DGP\n",
    "    age <- rnbinom(n, 10, 0.3)\n",
    "    ps <- inv.logit(0.2*(age- mean(age)))\n",
    "    Y0s <- round(base + b * age + rnorm(n, 0, 3))\n",
    "    Y1s <- round(Y0s + tau)\n",
    "    Z <- rbinom(n, 1, 0.5)\n",
    "    Y <- Z * Y1s + (1-Z) * Y0s\n",
    "    return(list(age = age, Y = Y, Z = Z, ps = ps))\n",
    "}\n",
    "\n",
    "set.seed(7)\n",
    "n <- 500\n",
    "\n",
    "causal_int_obs <- data_causal_inf(n, tau = 0.9123, b = - 1.0314)\n",
    "\n",
    "Age <- causal_int_obs$age; StreamingMinutes <- causal_int_obs$Y; AccountType <- ifelse(causal_int_obs$Z, \"Premium\", \"Free\")\n",
    "musicfi <- data.frame(Age, AccountType, StreamingMinutes)\n",
    "\n",
    "causal_int_obsrand <- data_causal_inf_rand_exp(n=500, tau = 0.9123, b = - 0.5314)\n",
    "\n",
    "Age <- causal_int_obsrand$age; StreamingMinutes <- causal_int_obsrand$Y; AccountType <- ifelse(causal_int_obsrand$Z, \"Premium\", \"Free\")\n",
    "musicfiExp <- data.frame(Age, AccountType, StreamingMinutes)"
   ]
  },
  {
   "cell_type": "markdown",
   "id": "9565bdff",
   "metadata": {},
   "source": [
    "# Randomized Experiments\n",
    "\n",
    "Randomized experiments remove the selection problem and ensure that there are no confounding variables (observed or unobserved). They do this by removing the individual’s opportunity to select whether or not they receive the treatment. In the Musicfi example, suppose we ran an experiment with 500 participants where we randomly upgraded some free accounts to premium accounts. Now, we no longer have to adjust for age as (on average) there will be no age difference between the treated and control subjects. Suppose the data from our experiment is stored in a data frame called `musicfiExp`:"
   ]
  },
  {
   "cell_type": "code",
   "execution_count": 2,
   "id": "df88b6d4",
   "metadata": {},
   "outputs": [
    {
     "data": {
      "text/html": [
       "<table>\n",
       "<thead><tr><th scope=col>Age</th><th scope=col>AccountType</th><th scope=col>StreamingMinutes</th></tr></thead>\n",
       "<tbody>\n",
       "\t<tr><td>20     </td><td>Premium</td><td>92     </td></tr>\n",
       "\t<tr><td>28     </td><td>Free   </td><td>88     </td></tr>\n",
       "\t<tr><td>20     </td><td>Premium</td><td>89     </td></tr>\n",
       "\t<tr><td>24     </td><td>Premium</td><td>86     </td></tr>\n",
       "\t<tr><td>22     </td><td>Premium</td><td>91     </td></tr>\n",
       "\t<tr><td>15     </td><td>Premium</td><td>93     </td></tr>\n",
       "</tbody>\n",
       "</table>\n"
      ],
      "text/latex": [
       "\\begin{tabular}{r|lll}\n",
       " Age & AccountType & StreamingMinutes\\\\\n",
       "\\hline\n",
       "\t 20      & Premium & 92     \\\\\n",
       "\t 28      & Free    & 88     \\\\\n",
       "\t 20      & Premium & 89     \\\\\n",
       "\t 24      & Premium & 86     \\\\\n",
       "\t 22      & Premium & 91     \\\\\n",
       "\t 15      & Premium & 93     \\\\\n",
       "\\end{tabular}\n"
      ],
      "text/markdown": [
       "\n",
       "| Age | AccountType | StreamingMinutes |\n",
       "|---|---|---|\n",
       "| 20      | Premium | 92      |\n",
       "| 28      | Free    | 88      |\n",
       "| 20      | Premium | 89      |\n",
       "| 24      | Premium | 86      |\n",
       "| 22      | Premium | 91      |\n",
       "| 15      | Premium | 93      |\n",
       "\n"
      ],
      "text/plain": [
       "  Age AccountType StreamingMinutes\n",
       "1 20  Premium     92              \n",
       "2 28  Free        88              \n",
       "3 20  Premium     89              \n",
       "4 24  Premium     86              \n",
       "5 22  Premium     91              \n",
       "6 15  Premium     93              "
      ]
     },
     "metadata": {},
     "output_type": "display_data"
    }
   ],
   "source": [
    "head(musicfiExp)"
   ]
  },
  {
   "cell_type": "markdown",
   "id": "12e85575",
   "metadata": {},
   "source": [
    "Unlike the observational data from the previous section, there is now no significant difference in age between the treatment and control groups:"
   ]
  },
  {
   "cell_type": "code",
   "execution_count": 3,
   "id": "680b2497",
   "metadata": {},
   "outputs": [
    {
     "data": {
      "image/png": "[encoded data removed]",
      "text/plain": [
       "plot without title"
      ]
     },
     "metadata": {
      "filenames": {
       "image/png": "C:\\Users\\phamilton\\Documents\\dsm\\dsm_book\\_build\\jupyter_execute\\04_causal_inference\\rand_experiments_4_0.png"
      }
     },
     "output_type": "display_data"
    }
   ],
   "source": [
    "boxplot(musicfiExp$Age ~ musicfiExp$AccountType, ylab = \"Age\", xlab = \"Treatment\")"
   ]
  },
  {
   "cell_type": "markdown",
   "id": "b47552d3",
   "metadata": {},
   "source": [
    "Age is not a confounding variable as it is independent of the treatment assignment. We can now directly attribute any differences in the outcome due to the intervention. This allows us to conclude that giving people a premium account increases streaming minutes."
   ]
  },
  {
   "cell_type": "code",
   "execution_count": 4,
   "id": "9e5d835e",
   "metadata": {},
   "outputs": [
    {
     "data": {
      "text/plain": [
       "\n",
       "\tWelch Two Sample t-test\n",
       "\n",
       "data:  musicfiExp$StreamingMinutes by musicfiExp$AccountType\n",
       "t = -2.5057, df = 497.95, p-value = 0.01254\n",
       "alternative hypothesis: true difference in means is not equal to 0\n",
       "95 percent confidence interval:\n",
       " -2.2728058 -0.2750465\n",
       "sample estimates:\n",
       "   mean in group Free mean in group Premium \n",
       "             87.55285              88.82677 \n"
      ]
     },
     "metadata": {},
     "output_type": "display_data"
    },
    {
     "data": {
      "image/png": "[encoded data removed]",
      "text/plain": [
       "plot without title"
      ]
     },
     "metadata": {
      "filenames": {
       "image/png": "C:\\Users\\phamilton\\Documents\\dsm\\dsm_book\\_build\\jupyter_execute\\04_causal_inference\\rand_experiments_6_1.png"
      }
     },
     "output_type": "display_data"
    }
   ],
   "source": [
    "boxplot(StreamingMinutes ~ AccountType, ylab = \"Streaming Minutes\", xlab = \"Treatment\")\n",
    "t.test(musicfiExp$StreamingMinutes ~ musicfiExp$AccountType)"
   ]
  },
  {
   "cell_type": "markdown",
   "id": "45d1bc9c",
   "metadata": {},
   "source": [
    "The difference may be relatively small, but the low p-value indicates that the difference is statistically significant. \n",
    "\n",
    "\n",
    "## Designing an Experiment\n",
    "\n",
    "Now that we know why experimentation is necessary, let’s review the steps that businesses use to design their experiments.\n",
    "\n",
    "#### 1. Generate a Hypothesis\n",
    "\n",
    "The starting point to any experiment is to generate a hypothesis. For companies these hypotheses take the following form:\n",
    "\n",
    "> If we [do this] then [this outcome] will increase/decrease by [this much].\n",
    "\n",
    "+ [do this]: describes the treatment; most of the time, we implicitly assume that the control is the current approach, and hence it is not explicitly mentioned.\n",
    "+ [this outcome]: describes the outcome we expect the treatment will affect.\n",
    "+ [this much]: describes our best guess at the likely effect of the treatment on the outcome. It is also essential to make a reasonable guess at what the effect will be; this guess will form the basis of a calculation that will determine the number of people (sample size) necessary to detect an effect of such a magnitude in an experiment.\n",
    "\n",
    "Some examples:\n",
    "\n",
    "+ If we enlarge our “Buy now” button by 20% then total sales will increase by +5%.\n",
    "+ If we launch a simpler user interface on our home page then total sessions will increase by 10%.\n",
    "+ If we remove fake accounts then complaints will decrease by 2%.\n",
    "\n",
    "Although the above examples focus on a single outcome, it is common to look at one to five primary outcomes and possibly another ten to fifteen secondary (less important) outcomes. No matter the number, however, it is crucial that these are specified before data collection.\n",
    "\n",
    "#### 2. Select the Study Population\n",
    "\n",
    "After generating the hypothesis, we have to identify the group(s) of people who will take part in the study; this is often called determining the inclusion/exclusion criteria. Choosing these criteria depends on the context.\n",
    "\n",
    "For the above examples we could consider the following populations:\n",
    "\n",
    "+ All U.S. cell phone users that visit the website.\n",
    "+ All customers using the company’s iOS mobile application with version XXX or above.\n",
    "+ All worldwide customers.\n",
    "\n",
    "This step will provide us with an estimate of the overall population size. From here, we need to determine how we are going to recruit people into our study. The next step explains how to assign people to either treatment or control.\n",
    "\n",
    "#### 3. Define the Assignment Mechanism\n",
    "\n",
    "The assignment mechanism is a probability distribution that specifies the likelihood of each person in our study receiving a treatment. There are, of course, many possible assignment mechanisms for an experiment on a population. Below, we introduce the two most popular mechanisms:\n",
    "\n",
    "+ **Bernoulli Design**: Each person is independently assigned with probability $p$ to receive the treatment and a probability $1 − p$ to receive the control. In other words, for every person, we toss an independent coin with probability of heads = $p$, if we get heads, we assign them to treatment, and if we get tails, we assign them to control. This can be implemented using the `sample()` command with `replace = TRUE`.\n",
    "+ **Completely Randomized Design:** In this design, we specify how many people will be placed in each condition. For example, we might specify that $n_{0}$ will get the control and $n_{1}$ will get the treatment. Then, we randomly pick $n_{0}$ of our participants to receive the control and $n_{1}$ to receive the treatment. This again can be implemented using the `sample()` command.\n",
    "\n",
    "The main difference between a Bernoulli and a completely randomized design is that we guarantee how many people receive the treatment in the latter. On the other hand, the Bernoulli is much easier to implement if we don’t know exactly how many people will be in our study (*e.g.*, people “arrive” one after another)."
   ]
  }
 ],
 "metadata": {
  "jupytext": {
   "cell_metadata_filter": "-all",
   "formats": "md:myst",
   "text_representation": {
    "extension": ".md",
    "format_name": "myst",
    "format_version": 0.13,
    "jupytext_version": "1.11.5"
   }
  },
  "kernelspec": {
   "display_name": "R",
   "language": "R",
   "name": "ir"
  },
  "language_info": {
   "codemirror_mode": "r",
   "file_extension": ".r",
   "mimetype": "text/x-r-source",
   "name": "R",
   "pygments_lexer": "r",
   "version": "3.6.1"
  },
  "source_map": [
   16,
   59,
   65,
   67,
   71,
   73,
   77,
   80
  ]
 },
 "nbformat": 4,
 "nbformat_minor": 5
}