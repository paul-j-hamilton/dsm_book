{
 "cells": [
  {
   "cell_type": "markdown",
   "id": "3a711d50",
   "metadata": {},
   "source": [
    "# **R Basics**\n",
    "\n",
    "This chapter provides an introduction to the very basics of R (and coding in general). By the end, you will be familiar with all of the following concepts:\n",
    "\n",
    "+ R as a Calculator\n",
    "+ Assignment\n",
    "+ Data Types\n",
    "+ Atomic Vectors\n",
    "+ Functions\n",
    "\n",
    "If you already have experience with coding and/or the R language, you may skip this chapter. However, you must still successfully complete the coding exercise at the end of the bootcamp before our third class.\n",
    "\n",
    "\n",
    "To begin, watch the following video:\n",
    "\n",
    "[ADD]\n",
    "\n",
    "Click the button below to launch an interactive R session in your browser. As you read through the sections of this chapter, use this interactive R session to test out what your learn. \n",
    "\n",
    "<a href=\"https://hbs-data-science.shinyapps.io/DSM_R_Basics\" class=\"btn btn-primary\" style=\"color:white;\" target=\"_blank\">Start Coding in R!</a>\n",
    "\n",
    "---\n",
    "\n",
    "## R as a Calculator\n",
    "\n",
    "At its most basic, R can be used as a calculator. As you would expect, you can use all the standard mathematical operators:\n",
    "\n",
    "+ Addition (`+`) & Subtraction (`-`)\n",
    "+ Multiplication (`*`) & Division (`/`)\n",
    "+ Exponentiation (`^`)"
   ]
  },
  {
   "cell_type": "code",
   "execution_count": 1,
   "id": "a9ec1c5e",
   "metadata": {},
   "outputs": [
    {
     "data": {
      "text/html": [
       "4"
      ],
      "text/latex": [
       "4"
      ],
      "text/markdown": [
       "4"
      ],
      "text/plain": [
       "[1] 4"
      ]
     },
     "metadata": {},
     "output_type": "display_data"
    }
   ],
   "source": [
    "2 + 2"
   ]
  },
  {
   "cell_type": "code",
   "execution_count": 2,
   "id": "9a2be36d",
   "metadata": {},
   "outputs": [
    {
     "data": {
      "text/html": [
       "5"
      ],
      "text/latex": [
       "5"
      ],
      "text/markdown": [
       "5"
      ],
      "text/plain": [
       "[1] 5"
      ]
     },
     "metadata": {},
     "output_type": "display_data"
    }
   ],
   "source": [
    "100 / 20"
   ]
  },
  {
   "cell_type": "code",
   "execution_count": 3,
   "id": "2bfa1f84",
   "metadata": {},
   "outputs": [
    {
     "data": {
      "text/html": [
       "27"
      ],
      "text/latex": [
       "27"
      ],
      "text/markdown": [
       "27"
      ],
      "text/plain": [
       "[1] 27"
      ]
     },
     "metadata": {},
     "output_type": "display_data"
    }
   ],
   "source": [
    "3 ^ 3"
   ]
  },
  {
   "cell_type": "markdown",
   "id": "845af7c4",
   "metadata": {},
   "source": [
    "Of course, R is much more than a simple calculator! In the following sections, you'll learn the building blocks of R that we'll rely on throughout the entire course. \n",
    "\n",
    "## Assignment\n",
    "\n",
    "When you work with data in Excel, each value in your data set is stored in an individual cell, and each one of those cells has a unique name made up of a letter and a number. For example, in the figure below, cell A2 stores the number `110,000`, cell B3 stores the text `\"Operations\"`, etc.\n",
    "\n",
    "```{figure} ../images/Excel_Example.png\n",
    "---\n",
    "height: 200px\n",
    "name: excel\n",
    "---\n",
    "Example Excel Worksheet\n",
    "```\n",
    "\n",
    "Once you have data stored in cells, you can apply formulas to those cells by referencing the cell names. For example, if you ran `=SUM(A2:A7)`, Excel would sum the salaries of all employees in the data set. If this example is framiliar to you, you already understand the basics of R programming!\n",
    "\n",
    "To learn how to code in R, you do not need a complete understanding of how the language is designed. However, you should know that everything you create in an R program is referred to as an **object**. Every object you create belongs to one of several **classes**, which determines the properties and attributes of the object.\n",
    "\n",
    "To see what this means in concrete terms, let’s take a look at some R code. In the code below, we create an object called `A2`, which contains the value `110000`. We can create objects (or **variables**) with the **assignment operator** `<-`. When we run this line of code, we create an object called `A2` that stores the value `110000`. Think of this as similar to entering the value `110000` into cell `A2` in an Excel worksheet."
   ]
  },
  {
   "cell_type": "code",
   "execution_count": 4,
   "id": "218fdd53",
   "metadata": {},
   "outputs": [],
   "source": [
    "A2 <- 110000"
   ]
  },
  {
   "cell_type": "markdown",
   "id": "ad54bf09",
   "metadata": {},
   "source": [
    "This code does not produce any output; all we are doing is storing the value `11000` in a variable called `A2`, so there are no results to print out. If we want to see what’s stored in our variable, we can simply run a line of code with the name of the variable and R will output its contents."
   ]
  },
  {
   "cell_type": "code",
   "execution_count": 5,
   "id": "ede04a96",
   "metadata": {},
   "outputs": [
    {
     "data": {
      "text/html": [
       "110000"
      ],
      "text/latex": [
       "110000"
      ],
      "text/markdown": [
       "110000"
      ],
      "text/plain": [
       "[1] 110000"
      ]
     },
     "metadata": {},
     "output_type": "display_data"
    }
   ],
   "source": [
    "A2"
   ]
  },
  {
   "cell_type": "markdown",
   "id": "e6eb4383",
   "metadata": {},
   "source": [
    "Fortunately, we can be more descriptive with our variable names. We can name our variables anything we want, subject to two rules.\n",
    "\n",
    ":::{note}\n",
    "+ A variable name has to start with a letter and can contain letters, numbers, underscores, and periods.\n",
    "+ A variable cannot have the same name as any of R’s **reserved words**. These are words that already have meaning in the R language. For example, we could not create a variable called `class`, because this word is already being used for the `class()` function in R.\n",
    ":::\n",
    "\n",
    "Below we create some more variables."
   ]
  },
  {
   "cell_type": "code",
   "execution_count": 6,
   "id": "cb83d4ee",
   "metadata": {},
   "outputs": [
    {
     "data": {
      "text/html": [
       "5.5"
      ],
      "text/latex": [
       "5.5"
      ],
      "text/markdown": [
       "5.5"
      ],
      "text/plain": [
       "[1] 5.5"
      ]
     },
     "metadata": {},
     "output_type": "display_data"
    }
   ],
   "source": [
    "a <- 5.5\n",
    "a"
   ]
  },
  {
   "cell_type": "markdown",
   "id": "bae4a6f4",
   "metadata": {},
   "source": [
    "If you create a variable in R but then want to change its value, you can simply overwrite it with the assignment operator `<-`. Imagine we wanted `a` to store the value `6.5` instead of `5.5`; we can fix it as follows:"
   ]
  },
  {
   "cell_type": "code",
   "execution_count": 7,
   "id": "d4c71152",
   "metadata": {},
   "outputs": [
    {
     "data": {
      "text/html": [
       "6.5"
      ],
      "text/latex": [
       "6.5"
      ],
      "text/markdown": [
       "6.5"
      ],
      "text/plain": [
       "[1] 6.5"
      ]
     },
     "metadata": {},
     "output_type": "display_data"
    }
   ],
   "source": [
    "a <- 6.5\n",
    "a"
   ]
  },
  {
   "cell_type": "markdown",
   "id": "bcab8bb7",
   "metadata": {},
   "source": [
    "The variables we create can store more than just numbers. We can store text in a variable by surrounding the text with quotation marks (`\"\"`):"
   ]
  },
  {
   "cell_type": "code",
   "execution_count": 8,
   "id": "2fd4d24e",
   "metadata": {},
   "outputs": [
    {
     "data": {
      "text/html": [
       "'I love DSM!'"
      ],
      "text/latex": [
       "'I love DSM!'"
      ],
      "text/markdown": [
       "'I love DSM!'"
      ],
      "text/plain": [
       "[1] \"I love DSM!\""
      ]
     },
     "metadata": {},
     "output_type": "display_data"
    }
   ],
   "source": [
    "myFirstTextVar <- \"I love DSM!\"\n",
    "myFirstTextVar"
   ]
  },
  {
   "cell_type": "markdown",
   "id": "a3a4162f",
   "metadata": {},
   "source": [
    "You'll notice in the code example above that in our variable name, the first letter of each word (except the first word) is capitalized. Writing variable names this way is a convention known as **camel case**, and although it is not required, we recommend it to keep your R code easily readable. \n",
    "\n",
    "## Data Types\n",
    "\n",
    "You are likely framiliar with the window below from Excel, which shows the format of a cell (or group of cells). The proper choice of format depends on the type of data contained in the cell. For example, a column containing customers’ names should be formatted as *General* or *Text*; a column with the transaction dates of customer orders should be formatted as *Date*; a column with sales prices should be formatted as *Currency* or *Accounting*.\n",
    "\n",
    "```{figure} ../images/Excel_Formats.png\n",
    "---\n",
    "height: 400px\n",
    "name: excel\n",
    "---\n",
    "Data Formats in Excel\n",
    "```\n",
    "\n",
    "Just like Excel, R has several **data types** that specify the type of data you are working with. We can see the data type of a variable by applying the `class()` function (we'll learn more about functions in an upcoming section). For example, if we apply `class()` to our variable `myFirstTextVar`, we see it is a `character`, which means that it stores text. Note that we did not need to explicitly tell R which class `myFirstTextVar` should belong to - because we were storing text in `myFirstTextVar`, R automatically knew to create a `character` object."
   ]
  },
  {
   "cell_type": "code",
   "execution_count": 9,
   "id": "028a6a9a",
   "metadata": {},
   "outputs": [
    {
     "data": {
      "text/html": [
       "'character'"
      ],
      "text/latex": [
       "'character'"
      ],
      "text/markdown": [
       "'character'"
      ],
      "text/plain": [
       "[1] \"character\""
      ]
     },
     "metadata": {},
     "output_type": "display_data"
    }
   ],
   "source": [
    "class(myFirstTextVar)"
   ]
  },
  {
   "cell_type": "markdown",
   "id": "62be0a58",
   "metadata": {},
   "source": [
    "The following are the primary data types that you should be aware of:\n",
    "\n",
    "+ **Logical** - Used to store Boolean data, which only take on the values `TRUE` or `FALSE`."
   ]
  },
  {
   "cell_type": "code",
   "execution_count": 10,
   "id": "0209909d",
   "metadata": {},
   "outputs": [
    {
     "data": {
      "text/html": [
       "'logical'"
      ],
      "text/latex": [
       "'logical'"
      ],
      "text/markdown": [
       "'logical'"
      ],
      "text/plain": [
       "[1] \"logical\""
      ]
     },
     "metadata": {},
     "output_type": "display_data"
    }
   ],
   "source": [
    "logicalVar <- TRUE\n",
    "class(logicalVar)"
   ]
  },
  {
   "cell_type": "markdown",
   "id": "1e7d80b4",
   "metadata": {},
   "source": [
    "+ **Numeric** - Used to store numbers with or without values after the decimal."
   ]
  },
  {
   "cell_type": "code",
   "execution_count": 11,
   "id": "95f03fbc",
   "metadata": {},
   "outputs": [
    {
     "data": {
      "text/html": [
       "'numeric'"
      ],
      "text/latex": [
       "'numeric'"
      ],
      "text/markdown": [
       "'numeric'"
      ],
      "text/plain": [
       "[1] \"numeric\""
      ]
     },
     "metadata": {},
     "output_type": "display_data"
    }
   ],
   "source": [
    "income <- 50000.25\n",
    "class(income)"
   ]
  },
  {
   "cell_type": "markdown",
   "id": "fe9fdbfb",
   "metadata": {},
   "source": [
    "+ **Character** - Used to store text data, in particular text variables that can take on an infinite or very large set of possible values. For example, someone's name, which could be nearly anything, should be stored as a character."
   ]
  },
  {
   "cell_type": "code",
   "execution_count": 12,
   "id": "ce64639f",
   "metadata": {},
   "outputs": [
    {
     "data": {
      "text/html": [
       "'character'"
      ],
      "text/latex": [
       "'character'"
      ],
      "text/markdown": [
       "'character'"
      ],
      "text/plain": [
       "[1] \"character\""
      ]
     },
     "metadata": {},
     "output_type": "display_data"
    }
   ],
   "source": [
    "message <- \"hello world\"\n",
    "class(message)"
   ]
  },
  {
   "cell_type": "markdown",
   "id": "125e3b63",
   "metadata": {},
   "source": [
    "+ **Factor** - Used to represent categorical variables that take on a fixed set of values. For example, in our data set from  {numref}`excel`, the `Division` variable can only take on three possible values: `Operations`, `Human Resources`, and `Sales`. Therefore, this data should ideally be stored as a factor.\n",
    "\n",
    "\t+ Note that in practice it can often be difficult to decide whether something should be stored as a factor or a character. It is possible to store division as a character instead of as a factor, and in many circumstances this would not be an issue. However, there are certain circumstances where you want R to recognize that a variable takes on a limited set of values. We will come back to this later in the course."
   ]
  },
  {
   "cell_type": "code",
   "execution_count": 13,
   "id": "56159e5a",
   "metadata": {},
   "outputs": [
    {
     "data": {
      "text/html": [
       "'factor'"
      ],
      "text/latex": [
       "'factor'"
      ],
      "text/markdown": [
       "'factor'"
      ],
      "text/plain": [
       "[1] \"factor\""
      ]
     },
     "metadata": {},
     "output_type": "display_data"
    }
   ],
   "source": [
    "division <- as.factor(\"Operations\")\n",
    "class(division)"
   ]
  },
  {
   "cell_type": "markdown",
   "id": "b913a14f",
   "metadata": {},
   "source": [
    "+ **Date** - Used to store dates in R."
   ]
  },
  {
   "cell_type": "code",
   "execution_count": 14,
   "id": "3cfbe1f1",
   "metadata": {},
   "outputs": [
    {
     "data": {
      "text/html": [
       "'Date'"
      ],
      "text/latex": [
       "'Date'"
      ],
      "text/markdown": [
       "'Date'"
      ],
      "text/plain": [
       "[1] \"Date\""
      ]
     },
     "metadata": {},
     "output_type": "display_data"
    }
   ],
   "source": [
    "birthday <- as.Date(\"2000-01-01\")\n",
    "class(birthday)"
   ]
  },
  {
   "cell_type": "markdown",
   "id": "f7afcc25",
   "metadata": {},
   "source": [
    "Although not a data type, you should also be framiliar with `NA`, which is used to represent missing data in R. We often work with data sets that have missing values. For example, in our employees data set, we may not know the salary of some of the employees. In Excel we might represent this with `#N/A`, but in R it would be stored as `NA`. Because missing data is such a common issue, we will revisit `NA` frequently throughout this book. One has to be particularly careful with missing data in R, as `NA` values can create issues and unexpected behaviors that are sometimes difficult to detect.\n",
    "\n",
    "## Atomic Vectors\n",
    "\n",
    "So far we have seen how to create variables that store a single value only. However, in practice we almost always work with sets of many different values. To work with this type of data in R we can create an **atomic vector**, which stores a set of one or more values of the same type. There are two important components to this definition:\n",
    "\n",
    "+ Atomic vectors can store one or more values, meaning an object that stores just a single value is an atomic vector. This means that every object we have created so far (*e.g.*, `myFirstTextVar`) has been an atomic vector. Below we will see how to create atomic vectors with more than one value.\n",
    "+ Atomic vectors cannot mix data types. This means you could not have an atomic vector with numbers *and* characters, for example.\n",
    "\n",
    ":::{note}\n",
    "Atomic vectors store one or more values of the same type.\n",
    ":::\n",
    "\n",
    "As we’ve seen throughout the book so far, single-value atomic vectors can be created by simply assigning a value to a variable:"
   ]
  },
  {
   "cell_type": "code",
   "execution_count": 15,
   "id": "84ed7c6c",
   "metadata": {},
   "outputs": [],
   "source": [
    "v1 <- 2             # Numeric atomic vector\n",
    "v2 <- TRUE          # Logical atomic vector\n",
    "v3 <- \"R is fun!\"   # Character atomic vector"
   ]
  },
  {
   "cell_type": "markdown",
   "id": "9e96d28d",
   "metadata": {},
   "source": [
    "If we want to combine multiple values into a single atomic vector, we need to use the `c()` function, which stands for “**c**ombine”:"
   ]
  },
  {
   "cell_type": "code",
   "execution_count": 16,
   "id": "b0ea7005",
   "metadata": {},
   "outputs": [],
   "source": [
    "v4 <- c(2, 3, 4, 5)                 # Numeric atomic vector\n",
    "v5 <- c(TRUE, TRUE, FALSE)          # Logical atomic vector\n",
    "v6 <- c(\"R is fun!\", \"I hate R\")    # Character atomic vector\n",
    "v7 <- c(8, 9, 10, NA)               # Numeric atomic vector with missing value"
   ]
  },
  {
   "cell_type": "markdown",
   "id": "56dd8047",
   "metadata": {},
   "source": [
    "Now that we have multiple values stored in a single atomic vector, there are many different functions we can apply to these atomic vectors.\n",
    "\n",
    "## Functions\n",
    "\n",
    "A fundamental part of R programming is the use of **functions**, which are very similar to functions in Excel. For example, you may be framiliar with the Excel function `SUMIF()`, which sums the values in a range of cells that adhere to a certain criteria. Let's return to the small data set from {numref}`excel`:\n",
    "\n",
    "```{figure} ../images/Excel_Example.png\n",
    "---\n",
    "height: 200px\n",
    "name: excel2\n",
    "---\n",
    "Example Excel Worksheet\n",
    "```\n",
    "\n",
    "Imagine that we wanted to calculate the total amount spent on only those employees in the Operations department. We can accomplish this with `SUMIF()`, which uses the following syntax:\n",
    "\n",
    "```{admonition} Syntax\n",
    "`SUMIF(range, criteria, sum_range)`\n",
    "+ *Required arguments*\n",
    "\t+ `range`: The range of cells where the criteria should be evaluated.\n",
    "\t+ `criteria`: The criteria to apply to the cells in `range`.\n",
    "+ *Optional arguments*\n",
    "\t+ `sum_range`: The cells to sum based on the criteria.\n",
    "```\n",
    "\n",
    "To apply this function to the data shown in the figure, we would write `=SUMIF(B2:B7, \"Operations\", A2:A7)`, which would evaluate to `302,000`. Feel free to verify this in Excel yourself.\n",
    "\n",
    "Note that every time we use the `SUMIF()` function, we *must* specify the `range` and `criteria` arguments. The `sum_range` argument is optional, and we only need to use it if we want to sum a different set of cells than those specified in the `range` argument.\n",
    "\n",
    "Whenever we introduce a new R function, we will follow the same convention shown above to demonstrate the syntax of the function. The basic syntax of the function will be shown in a light blue box marked \"Syntax\", and any required and optional arguments will be described within the box. Additionally, whenever you are learning a new function, we encourage you to search Google for examples, as well as review the official documentation for the function at [rdocumentation.org](https://www.rdocumentation.org/). \n",
    "\n",
    "```{tip} \n",
    "You can look up the syntax for a function on [rdocumentation.org](https://www.rdocumentation.org/), and/or search Google for helpful examples.\n",
    "```\n",
    "\n",
    "Now let's learn an actual R function. One commonly used function is `length()`, which (as you might guess) determines the length of an R object. This function uses the following syntax:\n",
    "\n",
    "```{admonition} Syntax\n",
    "`length(x)`\n",
    "+ *Required arguments*\n",
    "\t+ `x`: An R object.\n",
    "```\n",
    "\n",
    "We can apply this function to the atomic vectors we created in the previous section to determine how many values each one contains:"
   ]
  },
  {
   "cell_type": "code",
   "execution_count": 17,
   "id": "b2bbc963",
   "metadata": {},
   "outputs": [
    {
     "data": {
      "text/html": [
       "4"
      ],
      "text/latex": [
       "4"
      ],
      "text/markdown": [
       "4"
      ],
      "text/plain": [
       "[1] 4"
      ]
     },
     "metadata": {},
     "output_type": "display_data"
    }
   ],
   "source": [
    "length(v4)"
   ]
  },
  {
   "cell_type": "code",
   "execution_count": 18,
   "id": "80e528c0",
   "metadata": {},
   "outputs": [
    {
     "data": {
      "text/html": [
       "3"
      ],
      "text/latex": [
       "3"
      ],
      "text/markdown": [
       "3"
      ],
      "text/plain": [
       "[1] 3"
      ]
     },
     "metadata": {},
     "output_type": "display_data"
    }
   ],
   "source": [
    "length(v5)"
   ]
  },
  {
   "cell_type": "code",
   "execution_count": 19,
   "id": "826d4311",
   "metadata": {},
   "outputs": [
    {
     "data": {
      "text/html": [
       "2"
      ],
      "text/latex": [
       "2"
      ],
      "text/markdown": [
       "2"
      ],
      "text/plain": [
       "[1] 2"
      ]
     },
     "metadata": {},
     "output_type": "display_data"
    }
   ],
   "source": [
    "length(v6)"
   ]
  },
  {
   "cell_type": "code",
   "execution_count": 20,
   "id": "61ed8ef7",
   "metadata": {},
   "outputs": [
    {
     "data": {
      "text/html": [
       "4"
      ],
      "text/latex": [
       "4"
      ],
      "text/markdown": [
       "4"
      ],
      "text/plain": [
       "[1] 4"
      ]
     },
     "metadata": {},
     "output_type": "display_data"
    }
   ],
   "source": [
    "length(v7)"
   ]
  },
  {
   "cell_type": "markdown",
   "id": "3d96cf4a",
   "metadata": {},
   "source": [
    "Additionally, there is a `sum()` function we can use to add up all the values of an atomic vector. This function uses the following syntax:\n",
    "\n",
    "```{admonition} Syntax\n",
    "`sum(x, na.rm=FALSE)`\n",
    "+ *Required arguments*\n",
    "\t+ `x`: An R object.\n",
    "+ *Optional arguments*\n",
    "\t+ `na.rm`: If `TRUE`, the function will remove any missing values (`NA`s) in the atomic vector and sum the non-missing values. If `FALSE`, the function does not remove `NA`s and will return a value of `NA` if there is an `NA` in the atomic vector.\n",
    "```\n",
    "\n",
    "Note that this will not work for `v6`, because there is no logical way to sum characters together. If we apply it to `v5`, it will treat the `TRUE` values like `1` and the `FALSE` values like `0`."
   ]
  },
  {
   "cell_type": "code",
   "execution_count": 21,
   "id": "de865350",
   "metadata": {},
   "outputs": [
    {
     "data": {
      "text/html": [
       "14"
      ],
      "text/latex": [
       "14"
      ],
      "text/markdown": [
       "14"
      ],
      "text/plain": [
       "[1] 14"
      ]
     },
     "metadata": {},
     "output_type": "display_data"
    }
   ],
   "source": [
    "sum(v4)"
   ]
  },
  {
   "cell_type": "code",
   "execution_count": 22,
   "id": "a6665c58",
   "metadata": {},
   "outputs": [
    {
     "data": {
      "text/html": [
       "2"
      ],
      "text/latex": [
       "2"
      ],
      "text/markdown": [
       "2"
      ],
      "text/plain": [
       "[1] 2"
      ]
     },
     "metadata": {},
     "output_type": "display_data"
    }
   ],
   "source": [
    "sum(v5)"
   ]
  },
  {
   "cell_type": "code",
   "execution_count": 23,
   "id": "c2ec223c",
   "metadata": {},
   "outputs": [
    {
     "data": {
      "text/html": [
       "&lt;NA&gt;"
      ],
      "text/latex": [
       "<NA>"
      ],
      "text/markdown": [
       "&lt;NA&gt;"
      ],
      "text/plain": [
       "[1] NA"
      ]
     },
     "metadata": {},
     "output_type": "display_data"
    }
   ],
   "source": [
    "sum(v7)"
   ]
  },
  {
   "cell_type": "markdown",
   "id": "244ed07f",
   "metadata": {},
   "source": [
    "What happened with `v7`? Recall that this vector contains a missing value (`NA`). If you review the syntax for the `sum()` function, you'll see that it includes an optional parameter `na.rm`, which determines how the function treats missing values. If this argument is set to `TRUE`, it ignores missing values and calculates the sum of the non-missing values. If it is set to `FALSE`, the function will return `NA` if there is a single missing value present. \n",
    "\n",
    "However, in our call to the `sum()` function, we didn't include this argument at all, so what is going on? Optional arguments often have a default value that is used if you fail to specify the desired value explicitly. In this case, the default value is `FALSE`, so if we do not specify `na.rm=TRUE` in our call to `sum()`, the missing values will *not* be ignored and the function will return `NA`. \n",
    "\n",
    "If we re-run the function but add `na.rm = TRUE`, we get the expected result:"
   ]
  },
  {
   "cell_type": "code",
   "execution_count": 24,
   "id": "4842a461",
   "metadata": {},
   "outputs": [
    {
     "data": {
      "text/html": [
       "27"
      ],
      "text/latex": [
       "27"
      ],
      "text/markdown": [
       "27"
      ],
      "text/plain": [
       "[1] 27"
      ]
     },
     "metadata": {},
     "output_type": "display_data"
    }
   ],
   "source": [
    "sum(v7, na.rm = TRUE)"
   ]
  },
  {
   "cell_type": "markdown",
   "id": "e9e89006",
   "metadata": {},
   "source": [
    "Similar to `sum()`, there are many other functions that can be applied to atomic vectors:\n",
    "\n",
    "```{admonition} Syntax\n",
    "`mean(x, na.rm=FALSE)`\n",
    "+ *Required arguments*\n",
    "\t+ `x`: An R object.\n",
    "+ *Optional arguments*\n",
    "\t+ `na.rm`: If `TRUE`, the function will ignore any missing values (`NA`s) in the atomic vector. If `FALSE`, the function does not ignore `NA`s and will return a value of `NA` if there is an `NA` in the atomic vector.\n",
    "```\n",
    "\n",
    "```{admonition} Syntax\n",
    "`min(x, na.rm=FALSE)` & `max(x, na.rm=FALSE)`\n",
    "+ *Required arguments*\n",
    "\t+ `x`: An R object.\n",
    "+ *Optional arguments*\n",
    "\t+ `na.rm`: If `TRUE`, the function will ignore any missing values (`NA`s) in the atomic vector. If `FALSE`, the function does not ignore `NA`s and will return a value of `NA` if there is an `NA` in the atomic vector.\n",
    "```"
   ]
  },
  {
   "cell_type": "code",
   "execution_count": 25,
   "id": "f95932b4",
   "metadata": {},
   "outputs": [
    {
     "data": {
      "text/html": [
       "3.5"
      ],
      "text/latex": [
       "3.5"
      ],
      "text/markdown": [
       "3.5"
      ],
      "text/plain": [
       "[1] 3.5"
      ]
     },
     "metadata": {},
     "output_type": "display_data"
    }
   ],
   "source": [
    "mean(v4)"
   ]
  },
  {
   "cell_type": "code",
   "execution_count": 26,
   "id": "9575b36c",
   "metadata": {},
   "outputs": [
    {
     "data": {
      "text/html": [
       "0"
      ],
      "text/latex": [
       "0"
      ],
      "text/markdown": [
       "0"
      ],
      "text/plain": [
       "[1] 0"
      ]
     },
     "metadata": {},
     "output_type": "display_data"
    },
    {
     "data": {
      "text/html": [
       "1"
      ],
      "text/latex": [
       "1"
      ],
      "text/markdown": [
       "1"
      ],
      "text/plain": [
       "[1] 1"
      ]
     },
     "metadata": {},
     "output_type": "display_data"
    }
   ],
   "source": [
    "min(v5)\n",
    "max(v5)"
   ]
  },
  {
   "cell_type": "code",
   "execution_count": 27,
   "id": "f089339f",
   "metadata": {},
   "outputs": [
    {
     "data": {
      "text/html": [
       "9"
      ],
      "text/latex": [
       "9"
      ],
      "text/markdown": [
       "9"
      ],
      "text/plain": [
       "[1] 9"
      ]
     },
     "metadata": {},
     "output_type": "display_data"
    }
   ],
   "source": [
    "mean(v7, na.rm = TRUE)"
   ]
  }
 ],
 "metadata": {
  "jupytext": {
   "cell_metadata_filter": "-all",
   "formats": "md:myst",
   "text_representation": {
    "extension": ".md",
    "format_name": "myst",
    "format_version": 0.13,
    "jupytext_version": "1.11.5"
   }
  },
  "kernelspec": {
   "display_name": "R",
   "language": "R",
   "name": "ir"
  },
  "language_info": {
   "codemirror_mode": "r",
   "file_extension": ".r",
   "mimetype": "text/x-r-source",
   "name": "R",
   "pygments_lexer": "r",
   "version": "3.6.1"
  },
  "source_map": [
   14,
   47,
   51,
   55,
   57,
   79,
   81,
   85,
   87,
   98,
   101,
   105,
   108,
   112,
   115,
   133,
   135,
   141,
   144,
   148,
   151,
   155,
   158,
   164,
   167,
   171,
   174,
   191,
   195,
   199,
   204,
   251,
   255,
   259,
   263,
   265,
   279,
   283,
   287,
   289,
   297,
   299,
   319,
   323,
   328
  ]
 },
 "nbformat": 4,
 "nbformat_minor": 5
}