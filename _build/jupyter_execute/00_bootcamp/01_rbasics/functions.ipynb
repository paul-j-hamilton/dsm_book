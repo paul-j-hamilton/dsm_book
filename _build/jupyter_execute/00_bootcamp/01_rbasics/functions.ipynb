{
 "cells": [
  {
   "cell_type": "code",
   "execution_count": 1,
   "id": "3ca034c3",
   "metadata": {
    "tags": [
     "remove-cell"
    ]
   },
   "outputs": [],
   "source": [
    "v4 <- c(2, 3, 4, 5)                 # Numeric atomic vector\n",
    "v5 <- c(TRUE, TRUE, FALSE)          # Logical atomic vector\n",
    "v6 <- c(\"R is fun!\", \"I hate R\")    # Character atomic vector\n",
    "v7 <- c(8, 9, 10, NA)               # Numeric atomic vector with missing value"
   ]
  },
  {
   "cell_type": "markdown",
   "id": "0229bf76",
   "metadata": {},
   "source": [
    "# Functions\n",
    "\n",
    "A fundamental part of R programming is the use of **functions**, which are very similar to functions in Excel. For example, you may be framiliar with the Excel function `SUMIF()`, which sums the values in a range of cells that adhere to a certain criteria. Let's return to the small data set from {numref}`excel3`:\n",
    "\n",
    "```{figure} ../../_build/images/Excel_Example.png\n",
    "---\n",
    "height: 200px\n",
    "name: excel3\n",
    "---\n",
    "Example Excel Worksheet\n",
    "```\n",
    "\n",
    "Imagine that we wanted to calculate the total amount spent on only those employees in the Operations department. We can accomplish this with `SUMIF()`, which uses the following syntax:\n",
    "\n",
    "```{admonition} Syntax\n",
    "`SUMIF(range, criteria, sum_range)`\n",
    "+ *Required arguments*\n",
    "\t+ `range`: The range of cells where the criteria should be evaluated.\n",
    "\t+ `criteria`: The criteria to apply to the cells in `range`.\n",
    "+ *Optional arguments*\n",
    "\t+ `sum_range`: The cells to sum based on the criteria.\n",
    "```\n",
    "\n",
    "To apply this function to the data shown in the figure, we would write `=SUMIF(B2:B7, \"Operations\", A2:A7)`, which would evaluate to `302,000`. Feel free to verify this in Excel yourself.\n",
    "\n",
    "Note that every time we use the `SUMIF()` function, we *must* specify the `range` and `criteria` arguments. The `sum_range` argument is optional, and we only need to use it if we want to sum a different set of cells than those specified in the `range` argument.\n",
    "\n",
    "Whenever we introduce a new R function, we will follow the same convention shown above to demonstrate the syntax of the function. The basic syntax of the function will be shown in a light blue box marked \"Syntax\", and any required and optional arguments will be described within the box. Additionally, whenever you are learning a new function, we encourage you to search Google for examples, as well as review the official documentation for the function at [rdocumentation.org](https://www.rdocumentation.org/). \n",
    "\n",
    "```{tip} \n",
    "You can look up the syntax for a function on [rdocumentation.org](https://www.rdocumentation.org/), and/or search Google for helpful examples.\n",
    "```\n",
    "\n",
    "Now let's learn an actual R function. One commonly used function is `length()`, which (as you might guess) determines the length of an R object. This function uses the following syntax:\n",
    "\n",
    "```{admonition} Syntax\n",
    "`length(x)`\n",
    "+ *Required arguments*\n",
    "\t+ `x`: An R object.\n",
    "```\n",
    "\n",
    "We can apply this function to the atomic vectors we created in the previous section to determine how many values each one contains:"
   ]
  },
  {
   "cell_type": "code",
   "execution_count": 2,
   "id": "dbb96aaf",
   "metadata": {
    "tags": [
     "remove-output"
    ]
   },
   "outputs": [
    {
     "data": {
      "text/html": [
       "4"
      ],
      "text/latex": [
       "4"
      ],
      "text/markdown": [
       "4"
      ],
      "text/plain": [
       "[1] 4"
      ]
     },
     "metadata": {},
     "output_type": "display_data"
    }
   ],
   "source": [
    "length(v4)"
   ]
  },
  {
   "cell_type": "code",
   "execution_count": 3,
   "id": "d05616ea",
   "metadata": {
    "tags": [
     "remove-input"
    ]
   },
   "outputs": [
    {
     "name": "stdout",
     "output_type": "stream",
     "text": [
      "[1] 4\n"
     ]
    }
   ],
   "source": [
    "print(length(v4))"
   ]
  },
  {
   "cell_type": "code",
   "execution_count": 4,
   "id": "24b89fa9",
   "metadata": {
    "tags": [
     "remove-output"
    ]
   },
   "outputs": [
    {
     "data": {
      "text/html": [
       "3"
      ],
      "text/latex": [
       "3"
      ],
      "text/markdown": [
       "3"
      ],
      "text/plain": [
       "[1] 3"
      ]
     },
     "metadata": {},
     "output_type": "display_data"
    }
   ],
   "source": [
    "length(v5)"
   ]
  },
  {
   "cell_type": "code",
   "execution_count": 5,
   "id": "b04e2486",
   "metadata": {
    "tags": [
     "remove-input"
    ]
   },
   "outputs": [
    {
     "name": "stdout",
     "output_type": "stream",
     "text": [
      "[1] 3\n"
     ]
    }
   ],
   "source": [
    "print(length(v5))"
   ]
  },
  {
   "cell_type": "code",
   "execution_count": 6,
   "id": "846f0415",
   "metadata": {
    "tags": [
     "remove-output"
    ]
   },
   "outputs": [
    {
     "data": {
      "text/html": [
       "2"
      ],
      "text/latex": [
       "2"
      ],
      "text/markdown": [
       "2"
      ],
      "text/plain": [
       "[1] 2"
      ]
     },
     "metadata": {},
     "output_type": "display_data"
    }
   ],
   "source": [
    "length(v6)"
   ]
  },
  {
   "cell_type": "code",
   "execution_count": 7,
   "id": "d80a133f",
   "metadata": {
    "tags": [
     "remove-input"
    ]
   },
   "outputs": [
    {
     "name": "stdout",
     "output_type": "stream",
     "text": [
      "[1] 2\n"
     ]
    }
   ],
   "source": [
    "print(length(v6))"
   ]
  },
  {
   "cell_type": "code",
   "execution_count": 8,
   "id": "caf07f4d",
   "metadata": {
    "tags": [
     "remove-output"
    ]
   },
   "outputs": [
    {
     "data": {
      "text/html": [
       "4"
      ],
      "text/latex": [
       "4"
      ],
      "text/markdown": [
       "4"
      ],
      "text/plain": [
       "[1] 4"
      ]
     },
     "metadata": {},
     "output_type": "display_data"
    }
   ],
   "source": [
    "length(v7)"
   ]
  },
  {
   "cell_type": "code",
   "execution_count": 9,
   "id": "1cf6420e",
   "metadata": {
    "tags": [
     "remove-input"
    ]
   },
   "outputs": [
    {
     "name": "stdout",
     "output_type": "stream",
     "text": [
      "[1] 4\n"
     ]
    }
   ],
   "source": [
    "print(length(v7))"
   ]
  },
  {
   "cell_type": "markdown",
   "id": "c529aa45",
   "metadata": {},
   "source": [
    "Additionally, there is a `sum()` function we can use to add up all the values of an atomic vector. This function uses the following syntax:\n",
    "\n",
    "```{admonition} Syntax\n",
    "`sum(x, na.rm=FALSE)`\n",
    "+ *Required arguments*\n",
    "\t+ `x`: An R object.\n",
    "+ *Optional arguments*\n",
    "\t+ `na.rm`: If `TRUE`, the function will remove any missing values (`NA`s) in the atomic vector and sum the non-missing values. If `FALSE`, the function does not remove `NA`s and will return a value of `NA` if there is an `NA` in the atomic vector.\n",
    "```\n",
    "\n",
    "Note that this will not work for `v6`, because there is no logical way to sum characters together. If we apply it to `v5`, it will treat the `TRUE` values like `1` and the `FALSE` values like `0`."
   ]
  },
  {
   "cell_type": "code",
   "execution_count": 10,
   "id": "aba05689",
   "metadata": {
    "tags": [
     "remove-output"
    ]
   },
   "outputs": [
    {
     "data": {
      "text/html": [
       "14"
      ],
      "text/latex": [
       "14"
      ],
      "text/markdown": [
       "14"
      ],
      "text/plain": [
       "[1] 14"
      ]
     },
     "metadata": {},
     "output_type": "display_data"
    }
   ],
   "source": [
    "sum(v4)"
   ]
  },
  {
   "cell_type": "code",
   "execution_count": 11,
   "id": "93b656a1",
   "metadata": {
    "tags": [
     "remove-input"
    ]
   },
   "outputs": [
    {
     "name": "stdout",
     "output_type": "stream",
     "text": [
      "[1] 14\n"
     ]
    }
   ],
   "source": [
    "print(sum(v4))"
   ]
  },
  {
   "cell_type": "code",
   "execution_count": 12,
   "id": "f29b1bdf",
   "metadata": {
    "tags": [
     "remove-output"
    ]
   },
   "outputs": [
    {
     "data": {
      "text/html": [
       "2"
      ],
      "text/latex": [
       "2"
      ],
      "text/markdown": [
       "2"
      ],
      "text/plain": [
       "[1] 2"
      ]
     },
     "metadata": {},
     "output_type": "display_data"
    }
   ],
   "source": [
    "sum(v5)"
   ]
  },
  {
   "cell_type": "code",
   "execution_count": 13,
   "id": "d22be036",
   "metadata": {
    "tags": [
     "remove-input"
    ]
   },
   "outputs": [
    {
     "name": "stdout",
     "output_type": "stream",
     "text": [
      "[1] 2\n"
     ]
    }
   ],
   "source": [
    "print(sum(v5))"
   ]
  },
  {
   "cell_type": "code",
   "execution_count": 14,
   "id": "0e3b3812",
   "metadata": {
    "tags": [
     "remove-output"
    ]
   },
   "outputs": [
    {
     "data": {
      "text/html": [
       "&lt;NA&gt;"
      ],
      "text/latex": [
       "<NA>"
      ],
      "text/markdown": [
       "&lt;NA&gt;"
      ],
      "text/plain": [
       "[1] NA"
      ]
     },
     "metadata": {},
     "output_type": "display_data"
    }
   ],
   "source": [
    "sum(v7)"
   ]
  },
  {
   "cell_type": "code",
   "execution_count": 15,
   "id": "bd7ace54",
   "metadata": {
    "tags": [
     "remove-input"
    ]
   },
   "outputs": [
    {
     "name": "stdout",
     "output_type": "stream",
     "text": [
      "[1] NA\n"
     ]
    }
   ],
   "source": [
    "print(sum(v7))"
   ]
  },
  {
   "cell_type": "markdown",
   "id": "de5bc5d6",
   "metadata": {},
   "source": [
    "What happened with `v7`? Recall that this vector contains a missing value (`NA`). If you review the syntax for the `sum()` function, you'll see that it includes an optional parameter `na.rm`, which determines how the function treats missing values. If this argument is set to `TRUE`, it ignores missing values and calculates the sum of the non-missing values. If it is set to `FALSE`, the function will return `NA` if there is a single missing value present. \n",
    "\n",
    "However, in our call to the `sum()` function, we didn't include this argument at all, so what is going on? Optional arguments often have a default value that is used if you fail to specify the desired value explicitly. In this case, the default value is `FALSE`, so if we do not specify `na.rm=TRUE` in our call to `sum()`, the missing values will *not* be ignored and the function will return `NA`. \n",
    "\n",
    "If we re-run the function but add `na.rm = TRUE`, we get the expected result:"
   ]
  },
  {
   "cell_type": "code",
   "execution_count": 16,
   "id": "348b57a2",
   "metadata": {
    "tags": [
     "remove-output"
    ]
   },
   "outputs": [
    {
     "data": {
      "text/html": [
       "27"
      ],
      "text/latex": [
       "27"
      ],
      "text/markdown": [
       "27"
      ],
      "text/plain": [
       "[1] 27"
      ]
     },
     "metadata": {},
     "output_type": "display_data"
    }
   ],
   "source": [
    "sum(v7, na.rm = TRUE)"
   ]
  },
  {
   "cell_type": "code",
   "execution_count": 17,
   "id": "43ddd791",
   "metadata": {
    "tags": [
     "remove-input"
    ]
   },
   "outputs": [
    {
     "name": "stdout",
     "output_type": "stream",
     "text": [
      "[1] 27\n"
     ]
    }
   ],
   "source": [
    "print(sum(v7, na.rm = TRUE))"
   ]
  },
  {
   "cell_type": "markdown",
   "id": "0252f91c",
   "metadata": {},
   "source": [
    "Similar to `sum()`, there are many other functions that can be applied to atomic vectors:\n",
    "\n",
    "```{admonition} Syntax\n",
    "`mean(x, na.rm=FALSE)`\n",
    "+ *Required arguments*\n",
    "\t+ `x`: An R object.\n",
    "+ *Optional arguments*\n",
    "\t+ `na.rm`: If `TRUE`, the function will ignore any missing values (`NA`s) in the atomic vector. If `FALSE`, the function does not ignore `NA`s and will return a value of `NA` if there is an `NA` in the atomic vector.\n",
    "```\n",
    "\n",
    "```{admonition} Syntax\n",
    "`min(x, na.rm=FALSE)` & `max(x, na.rm=FALSE)`\n",
    "+ *Required arguments*\n",
    "\t+ `x`: An R object.\n",
    "+ *Optional arguments*\n",
    "\t+ `na.rm`: If `TRUE`, the function will ignore any missing values (`NA`s) in the atomic vector. If `FALSE`, the function does not ignore `NA`s and will return a value of `NA` if there is an `NA` in the atomic vector.\n",
    "```"
   ]
  },
  {
   "cell_type": "code",
   "execution_count": 18,
   "id": "ce179f2a",
   "metadata": {
    "tags": [
     "remove-output"
    ]
   },
   "outputs": [
    {
     "data": {
      "text/html": [
       "3.5"
      ],
      "text/latex": [
       "3.5"
      ],
      "text/markdown": [
       "3.5"
      ],
      "text/plain": [
       "[1] 3.5"
      ]
     },
     "metadata": {},
     "output_type": "display_data"
    }
   ],
   "source": [
    "mean(v4)"
   ]
  },
  {
   "cell_type": "code",
   "execution_count": 19,
   "id": "385cb74b",
   "metadata": {
    "tags": [
     "remove-input"
    ]
   },
   "outputs": [
    {
     "name": "stdout",
     "output_type": "stream",
     "text": [
      "[1] 3.5\n"
     ]
    }
   ],
   "source": [
    "print(mean(v4))"
   ]
  },
  {
   "cell_type": "code",
   "execution_count": 20,
   "id": "b0371df4",
   "metadata": {
    "tags": [
     "remove-output"
    ]
   },
   "outputs": [
    {
     "data": {
      "text/html": [
       "0"
      ],
      "text/latex": [
       "0"
      ],
      "text/markdown": [
       "0"
      ],
      "text/plain": [
       "[1] 0"
      ]
     },
     "metadata": {},
     "output_type": "display_data"
    },
    {
     "data": {
      "text/html": [
       "1"
      ],
      "text/latex": [
       "1"
      ],
      "text/markdown": [
       "1"
      ],
      "text/plain": [
       "[1] 1"
      ]
     },
     "metadata": {},
     "output_type": "display_data"
    }
   ],
   "source": [
    "min(v5)\n",
    "max(v5)"
   ]
  },
  {
   "cell_type": "code",
   "execution_count": 21,
   "id": "ead24a1b",
   "metadata": {
    "tags": [
     "remove-input"
    ]
   },
   "outputs": [
    {
     "name": "stdout",
     "output_type": "stream",
     "text": [
      "[1] 0\n"
     ]
    },
    {
     "name": "stdout",
     "output_type": "stream",
     "text": [
      "[1] 1\n"
     ]
    }
   ],
   "source": [
    "print(min(v5))\n",
    "print(max(v5))"
   ]
  },
  {
   "cell_type": "code",
   "execution_count": 22,
   "id": "178c62f2",
   "metadata": {
    "tags": [
     "remove-output"
    ]
   },
   "outputs": [
    {
     "data": {
      "text/html": [
       "9"
      ],
      "text/latex": [
       "9"
      ],
      "text/markdown": [
       "9"
      ],
      "text/plain": [
       "[1] 9"
      ]
     },
     "metadata": {},
     "output_type": "display_data"
    }
   ],
   "source": [
    "mean(v7, na.rm = TRUE)"
   ]
  },
  {
   "cell_type": "code",
   "execution_count": 23,
   "id": "bc5b10fd",
   "metadata": {
    "tags": [
     "remove-input"
    ]
   },
   "outputs": [
    {
     "name": "stdout",
     "output_type": "stream",
     "text": [
      "[1] 9\n"
     ]
    }
   ],
   "source": [
    "print(mean(v7, na.rm = TRUE))"
   ]
  },
  {
   "cell_type": "markdown",
   "id": "5539be81",
   "metadata": {},
   "source": [
    "Before moving on to the next section, work through the two exercises below. \n",
    "\n",
    "---\n",
    "\n",
    "<iframe src=\"https://hbs-data-science.shinyapps.io/atomic_vectors_functions/#section-exercise-u.s.-gdp\" width=\"800\" height=\"1150\" frameborder=\"0\" marginheight=\"0\" marginwidth=\"0\" scrolling=\"no\">Loading…</iframe>"
   ]
  }
 ],
 "metadata": {
  "jupytext": {
   "cell_metadata_filter": "-all",
   "formats": "md:myst",
   "text_representation": {
    "extension": ".md",
    "format_name": "myst",
    "format_version": 0.13,
    "jupytext_version": "1.11.5"
   }
  },
  "kernelspec": {
   "display_name": "R",
   "language": "R",
   "name": "ir"
  },
  "language_info": {
   "codemirror_mode": "r",
   "file_extension": ".r",
   "mimetype": "text/x-r-source",
   "name": "R",
   "pygments_lexer": "r",
   "version": "3.6.1"
  },
  "source_map": [
   16,
   22,
   67,
   72,
   77,
   82,
   87,
   92,
   97,
   102,
   105,
   119,
   124,
   129,
   134,
   139,
   144,
   147,
   155,
   160,
   163,
   183,
   188,
   193,
   199,
   205,
   210,
   213
  ]
 },
 "nbformat": 4,
 "nbformat_minor": 5
}