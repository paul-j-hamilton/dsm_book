{
 "cells": [
  {
   "cell_type": "code",
   "execution_count": 1,
   "id": "0aa612e3",
   "metadata": {
    "tags": [
     "remove-cell"
    ]
   },
   "outputs": [
    {
     "name": "stderr",
     "output_type": "stream",
     "text": [
      "Registered S3 methods overwritten by 'ggplot2':\n",
      "  method         from \n",
      "  [.quosures     rlang\n",
      "  c.quosures     rlang\n",
      "  print.quosures rlang\n"
     ]
    },
    {
     "name": "stderr",
     "output_type": "stream",
     "text": [
      "Registered S3 method overwritten by 'rvest':\n",
      "  method            from\n",
      "  read_xml.response xml2\n"
     ]
    },
    {
     "name": "stderr",
     "output_type": "stream",
     "text": [
      "-- Attaching packages --------------------------------------- tidyverse 1.2.1 --\n"
     ]
    },
    {
     "name": "stderr",
     "output_type": "stream",
     "text": [
      "v ggplot2 3.1.1       v purrr   0.3.2  \n",
      "v tibble  2.1.1       v dplyr   0.8.0.1\n",
      "v tidyr   0.8.3       v stringr 1.4.0  \n",
      "v readr   1.3.1       v forcats 0.4.0  \n"
     ]
    },
    {
     "name": "stderr",
     "output_type": "stream",
     "text": [
      "-- Conflicts ------------------------------------------ tidyverse_conflicts() --\n",
      "x dplyr::filter() masks stats::filter()\n",
      "x dplyr::lag()    masks stats::lag()\n"
     ]
    },
    {
     "name": "stderr",
     "output_type": "stream",
     "text": [
      "Parsed with column specification:\n",
      "cols(\n",
      "  ID = col_double(),\n",
      "  Name = col_character(),\n",
      "  Gender = col_character(),\n",
      "  Age = col_double(),\n",
      "  Rating = col_double(),\n",
      "  Degree = col_character(),\n",
      "  Start_Date = col_character(),\n",
      "  Retired = col_logical(),\n",
      "  Division = col_character(),\n",
      "  Salary = col_character()\n",
      ")\n"
     ]
    }
   ],
   "source": [
    "library(tidyverse)\n",
    "employees <- read_csv(\"../../_build/data/employee_data.csv\")"
   ]
  },
  {
   "cell_type": "markdown",
   "id": "9dc85089",
   "metadata": {},
   "source": [
    "# Fixing Variable Types\n",
    "\n",
    "As we saw in a previous section, R does not always correctly guess the appropriate type for our columns. This is a very common occurance, and fixing column types is a tedious but important step in preparing a data frame for analysis.\n",
    "\n",
    "## Fixing Numeric Variables\n",
    "\n",
    "When the `read_csv()` function read in the data, it assumed that the `Salary` column was a `character` instead of a `numeric`. This is because the data includes dollar signs (`$`), commas (`,`), and periods (`.`), which R interprets as `character`s. Fortunately, it is very easy to correct this using the `parse_number()` function from the tidyverse, which uses the following syntax:\n",
    "\n",
    "```{admonition} Syntax\n",
    "`tidyverse::parse_number(x, locale = default_locale(), ...)`\n",
    "+ *Required arguments*\n",
    "  + `x`: An atomic vector with values you would like to convert to a `numeric`. \n",
    "+ *Optional arguments*\n",
    "  + `locale`: This is used to control the parsing convention for numbers. By default, the function assumes that periods (`.`) are used for decimal marks and commas (`,`) are used for grouping (*e.g.*, numbers are written as $1,500.25). You can explicitly change the characters that are used for decimal marks and groupings by setting changing the `grouping_mark` and `decimal_mark`, respectively. For example, if numbers are written in the European convention (*e.g.*, numbers are written as €1.500,25), you could set `locale=locale(grouping_mark=\".\", decimal_mark=\",\")`. \n",
    "```\n",
    "\n",
    "Let's first try applying this function to a single value to see how it works:"
   ]
  },
  {
   "cell_type": "code",
   "execution_count": 2,
   "id": "7a0741a4",
   "metadata": {
    "tags": [
     "remove-output"
    ]
   },
   "outputs": [
    {
     "data": {
      "text/html": [
       "1500.25"
      ],
      "text/latex": [
       "1500.25"
      ],
      "text/markdown": [
       "1500.25"
      ],
      "text/plain": [
       "[1] 1500.25"
      ]
     },
     "metadata": {},
     "output_type": "display_data"
    }
   ],
   "source": [
    "parse_number(\"$1,500.25\")"
   ]
  },
  {
   "cell_type": "code",
   "execution_count": 3,
   "id": "99632258",
   "metadata": {
    "tags": [
     "remove-input"
    ]
   },
   "outputs": [
    {
     "name": "stdout",
     "output_type": "stream",
     "text": [
      "[1] 1500.25\n"
     ]
    }
   ],
   "source": [
    "print(parse_number(\"$1,500.25\"))"
   ]
  },
  {
   "cell_type": "markdown",
   "id": "59a16d81",
   "metadata": {},
   "source": [
    "If our data is recorded in a different format, we can explicitly set the decimal mark and grouping characters in the `locale` argument so that the data is converted properly:"
   ]
  },
  {
   "cell_type": "code",
   "execution_count": 4,
   "id": "27f82f97",
   "metadata": {
    "tags": [
     "remove-output"
    ]
   },
   "outputs": [
    {
     "data": {
      "text/html": [
       "1500.25"
      ],
      "text/latex": [
       "1500.25"
      ],
      "text/markdown": [
       "1500.25"
      ],
      "text/plain": [
       "[1] 1500.25"
      ]
     },
     "metadata": {},
     "output_type": "display_data"
    }
   ],
   "source": [
    "parse_number(\"€1.500,25\", locale=locale(grouping_mark=\".\", decimal_mark=\",\"))"
   ]
  },
  {
   "cell_type": "code",
   "execution_count": 5,
   "id": "6c7e96fd",
   "metadata": {
    "tags": [
     "remove-input"
    ]
   },
   "outputs": [
    {
     "name": "stdout",
     "output_type": "stream",
     "text": [
      "[1] 1500.25\n"
     ]
    }
   ],
   "source": [
    "print(parse_number(\"€1.500,25\", locale=locale(grouping_mark=\".\", decimal_mark=\",\")))"
   ]
  },
  {
   "cell_type": "markdown",
   "id": "e5f5a4d5",
   "metadata": {},
   "source": [
    "To convert the entire `Salary` column to a `numeric`, we can apply `parse_number()` to the entire column, and then store the parsed values back into the `Salary` column:"
   ]
  },
  {
   "cell_type": "code",
   "execution_count": 6,
   "id": "6b719524",
   "metadata": {},
   "outputs": [],
   "source": [
    "employees$Salary <- parse_number(employees$Salary)"
   ]
  },
  {
   "cell_type": "markdown",
   "id": "ede68bd8",
   "metadata": {},
   "source": [
    "Now if we view the class of `Salary`, it will show `numeric`:"
   ]
  },
  {
   "cell_type": "code",
   "execution_count": 7,
   "id": "44118ab1",
   "metadata": {
    "tags": [
     "remove-output"
    ]
   },
   "outputs": [
    {
     "data": {
      "text/html": [
       "'numeric'"
      ],
      "text/latex": [
       "'numeric'"
      ],
      "text/markdown": [
       "'numeric'"
      ],
      "text/plain": [
       "[1] \"numeric\""
      ]
     },
     "metadata": {},
     "output_type": "display_data"
    }
   ],
   "source": [
    "class(employees$Salary)"
   ]
  },
  {
   "cell_type": "code",
   "execution_count": 8,
   "id": "c5654504",
   "metadata": {
    "tags": [
     "remove-input"
    ]
   },
   "outputs": [
    {
     "name": "stdout",
     "output_type": "stream",
     "text": [
      "[1] \"numeric\"\n"
     ]
    }
   ],
   "source": [
    "print(class(employees$Salary))"
   ]
  },
  {
   "cell_type": "markdown",
   "id": "9480ce36",
   "metadata": {},
   "source": [
    "Finally, if we view the first few rows of our data frame with `head()`, we'll see that `Salary` no longer contains dollar signs, decimals, or commas:"
   ]
  },
  {
   "cell_type": "code",
   "execution_count": 9,
   "id": "bea2ac0c",
   "metadata": {},
   "outputs": [
    {
     "data": {
      "text/html": [
       "<table>\n",
       "<thead><tr><th scope=col>ID</th><th scope=col>Name</th><th scope=col>Gender</th><th scope=col>Age</th><th scope=col>Rating</th><th scope=col>Degree</th><th scope=col>Start_Date</th><th scope=col>Retired</th><th scope=col>Division</th><th scope=col>Salary</th></tr></thead>\n",
       "<tbody>\n",
       "\t<tr><td>6881               </td><td>al-Rahimi, Tayyiba </td><td>Female             </td><td>51                 </td><td>10                 </td><td>High School        </td><td>2/23/1990          </td><td>FALSE              </td><td>Operations         </td><td>108804             </td></tr>\n",
       "\t<tr><td>2671               </td><td>Lewis, Austin      </td><td>Male               </td><td>34                 </td><td> 4                 </td><td>Ph.D               </td><td>2/23/2007          </td><td>FALSE              </td><td>Engineering        </td><td>182343             </td></tr>\n",
       "\t<tr><td>8925               </td><td>el-Jaffer, Manaal  </td><td>Female             </td><td>50                 </td><td>10                 </td><td>Master's           </td><td>2/23/1991          </td><td>FALSE              </td><td>Engineering        </td><td>206770             </td></tr>\n",
       "\t<tr><td>2769               </td><td>Soto, Michael      </td><td>Male               </td><td>52                 </td><td>10                 </td><td>High School        </td><td>2/23/1987          </td><td>FALSE              </td><td>Sales              </td><td>183407             </td></tr>\n",
       "\t<tr><td>2658               </td><td>al-Ebrahimi, Mamoon</td><td>Male               </td><td>55                 </td><td> 8                 </td><td>Ph.D               </td><td>2/23/1985          </td><td>FALSE              </td><td>Corporate          </td><td>236240             </td></tr>\n",
       "\t<tr><td>1933               </td><td>Medina, Brandy     </td><td>Female             </td><td>62                 </td><td> 7                 </td><td>Associate's        </td><td>2/23/1979          </td><td> TRUE              </td><td>Sales              </td><td>    NA             </td></tr>\n",
       "</tbody>\n",
       "</table>\n"
      ],
      "text/latex": [
       "\\begin{tabular}{r|llllllllll}\n",
       " ID & Name & Gender & Age & Rating & Degree & Start\\_Date & Retired & Division & Salary\\\\\n",
       "\\hline\n",
       "\t 6881                & al-Rahimi, Tayyiba  & Female              & 51                  & 10                  & High School         & 2/23/1990           & FALSE               & Operations          & 108804             \\\\\n",
       "\t 2671                & Lewis, Austin       & Male                & 34                  &  4                  & Ph.D                & 2/23/2007           & FALSE               & Engineering         & 182343             \\\\\n",
       "\t 8925                & el-Jaffer, Manaal   & Female              & 50                  & 10                  & Master's            & 2/23/1991           & FALSE               & Engineering         & 206770             \\\\\n",
       "\t 2769                & Soto, Michael       & Male                & 52                  & 10                  & High School         & 2/23/1987           & FALSE               & Sales               & 183407             \\\\\n",
       "\t 2658                & al-Ebrahimi, Mamoon & Male                & 55                  &  8                  & Ph.D                & 2/23/1985           & FALSE               & Corporate           & 236240             \\\\\n",
       "\t 1933                & Medina, Brandy      & Female              & 62                  &  7                  & Associate's         & 2/23/1979           &  TRUE               & Sales               &     NA             \\\\\n",
       "\\end{tabular}\n"
      ],
      "text/markdown": [
       "\n",
       "| ID | Name | Gender | Age | Rating | Degree | Start_Date | Retired | Division | Salary |\n",
       "|---|---|---|---|---|---|---|---|---|---|\n",
       "| 6881                | al-Rahimi, Tayyiba  | Female              | 51                  | 10                  | High School         | 2/23/1990           | FALSE               | Operations          | 108804              |\n",
       "| 2671                | Lewis, Austin       | Male                | 34                  |  4                  | Ph.D                | 2/23/2007           | FALSE               | Engineering         | 182343              |\n",
       "| 8925                | el-Jaffer, Manaal   | Female              | 50                  | 10                  | Master's            | 2/23/1991           | FALSE               | Engineering         | 206770              |\n",
       "| 2769                | Soto, Michael       | Male                | 52                  | 10                  | High School         | 2/23/1987           | FALSE               | Sales               | 183407              |\n",
       "| 2658                | al-Ebrahimi, Mamoon | Male                | 55                  |  8                  | Ph.D                | 2/23/1985           | FALSE               | Corporate           | 236240              |\n",
       "| 1933                | Medina, Brandy      | Female              | 62                  |  7                  | Associate's         | 2/23/1979           |  TRUE               | Sales               |     NA              |\n",
       "\n"
      ],
      "text/plain": [
       "  ID   Name                Gender Age Rating Degree      Start_Date Retired\n",
       "1 6881 al-Rahimi, Tayyiba  Female 51  10     High School 2/23/1990  FALSE  \n",
       "2 2671 Lewis, Austin       Male   34   4     Ph.D        2/23/2007  FALSE  \n",
       "3 8925 el-Jaffer, Manaal   Female 50  10     Master's    2/23/1991  FALSE  \n",
       "4 2769 Soto, Michael       Male   52  10     High School 2/23/1987  FALSE  \n",
       "5 2658 al-Ebrahimi, Mamoon Male   55   8     Ph.D        2/23/1985  FALSE  \n",
       "6 1933 Medina, Brandy      Female 62   7     Associate's 2/23/1979   TRUE  \n",
       "  Division    Salary\n",
       "1 Operations  108804\n",
       "2 Engineering 182343\n",
       "3 Engineering 206770\n",
       "4 Sales       183407\n",
       "5 Corporate   236240\n",
       "6 Sales           NA"
      ]
     },
     "metadata": {},
     "output_type": "display_data"
    }
   ],
   "source": [
    "head(employees)"
   ]
  },
  {
   "cell_type": "markdown",
   "id": "6e06ce18",
   "metadata": {},
   "source": [
    "## Fixing Date Variables\n",
    "\n",
    "As you might expect, the tidyverse also has a `parse_date()` function that we can use to convert the `Start_Date` column to a `Date`. This function uses the following syntax:\n",
    "\n",
    "```{admonition} Syntax\n",
    "`tidyverse::parse_date(x, format=\"\", ...)`\n",
    "+ *Required arguments*\n",
    "  - `x`: An atomic vector with values you would like to convert to a `Date`. \n",
    "+ *Optional arguments*\n",
    "  - `format`: The format of the date. \n",
    "```\n",
    "\n",
    "Because dates can be recorded in a variety of ways, R has a set of symbols that can be used to represent different date formats:\n",
    "\n",
    "| Symbol | Meaning | Example |\n",
    "| :-- | :-- | :-- |\n",
    "| %d | day as a number | 01-31 |\n",
    "| %a | abbreviated weekday | Mon |\n",
    "| %A | unabbreviated weekday | Monday |\n",
    "| %m | month (00-12) | 00-12 |\n",
    "| %b | abbreviated month | Jan |\n",
    "| %B | unabbreviated month | January |\n",
    "| %y | 2-digit year | 07 |\n",
    "| %Y | 4-digit year | 2007 |\n",
    "\n",
    "*Source:* [here](https://www.statmethods.net/input/dates.html). \n",
    "\n",
    "Below we see some examples of the `parse_date()` function applied to dates of different formats:"
   ]
  },
  {
   "cell_type": "code",
   "execution_count": 10,
   "id": "b665fcb2",
   "metadata": {
    "tags": [
     "remove-output"
    ]
   },
   "outputs": [
    {
     "data": {
      "text/html": [
       "<time datetime=\"1999-06-25\">1999-06-25</time>"
      ],
      "text/latex": [
       "1999-06-25"
      ],
      "text/markdown": [
       "1999-06-25"
      ],
      "text/plain": [
       "[1] \"1999-06-25\""
      ]
     },
     "metadata": {},
     "output_type": "display_data"
    }
   ],
   "source": [
    "parse_date(\"25-06-99\", format=\"%d-%m-%y\")"
   ]
  },
  {
   "cell_type": "code",
   "execution_count": 11,
   "id": "7b68693e",
   "metadata": {
    "tags": [
     "remove-input"
    ]
   },
   "outputs": [
    {
     "name": "stdout",
     "output_type": "stream",
     "text": [
      "[1] \"1999-06-25\"\n"
     ]
    }
   ],
   "source": [
    "print(parse_date(\"25-06-99\", format=\"%d-%m-%y\"))"
   ]
  },
  {
   "cell_type": "code",
   "execution_count": 12,
   "id": "b976cf85",
   "metadata": {
    "tags": [
     "remove-output"
    ]
   },
   "outputs": [
    {
     "data": {
      "text/html": [
       "<time datetime=\"2021-01-12\">2021-01-12</time>"
      ],
      "text/latex": [
       "2021-01-12"
      ],
      "text/markdown": [
       "2021-01-12"
      ],
      "text/plain": [
       "[1] \"2021-01-12\""
      ]
     },
     "metadata": {},
     "output_type": "display_data"
    }
   ],
   "source": [
    "parse_date(\"January 12, 2021\", format=\"%B %d, %Y\")"
   ]
  },
  {
   "cell_type": "code",
   "execution_count": 13,
   "id": "c7725cca",
   "metadata": {
    "tags": [
     "remove-input"
    ]
   },
   "outputs": [
    {
     "name": "stdout",
     "output_type": "stream",
     "text": [
      "[1] \"2021-01-12\"\n"
     ]
    }
   ],
   "source": [
    "print(parse_date(\"January 12, 2021\", format=\"%B %d, %Y\"))"
   ]
  },
  {
   "cell_type": "code",
   "execution_count": 14,
   "id": "7710e25c",
   "metadata": {
    "tags": [
     "remove-output"
    ]
   },
   "outputs": [
    {
     "data": {
      "text/html": [
       "<time datetime=\"1995-08-18\">1995-08-18</time>"
      ],
      "text/latex": [
       "1995-08-18"
      ],
      "text/markdown": [
       "1995-08-18"
      ],
      "text/plain": [
       "[1] \"1995-08-18\""
      ]
     },
     "metadata": {},
     "output_type": "display_data"
    }
   ],
   "source": [
    "parse_date(\"08/18/95\", format=\"%m/%d/%y\")"
   ]
  },
  {
   "cell_type": "code",
   "execution_count": 15,
   "id": "1ffbeda5",
   "metadata": {
    "tags": [
     "remove-input"
    ]
   },
   "outputs": [
    {
     "name": "stdout",
     "output_type": "stream",
     "text": [
      "[1] \"1995-08-18\"\n"
     ]
    }
   ],
   "source": [
    "print(parse_date(\"08/18/95\", format=\"%m/%d/%y\"))"
   ]
  },
  {
   "cell_type": "code",
   "execution_count": 16,
   "id": "7604fcc0",
   "metadata": {
    "tags": [
     "remove-output"
    ]
   },
   "outputs": [
    {
     "data": {
      "text/html": [
       "<time datetime=\"2003-02-12\">2003-02-12</time>"
      ],
      "text/latex": [
       "2003-02-12"
      ],
      "text/markdown": [
       "2003-02-12"
      ],
      "text/plain": [
       "[1] \"2003-02-12\""
      ]
     },
     "metadata": {},
     "output_type": "display_data"
    }
   ],
   "source": [
    "parse_date(\"12Feb2003\", format=\"%d%b%Y\")"
   ]
  },
  {
   "cell_type": "code",
   "execution_count": 17,
   "id": "5c089634",
   "metadata": {
    "tags": [
     "remove-input"
    ]
   },
   "outputs": [
    {
     "name": "stdout",
     "output_type": "stream",
     "text": [
      "[1] \"2003-02-12\"\n"
     ]
    }
   ],
   "source": [
    "print(parse_date(\"12Feb2003\", format=\"%d%b%Y\"))"
   ]
  },
  {
   "cell_type": "markdown",
   "id": "f334c6d4",
   "metadata": {},
   "source": [
    "Now we'll use the `format_date()` function to convert the entire `Start_Date` column to a `Date`. This column is coded as `month/day/year`, so the `format` of our date is `%m/%d/%Y`."
   ]
  },
  {
   "cell_type": "code",
   "execution_count": 18,
   "id": "911533b7",
   "metadata": {},
   "outputs": [],
   "source": [
    "employees$Start_Date <- parse_date(employees$Start_Date, format = \"%m/%d/%Y\")"
   ]
  },
  {
   "cell_type": "markdown",
   "id": "1245752f",
   "metadata": {},
   "source": [
    "Now if we view the class of `Start_Date`, it will show `Date`:"
   ]
  },
  {
   "cell_type": "code",
   "execution_count": 19,
   "id": "292bcb14",
   "metadata": {
    "tags": [
     "remove-output"
    ]
   },
   "outputs": [
    {
     "data": {
      "text/html": [
       "'Date'"
      ],
      "text/latex": [
       "'Date'"
      ],
      "text/markdown": [
       "'Date'"
      ],
      "text/plain": [
       "[1] \"Date\""
      ]
     },
     "metadata": {},
     "output_type": "display_data"
    }
   ],
   "source": [
    "class(employees$Start_Date)"
   ]
  },
  {
   "cell_type": "code",
   "execution_count": 20,
   "id": "50c2043e",
   "metadata": {
    "tags": [
     "remove-input"
    ]
   },
   "outputs": [
    {
     "name": "stdout",
     "output_type": "stream",
     "text": [
      "[1] \"Date\"\n"
     ]
    }
   ],
   "source": [
    "print(class(employees$Start_Date))"
   ]
  }
 ],
 "metadata": {
  "jupytext": {
   "cell_metadata_filter": "-all",
   "formats": "md:myst",
   "text_representation": {
    "extension": ".md",
    "format_name": "myst",
    "format_version": 0.13,
    "jupytext_version": "1.11.5"
   }
  },
  "kernelspec": {
   "display_name": "R",
   "language": "R",
   "name": "ir"
  },
  "language_info": {
   "codemirror_mode": "r",
   "file_extension": ".r",
   "mimetype": "text/x-r-source",
   "name": "R",
   "pygments_lexer": "r",
   "version": "3.6.1"
  },
  "source_map": [
   16,
   20,
   40,
   45,
   48,
   52,
   57,
   60,
   64,
   66,
   70,
   75,
   78,
   82,
   84,
   115,
   120,
   125,
   130,
   135,
   140,
   145,
   150,
   153,
   157,
   159,
   163,
   168
  ]
 },
 "nbformat": 4,
 "nbformat_minor": 5
}