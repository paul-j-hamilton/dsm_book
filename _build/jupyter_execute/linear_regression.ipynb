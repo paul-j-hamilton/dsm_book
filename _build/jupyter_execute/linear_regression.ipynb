{
 "cells": [
  {
   "cell_type": "markdown",
   "id": "ca29fc5d",
   "metadata": {},
   "source": [
    "# Linear Regression\n",
    "\n",
    "Relationships between variables are often at the heart of what we’d like to learn from data. This chapter covers **linear regression analysis**, a statistical method that is used to estimate the relationship between a continuous dependent variable and one or more independent variables. This technique can be used to answer such questions as:\n",
    "\n",
    "+ Is there a relationship between movie box office performance and advertising spend?\n",
    "+ Do countries with higher GDPs have lower infant mortality rates?\n",
    "+ What is the relationship between a given stock’s return and the returns of the S&P 500?"
   ]
  }
 ],
 "metadata": {
  "jupytext": {
   "cell_metadata_filter": "-all",
   "formats": "md:myst",
   "text_representation": {
    "extension": ".md",
    "format_name": "myst",
    "format_version": 0.13,
    "jupytext_version": "1.11.5"
   }
  },
  "kernelspec": {
   "display_name": "R",
   "language": "R",
   "name": "ir"
  },
  "language_info": {
   "codemirror_mode": "r",
   "file_extension": ".r",
   "mimetype": "text/x-r-source",
   "name": "R",
   "pygments_lexer": "r",
   "version": "3.6.1"
  },
  "source_map": [
   14
  ]
 },
 "nbformat": 4,
 "nbformat_minor": 5
}