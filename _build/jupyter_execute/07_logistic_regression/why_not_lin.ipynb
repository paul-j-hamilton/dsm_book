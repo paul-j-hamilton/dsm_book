{
 "cells": [
  {
   "cell_type": "code",
   "execution_count": 1,
   "id": "5f5a04d0",
   "metadata": {
    "tags": [
     "remove-cell"
    ]
   },
   "outputs": [
    {
     "name": "stderr",
     "output_type": "stream",
     "text": [
      "Registered S3 methods overwritten by 'ggplot2':\n",
      "  method         from \n",
      "  [.quosures     rlang\n",
      "  c.quosures     rlang\n",
      "  print.quosures rlang\n"
     ]
    },
    {
     "name": "stderr",
     "output_type": "stream",
     "text": [
      "Registered S3 method overwritten by 'rvest':\n",
      "  method            from\n",
      "  read_xml.response xml2\n"
     ]
    },
    {
     "name": "stderr",
     "output_type": "stream",
     "text": [
      "-- Attaching packages --------------------------------------- tidyverse 1.2.1 --\n"
     ]
    },
    {
     "name": "stderr",
     "output_type": "stream",
     "text": [
      "v ggplot2 3.1.1       v purrr   0.3.2  \n",
      "v tibble  2.1.1       v dplyr   0.8.0.1\n",
      "v tidyr   0.8.3       v stringr 1.4.0  \n",
      "v readr   1.3.1       v forcats 0.4.0  \n"
     ]
    },
    {
     "name": "stderr",
     "output_type": "stream",
     "text": [
      "-- Conflicts ------------------------------------------ tidyverse_conflicts() --\n",
      "x dplyr::filter() masks stats::filter()\n",
      "x dplyr::lag()    masks stats::lag()\n"
     ]
    },
    {
     "name": "stderr",
     "output_type": "stream",
     "text": [
      "Parsed with column specification:\n",
      "cols(\n",
      "  age = col_double(),\n",
      "  marital = col_character(),\n",
      "  education = col_character(),\n",
      "  default = col_character(),\n",
      "  housing = col_character(),\n",
      "  loan = col_character(),\n",
      "  contact = col_character(),\n",
      "  duration = col_double(),\n",
      "  campaign = col_double(),\n",
      "  previous = col_double(),\n",
      "  poutcome = col_character(),\n",
      "  subscription = col_double()\n",
      ")\n"
     ]
    }
   ],
   "source": [
    "library(tidyverse)\n",
    "library(ggplot2)\n",
    "deposit <- read_csv(\"../_build/data/marketing.csv\")"
   ]
  },
  {
   "cell_type": "markdown",
   "id": "b638ade7",
   "metadata": {},
   "source": [
    "# Why Not Linear Regression?\n",
    "\n",
    "At this point, a natural question might be why one cannot use linear regression to model categorical outcomes. To understand why, let's look at an example. We have a data set related to a telephone marketing campaign of a Portuguese banking institution. Suppose we would like to model the likelihood that a phone call recipient will make a term deposit at the bank. The data is saved in a data frame called `deposit`, and the first few observations are shown below:"
   ]
  },
  {
   "cell_type": "code",
   "execution_count": 2,
   "id": "835dda46",
   "metadata": {},
   "outputs": [
    {
     "data": {
      "text/html": [
       "<table>\n",
       "<thead><tr><th scope=col>age</th><th scope=col>marital</th><th scope=col>education</th><th scope=col>default</th><th scope=col>housing</th><th scope=col>loan</th><th scope=col>contact</th><th scope=col>duration</th><th scope=col>campaign</th><th scope=col>previous</th><th scope=col>poutcome</th><th scope=col>subscription</th></tr></thead>\n",
       "<tbody>\n",
       "\t<tr><td>30       </td><td>married  </td><td>primary  </td><td>no       </td><td>no       </td><td>no       </td><td>cellular </td><td> 79      </td><td>1        </td><td>0        </td><td>unknown  </td><td>0        </td></tr>\n",
       "\t<tr><td>33       </td><td>married  </td><td>secondary</td><td>no       </td><td>yes      </td><td>yes      </td><td>cellular </td><td>220      </td><td>1        </td><td>4        </td><td>failure  </td><td>0        </td></tr>\n",
       "\t<tr><td>35       </td><td>single   </td><td>tertiary </td><td>no       </td><td>yes      </td><td>no       </td><td>cellular </td><td>185      </td><td>1        </td><td>1        </td><td>failure  </td><td>0        </td></tr>\n",
       "\t<tr><td>30       </td><td>married  </td><td>tertiary </td><td>no       </td><td>yes      </td><td>yes      </td><td>unknown  </td><td>199      </td><td>4        </td><td>0        </td><td>unknown  </td><td>0        </td></tr>\n",
       "\t<tr><td>59       </td><td>married  </td><td>secondary</td><td>no       </td><td>yes      </td><td>no       </td><td>unknown  </td><td>226      </td><td>1        </td><td>0        </td><td>unknown  </td><td>0        </td></tr>\n",
       "\t<tr><td>35       </td><td>single   </td><td>tertiary </td><td>no       </td><td>no       </td><td>no       </td><td>cellular </td><td>141      </td><td>2        </td><td>3        </td><td>failure  </td><td>0        </td></tr>\n",
       "</tbody>\n",
       "</table>\n"
      ],
      "text/latex": [
       "\\begin{tabular}{r|llllllllllll}\n",
       " age & marital & education & default & housing & loan & contact & duration & campaign & previous & poutcome & subscription\\\\\n",
       "\\hline\n",
       "\t 30        & married   & primary   & no        & no        & no        & cellular  &  79       & 1         & 0         & unknown   & 0        \\\\\n",
       "\t 33        & married   & secondary & no        & yes       & yes       & cellular  & 220       & 1         & 4         & failure   & 0        \\\\\n",
       "\t 35        & single    & tertiary  & no        & yes       & no        & cellular  & 185       & 1         & 1         & failure   & 0        \\\\\n",
       "\t 30        & married   & tertiary  & no        & yes       & yes       & unknown   & 199       & 4         & 0         & unknown   & 0        \\\\\n",
       "\t 59        & married   & secondary & no        & yes       & no        & unknown   & 226       & 1         & 0         & unknown   & 0        \\\\\n",
       "\t 35        & single    & tertiary  & no        & no        & no        & cellular  & 141       & 2         & 3         & failure   & 0        \\\\\n",
       "\\end{tabular}\n"
      ],
      "text/markdown": [
       "\n",
       "| age | marital | education | default | housing | loan | contact | duration | campaign | previous | poutcome | subscription |\n",
       "|---|---|---|---|---|---|---|---|---|---|---|---|\n",
       "| 30        | married   | primary   | no        | no        | no        | cellular  |  79       | 1         | 0         | unknown   | 0         |\n",
       "| 33        | married   | secondary | no        | yes       | yes       | cellular  | 220       | 1         | 4         | failure   | 0         |\n",
       "| 35        | single    | tertiary  | no        | yes       | no        | cellular  | 185       | 1         | 1         | failure   | 0         |\n",
       "| 30        | married   | tertiary  | no        | yes       | yes       | unknown   | 199       | 4         | 0         | unknown   | 0         |\n",
       "| 59        | married   | secondary | no        | yes       | no        | unknown   | 226       | 1         | 0         | unknown   | 0         |\n",
       "| 35        | single    | tertiary  | no        | no        | no        | cellular  | 141       | 2         | 3         | failure   | 0         |\n",
       "\n"
      ],
      "text/plain": [
       "  age marital education default housing loan contact  duration campaign\n",
       "1 30  married primary   no      no      no   cellular  79      1       \n",
       "2 33  married secondary no      yes     yes  cellular 220      1       \n",
       "3 35  single  tertiary  no      yes     no   cellular 185      1       \n",
       "4 30  married tertiary  no      yes     yes  unknown  199      4       \n",
       "5 59  married secondary no      yes     no   unknown  226      1       \n",
       "6 35  single  tertiary  no      no      no   cellular 141      2       \n",
       "  previous poutcome subscription\n",
       "1 0        unknown  0           \n",
       "2 4        failure  0           \n",
       "3 1        failure  0           \n",
       "4 0        unknown  0           \n",
       "5 0        unknown  0           \n",
       "6 3        failure  0           "
      ]
     },
     "metadata": {},
     "output_type": "display_data"
    }
   ],
   "source": [
    "head(deposit)"
   ]
  },
  {
   "cell_type": "markdown",
   "id": "35f8162a",
   "metadata": {},
   "source": [
    "These variables are defined as follows:\n",
    "\n",
    "+ `age`: The age of the person contacted.\n",
    "+ `marital`: The marital status of the person contacted. \n",
    "+ `education`: The education level of the person contacted. \n",
    "+ `default`: Whether the person contacted has credit in default.\n",
    "+ `housing`: Whether the person contacted has a housing loan.\n",
    "+ `loan`: Whether the person contacted has a personal loan.\n",
    "+ `contact`: How the person was contacted (`cellular` or `telephone`).\n",
    "+ `duration`: The duration of the contact, in seconds.\n",
    "+ `campaign`: The number of contacts performed during this campaign for this client.\n",
    "+ `previous`: The number of contacts performed before this campaign for this client.\n",
    "+ `poutcome`: The outcome of the previous marketing campaign (`failure`, `nonexistent`, or `success`).\n",
    "+ `subscription`: Whether the person contacted made a term deposit (`1` if the person made a deposit and `0` if not).\n",
    "\n",
    "Let's try using linear regression to model `subscription` as a function of `duration`:"
   ]
  },
  {
   "cell_type": "code",
   "execution_count": 3,
   "id": "748f4d0c",
   "metadata": {},
   "outputs": [
    {
     "data": {
      "text/plain": [
       "\n",
       "Call:\n",
       "lm(formula = subscription ~ duration, data = deposit)\n",
       "\n",
       "Residuals:\n",
       "     Min       1Q   Median       3Q      Max \n",
       "-1.47629 -0.11329 -0.05758 -0.01963  1.00009 \n",
       "\n",
       "Coefficients:\n",
       "              Estimate Std. Error t value Pr(>|t|)    \n",
       "(Intercept) -1.488e-02  6.203e-03  -2.399   0.0165 *  \n",
       "duration     4.930e-04  1.675e-05  29.436   <2e-16 ***\n",
       "---\n",
       "Signif. codes:  0 '***' 0.001 '**' 0.01 '*' 0.05 '.' 0.1 ' ' 1\n",
       "\n",
       "Residual standard error: 0.2926 on 4519 degrees of freedom\n",
       "Multiple R-squared:  0.1609,\tAdjusted R-squared:  0.1607 \n",
       "F-statistic: 866.5 on 1 and 4519 DF,  p-value: < 2.2e-16\n"
      ]
     },
     "metadata": {},
     "output_type": "display_data"
    }
   ],
   "source": [
    "depositLinear <- lm(subscription ~ duration, data = deposit)\n",
    "summary(depositLinear)"
   ]
  },
  {
   "cell_type": "markdown",
   "id": "0f7bb6c7",
   "metadata": {},
   "source": [
    "Based on this output, our estimated regression equation is:\n",
    "\n",
    "$$predicted \\;subscription = \\hat{y} = -0.01488 + 0.0004930(duration)$$\n",
    "\n",
    "If we plot this line on top of our data, we can start to see the problem:"
   ]
  },
  {
   "cell_type": "code",
   "execution_count": 4,
   "id": "0d9f75d0",
   "metadata": {
    "tags": [
     "remove-input"
    ]
   },
   "outputs": [
    {
     "data": {
      "image/png": "[encoded data removed]",
      "text/plain": [
       "plot without title"
      ]
     },
     "metadata": {
      "filenames": {
       "image/png": "C:\\Users\\phamilton\\Documents\\dsm\\dsm_book\\_build\\jupyter_execute\\07_logistic_regression\\why_not_lin_6_0.png"
      }
     },
     "output_type": "display_data"
    }
   ],
   "source": [
    "suppressWarnings(print(ggplot(deposit, aes(x=duration, y=subscription)) + geom_point()  +\n",
    "  geom_smooth(method='lm', se=F,size=2) + theme_bw() +\n",
    "  xlim(-500, 3000) + ylim(-0.2, 1.2) +\n",
    "  theme(axis.text=element_text(size=12),\n",
    "        axis.title=element_text(size=14,face=\"bold\"))))"
   ]
  },
  {
   "cell_type": "markdown",
   "id": "820b4825",
   "metadata": {},
   "source": [
    "Our independent variable `subscription` can only take on two possible values, `0` and `1`. However, the line we fit is not bounded between zero and one. If `duration` equals 2,500 seconds, for example, the model would predict a value greater than one:\n",
    "\n",
    "$$\\begin{aligned}predicted \\;subscription = \\hat{y} & \\approx -0.01488 + 0.0004930(2500) \\\\ & \\approx -0.01488 + 1.2325 \\\\ & \\approx 1.2176\\end{aligned}$$\n",
    "\n",
    "A negative value of `duration` does not make sense in this context, but in principle the same problem applies in the opposite direction - for small values of $X$, the linear model might predict outcomes less than zero. To overcome this issue, logistic regression models the dependent variable $Y$ according to the logistic function, which is bounded between zero and one."
   ]
  }
 ],
 "metadata": {
  "jupytext": {
   "cell_metadata_filter": "-all",
   "formats": "md:myst",
   "text_representation": {
    "extension": ".md",
    "format_name": "myst",
    "format_version": 0.13,
    "jupytext_version": "1.11.5"
   }
  },
  "kernelspec": {
   "display_name": "R",
   "language": "R",
   "name": "ir"
  },
  "language_info": {
   "codemirror_mode": "r",
   "file_extension": ".r",
   "mimetype": "text/x-r-source",
   "name": "R",
   "pygments_lexer": "r",
   "version": "3.6.1"
  },
  "source_map": [
   16,
   21,
   27,
   29,
   48,
   51,
   59,
   66
  ]
 },
 "nbformat": 4,
 "nbformat_minor": 5
}