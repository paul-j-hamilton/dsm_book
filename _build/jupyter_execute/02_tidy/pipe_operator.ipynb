{
 "cells": [
  {
   "cell_type": "code",
   "execution_count": 1,
   "id": "71844d62",
   "metadata": {
    "tags": [
     "remove-cell"
    ]
   },
   "outputs": [
    {
     "name": "stderr",
     "output_type": "stream",
     "text": [
      "Registered S3 methods overwritten by 'ggplot2':\n",
      "  method         from \n",
      "  [.quosures     rlang\n",
      "  c.quosures     rlang\n",
      "  print.quosures rlang\n"
     ]
    },
    {
     "name": "stderr",
     "output_type": "stream",
     "text": [
      "Registered S3 method overwritten by 'rvest':\n",
      "  method            from\n",
      "  read_xml.response xml2\n"
     ]
    },
    {
     "name": "stderr",
     "output_type": "stream",
     "text": [
      "-- Attaching packages --------------------------------------- tidyverse 1.2.1 --\n"
     ]
    },
    {
     "name": "stderr",
     "output_type": "stream",
     "text": [
      "v ggplot2 3.1.1       v purrr   0.3.2  \n",
      "v tibble  2.1.1       v dplyr   0.8.0.1\n",
      "v tidyr   0.8.3       v stringr 1.4.0  \n",
      "v readr   1.3.1       v forcats 0.4.0  \n"
     ]
    },
    {
     "name": "stderr",
     "output_type": "stream",
     "text": [
      "-- Conflicts ------------------------------------------ tidyverse_conflicts() --\n",
      "x dplyr::filter() masks stats::filter()\n",
      "x dplyr::lag()    masks stats::lag()\n"
     ]
    }
   ],
   "source": [
    "library(tidyverse)"
   ]
  },
  {
   "cell_type": "markdown",
   "id": "0c147a56",
   "metadata": {},
   "source": [
    "# The Pipe Operator\n",
    "\n",
    "Recall the ***Data Frames*** chapter of the R Bootcamp, where we applied a series of steps to process the `employees` data set. In that section, we did the following:\n",
    "\n",
    "1. Fixed the types of the `Start_Date` and `Salary` columns ([Fixing Variable Types](../00_bootcamp/02_dataframes/fixing_variable_types.html#fixing-variable-types)).\n",
    "2. Filtered rows out of the data using `filter()` ([Filtering Rows](../00_bootcamp/02_dataframes/filtering_rows.html#filtering-rows)).\n",
    "3. Selected certain columns using `select()`  ([Selecting Columns](../00_bootcamp/02_dataframes/selecting_columns.html#selecting-columns)).\n",
    "4. Sorted the data using `arrange()`  ([Sorting Data](../00_bootcamp/02_dataframes/sorting_data.html#sorting-data)).\n",
    "\n",
    "Using what we learned in the bootcamp, let's apply these steps in a single code chunk. Imagine we would like to rank each employee with a Bachelor's, Master's, or Ph.D based on their salary. We will start with the raw data set that we read in from `employee_data.csv`, and apply the steps above to calculate the employee ranks."
   ]
  },
  {
   "cell_type": "code",
   "execution_count": 2,
   "id": "42a56c72",
   "metadata": {
    "tags": [
     "remove-output"
    ]
   },
   "outputs": [
    {
     "name": "stderr",
     "output_type": "stream",
     "text": [
      "Parsed with column specification:\n",
      "cols(\n",
      "  ID = col_double(),\n",
      "  Name = col_character(),\n",
      "  Gender = col_character(),\n",
      "  Age = col_double(),\n",
      "  Rating = col_double(),\n",
      "  Degree = col_character(),\n",
      "  Start_Date = col_character(),\n",
      "  Retired = col_logical(),\n",
      "  Division = col_character(),\n",
      "  Salary = col_character()\n",
      ")\n"
     ]
    }
   ],
   "source": [
    "# Read in data\n",
    "employees <- read_csv(\"../_build/data/employee_data.csv\")\n",
    "\n",
    "# Step 1\n",
    "employees$Salary <- parse_number(employees$Salary)\n",
    "employees$Start_Date <- parse_date(employees$Start_Date, format=\"%m/%d/%Y\")\n",
    "\n",
    "# Step 2\n",
    "employeesCollege <- filter(employees, Degree %in% c(\"Bachelor's\", \"Master's\", \"Ph.D\"), !is.na(Salary))\n",
    "\n",
    "# Step 3\n",
    "employeesTargetCols <- select(employeesCollege, Degree, Salary)\n",
    "\n",
    "# Step 4\n",
    "employeesWithRankSorted <- arrange(employeesTargetCols, desc(Salary))"
   ]
  },
  {
   "cell_type": "markdown",
   "id": "1fbf21af",
   "metadata": {},
   "source": [
    "We can view the highest paid employees with `head()`."
   ]
  },
  {
   "cell_type": "code",
   "execution_count": 3,
   "id": "6f56818e",
   "metadata": {},
   "outputs": [
    {
     "data": {
      "text/html": [
       "<table>\n",
       "<thead><tr><th scope=col>Degree</th><th scope=col>Salary</th></tr></thead>\n",
       "<tbody>\n",
       "\t<tr><td>Ph.D      </td><td>266235    </td></tr>\n",
       "\t<tr><td>Master's  </td><td>258819    </td></tr>\n",
       "\t<tr><td>Master's  </td><td>248925    </td></tr>\n",
       "\t<tr><td>Ph.D      </td><td>247932    </td></tr>\n",
       "\t<tr><td>Bachelor's</td><td>246861    </td></tr>\n",
       "\t<tr><td>Master's  </td><td>244687    </td></tr>\n",
       "</tbody>\n",
       "</table>\n"
      ],
      "text/latex": [
       "\\begin{tabular}{r|ll}\n",
       " Degree & Salary\\\\\n",
       "\\hline\n",
       "\t Ph.D       & 266235    \\\\\n",
       "\t Master's   & 258819    \\\\\n",
       "\t Master's   & 248925    \\\\\n",
       "\t Ph.D       & 247932    \\\\\n",
       "\t Bachelor's & 246861    \\\\\n",
       "\t Master's   & 244687    \\\\\n",
       "\\end{tabular}\n"
      ],
      "text/markdown": [
       "\n",
       "| Degree | Salary |\n",
       "|---|---|\n",
       "| Ph.D       | 266235     |\n",
       "| Master's   | 258819     |\n",
       "| Master's   | 248925     |\n",
       "| Ph.D       | 247932     |\n",
       "| Bachelor's | 246861     |\n",
       "| Master's   | 244687     |\n",
       "\n"
      ],
      "text/plain": [
       "  Degree     Salary\n",
       "1 Ph.D       266235\n",
       "2 Master's   258819\n",
       "3 Master's   248925\n",
       "4 Ph.D       247932\n",
       "5 Bachelor's 246861\n",
       "6 Master's   244687"
      ]
     },
     "metadata": {},
     "output_type": "display_data"
    }
   ],
   "source": [
    "head(employeesWithRankSorted)"
   ]
  },
  {
   "cell_type": "markdown",
   "id": "ad0aae77",
   "metadata": {},
   "source": [
    "This got us the correct result, although the code is not very elegant or concise. Notice that we created several different data frames at each intermediate step in the code. In Step 2 we created a new data frame called `employeesCollege`, which we then passed to Step 3, where we created another data frame called `employeesTargetCols`, which we passed to Step 4, etc. To get to our final data set called `employeesWithRankSorted`, we had to create two intermediate data frames, in addition to our original data frame `employees`. Storing these four different data frames not only clutters up our environment; it can also create memory issues when working with very large data sets.\n",
    "\n",
    "In the tidyverse we can solve this problem with an operator known as the **pipe** (`%>%`), which offers an easy and efficient way to combine multiple steps into a single statement. The pipe works according to the following basics syntax:\n",
    "\n",
    "```{admonition} Syntax\n",
    "`transformedData <- originalData %>% STEP 1 %>% STEP 2 %>% ... %>% STEP N`         \n",
    "```\n",
    "\n",
    "In this generic example, the original data is passed through steps 1 through N, and the resulting transformed data set is saved into `transformedData`. To better understand the pipe, think of the data as \"flowing\" through a series of steps. Our original data frame (`originalData`) is \"pushed\" through the opening of the pipe and through all the subsequent steps, coming out the other end after being processed and transformed. Because each step is applied within a single statement, we are not creating multiple intermediate data sets that have to be stored in memory. \n",
    "\n",
    "In the code chunck below, we use the pipe to apply the exact same data wrangling steps that we showed above. Note that we use all of our usual data wrangling functions as before, except now we do *not* need to specify the name of the data frame as the first argument."
   ]
  },
  {
   "cell_type": "code",
   "execution_count": 4,
   "id": "1de1ef08",
   "metadata": {
    "tags": [
     "remove-output"
    ]
   },
   "outputs": [
    {
     "name": "stderr",
     "output_type": "stream",
     "text": [
      "Parsed with column specification:\n",
      "cols(\n",
      "  ID = col_double(),\n",
      "  Name = col_character(),\n",
      "  Gender = col_character(),\n",
      "  Age = col_double(),\n",
      "  Rating = col_double(),\n",
      "  Degree = col_character(),\n",
      "  Start_Date = col_character(),\n",
      "  Retired = col_logical(),\n",
      "  Division = col_character(),\n",
      "  Salary = col_character()\n",
      ")\n"
     ]
    }
   ],
   "source": [
    "# Read in the data \n",
    "employees <- read_csv(\"../_build/data/employee_data.csv\")\n",
    "\n",
    "employeesWithRankSortedPipe <- employees %>%\n",
    "\n",
    "     mutate(Salary = parse_number(Salary),                                           # Step 1\n",
    "            Start_Date <- parse_date(employees$Start_Date, format = \"%m/%d/%Y\")) %>%\n",
    "\n",
    "     filter(Degree %in% c(\"Bachelor's\", \"Master's\", \"Ph.D\"), !is.na(Salary)) %>%     # Step 2\n",
    "\n",
    "     select(Degree, Salary) %>%                                                      # Step 3\n",
    "\n",
    "     arrange(desc(Salary))                                                             # Step 4"
   ]
  },
  {
   "cell_type": "markdown",
   "id": "a2cf8d51",
   "metadata": {},
   "source": [
    "If we output the first few rows of our new data frame, we'll see that it is identical to the one we created before."
   ]
  },
  {
   "cell_type": "code",
   "execution_count": 5,
   "id": "2344f518",
   "metadata": {},
   "outputs": [
    {
     "data": {
      "text/html": [
       "<table>\n",
       "<thead><tr><th scope=col>Degree</th><th scope=col>Salary</th></tr></thead>\n",
       "<tbody>\n",
       "\t<tr><td>Ph.D      </td><td>266235    </td></tr>\n",
       "\t<tr><td>Master's  </td><td>258819    </td></tr>\n",
       "\t<tr><td>Master's  </td><td>248925    </td></tr>\n",
       "\t<tr><td>Ph.D      </td><td>247932    </td></tr>\n",
       "\t<tr><td>Bachelor's</td><td>246861    </td></tr>\n",
       "\t<tr><td>Master's  </td><td>244687    </td></tr>\n",
       "</tbody>\n",
       "</table>\n"
      ],
      "text/latex": [
       "\\begin{tabular}{r|ll}\n",
       " Degree & Salary\\\\\n",
       "\\hline\n",
       "\t Ph.D       & 266235    \\\\\n",
       "\t Master's   & 258819    \\\\\n",
       "\t Master's   & 248925    \\\\\n",
       "\t Ph.D       & 247932    \\\\\n",
       "\t Bachelor's & 246861    \\\\\n",
       "\t Master's   & 244687    \\\\\n",
       "\\end{tabular}\n"
      ],
      "text/markdown": [
       "\n",
       "| Degree | Salary |\n",
       "|---|---|\n",
       "| Ph.D       | 266235     |\n",
       "| Master's   | 258819     |\n",
       "| Master's   | 248925     |\n",
       "| Ph.D       | 247932     |\n",
       "| Bachelor's | 246861     |\n",
       "| Master's   | 244687     |\n",
       "\n"
      ],
      "text/plain": [
       "  Degree     Salary\n",
       "1 Ph.D       266235\n",
       "2 Master's   258819\n",
       "3 Master's   248925\n",
       "4 Ph.D       247932\n",
       "5 Bachelor's 246861\n",
       "6 Master's   244687"
      ]
     },
     "metadata": {},
     "output_type": "display_data"
    }
   ],
   "source": [
    "head(employeesWithRankSortedPipe)"
   ]
  }
 ],
 "metadata": {
  "jupytext": {
   "cell_metadata_filter": "-all",
   "formats": "md:myst",
   "text_representation": {
    "extension": ".md",
    "format_name": "myst",
    "format_version": 0.13,
    "jupytext_version": "1.11.5"
   }
  },
  "kernelspec": {
   "display_name": "R",
   "language": "R",
   "name": "ir"
  },
  "language_info": {
   "codemirror_mode": "r",
   "file_extension": ".r",
   "mimetype": "text/x-r-source",
   "name": "R",
   "pygments_lexer": "r",
   "version": "3.6.1"
  },
  "source_map": [
   16,
   19,
   32,
   49,
   52,
   54,
   68,
   83,
   87
  ]
 },
 "nbformat": 4,
 "nbformat_minor": 5
}