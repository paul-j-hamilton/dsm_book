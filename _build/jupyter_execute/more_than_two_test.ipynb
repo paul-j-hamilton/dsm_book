{
 "cells": [
  {
   "cell_type": "code",
   "execution_count": 1,
   "id": "ffb1fe67",
   "metadata": {
    "tags": [
     "remove-cell"
    ]
   },
   "outputs": [
    {
     "name": "stderr",
     "output_type": "stream",
     "text": [
      "Registered S3 methods overwritten by 'ggplot2':\n",
      "  method         from \n",
      "  [.quosures     rlang\n",
      "  c.quosures     rlang\n",
      "  print.quosures rlang\n"
     ]
    },
    {
     "name": "stderr",
     "output_type": "stream",
     "text": [
      "Registered S3 method overwritten by 'rvest':\n",
      "  method            from\n",
      "  read_xml.response xml2\n"
     ]
    },
    {
     "name": "stderr",
     "output_type": "stream",
     "text": [
      "-- Attaching packages --------------------------------------- tidyverse 1.2.1 --\n"
     ]
    },
    {
     "name": "stderr",
     "output_type": "stream",
     "text": [
      "v ggplot2 3.1.1       v purrr   0.3.2  \n",
      "v tibble  2.1.1       v dplyr   0.8.0.1\n",
      "v tidyr   0.8.3       v stringr 1.4.0  \n",
      "v readr   1.3.1       v forcats 0.4.0  \n"
     ]
    },
    {
     "name": "stderr",
     "output_type": "stream",
     "text": [
      "-- Conflicts ------------------------------------------ tidyverse_conflicts() --\n",
      "x dplyr::filter() masks stats::filter()\n",
      "x dplyr::lag()    masks stats::lag()\n"
     ]
    },
    {
     "name": "stderr",
     "output_type": "stream",
     "text": [
      "Parsed with column specification:\n",
      "cols(\n",
      "  ID = col_double(),\n",
      "  Name = col_character(),\n",
      "  Gender = col_character(),\n",
      "  Age = col_double(),\n",
      "  Rating = col_double(),\n",
      "  Degree = col_character(),\n",
      "  Start_Date = col_character(),\n",
      "  Retired = col_logical(),\n",
      "  Division = col_character(),\n",
      "  Salary = col_character()\n",
      ")\n"
     ]
    }
   ],
   "source": [
    "library(tidyverse)\n",
    "employees <- read_csv(\"_build/data/employee_data.csv\")\n",
    "employees$Salary <- parse_number(employees$Salary)\n",
    "employees$Start_Date <- parse_date(employees$Start_Date, format = \"%m/%d/%Y\")\n",
    "degreeLevels <- c(\"High School\", \"Associate's\", \"Bachelor's\", \"Master's\", \"Ph.D\")\n",
    "employees$Degree <- parse_factor(employees$Degree, levels = degreeLevels, ordered = TRUE)\n",
    "carbs <- read.csv(\"_build/data/carbs.csv\")"
   ]
  },
  {
   "cell_type": "markdown",
   "id": "e0d87ceb",
   "metadata": {},
   "source": [
    "# Hypothesis Testing with More Than Two Samples (&#9909;)\n",
    "\n",
    "This section is optional, and will not be covered in the DSM course. Select \"Click to show\" to reveal. \n",
    "\n",
    "## Testing Means (ANOVA)\n",
    "\n",
    "If we want to compare the means of more than two groups, one procedure available is called **Analysis of Variance (ANOVA)**. The name seems strange because we are comparing means, but the word variance comes from the fact that this procedure makes a relatively strong assumption that the variability in each group we are comparing is the same. A rule of thumb when using ANOVA is that the ratio of the largest standard deviation of the groups to the smallest standard deviation should be no more than three.\n",
    "\n",
    "The null hypothesis for ANOVA is that the means of all our groups are the same. The alternative is that there are at least two groups that have different means. If we reject the null hypothesis we need to do further analyses to see where the differences exist.\n",
    "\n",
    "To understand when one might use ANOVA, consider the following example. Builder's Buddy, a nationwide home improvement chain, would like to not only sell you a water heater, they would also like to install it for you. The four service centers the company runs are organized by regional markets. One question of interest is whether the employees’ training is similar in the four different markets so that the install time is roughly consistent around the country. Builder's Buddy collected data from these four different markets on the amount of time it took (in minutes) to install a standard 40-gallon water heater. That data is saved in a data frame called `waterData`, and the first few observations are shown below:"
   ]
  },
  {
   "cell_type": "code",
   "execution_count": 2,
   "id": "9d10def9",
   "metadata": {
    "tags": [
     "remove-input"
    ]
   },
   "outputs": [
    {
     "data": {
      "text/html": [
       "<table>\n",
       "<thead><tr><th scope=col>Time</th><th scope=col>City</th></tr></thead>\n",
       "<tbody>\n",
       "\t<tr><td>165       </td><td>Topeka    </td></tr>\n",
       "\t<tr><td>145       </td><td>Topeka    </td></tr>\n",
       "\t<tr><td>177       </td><td>Richmond  </td></tr>\n",
       "\t<tr><td>179       </td><td>Spokane   </td></tr>\n",
       "\t<tr><td>213       </td><td>Pittsburgh</td></tr>\n",
       "\t<tr><td>154       </td><td>Spokane   </td></tr>\n",
       "</tbody>\n",
       "</table>\n"
      ],
      "text/latex": [
       "\\begin{tabular}{r|ll}\n",
       " Time & City\\\\\n",
       "\\hline\n",
       "\t 165        & Topeka    \\\\\n",
       "\t 145        & Topeka    \\\\\n",
       "\t 177        & Richmond  \\\\\n",
       "\t 179        & Spokane   \\\\\n",
       "\t 213        & Pittsburgh\\\\\n",
       "\t 154        & Spokane   \\\\\n",
       "\\end{tabular}\n"
      ],
      "text/markdown": [
       "\n",
       "| Time | City |\n",
       "|---|---|\n",
       "| 165        | Topeka     |\n",
       "| 145        | Topeka     |\n",
       "| 177        | Richmond   |\n",
       "| 179        | Spokane    |\n",
       "| 213        | Pittsburgh |\n",
       "| 154        | Spokane    |\n",
       "\n"
      ],
      "text/plain": [
       "  Time City      \n",
       "1 165  Topeka    \n",
       "2 145  Topeka    \n",
       "3 177  Richmond  \n",
       "4 179  Spokane   \n",
       "5 213  Pittsburgh\n",
       "6 154  Spokane   "
      ]
     },
     "metadata": {},
     "output_type": "display_data"
    }
   ],
   "source": [
    "waterData <- read.csv(\"_build/data/waterheater.csv\")\n",
    "set.seed(201)\n",
    "head(sample_n(waterData, 6))"
   ]
  },
  {
   "cell_type": "markdown",
   "id": "b1519a0d",
   "metadata": {},
   "source": [
    "Our null and alternative hypotheses for the ANOVA test are:\n",
    "\n",
    "+ $H_o$: The mean install time is the same for all four cities.\n",
    "+ $H_a$: The mean install time is *not* the same for all four cities.\n",
    "\n",
    "We can use `summary(aov())` to calculate the appropriate p-value in R:\n",
    "\n",
    "```{admonition} Syntax\n",
    "`summary(aov(df$var ~ df$group))`\n",
    "+ *Required arguments*\n",
    "  - `df$var`: The variable of interest (*i.e.*, the variable we are comparing across the groups).\n",
    "  - `df$group`: The group each observation belongs to.\n",
    "```\n",
    "\n",
    "Applying this to our sample data:"
   ]
  },
  {
   "cell_type": "code",
   "execution_count": 3,
   "id": "4b0125d8",
   "metadata": {},
   "outputs": [
    {
     "data": {
      "text/plain": [
       "               Df Sum Sq Mean Sq F value Pr(>F)\n",
       "waterData$City  3   1688   562.7   1.226  0.326\n",
       "Residuals      20   9183   459.1               "
      ]
     },
     "metadata": {},
     "output_type": "display_data"
    }
   ],
   "source": [
    "summary(aov(waterData$Time ~ waterData$City))"
   ]
  },
  {
   "cell_type": "markdown",
   "id": "fa49096c",
   "metadata": {},
   "source": [
    "ANOVA runs what is called an F-test, and we find from the output for our observed data the resulting p-value for this test is 0.3276. This is not below 0.05, so we fail to reject the null hypothesis that the mean install time in each city is the same. Formally, there is not enough evidence to conclude that the samples came from distributions with different means.\n",
    "\n",
    "What if we obtain a relatively small p-value and end up rejecting the null hypothesis? We would then want to do further analysis to see where the differences in means exist. The following example shows how to do that.\n",
    "\n",
    "**Example** An experiment was conducted as follows. In three similar cities an advertisement campaign was launched. In each city only one of the three characteristics (convenience, quality, and price) was emphasized. The weekly sales were recorded for twenty weeks following the beginning of the campaigns. The data is saved in a data frame called `sales`, and the first few observations are shown below."
   ]
  },
  {
   "cell_type": "code",
   "execution_count": 4,
   "id": "e9878ae2",
   "metadata": {
    "tags": [
     "remove-input"
    ]
   },
   "outputs": [
    {
     "data": {
      "text/html": [
       "<table>\n",
       "<thead><tr><th scope=col>sales</th><th scope=col>emphasis</th></tr></thead>\n",
       "<tbody>\n",
       "\t<tr><td>557        </td><td>convenience</td></tr>\n",
       "\t<tr><td>502        </td><td>price      </td></tr>\n",
       "\t<tr><td>624        </td><td>quality    </td></tr>\n",
       "\t<tr><td>606        </td><td>convenience</td></tr>\n",
       "\t<tr><td>719        </td><td>convenience</td></tr>\n",
       "\t<tr><td>532        </td><td>price      </td></tr>\n",
       "</tbody>\n",
       "</table>\n"
      ],
      "text/latex": [
       "\\begin{tabular}{r|ll}\n",
       " sales & emphasis\\\\\n",
       "\\hline\n",
       "\t 557         & convenience\\\\\n",
       "\t 502         & price      \\\\\n",
       "\t 624         & quality    \\\\\n",
       "\t 606         & convenience\\\\\n",
       "\t 719         & convenience\\\\\n",
       "\t 532         & price      \\\\\n",
       "\\end{tabular}\n"
      ],
      "text/markdown": [
       "\n",
       "| sales | emphasis |\n",
       "|---|---|\n",
       "| 557         | convenience |\n",
       "| 502         | price       |\n",
       "| 624         | quality     |\n",
       "| 606         | convenience |\n",
       "| 719         | convenience |\n",
       "| 532         | price       |\n",
       "\n"
      ],
      "text/plain": [
       "  sales emphasis   \n",
       "1 557   convenience\n",
       "2 502   price      \n",
       "3 624   quality    \n",
       "4 606   convenience\n",
       "5 719   convenience\n",
       "6 532   price      "
      ]
     },
     "metadata": {},
     "output_type": "display_data"
    }
   ],
   "source": [
    "sales <- read.csv(\"_build/data/juicebox.csv\")\n",
    "set.seed(202)\n",
    "head(sample_n(sales, 6))"
   ]
  },
  {
   "cell_type": "markdown",
   "id": "f0c5d2c5",
   "metadata": {},
   "source": [
    "Our null and alternative hypotheses for this test are:\n",
    "\n",
    "+ $H_o$: The mean sales are the same for the three advertisement campaigns.\n",
    "+ $H_a$: The mean sales are *not* the same for the three advertisement campaigns.\n",
    "\n",
    "Applying this to our sample data:"
   ]
  },
  {
   "cell_type": "code",
   "execution_count": 5,
   "id": "4d75cf4f",
   "metadata": {},
   "outputs": [
    {
     "data": {
      "text/plain": [
       "               Df Sum Sq Mean Sq F value Pr(>F)  \n",
       "sales$emphasis  2  57512   28756   3.233 0.0468 *\n",
       "Residuals      57 506983    8894                 \n",
       "---\n",
       "Signif. codes:  0 '***' 0.001 '**' 0.01 '*' 0.05 '.' 0.1 ' ' 1"
      ]
     },
     "metadata": {},
     "output_type": "display_data"
    }
   ],
   "source": [
    "summary(aov(sales$sales ~ sales$emphasis))"
   ]
  },
  {
   "cell_type": "markdown",
   "id": "0d516778",
   "metadata": {},
   "source": [
    "The relatively low p-value of 0.0468 implies the observed data is not consistent with the null hypothesis of equal means. Therefore, we conclude that it appears not all the mean responses are the same.\n",
    "\n",
    "The question then is where do the means differ? Before we can answer this question, we need to be aware of the **multiple testing** problem. When performing multiple hypothesis tests at the same time, the chance of making a Type I error (*i.e.*, rejecting the null hypothesis when it is actually true) increases greatly from the traditional 5%, depending on how many tests are performed. For example, if one ran three hypothesis tests at the same time, the overall Type I error would increase from 5% to 14%, even though each individual test is done at the 5% level. There are corrections to p-values that can be applied when performing multiple tests to correct for this issue. More information about this can be found [here](https://www.stat.berkeley.edu/~mgoldman/Section0402.pdf). The `pairwise.t.test()` command runs all possible two-sample t-tests, and reports p-values adjusted for the multiple comparison problem:\n",
    "\n",
    "```{admonition} Syntax\n",
    "`pairwise.t.test(df$var, df$group, p.adjust.method)`\n",
    "+ *Required arguments*\n",
    "  - `df$var`: The variable of interest (*i.e.*, the variable we are comparing across the groups).\n",
    "  - `df$group`: The group each observation belongs to.\n",
    "+ *Optional arguments*\n",
    "  - `p.adjust.method`: The method used to adjust the p-values to account for multiple testing. We will use a method called the **Bonferroni correction** (see [here](https://en.wikipedia.org/wiki/Bonferroni_correction)), so we will set this parameter equal to `\"bonf\"`.\n",
    "```\n",
    "\n",
    "Applying this to our sample data:"
   ]
  },
  {
   "cell_type": "code",
   "execution_count": 6,
   "id": "283c9e00",
   "metadata": {},
   "outputs": [
    {
     "data": {
      "text/plain": [
       "\n",
       "\tPairwise comparisons using t tests with pooled SD \n",
       "\n",
       "data:  sales$sales and sales$emphasis \n",
       "\n",
       "        convenience price\n",
       "price   0.904       -    \n",
       "quality 0.043       0.428\n",
       "\n",
       "P value adjustment method: bonferroni "
      ]
     },
     "metadata": {},
     "output_type": "display_data"
    }
   ],
   "source": [
    "pairwise.t.test(sales$sales, sales$emphasis, p.adjust.method = \"bonf\")"
   ]
  },
  {
   "cell_type": "markdown",
   "id": "6c000431",
   "metadata": {},
   "source": [
    "The numbers printed in the table within the output (0.904, 0.043, and 0.428) are the bonferroni-adjusted p-values. From this output we see the difference in sales occurred between the quality and convenience groups, as this is the only adjusted p-value below 0.05. \n",
    "\n",
    "## Testing Proportions (Chi-Square)\n",
    "\n",
    "Research in business often generates frequency (count) data. This is certainly the case in most opinion surveys in which the person interviewed is asked to respond to a question by marking, say \"Agree\", \"Not Sure\", or \"Disagree\", or some other such collection of categories. In a case like this, the investigator might be concerned with determining what proportion of respondents marked each of the choices or whether there is any relationship between the opinion marked and the sex, age, or occupation of the respondent.\n",
    "\n",
    "Chi-square methods make possible the meaningful analysis of frequency data by permitting the comparison of frequencies actually observed with frequencies which would be expected if the null hypothesis were true. At first glance the chi-square test procedures can be confusing as there are two different tests with very similar names.\n",
    "\n",
    "+ **Chi-Square Goodness of Fit Test:** this is used to test if counts in different categories follow a specified distribution.\n",
    "+ **Chi-Square Test of Independence:** this is used to test if two categorical variables are independent or dependent.\n",
    "\n",
    "Using examples, we will investigate each of these tests in turn below.\n",
    "\n",
    "**Goodness-of-Fit**\n",
    "\n",
    "Suppose that the Bar Galaxy Chocolate Co. wants to determine if customers have a preference for any of the following four candy bars. From a random sample of 200 people, it was found that:\n",
    "\n",
    "1. 43 preferred The Frosty Bar\n",
    "2. 53 preferred Galaxy’s Milk Chocolate\n",
    "3. 60 preferred Galaxy’s Special Dark Chocolate\n",
    "4. 44 preferred Munchies Bar\n",
    "\n",
    "For the goodness-of-fit test, the null hypothesis states that customers have no preference for any of the four candy bars (1, 2, 3, and 4). That is, all four candy bars are equally preferred. The alternative hypothesis states that the preference probabilities are not all the same. Formally:\n",
    "\n",
    "+ $H_o$: $p_1 = p_2 = p_3 = p_4 = 0.25$\n",
    "\n",
    "+ $H_a$: The data do not follow the distribution specified in $H_o$. \n",
    "\n",
    "The goodness-of-fit test is easily run in R with `chisq.test()`. The data we need to give the command are the observed counts (`x`) and the hypothesized proportions under the null (`p`):\n",
    "\n",
    "```{admonition} Syntax\n",
    "`chisq.test(x = c(x1, x2, x3, x4), p = c(p1, p2, p3, p4))`\n",
    "+ *Required arguments*\n",
    "  - `x`: A vector with the observed counts in each group.\n",
    "  - `n`: A vector with the hypothesized proportions of each group under the null.\n",
    "```\n",
    "  \n",
    "Applying this to our Bar Galaxy sample data:"
   ]
  },
  {
   "cell_type": "code",
   "execution_count": 7,
   "id": "8b84e075",
   "metadata": {},
   "outputs": [
    {
     "data": {
      "text/plain": [
       "\n",
       "\tChi-squared test for given probabilities\n",
       "\n",
       "data:  c(43, 53, 60, 44)\n",
       "X-squared = 3.88, df = 3, p-value = 0.2747\n"
      ]
     },
     "metadata": {},
     "output_type": "display_data"
    }
   ],
   "source": [
    "chisq.test(x = c(43, 53, 60, 44), p = c(0.25, 0.25, 0.25, 0.25))"
   ]
  },
  {
   "cell_type": "markdown",
   "id": "db3884e2",
   "metadata": {},
   "source": [
    "Since the p-value (0.27) is quite large, there is insufficient evidence to reject the null hypothesis. That is, we cannot conclude that there appears to be a candy bar preference.\n",
    "\n",
    "**Test of Independence**\n",
    "\n",
    "A contingency table is a cross classification of two categorical variables. The **Chi-Square Test of Indepence** sees if there is an association between categorical variables. \n",
    "\n",
    "As an example, the Wall Street Journal Subscriber Study has data on the employment status of subscribers. We have data on sample results corresponding to subscribers of the Eastern and Western editions as well as employment status. This data is stored in a data frame called `wsj`, and the first few observations are shown below."
   ]
  },
  {
   "cell_type": "code",
   "execution_count": 8,
   "id": "47e0ae64",
   "metadata": {
    "tags": [
     "remove-input"
    ]
   },
   "outputs": [
    {
     "data": {
      "text/html": [
       "<table>\n",
       "<thead><tr><th scope=col>status</th><th scope=col>region</th></tr></thead>\n",
       "<tbody>\n",
       "\t<tr><td>Full-time      </td><td>Eastern Edition</td></tr>\n",
       "\t<tr><td>Not employed   </td><td>Western Edition</td></tr>\n",
       "\t<tr><td>Part-time      </td><td>Eastern Edition</td></tr>\n",
       "\t<tr><td>Full-time      </td><td>Eastern Edition</td></tr>\n",
       "\t<tr><td>Full-time      </td><td>Western Edition</td></tr>\n",
       "\t<tr><td>Full-time      </td><td>Eastern Edition</td></tr>\n",
       "</tbody>\n",
       "</table>\n"
      ],
      "text/latex": [
       "\\begin{tabular}{r|ll}\n",
       " status & region\\\\\n",
       "\\hline\n",
       "\t Full-time       & Eastern Edition\\\\\n",
       "\t Not employed    & Western Edition\\\\\n",
       "\t Part-time       & Eastern Edition\\\\\n",
       "\t Full-time       & Eastern Edition\\\\\n",
       "\t Full-time       & Western Edition\\\\\n",
       "\t Full-time       & Eastern Edition\\\\\n",
       "\\end{tabular}\n"
      ],
      "text/markdown": [
       "\n",
       "| status | region |\n",
       "|---|---|\n",
       "| Full-time       | Eastern Edition |\n",
       "| Not employed    | Western Edition |\n",
       "| Part-time       | Eastern Edition |\n",
       "| Full-time       | Eastern Edition |\n",
       "| Full-time       | Western Edition |\n",
       "| Full-time       | Eastern Edition |\n",
       "\n"
      ],
      "text/plain": [
       "  status       region         \n",
       "1 Full-time    Eastern Edition\n",
       "2 Not employed Western Edition\n",
       "3 Part-time    Eastern Edition\n",
       "4 Full-time    Eastern Edition\n",
       "5 Full-time    Western Edition\n",
       "6 Full-time    Eastern Edition"
      ]
     },
     "metadata": {},
     "output_type": "display_data"
    }
   ],
   "source": [
    "wsj <- read.csv(\"_build/data/wsj_table.csv\")\n",
    "set.seed(202)\n",
    "head(sample_n(wsj, 6))"
   ]
  },
  {
   "cell_type": "markdown",
   "id": "72fc08bd",
   "metadata": {},
   "source": [
    "Using `prop.table()`, we can tabulate subscribers' employment status by Easter and Western edition:"
   ]
  },
  {
   "cell_type": "code",
   "execution_count": 9,
   "id": "717d411d",
   "metadata": {},
   "outputs": [
    {
     "data": {
      "text/plain": [
       "                          \n",
       "                           Eastern Edition Western Edition\n",
       "  Full-time                     0.59729730      0.51295800\n",
       "  Not employed                  0.26216216      0.30741734\n",
       "  Part-time                     0.01675676      0.01340483\n",
       "  Self-employed/consultant      0.12378378      0.16621984"
      ]
     },
     "metadata": {},
     "output_type": "display_data"
    }
   ],
   "source": [
    "prop.table(table(wsj$status, wsj$region), 2)"
   ]
  },
  {
   "cell_type": "markdown",
   "id": "cbde7b6f",
   "metadata": {},
   "source": [
    "The proportions between regions seem similar, but we can formally check to see whether they are the same by running a chi-square test of independence. For this test, our null and alternative hypotheses would be:\n",
    "\n",
    "+ $H_o:$ There is no association between employment status and region. \n",
    "\n",
    "+ $H_a:$ There is an association between employment status and region. \n",
    "\n",
    "To run this in R we can use the same `chisq.test()` function we saw before: \n",
    "\n",
    "```{admonition} Syntax\n",
    "`chisq.test(df$var1, df$var2)`\n",
    "+ *Required arguments*\n",
    "  - `df$var1`, `df$var2`: The two categorical variables in the data frame `df` being compared.\n",
    "```\n",
    "  \n",
    "Applying this to our Wall Street Journal data:"
   ]
  },
  {
   "cell_type": "code",
   "execution_count": 10,
   "id": "e409ae7f",
   "metadata": {},
   "outputs": [
    {
     "data": {
      "text/plain": [
       "\n",
       "\tPearson's Chi-squared test\n",
       "\n",
       "data:  wsj$status and wsj$region\n",
       "X-squared = 23.373, df = 3, p-value = 3.376e-05\n"
      ]
     },
     "metadata": {},
     "output_type": "display_data"
    }
   ],
   "source": [
    "chisq.test(wsj$status, wsj$region)"
   ]
  },
  {
   "cell_type": "markdown",
   "id": "c0392f2e",
   "metadata": {},
   "source": [
    "The proportions per region do appear to be different and this is confirmed by the small p-value from the Chi-square test. The null hypothesis of independence is rejected, implying there is a relationship between employment status and edition of the newspaper."
   ]
  }
 ],
 "metadata": {
  "jupytext": {
   "cell_metadata_filter": "-all",
   "formats": "md:myst",
   "text_representation": {
    "extension": ".md",
    "format_name": "myst",
    "format_version": 0.13,
    "jupytext_version": "1.11.5"
   }
  },
  "kernelspec": {
   "display_name": "R",
   "language": "R",
   "name": "ir"
  },
  "language_info": {
   "codemirror_mode": "r",
   "file_extension": ".r",
   "mimetype": "text/x-r-source",
   "name": "R",
   "pygments_lexer": "r",
   "version": "3.6.1"
  },
  "source_map": [
   16,
   25,
   39,
   44,
   62,
   64,
   72,
   77,
   86,
   88,
   105,
   107,
   148,
   150,
   160,
   165,
   169,
   171,
   189,
   191
  ]
 },
 "nbformat": 4,
 "nbformat_minor": 5
}