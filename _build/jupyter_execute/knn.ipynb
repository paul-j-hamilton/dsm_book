{
 "cells": [
  {
   "cell_type": "code",
   "execution_count": 1,
   "id": "a1baa7dc",
   "metadata": {
    "tags": [
     "remove-cell"
    ]
   },
   "outputs": [
    {
     "name": "stderr",
     "output_type": "stream",
     "text": [
      "Registered S3 methods overwritten by 'ggplot2':\n",
      "  method         from \n",
      "  [.quosures     rlang\n",
      "  c.quosures     rlang\n",
      "  print.quosures rlang\n"
     ]
    },
    {
     "name": "stderr",
     "output_type": "stream",
     "text": [
      "Registered S3 method overwritten by 'rvest':\n",
      "  method            from\n",
      "  read_xml.response xml2\n"
     ]
    },
    {
     "name": "stderr",
     "output_type": "stream",
     "text": [
      "-- Attaching packages --------------------------------------- tidyverse 1.2.1 --\n"
     ]
    },
    {
     "name": "stderr",
     "output_type": "stream",
     "text": [
      "v ggplot2 3.1.1       v purrr   0.3.2  \n",
      "v tibble  2.1.1       v dplyr   0.8.0.1\n",
      "v tidyr   0.8.3       v stringr 1.4.0  \n",
      "v readr   1.3.1       v forcats 0.4.0  \n"
     ]
    },
    {
     "name": "stderr",
     "output_type": "stream",
     "text": [
      "-- Conflicts ------------------------------------------ tidyverse_conflicts() --\n",
      "x dplyr::filter() masks stats::filter()\n",
      "x dplyr::lag()    masks stats::lag()\n"
     ]
    },
    {
     "name": "stderr",
     "output_type": "stream",
     "text": [
      "Warning message:\n",
      "\"package 'kableExtra' was built under R version 3.6.3\""
     ]
    },
    {
     "name": "stderr",
     "output_type": "stream",
     "text": [
      "\n",
      "Attaching package: 'kableExtra'\n",
      "\n"
     ]
    },
    {
     "name": "stderr",
     "output_type": "stream",
     "text": [
      "The following object is masked from 'package:dplyr':\n",
      "\n",
      "    group_rows\n",
      "\n"
     ]
    }
   ],
   "source": [
    "library(tidyverse)\n",
    "library(kableExtra)\n",
    "library(ggplot2)\n",
    "options(readr.num_columns = 0)\n",
    "churn <- read_csv(\"_build/data/churn_train.csv\")"
   ]
  },
  {
   "cell_type": "markdown",
   "id": "554d32ff",
   "metadata": {},
   "source": [
    "# k-Nearest Neighbors (kNN)\n",
    "\n",
    "For many businesses, **customer churn** is an important metric for measuring customer retention. Banks, social media platforms, telecommunication companies, etc. all need to monitor customer turnover to help understand why customers leave their platform, and whether there are intervention strategies that can help prevent customer churn. \n",
    "\n",
    "Imagine that you work for a telecommunications provider and would like to reduce customer churn. To that end, you hope to develop a predictive model that will identify which customers are at a high risk of leaving for another provider. If you could identify these customers before they leave, you may be able to develop intervention strategies that would encourage them to stay. \n",
    "\n",
    "Using historical customer data that your company collected in the past quarter, you compile a data set with the account characteristics of each customer and whether or not they \"churned\" by the end of the previous quarter. This data is stored in a data frame called `churn`, the first few rows of which are shown below. A data dictionary which describes each variable in the data set is also provided below."
   ]
  },
  {
   "cell_type": "code",
   "execution_count": 2,
   "id": "e9d62685",
   "metadata": {
    "tags": [
     "remove-input"
    ]
   },
   "outputs": [
    {
     "data": {
      "text/html": [
       "<table>\n",
       "<thead><tr><th scope=col>account_length</th><th scope=col>international_plan</th><th scope=col>voice_mail_plan</th><th scope=col>number_vmail_messages</th><th scope=col>total_day_minutes</th><th scope=col>total_day_calls</th><th scope=col>total_night_minutes</th><th scope=col>total_night_calls</th><th scope=col>total_intl_minutes</th><th scope=col>total_intl_calls</th><th scope=col>total_intl_charge</th><th scope=col>number_customer_service_calls</th><th scope=col>churn</th></tr></thead>\n",
       "<tbody>\n",
       "\t<tr><td>165  </td><td>no   </td><td>no   </td><td> 0   </td><td>209.4</td><td> 67  </td><td>150.2</td><td> 88  </td><td>12.8 </td><td> 1   </td><td>3.46 </td><td>0    </td><td>no   </td></tr>\n",
       "\t<tr><td>103  </td><td>no   </td><td>no   </td><td> 0   </td><td>180.2</td><td>134  </td><td>181.7</td><td>134  </td><td> 8.4 </td><td> 3   </td><td>2.27 </td><td>1    </td><td>no   </td></tr>\n",
       "\t<tr><td> 90  </td><td>no   </td><td>yes  </td><td>27   </td><td>156.7</td><td> 51  </td><td>123.2</td><td>111  </td><td>12.6 </td><td> 6   </td><td>3.40 </td><td>2    </td><td>no   </td></tr>\n",
       "\t<tr><td> 36  </td><td>no   </td><td>no   </td><td> 0   </td><td>177.9</td><td>129  </td><td>306.3</td><td>102  </td><td>10.8 </td><td> 6   </td><td>2.92 </td><td>2    </td><td>no   </td></tr>\n",
       "\t<tr><td> 95  </td><td>no   </td><td>yes  </td><td>35   </td><td>229.1</td><td>143  </td><td>248.4</td><td>110  </td><td> 3.9 </td><td> 3   </td><td>1.05 </td><td>0    </td><td>no   </td></tr>\n",
       "\t<tr><td>119  </td><td>no   </td><td>no   </td><td> 0   </td><td>231.5</td><td> 82  </td><td>211.0</td><td>118  </td><td> 7.4 </td><td>10   </td><td>2.00 </td><td>1    </td><td>no   </td></tr>\n",
       "</tbody>\n",
       "</table>\n"
      ],
      "text/latex": [
       "\\begin{tabular}{r|lllllllllllll}\n",
       " account\\_length & international\\_plan & voice\\_mail\\_plan & number\\_vmail\\_messages & total\\_day\\_minutes & total\\_day\\_calls & total\\_night\\_minutes & total\\_night\\_calls & total\\_intl\\_minutes & total\\_intl\\_calls & total\\_intl\\_charge & number\\_customer\\_service\\_calls & churn\\\\\n",
       "\\hline\n",
       "\t 165   & no    & no    &  0    & 209.4 &  67   & 150.2 &  88   & 12.8  &  1    & 3.46  & 0     & no   \\\\\n",
       "\t 103   & no    & no    &  0    & 180.2 & 134   & 181.7 & 134   &  8.4  &  3    & 2.27  & 1     & no   \\\\\n",
       "\t  90   & no    & yes   & 27    & 156.7 &  51   & 123.2 & 111   & 12.6  &  6    & 3.40  & 2     & no   \\\\\n",
       "\t  36   & no    & no    &  0    & 177.9 & 129   & 306.3 & 102   & 10.8  &  6    & 2.92  & 2     & no   \\\\\n",
       "\t  95   & no    & yes   & 35    & 229.1 & 143   & 248.4 & 110   &  3.9  &  3    & 1.05  & 0     & no   \\\\\n",
       "\t 119   & no    & no    &  0    & 231.5 &  82   & 211.0 & 118   &  7.4  & 10    & 2.00  & 1     & no   \\\\\n",
       "\\end{tabular}\n"
      ],
      "text/markdown": [
       "\n",
       "| account_length | international_plan | voice_mail_plan | number_vmail_messages | total_day_minutes | total_day_calls | total_night_minutes | total_night_calls | total_intl_minutes | total_intl_calls | total_intl_charge | number_customer_service_calls | churn |\n",
       "|---|---|---|---|---|---|---|---|---|---|---|---|---|\n",
       "| 165   | no    | no    |  0    | 209.4 |  67   | 150.2 |  88   | 12.8  |  1    | 3.46  | 0     | no    |\n",
       "| 103   | no    | no    |  0    | 180.2 | 134   | 181.7 | 134   |  8.4  |  3    | 2.27  | 1     | no    |\n",
       "|  90   | no    | yes   | 27    | 156.7 |  51   | 123.2 | 111   | 12.6  |  6    | 3.40  | 2     | no    |\n",
       "|  36   | no    | no    |  0    | 177.9 | 129   | 306.3 | 102   | 10.8  |  6    | 2.92  | 2     | no    |\n",
       "|  95   | no    | yes   | 35    | 229.1 | 143   | 248.4 | 110   |  3.9  |  3    | 1.05  | 0     | no    |\n",
       "| 119   | no    | no    |  0    | 231.5 |  82   | 211.0 | 118   |  7.4  | 10    | 2.00  | 1     | no    |\n",
       "\n"
      ],
      "text/plain": [
       "  account_length international_plan voice_mail_plan number_vmail_messages\n",
       "1 165            no                 no               0                   \n",
       "2 103            no                 no               0                   \n",
       "3  90            no                 yes             27                   \n",
       "4  36            no                 no               0                   \n",
       "5  95            no                 yes             35                   \n",
       "6 119            no                 no               0                   \n",
       "  total_day_minutes total_day_calls total_night_minutes total_night_calls\n",
       "1 209.4              67             150.2                88              \n",
       "2 180.2             134             181.7               134              \n",
       "3 156.7              51             123.2               111              \n",
       "4 177.9             129             306.3               102              \n",
       "5 229.1             143             248.4               110              \n",
       "6 231.5              82             211.0               118              \n",
       "  total_intl_minutes total_intl_calls total_intl_charge\n",
       "1 12.8                1               3.46             \n",
       "2  8.4                3               2.27             \n",
       "3 12.6                6               3.40             \n",
       "4 10.8                6               2.92             \n",
       "5  3.9                3               1.05             \n",
       "6  7.4               10               2.00             \n",
       "  number_customer_service_calls churn\n",
       "1 0                             no   \n",
       "2 1                             no   \n",
       "3 2                             no   \n",
       "4 2                             no   \n",
       "5 0                             no   \n",
       "6 1                             no   "
      ]
     },
     "metadata": {},
     "output_type": "display_data"
    }
   ],
   "source": [
    "head(churn)"
   ]
  },
  {
   "cell_type": "markdown",
   "id": "bae51e4d",
   "metadata": {},
   "source": [
    "+ `account_length`: number of months the customer has been with the provider.\n",
    "+ `internation_plan`: whether the customer has an international plan.\n",
    "+ `voice_mail_plan`: whether the customer has a voice mail plan.\n",
    "+ `number_vmail_messages`: number of voice-mail messages.\n",
    "+ `total_day_minutes`: total minutes of calls during the day.\n",
    "+ `total_day_calls`: total number of calls during the day.\n",
    "+ `total_night_minutes`: total minutes of calls during the night.\n",
    "+ `total_night_calls`: total number of calls during the night.\n",
    "+ `total_intl_minutes`: total minutes of international calls.\n",
    "+ `total_intl_calls`: total number of international calls.\n",
    "+ `total_intl_charge`: total charge on international calls.\n",
    "+ `number_customer_service_calls`: number of calls to customer service.\n",
    "+ `churn`: whether or not the customer churned. \n",
    "\n",
    "Our goal is to use the information stored in the `churn` data set to predict whether new customers will churn in the upcoming quarter. A straightforward way to accomplish this would be to identify the observations in `churn` that are most similar to our new customer, and then observe whether or not those customers churned in the previous period. For example, if our new customer is from the Midwest, has twenty voice mail messages, does not have an international plan, etc., we could identify the observations in `churn` that have the same (or very similar) characteristics. If the majority of those customers churned in the previous quarter, we might predict that our new customer is likely to churn; if the majority did not, we might predict that our new customer is at a low risk of churning. This is in essence how the k-nearest neighbors algorithm makes predictions.\n",
    "\n",
    "More formally, the **k-nearest neighbors (kNN)** algorithm starts by calculating the distance between a new observation and each of the observations in `churn`. The $k$ observations that are closest to the new observation are considered its \"neighbors\". If most of these neighbors churned in the previous quarter, the model predicts that the new customer will churn (and vice versa). The number of neighbors that the model considers is determined by $k$, which is set by the user. $k$ is known as a **hyperparameter**, or a model parameter whose value must be specified by the user.\n",
    "\n",
    "To demonstrate knn, let's start with a simplified data set that only has 100 observations and two independent features, `total_intl_charge` and `account_length`. Our **feature space**, or the geometric space that our data occupy, looks like the following:"
   ]
  },
  {
   "cell_type": "code",
   "execution_count": 3,
   "id": "6dc21daf",
   "metadata": {
    "tags": [
     "remove-input"
    ]
   },
   "outputs": [
    {
     "data": {
      "image/png": "[encoded data removed]",
      "text/plain": [
       "plot without title"
      ]
     },
     "metadata": {
      "filenames": {
       "image/png": "C:\\Users\\phamilton\\Documents\\dsm\\dsm_book\\_build\\jupyter_execute\\knn_4_0.png"
      }
     },
     "output_type": "display_data"
    }
   ],
   "source": [
    "churnSample <- read_csv(\"_build/data/churn_sample.csv\")\n",
    "churnSample$churn = ifelse(churnSample$churn==1, \"churn\", \"no churn\")\n",
    "churnSample$account_length = churnSample$account_length*sd(churn$account_length) + mean(churn$account_length)\n",
    "churnSample$total_intl_charge = churnSample$total_intl_charge*sd(churn$total_intl_charge) + mean(churn$total_intl_charge)\n",
    "library(ggplot2)\n",
    "\n",
    "suppressMessages(print(ggplot(churnSample, aes(x=account_length, y=total_intl_charge, color=churn, shape=churn)) + geom_point(size=2) + theme_bw() +\n",
    "  theme(axis.text=element_text(size=12),\n",
    "        axis.title=element_text(size=14,face=\"bold\"))))"
   ]
  },
  {
   "cell_type": "markdown",
   "id": "7e3168a2",
   "metadata": {},
   "source": [
    "Suppose we have three new customers and would like to predict whether or not they will churn in the upcoming quarter. These customers are plotted as green squares in the figure below. If we use a $k$ of five, we can find the five customers in `churn` that are most similar to our new customers (based on their `account_length` and `total_intl_charge`):"
   ]
  },
  {
   "cell_type": "code",
   "execution_count": 4,
   "id": "b6a975ae",
   "metadata": {
    "tags": [
     "remove-input"
    ]
   },
   "outputs": [
    {
     "data": {
      "image/png": "[encoded data removed]",
      "text/plain": [
       "plot without title"
      ]
     },
     "metadata": {
      "filenames": {
       "image/png": "C:\\Users\\phamilton\\Documents\\dsm\\dsm_book\\_build\\jupyter_execute\\knn_6_0.png"
      }
     },
     "output_type": "display_data"
    }
   ],
   "source": [
    "churnSample <- read_csv(\"_build/data/churn_sample.csv\")\n",
    "churnSample$churn = ifelse(churnSample$churn==1, \"churn\", \"no churn\")\n",
    "\n",
    "churnSample$account_length = churnSample$account_length*sd(churn$account_length) + mean(churn$account_length)\n",
    "churnSample$total_intl_charge = churnSample$total_intl_charge*sd(churn$total_intl_charge) + mean(churn$total_intl_charge)\n",
    "library(ggplot2)\n",
    "\n",
    "pointA = data.frame(account_length=25, total_intl_charge=3)\n",
    "pointANearest = data.frame(c(4.564370,pointA$account_length,7.721684,pointA$account_length,20.697285,pointA$account_length,42.072091,pointA$account_length,48.209354, pointA$account_length), \n",
    "                           c(2.6889498,pointA$total_intl_charge,2.8776394,pointA$total_intl_charge,2.6624903,pointA$total_intl_charge,2.7909322,pointA$total_intl_charge,3.1609721,pointA$total_intl_charge),\n",
    "                           c(\"no churn\",\"no churn\",\"no churn\",\"no churn\",\"no churn\",\"no churn\",\"no churn\",\"no churn\",\"no churn\",\"no churn\"))\n",
    "names(pointANearest) = c(\"account_length\", \"total_intl_charge\", \"churn\")\n",
    "pointB = data.frame(account_length=160, total_intl_charge=1.8)\n",
    "pointBNearest = data.frame(c(172.389055,pointB$account_length,171.992009,pointB$account_length,160.344819,pointB$account_length,148.586736,pointB$account_length,144.073490,pointB$account_length), \n",
    "                           c(1.6791425,pointB$total_intl_charge,2.0317458,pointB$total_intl_charge,1.5954999,pointB$total_intl_charge,1.6851977,pointB$total_intl_charge,1.6953439,pointB$total_intl_charge), c(\"no churn\",\"no churn\",\"no churn\",\"no churn\",\"no churn\",\"no churn\",\"no churn\",\"no churn\",\"no churn\",\"no churn\"))\n",
    "names(pointBNearest) = c(\"account_length\", \"total_intl_charge\", \"churn\")\n",
    "pointC = data.frame(account_length=100, total_intl_charge=2.85)\n",
    "pointCNearest = data.frame(c(93.494871,pointC$account_length,91.650732,pointC$account_length,98.252319,pointC$account_length,109.494056,pointC$account_length,112.812032,pointC$account_length),\n",
    "                           c(2.7048315,pointC$total_intl_charge,3.0463884,pointC$total_intl_charge,2.5214656,pointC$total_intl_charge,3.0806561,pointC$total_intl_charge,2.7891426,pointC$total_intl_charge),\n",
    "                           c(\"no churn\",\"no churn\",\"no churn\",\"no churn\",\"no churn\",\"no churn\",\"no churn\",\"no churn\",\"no churn\",\"no churn\"))\n",
    "names(pointCNearest) = c(\"account_length\", \"total_intl_charge\", \"churn\")\n",
    "\n",
    "suppressWarnings(print(ggplot(churnSample, aes(x=account_length, y=total_intl_charge, color=churn, shape=churn)) + geom_point(size=2) + theme_bw() +\n",
    "  theme(axis.text=element_text(size=12),\n",
    "        axis.title=element_text(size=14,face=\"bold\"))+\n",
    "  geom_point(aes(x=pointA$account_length, y=pointA$total_intl_charge), colour=\"darkgreen\", shape=15, size=3) + annotate(\"text\", x = 25, y = 3.25, label = \"Customer A\") + \n",
    "  geom_path(data=pointANearest, colour=\"black\")+\n",
    "  geom_point(aes(x=pointB$account_length, y=pointB$total_intl_charge), colour=\"darkgreen\", shape=15, size=3) + annotate(\"text\", x = 100, y = 3.6, label = \"Customer B\") + \n",
    "  geom_path(data=pointBNearest, colour=\"black\")+\n",
    "  geom_point(aes(x=pointC$account_length, y=pointC$total_intl_charge), colour=\"darkgreen\", shape=15, size=3) + annotate(\"text\", x = 160, y = 2.15, label = \"Customer C\") + \n",
    "  geom_path(data=pointCNearest, colour=\"black\"))) "
   ]
  },
  {
   "cell_type": "markdown",
   "id": "2055a49a",
   "metadata": {},
   "source": [
    "We see that that five nearest neighbors of Customer A all churned in the previous quarter, so the algorithm would predict that Customer A will churn. Similarly, all five nearest neighbors of customer C did *not* churn in the previous quarter, so the algorithm would predict that Custer C will *not* churn. \n",
    "\n",
    "For Customer B, three of the nearest neighbors churned and two did *not*. Therefore, for this observation the model would predict a 60% chance of churning (3 churns / 5 neighbors = 0.60). Ultimately we need to make a binary decision about whether to intervene on this customer's account or not. To do this, we need to convert the predicted probability of 60% into a binary prediction of \"churn\" or \"no churn\". Because the predicted chance of churning is greater than 50%, the model is predicting that it is more likely than not that the customer will churn. Therefore, one may choose to treat this as a prediction of \"churn\". In this case, we have used a cutoff of 50% to convert the model's prediction into a binary outcome; if the predicted probability is less than 50% we interpret the prediction as \"no churn\", and if it is greater than 50% we interpret it as \"churn\".\n",
    "\n",
    "Although 50% seems like a natural cutoff, consider the following scenario. Suppose that when our model predicts a customer will churn, we offer that customer a very large discount to convince them to stay with the service. Because this discount is so costly, we only want to offer it to customers when we are very confident that they will churn in the upcoming quarter. If this were the case, we may want to be more than 50% confident before we intervene. For example, we may choose to intervene only if the model is 80% or more confident that the customer will churn in the next quarter. In this scenario, we would apply a cutoff of 80% instead of 50%. This is an example of how managerial judgment is an important component of any data science project. Without understanding the costs of an intervention (and the relative benefit of retaining customers), it would be difficult to find the optimum cutoff to apply to the model's predictions.\n",
    "\n",
    "## Calculating Distance\n",
    "\n",
    "So far we have not discussed how the model calculates the distance between observations. It turns out that there are several different ways to calculate distance, and each method has its own advantages (*see* [here](https://www.kdnuggets.com/2020/11/most-popular-distance-metrics-knn.html) for more information). Here we will only cover the most basic distance measure, called Euclidean distance. However, be aware that there are other methods that may be useful depending on the context of the problem.\n",
    "\n",
    "The **Euclidean distance** between two points is simply the distance between those points in Euclidean space. Let's say we want to calculate the Euclidean distance between Customer A and one of their neighbors:"
   ]
  },
  {
   "cell_type": "code",
   "execution_count": 5,
   "id": "df380505",
   "metadata": {
    "tags": [
     "remove-input"
    ]
   },
   "outputs": [
    {
     "data": {
      "image/png": "[encoded data removed]",
      "text/plain": [
       "plot without title"
      ]
     },
     "metadata": {
      "filenames": {
       "image/png": "C:\\Users\\phamilton\\Documents\\dsm\\dsm_book\\_build\\jupyter_execute\\knn_8_0.png"
      }
     },
     "output_type": "display_data"
    }
   ],
   "source": [
    "churnSample <- read_csv(\"_build/data/churn_sample.csv\")\n",
    "churnSample$churn = ifelse(churnSample$churn==1, \"churn\", \"no churn\")\n",
    "\n",
    "churnSample$account_length = churnSample$account_length*sd(churn$account_length) + mean(churn$account_length)\n",
    "churnSample$total_intl_charge = churnSample$total_intl_charge*sd(churn$total_intl_charge) + mean(churn$total_intl_charge)\n",
    "library(ggplot2)\n",
    "\n",
    "pointA = data.frame(account_length=25, total_intl_charge=3)\n",
    "pointANearest = data.frame(c(4.564370,pointA$account_length), \n",
    "                           c(2.6889498,pointA$total_intl_charge),\n",
    "                           c(\"no churn\",\"no churn\"))\n",
    "names(pointANearest) = c(\"account_length\", \"total_intl_charge\", \"churn\")\n",
    "\n",
    "suppressWarnings(print(ggplot(churnSample, aes(x=account_length, y=total_intl_charge, color=churn, shape=churn)) + geom_point(size=2) + theme_bw() +\n",
    "  theme(axis.text=element_text(size=12),\n",
    "        axis.title=element_text(size=14,face=\"bold\"))+\n",
    "  geom_point(aes(x=pointA$account_length, y=pointA$total_intl_charge), colour=\"darkgreen\", shape=15, size=3) + annotate(\"text\", x = 25, y = 3.25, label = \"Customer A\") + \n",
    "  geom_path(data=pointANearest, colour=\"black\")))"
   ]
  },
  {
   "cell_type": "markdown",
   "id": "33f2bf14",
   "metadata": {},
   "source": [
    "For two points ($x_1$, $y_1$) and ($x_2$, $y_2$), the Euclidean distance between them is calculated as:\n",
    "\n",
    "$$\n",
    "\\sqrt{(x_2 - x_1)^2 + (y_2 - y_1)^2}\n",
    "$$\n",
    "\n",
    "The coordinates for Customer A are (25, 3), and the coordinates for the other point are (4.56, 2.69). Applying the formula above, we can calculate the distance between them as:\n",
    "\n",
    "\n",
    "$$\n",
    "\\sqrt{(4.56 - 25)^2 + (2.69 - 3)^2} \\approx 20.44\n",
    "$$\n",
    "\n",
    "The larger this value, the further away the two points are in Euclidean space. Therefore, the kNN algorithm finds the $k$ observations with the smallest Euclidean distance from the new observation. Note that although we are currently working in two dimensions, this formula can be extended to higher dimensions when we are working with more than two independent features.\n",
    "\n",
    "## Normalizing Data\n",
    "\n",
    "If you review the plot from the previous section, you will notice that the $x$ and $y$ axes are on very different scales. The `account_length` variable ranges from around zero to over 200, while `total_intl_charge` ranges from from about two to four. This is problematic for the calculation of Euclidean distance, because the distance between points is impacted by the magnitude of each variable.\n",
    "\n",
    "For example, imagine two observations with the same `total_intl_charge` but a different `account_length`: (50, 2) and (100, 2). The Euclidean distance between these observations would be:\n",
    "\n",
    "$$\n",
    "\\sqrt{(100 - 50)^2 + (2 - 2)^2} = \\sqrt{(50)^2} = 50\n",
    "$$\n",
    "Now imagine two observations with the same `account_length` but a different `total_intl_charge`: (150, 2) and (150, 3). The Euclidean distance between these observations would be:\n",
    "\n",
    "$$\n",
    "\\sqrt{(150 - 150)^2 + (3 - 2)^2} = \\sqrt{(1)^2} = 1\n",
    "$$\n",
    "\n",
    "If we plot these points in our feature space, they seem to be roughly the same distance from each other. However, they have very different Euclidean distances. The reason for this is that `account_length` is measured on a greater scale than `total_intl_charge`, so it has a greater impact the distance metric."
   ]
  },
  {
   "cell_type": "code",
   "execution_count": 6,
   "id": "daa45c7d",
   "metadata": {
    "tags": [
     "remove-input"
    ]
   },
   "outputs": [
    {
     "data": {
      "image/png": "[encoded data removed]",
      "text/plain": [
       "plot without title"
      ]
     },
     "metadata": {
      "filenames": {
       "image/png": "C:\\Users\\phamilton\\Documents\\dsm\\dsm_book\\_build\\jupyter_execute\\knn_10_0.png"
      }
     },
     "output_type": "display_data"
    }
   ],
   "source": [
    "churnSample <- read_csv(\"_build/data/churn_sample.csv\")\n",
    "churnSample$churn = ifelse(churnSample$churn==1, \"churn\", \"no churn\")\n",
    "\n",
    "churnSample$account_length = churnSample$account_length*sd(churn$account_length) + mean(churn$account_length)\n",
    "churnSample$total_intl_charge = churnSample$total_intl_charge*sd(churn$total_intl_charge) + mean(churn$total_intl_charge)\n",
    "library(ggplot2)\n",
    "\n",
    "pointA = data.frame(account_length=50, total_intl_charge=2,churn=\"churn\")\n",
    "pointB = data.frame(c(100,pointA$account_length), \n",
    "                           c(2,pointA$total_intl_charge),\n",
    "                           c(\"no churn\",\"no churn\"))\n",
    "names(pointB) = c(\"account_length\", \"total_intl_charge\", \"churn\")\n",
    "\n",
    "pointC = data.frame(account_length=150, total_intl_charge=2,churn=\"churn\")\n",
    "pointD = data.frame(c(150,pointC$account_length), \n",
    "                           c(3,pointC$total_intl_charge),\n",
    "                           c(\"no churn\",\"no churn\"))\n",
    "names(pointD) = c(\"account_length\", \"total_intl_charge\", \"churn\")\n",
    "\n",
    "suppressWarnings(print(ggplot(churnSample, aes(x=account_length, y=total_intl_charge, color=churn, shape=churn)) + geom_point(size=2) + theme_bw() +\n",
    "  theme(axis.text=element_text(size=12),\n",
    "        axis.title=element_text(size=14,face=\"bold\"))+\n",
    "  geom_point(aes(x=pointA$account_length, y=pointA$total_intl_charge), colour=\"darkgreen\", shape=15, size=3) +\n",
    "  geom_path(data=pointB, colour=\"black\") + \n",
    "  geom_point(aes(x=pointB[1,]$account_length, y=pointB[1,]$total_intl_charge), colour=\"darkgreen\", shape=15, size=3)+\n",
    "  geom_point(aes(x=pointC$account_length, y=pointC$total_intl_charge), colour=\"darkgreen\", shape=15, size=3) +\n",
    "  geom_path(data=pointD, colour=\"black\") + \n",
    "  geom_point(aes(x=pointD[1,]$account_length, y=pointD[1,]$total_intl_charge), colour=\"darkgreen\", shape=15, size=3)))"
   ]
  },
  {
   "cell_type": "markdown",
   "id": "c6e2ba52",
   "metadata": {},
   "source": [
    "When applying the kNN algorithm, we want to eliminate the impact of magnitude on the distance between points. One common method to accomplish this is to **normalize** the data so that each variable is measured on the same scale. A common method of normalization is **min-max scaling**, which converts each variable to the range [0, 1]. For a given variable $x$, the formula for min-max scaling is:\n",
    "\n",
    "$$\n",
    "x' = \\frac{x - min(x)}{max() - min(x)}\n",
    "$$\n",
    "\n",
    "If we apply this process to our data set, our feature space will look the same, but `account_length` and `total_intl_charge` will both be in the range [0, 1]:"
   ]
  },
  {
   "cell_type": "code",
   "execution_count": 7,
   "id": "a177e27e",
   "metadata": {
    "tags": [
     "remove-input"
    ]
   },
   "outputs": [
    {
     "data": {
      "image/png": "[encoded data removed]",
      "text/plain": [
       "plot without title"
      ]
     },
     "metadata": {
      "filenames": {
       "image/png": "C:\\Users\\phamilton\\Documents\\dsm\\dsm_book\\_build\\jupyter_execute\\knn_12_0.png"
      }
     },
     "output_type": "display_data"
    }
   ],
   "source": [
    "churnSample <- read_csv(\"_build/data/churn_sample.csv\")\n",
    "churnSample$account_length <- (churnSample$account_length - min(churnSample$account_length)) / (max(churnSample$account_length) - min(churnSample$account_length))\n",
    "churnSample$total_intl_charge <- (churnSample$total_intl_charge - min(churnSample$total_intl_charge)) / (max(churnSample$total_intl_charge) - min(churnSample$total_intl_charge))\n",
    "churnSample$churn = ifelse(churnSample$churn==1, \"churn\", \"no churn\")\n",
    "library(ggplot2)\n",
    "\n",
    "suppressWarnings(print(ggplot(churnSample, aes(x=account_length, y=total_intl_charge, color=churn, shape=churn)) + geom_point(size=2) + theme_bw() +\n",
    "  theme(axis.text=element_text(size=12),\n",
    "        axis.title=element_text(size=14,face=\"bold\"))))"
   ]
  },
  {
   "cell_type": "markdown",
   "id": "5c83bc4f",
   "metadata": {},
   "source": [
    "Now when we calculate Euclidean distance *after* applying min-max normalization, the scale that each variable is measured on will not impact the distance metric.\n",
    "\n",
    "## Applying kNN in R\n",
    "\n",
    "Now that we understand how the kNN algorithm works, let's see how it can be applied to our `churn` data set in R. \n",
    "\n",
    "Instead of working with just `account_length` and `total_intl_charge`, we will now work with all relevant features in our data set. As we saw in the previous section, the first thing to do is normalize the continuous variables in the data set so that they are on the same scale. We can apply min-max scaling with the `preProcess()` function from the `caret` package, which uses the following syntax:\n",
    "\n",
    "```{admonition} Syntax\n",
    "`caret::preProcess(x, method = c(\"center\", \"scale\"))`\n",
    "+ *Required arguments*\n",
    "  - `x`: A data frame with the variables to scale. \n",
    "+ *Optional arguments*\n",
    "  - `method`: Used to specify the desired type of preprocessing. To apply min-max scaling, this can be set to \"range\".\n",
    "```  \n",
    "  \n",
    "This function creates an object (which we call `scaler` below) that we can then pass in to `predict()` to scale our data set. As you can see, the continuous variables in `churnScaled` are all in the range [0,1]. Note also that `preProcess()` knows to ignore non-continuous variables (*e.g.*, `international_plan`), which do not need to be normalized."
   ]
  },
  {
   "cell_type": "code",
   "execution_count": 8,
   "id": "26890dae",
   "metadata": {
    "tags": [
     "remove-output"
    ]
   },
   "outputs": [
    {
     "name": "stderr",
     "output_type": "stream",
     "text": [
      "Loading required package: lattice\n"
     ]
    },
    {
     "name": "stderr",
     "output_type": "stream",
     "text": [
      "\n",
      "Attaching package: 'caret'\n",
      "\n"
     ]
    },
    {
     "name": "stderr",
     "output_type": "stream",
     "text": [
      "The following object is masked from 'package:purrr':\n",
      "\n",
      "    lift\n",
      "\n"
     ]
    }
   ],
   "source": [
    "library(caret)\n",
    "\n",
    "# Create min-max scaler\n",
    "scaler <- preProcess(churn, method=\"range\")\n",
    "\n",
    "# Apply scaler to our data set\n",
    "churnScaled <- predict(scaler, churn)"
   ]
  },
  {
   "cell_type": "code",
   "execution_count": 9,
   "id": "1615e54b",
   "metadata": {
    "tags": [
     "remove-input"
    ]
   },
   "outputs": [
    {
     "data": {
      "text/html": [
       "<table>\n",
       "<thead><tr><th scope=col>account_length</th><th scope=col>international_plan</th><th scope=col>voice_mail_plan</th><th scope=col>number_vmail_messages</th><th scope=col>total_day_minutes</th><th scope=col>total_day_calls</th><th scope=col>total_night_minutes</th><th scope=col>total_night_calls</th><th scope=col>total_intl_minutes</th><th scope=col>total_intl_calls</th><th scope=col>total_intl_charge</th><th scope=col>number_customer_service_calls</th><th scope=col>churn</th></tr></thead>\n",
       "<tbody>\n",
       "\t<tr><td>0.6776860</td><td>no       </td><td>no       </td><td>0.00     </td><td>0.5957326</td><td>0.4060606</td><td>0.3802532</td><td>0.5176471</td><td>0.640    </td><td>0.05     </td><td>0.6407407</td><td>0.0000000</td><td>no       </td></tr>\n",
       "\t<tr><td>0.4214876</td><td>no       </td><td>no       </td><td>0.00     </td><td>0.5126600</td><td>0.8121212</td><td>0.4600000</td><td>0.7882353</td><td>0.420    </td><td>0.15     </td><td>0.4203704</td><td>0.1111111</td><td>no       </td></tr>\n",
       "\t<tr><td>0.3677686</td><td>no       </td><td>yes      </td><td>0.54     </td><td>0.4458037</td><td>0.3090909</td><td>0.3118987</td><td>0.6529412</td><td>0.630    </td><td>0.30     </td><td>0.6296296</td><td>0.2222222</td><td>no       </td></tr>\n",
       "\t<tr><td>0.1446281</td><td>no       </td><td>no       </td><td>0.00     </td><td>0.5061166</td><td>0.7818182</td><td>0.7754430</td><td>0.6000000</td><td>0.540    </td><td>0.30     </td><td>0.5407407</td><td>0.2222222</td><td>no       </td></tr>\n",
       "\t<tr><td>0.3884298</td><td>no       </td><td>yes      </td><td>0.70     </td><td>0.6517781</td><td>0.8666667</td><td>0.6288608</td><td>0.6470588</td><td>0.195    </td><td>0.15     </td><td>0.1944444</td><td>0.0000000</td><td>no       </td></tr>\n",
       "\t<tr><td>0.4876033</td><td>no       </td><td>no       </td><td>0.00     </td><td>0.6586060</td><td>0.4969697</td><td>0.5341772</td><td>0.6941176</td><td>0.370    </td><td>0.50     </td><td>0.3703704</td><td>0.1111111</td><td>no       </td></tr>\n",
       "</tbody>\n",
       "</table>\n"
      ],
      "text/latex": [
       "\\begin{tabular}{r|lllllllllllll}\n",
       " account\\_length & international\\_plan & voice\\_mail\\_plan & number\\_vmail\\_messages & total\\_day\\_minutes & total\\_day\\_calls & total\\_night\\_minutes & total\\_night\\_calls & total\\_intl\\_minutes & total\\_intl\\_calls & total\\_intl\\_charge & number\\_customer\\_service\\_calls & churn\\\\\n",
       "\\hline\n",
       "\t 0.6776860 & no        & no        & 0.00      & 0.5957326 & 0.4060606 & 0.3802532 & 0.5176471 & 0.640     & 0.05      & 0.6407407 & 0.0000000 & no       \\\\\n",
       "\t 0.4214876 & no        & no        & 0.00      & 0.5126600 & 0.8121212 & 0.4600000 & 0.7882353 & 0.420     & 0.15      & 0.4203704 & 0.1111111 & no       \\\\\n",
       "\t 0.3677686 & no        & yes       & 0.54      & 0.4458037 & 0.3090909 & 0.3118987 & 0.6529412 & 0.630     & 0.30      & 0.6296296 & 0.2222222 & no       \\\\\n",
       "\t 0.1446281 & no        & no        & 0.00      & 0.5061166 & 0.7818182 & 0.7754430 & 0.6000000 & 0.540     & 0.30      & 0.5407407 & 0.2222222 & no       \\\\\n",
       "\t 0.3884298 & no        & yes       & 0.70      & 0.6517781 & 0.8666667 & 0.6288608 & 0.6470588 & 0.195     & 0.15      & 0.1944444 & 0.0000000 & no       \\\\\n",
       "\t 0.4876033 & no        & no        & 0.00      & 0.6586060 & 0.4969697 & 0.5341772 & 0.6941176 & 0.370     & 0.50      & 0.3703704 & 0.1111111 & no       \\\\\n",
       "\\end{tabular}\n"
      ],
      "text/markdown": [
       "\n",
       "| account_length | international_plan | voice_mail_plan | number_vmail_messages | total_day_minutes | total_day_calls | total_night_minutes | total_night_calls | total_intl_minutes | total_intl_calls | total_intl_charge | number_customer_service_calls | churn |\n",
       "|---|---|---|---|---|---|---|---|---|---|---|---|---|\n",
       "| 0.6776860 | no        | no        | 0.00      | 0.5957326 | 0.4060606 | 0.3802532 | 0.5176471 | 0.640     | 0.05      | 0.6407407 | 0.0000000 | no        |\n",
       "| 0.4214876 | no        | no        | 0.00      | 0.5126600 | 0.8121212 | 0.4600000 | 0.7882353 | 0.420     | 0.15      | 0.4203704 | 0.1111111 | no        |\n",
       "| 0.3677686 | no        | yes       | 0.54      | 0.4458037 | 0.3090909 | 0.3118987 | 0.6529412 | 0.630     | 0.30      | 0.6296296 | 0.2222222 | no        |\n",
       "| 0.1446281 | no        | no        | 0.00      | 0.5061166 | 0.7818182 | 0.7754430 | 0.6000000 | 0.540     | 0.30      | 0.5407407 | 0.2222222 | no        |\n",
       "| 0.3884298 | no        | yes       | 0.70      | 0.6517781 | 0.8666667 | 0.6288608 | 0.6470588 | 0.195     | 0.15      | 0.1944444 | 0.0000000 | no        |\n",
       "| 0.4876033 | no        | no        | 0.00      | 0.6586060 | 0.4969697 | 0.5341772 | 0.6941176 | 0.370     | 0.50      | 0.3703704 | 0.1111111 | no        |\n",
       "\n"
      ],
      "text/plain": [
       "  account_length international_plan voice_mail_plan number_vmail_messages\n",
       "1 0.6776860      no                 no              0.00                 \n",
       "2 0.4214876      no                 no              0.00                 \n",
       "3 0.3677686      no                 yes             0.54                 \n",
       "4 0.1446281      no                 no              0.00                 \n",
       "5 0.3884298      no                 yes             0.70                 \n",
       "6 0.4876033      no                 no              0.00                 \n",
       "  total_day_minutes total_day_calls total_night_minutes total_night_calls\n",
       "1 0.5957326         0.4060606       0.3802532           0.5176471        \n",
       "2 0.5126600         0.8121212       0.4600000           0.7882353        \n",
       "3 0.4458037         0.3090909       0.3118987           0.6529412        \n",
       "4 0.5061166         0.7818182       0.7754430           0.6000000        \n",
       "5 0.6517781         0.8666667       0.6288608           0.6470588        \n",
       "6 0.6586060         0.4969697       0.5341772           0.6941176        \n",
       "  total_intl_minutes total_intl_calls total_intl_charge\n",
       "1 0.640              0.05             0.6407407        \n",
       "2 0.420              0.15             0.4203704        \n",
       "3 0.630              0.30             0.6296296        \n",
       "4 0.540              0.30             0.5407407        \n",
       "5 0.195              0.15             0.1944444        \n",
       "6 0.370              0.50             0.3703704        \n",
       "  number_customer_service_calls churn\n",
       "1 0.0000000                     no   \n",
       "2 0.1111111                     no   \n",
       "3 0.2222222                     no   \n",
       "4 0.2222222                     no   \n",
       "5 0.0000000                     no   \n",
       "6 0.1111111                     no   "
      ]
     },
     "metadata": {},
     "output_type": "display_data"
    }
   ],
   "source": [
    "head(churnScaled)"
   ]
  },
  {
   "cell_type": "markdown",
   "id": "b542c0ab",
   "metadata": {},
   "source": [
    "<br>\n",
    "\n",
    "Next, we need to convert the categorical features in our data set to numeric dummy variables. If you recall from Section [Dummy Variables](dummy.html#dummy-variables), the `lm()` and `glm()` functions automatically convert categorical variables to binary dummy variables when one is using linear or logistic regression. Unfortunately, the function we will use for kNN does *not* do this automatically, so we need to do it ourselves."
   ]
  },
  {
   "cell_type": "code",
   "execution_count": 10,
   "id": "53f08179",
   "metadata": {},
   "outputs": [],
   "source": [
    "# Convert categorical variables to dummy variables\n",
    "churnScaled$international_plan <- ifelse(churnScaled$international_plan==\"yes\", 1, 0)\n",
    "churnScaled$voice_mail_plan <- ifelse(churnScaled$voice_mail_plan==\"yes\", 1, 0)"
   ]
  },
  {
   "cell_type": "code",
   "execution_count": 11,
   "id": "45630e24",
   "metadata": {
    "tags": [
     "remove-input"
    ]
   },
   "outputs": [
    {
     "data": {
      "text/html": [
       "<table>\n",
       "<thead><tr><th scope=col>account_length</th><th scope=col>international_plan</th><th scope=col>voice_mail_plan</th><th scope=col>number_vmail_messages</th><th scope=col>total_day_minutes</th><th scope=col>total_day_calls</th><th scope=col>total_night_minutes</th><th scope=col>total_night_calls</th><th scope=col>total_intl_minutes</th><th scope=col>total_intl_calls</th><th scope=col>total_intl_charge</th><th scope=col>number_customer_service_calls</th><th scope=col>churn</th></tr></thead>\n",
       "<tbody>\n",
       "\t<tr><td>0.6776860</td><td>0        </td><td>0        </td><td>0.00     </td><td>0.5957326</td><td>0.4060606</td><td>0.3802532</td><td>0.5176471</td><td>0.640    </td><td>0.05     </td><td>0.6407407</td><td>0.0000000</td><td>no       </td></tr>\n",
       "\t<tr><td>0.4214876</td><td>0        </td><td>0        </td><td>0.00     </td><td>0.5126600</td><td>0.8121212</td><td>0.4600000</td><td>0.7882353</td><td>0.420    </td><td>0.15     </td><td>0.4203704</td><td>0.1111111</td><td>no       </td></tr>\n",
       "\t<tr><td>0.3677686</td><td>0        </td><td>1        </td><td>0.54     </td><td>0.4458037</td><td>0.3090909</td><td>0.3118987</td><td>0.6529412</td><td>0.630    </td><td>0.30     </td><td>0.6296296</td><td>0.2222222</td><td>no       </td></tr>\n",
       "\t<tr><td>0.1446281</td><td>0        </td><td>0        </td><td>0.00     </td><td>0.5061166</td><td>0.7818182</td><td>0.7754430</td><td>0.6000000</td><td>0.540    </td><td>0.30     </td><td>0.5407407</td><td>0.2222222</td><td>no       </td></tr>\n",
       "\t<tr><td>0.3884298</td><td>0        </td><td>1        </td><td>0.70     </td><td>0.6517781</td><td>0.8666667</td><td>0.6288608</td><td>0.6470588</td><td>0.195    </td><td>0.15     </td><td>0.1944444</td><td>0.0000000</td><td>no       </td></tr>\n",
       "\t<tr><td>0.4876033</td><td>0        </td><td>0        </td><td>0.00     </td><td>0.6586060</td><td>0.4969697</td><td>0.5341772</td><td>0.6941176</td><td>0.370    </td><td>0.50     </td><td>0.3703704</td><td>0.1111111</td><td>no       </td></tr>\n",
       "</tbody>\n",
       "</table>\n"
      ],
      "text/latex": [
       "\\begin{tabular}{r|lllllllllllll}\n",
       " account\\_length & international\\_plan & voice\\_mail\\_plan & number\\_vmail\\_messages & total\\_day\\_minutes & total\\_day\\_calls & total\\_night\\_minutes & total\\_night\\_calls & total\\_intl\\_minutes & total\\_intl\\_calls & total\\_intl\\_charge & number\\_customer\\_service\\_calls & churn\\\\\n",
       "\\hline\n",
       "\t 0.6776860 & 0         & 0         & 0.00      & 0.5957326 & 0.4060606 & 0.3802532 & 0.5176471 & 0.640     & 0.05      & 0.6407407 & 0.0000000 & no       \\\\\n",
       "\t 0.4214876 & 0         & 0         & 0.00      & 0.5126600 & 0.8121212 & 0.4600000 & 0.7882353 & 0.420     & 0.15      & 0.4203704 & 0.1111111 & no       \\\\\n",
       "\t 0.3677686 & 0         & 1         & 0.54      & 0.4458037 & 0.3090909 & 0.3118987 & 0.6529412 & 0.630     & 0.30      & 0.6296296 & 0.2222222 & no       \\\\\n",
       "\t 0.1446281 & 0         & 0         & 0.00      & 0.5061166 & 0.7818182 & 0.7754430 & 0.6000000 & 0.540     & 0.30      & 0.5407407 & 0.2222222 & no       \\\\\n",
       "\t 0.3884298 & 0         & 1         & 0.70      & 0.6517781 & 0.8666667 & 0.6288608 & 0.6470588 & 0.195     & 0.15      & 0.1944444 & 0.0000000 & no       \\\\\n",
       "\t 0.4876033 & 0         & 0         & 0.00      & 0.6586060 & 0.4969697 & 0.5341772 & 0.6941176 & 0.370     & 0.50      & 0.3703704 & 0.1111111 & no       \\\\\n",
       "\\end{tabular}\n"
      ],
      "text/markdown": [
       "\n",
       "| account_length | international_plan | voice_mail_plan | number_vmail_messages | total_day_minutes | total_day_calls | total_night_minutes | total_night_calls | total_intl_minutes | total_intl_calls | total_intl_charge | number_customer_service_calls | churn |\n",
       "|---|---|---|---|---|---|---|---|---|---|---|---|---|\n",
       "| 0.6776860 | 0         | 0         | 0.00      | 0.5957326 | 0.4060606 | 0.3802532 | 0.5176471 | 0.640     | 0.05      | 0.6407407 | 0.0000000 | no        |\n",
       "| 0.4214876 | 0         | 0         | 0.00      | 0.5126600 | 0.8121212 | 0.4600000 | 0.7882353 | 0.420     | 0.15      | 0.4203704 | 0.1111111 | no        |\n",
       "| 0.3677686 | 0         | 1         | 0.54      | 0.4458037 | 0.3090909 | 0.3118987 | 0.6529412 | 0.630     | 0.30      | 0.6296296 | 0.2222222 | no        |\n",
       "| 0.1446281 | 0         | 0         | 0.00      | 0.5061166 | 0.7818182 | 0.7754430 | 0.6000000 | 0.540     | 0.30      | 0.5407407 | 0.2222222 | no        |\n",
       "| 0.3884298 | 0         | 1         | 0.70      | 0.6517781 | 0.8666667 | 0.6288608 | 0.6470588 | 0.195     | 0.15      | 0.1944444 | 0.0000000 | no        |\n",
       "| 0.4876033 | 0         | 0         | 0.00      | 0.6586060 | 0.4969697 | 0.5341772 | 0.6941176 | 0.370     | 0.50      | 0.3703704 | 0.1111111 | no        |\n",
       "\n"
      ],
      "text/plain": [
       "  account_length international_plan voice_mail_plan number_vmail_messages\n",
       "1 0.6776860      0                  0               0.00                 \n",
       "2 0.4214876      0                  0               0.00                 \n",
       "3 0.3677686      0                  1               0.54                 \n",
       "4 0.1446281      0                  0               0.00                 \n",
       "5 0.3884298      0                  1               0.70                 \n",
       "6 0.4876033      0                  0               0.00                 \n",
       "  total_day_minutes total_day_calls total_night_minutes total_night_calls\n",
       "1 0.5957326         0.4060606       0.3802532           0.5176471        \n",
       "2 0.5126600         0.8121212       0.4600000           0.7882353        \n",
       "3 0.4458037         0.3090909       0.3118987           0.6529412        \n",
       "4 0.5061166         0.7818182       0.7754430           0.6000000        \n",
       "5 0.6517781         0.8666667       0.6288608           0.6470588        \n",
       "6 0.6586060         0.4969697       0.5341772           0.6941176        \n",
       "  total_intl_minutes total_intl_calls total_intl_charge\n",
       "1 0.640              0.05             0.6407407        \n",
       "2 0.420              0.15             0.4203704        \n",
       "3 0.630              0.30             0.6296296        \n",
       "4 0.540              0.30             0.5407407        \n",
       "5 0.195              0.15             0.1944444        \n",
       "6 0.370              0.50             0.3703704        \n",
       "  number_customer_service_calls churn\n",
       "1 0.0000000                     no   \n",
       "2 0.1111111                     no   \n",
       "3 0.2222222                     no   \n",
       "4 0.2222222                     no   \n",
       "5 0.0000000                     no   \n",
       "6 0.1111111                     no   "
      ]
     },
     "metadata": {},
     "output_type": "display_data"
    }
   ],
   "source": [
    "head(churnScaled)"
   ]
  },
  {
   "cell_type": "markdown",
   "id": "be0c8980",
   "metadata": {},
   "source": [
    "<br>\n",
    "\n",
    "Now that we have prepared the data set we will use to build the model (`churnedScaled`), let's prepare the data set with the observation we would like to make a prediction on. Suppose we have a file called `\"churn_new.csv\"` that contains the information of a new customer, and we would like to predict whether that customer will churn in the next quarter."
   ]
  },
  {
   "cell_type": "code",
   "execution_count": 12,
   "id": "f9973889",
   "metadata": {},
   "outputs": [],
   "source": [
    "churnNew <- read_csv(\"_build/data/churn_new.csv\")"
   ]
  },
  {
   "cell_type": "code",
   "execution_count": 13,
   "id": "f5c09d37",
   "metadata": {
    "tags": [
     "remove-input"
    ]
   },
   "outputs": [
    {
     "data": {
      "text/html": [
       "<table>\n",
       "<thead><tr><th scope=col>account_length</th><th scope=col>international_plan</th><th scope=col>voice_mail_plan</th><th scope=col>number_vmail_messages</th><th scope=col>total_day_minutes</th><th scope=col>total_day_calls</th><th scope=col>total_night_minutes</th><th scope=col>total_night_calls</th><th scope=col>total_intl_minutes</th><th scope=col>total_intl_calls</th><th scope=col>total_intl_charge</th><th scope=col>number_customer_service_calls</th></tr></thead>\n",
       "<tbody>\n",
       "\t<tr><td>12  </td><td>no  </td><td>no  </td><td>0   </td><td>250 </td><td>118 </td><td>280 </td><td>90  </td><td>11.8</td><td>3   </td><td>3.19</td><td>1   </td></tr>\n",
       "</tbody>\n",
       "</table>\n"
      ],
      "text/latex": [
       "\\begin{tabular}{r|llllllllllll}\n",
       " account\\_length & international\\_plan & voice\\_mail\\_plan & number\\_vmail\\_messages & total\\_day\\_minutes & total\\_day\\_calls & total\\_night\\_minutes & total\\_night\\_calls & total\\_intl\\_minutes & total\\_intl\\_calls & total\\_intl\\_charge & number\\_customer\\_service\\_calls\\\\\n",
       "\\hline\n",
       "\t 12   & no   & no   & 0    & 250  & 118  & 280  & 90   & 11.8 & 3    & 3.19 & 1   \\\\\n",
       "\\end{tabular}\n"
      ],
      "text/markdown": [
       "\n",
       "| account_length | international_plan | voice_mail_plan | number_vmail_messages | total_day_minutes | total_day_calls | total_night_minutes | total_night_calls | total_intl_minutes | total_intl_calls | total_intl_charge | number_customer_service_calls |\n",
       "|---|---|---|---|---|---|---|---|---|---|---|---|\n",
       "| 12   | no   | no   | 0    | 250  | 118  | 280  | 90   | 11.8 | 3    | 3.19 | 1    |\n",
       "\n"
      ],
      "text/plain": [
       "  account_length international_plan voice_mail_plan number_vmail_messages\n",
       "1 12             no                 no              0                    \n",
       "  total_day_minutes total_day_calls total_night_minutes total_night_calls\n",
       "1 250               118             280                 90               \n",
       "  total_intl_minutes total_intl_calls total_intl_charge\n",
       "1 11.8               3                3.19             \n",
       "  number_customer_service_calls\n",
       "1 1                            "
      ]
     },
     "metadata": {},
     "output_type": "display_data"
    }
   ],
   "source": [
    "head(churnNew)"
   ]
  },
  {
   "cell_type": "markdown",
   "id": "eaf521de",
   "metadata": {},
   "source": [
    "<br>\n",
    "\n",
    "As with our other data set, we need to (1) normalize the variables, and (2) convert the categorical variables into dummies. To normalize the data, we can apply the `scaler` object that we created above. To do this we can now just pass `scaler` and `churnNew` into `predict()`. This will apply the min-max formula to `churnNew` based on the minimum and maximum values used to create `churnScaled`."
   ]
  },
  {
   "cell_type": "code",
   "execution_count": 14,
   "id": "828810f7",
   "metadata": {},
   "outputs": [],
   "source": [
    "churnNewScaled <- predict(scaler, churnNew)"
   ]
  },
  {
   "cell_type": "code",
   "execution_count": 15,
   "id": "fbb193d4",
   "metadata": {
    "tags": [
     "remove-input"
    ]
   },
   "outputs": [
    {
     "data": {
      "text/html": [
       "<table>\n",
       "<thead><tr><th scope=col>account_length</th><th scope=col>international_plan</th><th scope=col>voice_mail_plan</th><th scope=col>number_vmail_messages</th><th scope=col>total_day_minutes</th><th scope=col>total_day_calls</th><th scope=col>total_night_minutes</th><th scope=col>total_night_calls</th><th scope=col>total_intl_minutes</th><th scope=col>total_intl_calls</th><th scope=col>total_intl_charge</th><th scope=col>number_customer_service_calls</th></tr></thead>\n",
       "<tbody>\n",
       "\t<tr><td>0.04545455</td><td>no        </td><td>no        </td><td>0         </td><td>0.7112376 </td><td>0.7151515 </td><td>0.7088608 </td><td>0.5294118 </td><td>0.59      </td><td>0.15      </td><td>0.5907407 </td><td>0.1111111 </td></tr>\n",
       "</tbody>\n",
       "</table>\n"
      ],
      "text/latex": [
       "\\begin{tabular}{r|llllllllllll}\n",
       " account\\_length & international\\_plan & voice\\_mail\\_plan & number\\_vmail\\_messages & total\\_day\\_minutes & total\\_day\\_calls & total\\_night\\_minutes & total\\_night\\_calls & total\\_intl\\_minutes & total\\_intl\\_calls & total\\_intl\\_charge & number\\_customer\\_service\\_calls\\\\\n",
       "\\hline\n",
       "\t 0.04545455 & no         & no         & 0          & 0.7112376  & 0.7151515  & 0.7088608  & 0.5294118  & 0.59       & 0.15       & 0.5907407  & 0.1111111 \\\\\n",
       "\\end{tabular}\n"
      ],
      "text/markdown": [
       "\n",
       "| account_length | international_plan | voice_mail_plan | number_vmail_messages | total_day_minutes | total_day_calls | total_night_minutes | total_night_calls | total_intl_minutes | total_intl_calls | total_intl_charge | number_customer_service_calls |\n",
       "|---|---|---|---|---|---|---|---|---|---|---|---|\n",
       "| 0.04545455 | no         | no         | 0          | 0.7112376  | 0.7151515  | 0.7088608  | 0.5294118  | 0.59       | 0.15       | 0.5907407  | 0.1111111  |\n",
       "\n"
      ],
      "text/plain": [
       "  account_length international_plan voice_mail_plan number_vmail_messages\n",
       "1 0.04545455     no                 no              0                    \n",
       "  total_day_minutes total_day_calls total_night_minutes total_night_calls\n",
       "1 0.7112376         0.7151515       0.7088608           0.5294118        \n",
       "  total_intl_minutes total_intl_calls total_intl_charge\n",
       "1 0.59               0.15             0.5907407        \n",
       "  number_customer_service_calls\n",
       "1 0.1111111                    "
      ]
     },
     "metadata": {},
     "output_type": "display_data"
    }
   ],
   "source": [
    "head(churnNewScaled)"
   ]
  },
  {
   "cell_type": "markdown",
   "id": "2839de85",
   "metadata": {},
   "source": [
    "<br>\n",
    "\n",
    "Next, we need to convert our categorical variables into dummies:"
   ]
  },
  {
   "cell_type": "code",
   "execution_count": 16,
   "id": "f137b1b9",
   "metadata": {},
   "outputs": [],
   "source": [
    "churnNewScaled$international_plan <- ifelse(churnNewScaled$international_plan==\"yes\", 1, 0)\n",
    "churnNewScaled$voice_mail_plan <- ifelse(churnNewScaled$voice_mail_plan==\"yes\", 1, 0)"
   ]
  },
  {
   "cell_type": "code",
   "execution_count": 17,
   "id": "03f29039",
   "metadata": {
    "tags": [
     "remove-input"
    ]
   },
   "outputs": [
    {
     "data": {
      "text/html": [
       "<table>\n",
       "<thead><tr><th scope=col>account_length</th><th scope=col>international_plan</th><th scope=col>voice_mail_plan</th><th scope=col>number_vmail_messages</th><th scope=col>total_day_minutes</th><th scope=col>total_day_calls</th><th scope=col>total_night_minutes</th><th scope=col>total_night_calls</th><th scope=col>total_intl_minutes</th><th scope=col>total_intl_calls</th><th scope=col>total_intl_charge</th><th scope=col>number_customer_service_calls</th></tr></thead>\n",
       "<tbody>\n",
       "\t<tr><td>0.04545455</td><td>0         </td><td>0         </td><td>0         </td><td>0.7112376 </td><td>0.7151515 </td><td>0.7088608 </td><td>0.5294118 </td><td>0.59      </td><td>0.15      </td><td>0.5907407 </td><td>0.1111111 </td></tr>\n",
       "</tbody>\n",
       "</table>\n"
      ],
      "text/latex": [
       "\\begin{tabular}{r|llllllllllll}\n",
       " account\\_length & international\\_plan & voice\\_mail\\_plan & number\\_vmail\\_messages & total\\_day\\_minutes & total\\_day\\_calls & total\\_night\\_minutes & total\\_night\\_calls & total\\_intl\\_minutes & total\\_intl\\_calls & total\\_intl\\_charge & number\\_customer\\_service\\_calls\\\\\n",
       "\\hline\n",
       "\t 0.04545455 & 0          & 0          & 0          & 0.7112376  & 0.7151515  & 0.7088608  & 0.5294118  & 0.59       & 0.15       & 0.5907407  & 0.1111111 \\\\\n",
       "\\end{tabular}\n"
      ],
      "text/markdown": [
       "\n",
       "| account_length | international_plan | voice_mail_plan | number_vmail_messages | total_day_minutes | total_day_calls | total_night_minutes | total_night_calls | total_intl_minutes | total_intl_calls | total_intl_charge | number_customer_service_calls |\n",
       "|---|---|---|---|---|---|---|---|---|---|---|---|\n",
       "| 0.04545455 | 0          | 0          | 0          | 0.7112376  | 0.7151515  | 0.7088608  | 0.5294118  | 0.59       | 0.15       | 0.5907407  | 0.1111111  |\n",
       "\n"
      ],
      "text/plain": [
       "  account_length international_plan voice_mail_plan number_vmail_messages\n",
       "1 0.04545455     0                  0               0                    \n",
       "  total_day_minutes total_day_calls total_night_minutes total_night_calls\n",
       "1 0.7112376         0.7151515       0.7088608           0.5294118        \n",
       "  total_intl_minutes total_intl_calls total_intl_charge\n",
       "1 0.59               0.15             0.5907407        \n",
       "  number_customer_service_calls\n",
       "1 0.1111111                    "
      ]
     },
     "metadata": {},
     "output_type": "display_data"
    }
   ],
   "source": [
    "head(churnNewScaled)"
   ]
  },
  {
   "cell_type": "markdown",
   "id": "cd3227ea",
   "metadata": {},
   "source": [
    "<br>\n",
    "\n",
    "Now that our data has been processed, we can actually apply the kNN algorithm! We can do this in R with the `knn()` function from the `class` package, which uses the following syntax:\n",
    "\n",
    "```{admonition} Syntax\n",
    "`class::knn(train, test, cl, k = 1, prob = FALSE)`\n",
    "+ *Required arguments*\n",
    "  - `train`: A data frame with the observations used to build the model. This should only contain the independent ($X$) features, not the target feature ($Y$).\n",
    "  - `test`: A data frame with the observation(s) the model should be applied to. \n",
    "  - `cl`: A vector with the correct labels ($Y$) of the observations used to build the model.\n",
    "+ *Optional arguments*\n",
    "  - `k`: The number of nearest neighbors considered.\n",
    "  - `prob`: Whether or not the probability of each prediction is returned. If `prob` equals `FALSE`, the function returns a binary prediction (*e.g.* \"churn\" or \"no churn\"). \n",
    "```  \n",
    "  \n",
    "Below we apply this function, with `churnScaled` used to build the model and `churnNewScaled` used to make predictions. Note that the `train` parameter only accepts the $X$ features (and not the target feature $Y$), so we exclude the thirteen column in `churnScaled` when passing the data to `train`."
   ]
  },
  {
   "cell_type": "code",
   "execution_count": 18,
   "id": "95c71dec",
   "metadata": {},
   "outputs": [
    {
     "data": {
      "text/html": [
       "no\n",
       "<details>\n",
       "\t<summary style=display:list-item;cursor:pointer>\n",
       "\t\t<strong>Levels</strong>:\n",
       "\t</summary>\n",
       "\t<ol class=list-inline>\n",
       "\t\t<li>'no'</li>\n",
       "\t\t<li>'yes'</li>\n",
       "\t</ol>\n",
       "</details>"
      ],
      "text/latex": [
       "no\n",
       "\\emph{Levels}: \\begin{enumerate*}\n",
       "\\item 'no'\n",
       "\\item 'yes'\n",
       "\\end{enumerate*}\n"
      ],
      "text/markdown": [
       "no\n",
       "**Levels**: 1. 'no'\n",
       "2. 'yes'\n",
       "\n",
       "\n"
      ],
      "text/plain": [
       "[1] no\n",
       "attr(,\"prob\")\n",
       "[1] 0.8\n",
       "Levels: no yes"
      ]
     },
     "metadata": {},
     "output_type": "display_data"
    }
   ],
   "source": [
    "library(class)\n",
    "knnModelK5 <- knn(train = churnScaled[,-13], test = churnNewScaled, \n",
    "                  cl = churnScaled$churn, k = 5, prob=TRUE)\n",
    "\n",
    "knnModelK5"
   ]
  },
  {
   "cell_type": "markdown",
   "id": "a81a1055",
   "metadata": {},
   "source": [
    "Based on this output, our model predicts that the new customer will *not* churn."
   ]
  }
 ],
 "metadata": {
  "jupytext": {
   "cell_metadata_filter": "-all",
   "formats": "md:myst",
   "text_representation": {
    "extension": ".md",
    "format_name": "myst",
    "format_version": 0.13,
    "jupytext_version": "1.11.5"
   }
  },
  "kernelspec": {
   "display_name": "R",
   "language": "R",
   "name": "ir"
  },
  "language_info": {
   "codemirror_mode": "r",
   "file_extension": ".r",
   "mimetype": "text/x-r-source",
   "name": "R",
   "pygments_lexer": "r",
   "version": "3.6.1"
  },
  "source_map": [
   16,
   23,
   33,
   36,
   58,
   69,
   73,
   106,
   120,
   140,
   174,
   204,
   214,
   225,
   245,
   256,
   259,
   264,
   270,
   273,
   278,
   282,
   285,
   290,
   294,
   297,
   302,
   307,
   310,
   328,
   334
  ]
 },
 "nbformat": 4,
 "nbformat_minor": 5
}