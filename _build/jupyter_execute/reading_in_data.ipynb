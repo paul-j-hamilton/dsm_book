{
 "cells": [
  {
   "cell_type": "code",
   "execution_count": 1,
   "id": "677f4c00",
   "metadata": {
    "tags": [
     "remove-cell"
    ]
   },
   "outputs": [
    {
     "name": "stderr",
     "output_type": "stream",
     "text": [
      "Registered S3 methods overwritten by 'ggplot2':\n",
      "  method         from \n",
      "  [.quosures     rlang\n",
      "  c.quosures     rlang\n",
      "  print.quosures rlang\n"
     ]
    },
    {
     "name": "stderr",
     "output_type": "stream",
     "text": [
      "Registered S3 method overwritten by 'rvest':\n",
      "  method            from\n",
      "  read_xml.response xml2\n"
     ]
    },
    {
     "name": "stderr",
     "output_type": "stream",
     "text": [
      "-- Attaching packages --------------------------------------- tidyverse 1.2.1 --\n"
     ]
    },
    {
     "name": "stderr",
     "output_type": "stream",
     "text": [
      "v ggplot2 3.1.1       v purrr   0.3.2  \n",
      "v tibble  2.1.1       v dplyr   0.8.0.1\n",
      "v tidyr   0.8.3       v stringr 1.4.0  \n",
      "v readr   1.3.1       v forcats 0.4.0  \n"
     ]
    },
    {
     "name": "stderr",
     "output_type": "stream",
     "text": [
      "-- Conflicts ------------------------------------------ tidyverse_conflicts() --\n",
      "x dplyr::filter() masks stats::filter()\n",
      "x dplyr::lag()    masks stats::lag()\n"
     ]
    }
   ],
   "source": [
    "library(tidyverse)"
   ]
  },
  {
   "cell_type": "markdown",
   "id": "a9fa4e69",
   "metadata": {},
   "source": [
    "# Reading in Data\n",
    "\n",
    "The tidyverse contains a variety of functions for reading in data from different file types. Our employee data is saved in a comma-separated values (.csv) file called `employee_data.csv`. We can read the data from this file into a data frame using the read_csv() function, which uses the following syntax:\n",
    "\n",
    "```{admonition} Syntax\n",
    "`tidyverse::read_csv(file, col_names=TRUE, skip=0, …)`\n",
    "+ *Required arguments*\n",
    "  + `file`: The file path of the file you would like to read in. Note that the path must be surrounded in quotation marks.\n",
    "+ *Optional arguments*\n",
    "  + `col_names`: When this argument is `TRUE`, the first row of the file is assumed to contain the column names of the data set. When it is `FALSE`, the first row is assumed to contain data, and column names are generated automatically (`X1`, `X2`, `X3`, etc.)\n",
    "  + `skip`: The number of rows at the top of the file to skip when reading in the data. This is useful if the first few rows of your data file have text you want to ignore.\n",
    "```\n",
    "\n",
    "Below we use this function to read our data from the csv file into a data frame called `employees`. In this case, our data file is stored at the path `\"_build/data/employee_data.csv\"`."
   ]
  },
  {
   "cell_type": "code",
   "execution_count": 2,
   "id": "f811ece1",
   "metadata": {},
   "outputs": [
    {
     "name": "stderr",
     "output_type": "stream",
     "text": [
      "Parsed with column specification:\n",
      "cols(\n",
      "  ID = col_double(),\n",
      "  Name = col_character(),\n",
      "  Gender = col_character(),\n",
      "  Age = col_double(),\n",
      "  Rating = col_double(),\n",
      "  Degree = col_character(),\n",
      "  Start_Date = col_character(),\n",
      "  Retired = col_logical(),\n",
      "  Division = col_character(),\n",
      "  Salary = col_character()\n",
      ")\n"
     ]
    }
   ],
   "source": [
    "employees <- read_csv(\"_build/data/employee_data.csv\") # NOTE: Change this to URL"
   ]
  },
  {
   "cell_type": "markdown",
   "id": "5475c355",
   "metadata": {},
   "source": [
    "By default, the function prints out the assumed data type of each column. For example, the function assumes that `ID` is a `double` (a sub-class of the `numeric` type), `Name` is a `character`, `Retired` is a `logical`, etc. These seem like the correct choices. However, you may also notice that the function got some of the types wrong. For example, `Start_Date`, `Degree`, and `Salary` were all read in as `character`s instead of as a `Date`, `factor`, and `numeric`, respectively. We will see how to correct this in a subsequent section.\n",
    "\n",
    "If our data were in an Excel (.xlsx) file instead of a csv, we could read it in using the `read_excel()` function from the `readxl` package ([Wickham and Bryan 2019](https://bookdown.org/hbsabafaculty/ids_book/programming-concepts.html#ref-readxl)). This function uses the following syntax:\n",
    "\n",
    "```{admonition} Syntax\n",
    "`readxl::read_excel(file, sheet = 1, col_names = TRUE, range = NULL, skip = 0 …)`\n",
    "+ *Required arguments*\n",
    "  + `file`: The file path of the file you would like to read in. Note that the path must be surrounded in quotation marks.\n",
    "+ *Optional arguments*\n",
    "  + `sheet`: The sheet within the Excel workbook that contains the data you want to read in. You can either specify the sheet number (the default is `sheet = 1`), or the name of the sheet as a string (e.g., `sheet = \"Sheet Name\"`).\n",
    "  + `col_names`: When this argument is `TRUE`, the first row of the file is assumed to contain the column names of the data set. When it is `FALSE`, the first row is assumed to contain data, and column names are generated automatically (`X1`, `X2`, `X3`, etc.)\n",
    "  + `range`: The range of cells in the sheet that contains the data you would like to read in. For example, if your only wanted to read in the data in the range `B4:F100`, you would set `range = \"B4:F100\"`.\n",
    "  + `skip`: The number of rows at the top of the file to skip when reading in the data. This is useful if the first few rows of your data file have text you want to ignore.\n",
    "```\n",
    "\n",
    "Although .csv and .xlsx are very common file types, you will likely encounter data stored in other file types (tab-separated files (.tab), text files (.txt), etc.) Here we will not show the functions to read in data from all of these different file types. However, they will generally be of a similar form as the `read_csv()` and `read_excel()` functions shown above. Always start by Googling to find the appropriate function for the type of file you need to read into R."
   ]
  }
 ],
 "metadata": {
  "jupytext": {
   "cell_metadata_filter": "-all",
   "formats": "md:myst",
   "text_representation": {
    "extension": ".md",
    "format_name": "myst",
    "format_version": 0.13,
    "jupytext_version": "1.11.5"
   }
  },
  "kernelspec": {
   "display_name": "R",
   "language": "R",
   "name": "ir"
  },
  "language_info": {
   "codemirror_mode": "r",
   "file_extension": ".r",
   "mimetype": "text/x-r-source",
   "name": "R",
   "pygments_lexer": "r",
   "version": "3.6.1"
  },
  "source_map": [
   16,
   19,
   36,
   38
  ]
 },
 "nbformat": 4,
 "nbformat_minor": 5
}