{
 "cells": [
  {
   "cell_type": "code",
   "execution_count": 1,
   "id": "bb47adf7",
   "metadata": {
    "tags": [
     "remove-cell"
    ]
   },
   "outputs": [
    {
     "name": "stderr",
     "output_type": "stream",
     "text": [
      "Registered S3 methods overwritten by 'ggplot2':\n",
      "  method         from \n",
      "  [.quosures     rlang\n",
      "  c.quosures     rlang\n",
      "  print.quosures rlang\n"
     ]
    },
    {
     "name": "stderr",
     "output_type": "stream",
     "text": [
      "Registered S3 method overwritten by 'rvest':\n",
      "  method            from\n",
      "  read_xml.response xml2\n"
     ]
    },
    {
     "name": "stderr",
     "output_type": "stream",
     "text": [
      "-- Attaching packages --------------------------------------- tidyverse 1.2.1 --\n"
     ]
    },
    {
     "name": "stderr",
     "output_type": "stream",
     "text": [
      "v ggplot2 3.1.1       v purrr   0.3.2  \n",
      "v tibble  2.1.1       v dplyr   0.8.0.1\n",
      "v tidyr   0.8.3       v stringr 1.4.0  \n",
      "v readr   1.3.1       v forcats 0.4.0  \n"
     ]
    },
    {
     "name": "stderr",
     "output_type": "stream",
     "text": [
      "-- Conflicts ------------------------------------------ tidyverse_conflicts() --\n",
      "x dplyr::filter() masks stats::filter()\n",
      "x dplyr::lag()    masks stats::lag()\n"
     ]
    },
    {
     "name": "stderr",
     "output_type": "stream",
     "text": [
      "Parsed with column specification:\n",
      "cols(\n",
      "  ID = col_double(),\n",
      "  Name = col_character(),\n",
      "  Gender = col_character(),\n",
      "  Age = col_double(),\n",
      "  Rating = col_double(),\n",
      "  Degree = col_character(),\n",
      "  Start_Date = col_character(),\n",
      "  Retired = col_logical(),\n",
      "  Division = col_character(),\n",
      "  Salary = col_character()\n",
      ")\n"
     ]
    }
   ],
   "source": [
    "library(tidyverse)\n",
    "employees <- read_csv(\"_build/data/employee_data.csv\")\n",
    "employees$Salary <- parse_number(employees$Salary)\n",
    "employees$Start_Date <- parse_date(employees$Start_Date, format = \"%m/%d/%Y\")\n",
    "degreeLevels <- c(\"High School\", \"Associate's\", \"Bachelor's\", \"Master's\", \"Ph.D\")\n",
    "employees$Degree <- parse_factor(employees$Degree, levels = degreeLevels, ordered = TRUE)\n",
    "carbs <- read.csv(\"_build/data/carbs.csv\")"
   ]
  },
  {
   "cell_type": "markdown",
   "id": "412e8b40",
   "metadata": {},
   "source": [
    "# One-Sample Hypothesis Testing (&#9909;)\n",
    "\n",
    "This section is optional, and will not be covered in the DSM course. Select \"Click to show\" to reveal.\n",
    "\n",
    "We use a one-sample hypothesis test when we want to compare a population parameter to a specified value. The following are all examples of scenarios where a one-sample hypothesis test would be appropriate:\n",
    "\n",
    "+ An automobile manufacturer received a shipment of light bulbs from a supplier, and would like to verify that less than 2% of the bulbs are defective.\n",
    "  + Is the true proportion ($p$) less than 0.02?\n",
    "+ We would like to determine whether the majority of the electorate support the Democratic candidate for president.\n",
    "  + Does the true proportion ($p$)  exceed 0.50?\n",
    "+ A food processing plant received a truckload of chickens from a local farmer, and needs to verify that the average chicken weighs at least two pounds. \n",
    "  + Does the true mean ($\\mu$)  exceed 2 lbs?\n",
    "+ A software company wants to determine whether its users interact with the homepage for at least ten seconds, on average. \n",
    "  +  Does the true mean ($\\mu$) exceed 10 seconds?\n",
    "  \n",
    "The first two examples concerned questions about population proportions ($p$), whereas the second two questions concern population means ($\\mu$).\n",
    "\n",
    "## Testing Means\n",
    "\n",
    "To illustrate a one-sample test of means, let's return to our `employees` data set. Suppose that the HR department of the company is thinking about re-calibrating the employee performance scale, which is currently measured from one to ten. If the scale were calibrated properly the average score would be around five, but the team suspects there might be some \"rating inflation\" occurring. To investigate this, they would like to test whether the average employee `Rating` is greater than five. Under this scenario, the null and alternative hypotheses are:\n",
    "\n",
    "+ $H_o$: The true average rating of all employees at the company is five.\n",
    "  + $\\mu = 5$\n",
    "+ $H_a$: The true average rating of all employees at the company is *greater than* five.\n",
    "  + $\\mu > 5$\n",
    "  \n",
    "Recall that `employees` is a data frame with a random sample of 1,000 employees from the company. Using this sample data, we can apply `t.test()` to calculate the appropriate p-value for the hypothesis test:\n",
    "\n",
    ":::{admonition} Syntax\n",
    "`t.test(x, mu = 0, alternative = \"two.sided\")`\n",
    "+ *Required arguments*\n",
    "  - `x`: An atomic vector with the sample values.\n",
    "+ *Optional arguments*\n",
    "  - `mu`: The value of the population mean under the null hypothesis. By default, it is assumed that under the null, $\\mu = 0$.\n",
    "  - `alternative`: Whether one wants to conduct a two-sided, right-sided, or left-sided test. Under a right-sided test the alternative hypothesis states that the true population parameter is *greater than* the value specified in the null, so `alternative` should equal `\"greater\"` for a right-sided test. Following the same logic, `alternative` should equal `\"less\"` for a left-sided test.\n",
    "\n",
    "Our null hypothesis states that $\\mu$ equals five, so we set the `mu` parameter equal to five in the function call. Additionally, because our alternative hypothesis states that the population mean is *greater than* the value specified in the null, we are conducting a right-sided test and must set the `alternative` parameter equal to `\"greater\"`.\n",
    "\n",
    ":::{code-cell}\n",
    "t.test(employees$Rating, mu = 5, alternative = \"greater\")\n",
    ":::\n",
    "\n",
    "This p-value is quite small, so we reject the null hypothesis and conclude it is likely that the average employee rating at the company is greater than 5.\n",
    "\n",
    "## Testing Proportions\n",
    "\n",
    "To illustrate a one-sample test of proportions, let's focus on the second example from Section \\@ref(one-sample-hypothesis-testing). Suppose we would like to determine whether the majority of the electorate supports the Democratic candidate for president. Our null and alternative hypotheses would then be:\n",
    "\n",
    "+ $H_o$: The true population proportion of voters who support the Democratic candidate *equals* fifty percent.\n",
    "  + $p = 0.5$\n",
    "+ $H_a$: The true population proportion of voters who support the Democratic candidate *exceeds* fifty percent.\n",
    "  + $p > 0.5$\n",
    "  \n",
    "Now imagine that we randomly polled 1,000 people, and 540 said that they supported the Democratic candidate. \n",
    "\n",
    "We can use `binom.test()` in R to calculate the appropriate p-value from this sample data:\n",
    "\n",
    "```{admonition} Syntax\n",
    "`binom.test(x, n, p = 0.5, alternative = \"two.sided\")`\n",
    "+ *Required arguments*\n",
    "  - `x`: The number of \"successes\" in the sample.\n",
    "  - `n`: The total sample size.\n",
    "+ *Optional arguments*\n",
    "  - `p`: The value of the population proportion under the null hypothesis. By default, it is assumed that under the null, $p = 0.50$.\n",
    "  - `alternative`: Whether one wants to conduct a two-sided, right-sided, or left-sided test. Under a right-sided test the alternative hypothesis states that the true population parameter is *greater than* the value specified in the null, so `alternative` should equal `\"greater\"` for a right-sided test. Following the same logic, `alternative` should equal `\"less\"` for a left-sided test.\n",
    "```\n",
    "  \n",
    "Because our alternative hypothesis states that the population proportion is *greater than* the value specified in the null, we are conducting a right-sided test and must set the `alternative` parameter equal to `\"greater\"`."
   ]
  },
  {
   "cell_type": "code",
   "execution_count": 2,
   "id": "f6fa435c",
   "metadata": {},
   "outputs": [
    {
     "data": {
      "text/plain": [
       "\n",
       "\tExact binomial test\n",
       "\n",
       "data:  540 and 1000\n",
       "number of successes = 540, number of trials = 1000, p-value = 0.006222\n",
       "alternative hypothesis: true probability of success is greater than 0.5\n",
       "95 percent confidence interval:\n",
       " 0.5135135 1.0000000\n",
       "sample estimates:\n",
       "probability of success \n",
       "                  0.54 \n"
      ]
     },
     "metadata": {},
     "output_type": "display_data"
    }
   ],
   "source": [
    "binom.test(540, 1000, p = 0.5, alternative = \"greater\")"
   ]
  },
  {
   "cell_type": "markdown",
   "id": "93dc77a3",
   "metadata": {},
   "source": [
    "Of primary importance in this output is the p-value, which equals 0.006222. Recall that this does *not* mean there is a 0.62% chance that the null hypothesis is true. Instead, we interpret the p-value as follows: if the null were true and only half of the electorate supported the Democratic candidate, there would only be a 0.62% chance that our sample of 1,000 people would find 540 or more who support the Democratic candidate. In other words, the result we observed in the sample would be very unlikely if the null were in fact true. Therefore, we reject $H_o$ and conclude it is likely that the majority of the electorate prefer the Democratic candidate."
   ]
  }
 ],
 "metadata": {
  "jupytext": {
   "cell_metadata_filter": "-all",
   "formats": "md:myst",
   "text_representation": {
    "extension": ".md",
    "format_name": "myst",
    "format_version": 0.13,
    "jupytext_version": "1.11.5"
   }
  },
  "kernelspec": {
   "display_name": "R",
   "language": "R",
   "name": "ir"
  },
  "language_info": {
   "codemirror_mode": "r",
   "file_extension": ".r",
   "mimetype": "text/x-r-source",
   "name": "R",
   "pygments_lexer": "r",
   "version": "3.6.1"
  },
  "source_map": [
   16,
   25,
   96,
   98
  ]
 },
 "nbformat": 4,
 "nbformat_minor": 5
}