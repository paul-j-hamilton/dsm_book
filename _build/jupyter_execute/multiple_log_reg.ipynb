{
 "cells": [
  {
   "cell_type": "code",
   "execution_count": 1,
   "id": "bb57efef",
   "metadata": {
    "tags": [
     "remove-cell"
    ]
   },
   "outputs": [
    {
     "name": "stderr",
     "output_type": "stream",
     "text": [
      "Registered S3 methods overwritten by 'ggplot2':\n",
      "  method         from \n",
      "  [.quosures     rlang\n",
      "  c.quosures     rlang\n",
      "  print.quosures rlang\n"
     ]
    },
    {
     "name": "stderr",
     "output_type": "stream",
     "text": [
      "Registered S3 method overwritten by 'rvest':\n",
      "  method            from\n",
      "  read_xml.response xml2\n"
     ]
    },
    {
     "name": "stderr",
     "output_type": "stream",
     "text": [
      "-- Attaching packages --------------------------------------- tidyverse 1.2.1 --\n"
     ]
    },
    {
     "name": "stderr",
     "output_type": "stream",
     "text": [
      "v ggplot2 3.1.1       v purrr   0.3.2  \n",
      "v tibble  2.1.1       v dplyr   0.8.0.1\n",
      "v tidyr   0.8.3       v stringr 1.4.0  \n",
      "v readr   1.3.1       v forcats 0.4.0  \n"
     ]
    },
    {
     "name": "stderr",
     "output_type": "stream",
     "text": [
      "-- Conflicts ------------------------------------------ tidyverse_conflicts() --\n",
      "x dplyr::filter() masks stats::filter()\n",
      "x dplyr::lag()    masks stats::lag()\n"
     ]
    },
    {
     "name": "stderr",
     "output_type": "stream",
     "text": [
      "Parsed with column specification:\n",
      "cols(\n",
      "  age = col_double(),\n",
      "  marital = col_character(),\n",
      "  education = col_character(),\n",
      "  default = col_character(),\n",
      "  housing = col_character(),\n",
      "  loan = col_character(),\n",
      "  contact = col_character(),\n",
      "  duration = col_double(),\n",
      "  campaign = col_double(),\n",
      "  previous = col_double(),\n",
      "  poutcome = col_character(),\n",
      "  subscription = col_double()\n",
      ")\n"
     ]
    }
   ],
   "source": [
    "library(tidyverse)\n",
    "library(ggplot2)\n",
    "deposit <- read_csv(\"_build/data/marketing.csv\")"
   ]
  },
  {
   "cell_type": "markdown",
   "id": "ed29595f",
   "metadata": {},
   "source": [
    "# Multiple Logistic Regression\n",
    "\n",
    "Much like linear regression, logistic regression can include multiple independent ($X$) variables. When there is more than one $X$, we assume the following relationship:\n",
    "\n",
    "$$P(Y = 1 | X) = \\frac{e^{\\beta_0+\\beta_1X_1+\\beta_2X_2+...+\\beta_pX_p}}{1+e^{\\beta_0+\\beta_1X_1+\\beta_2X_2+...+\\beta_pX_p}}$$\n",
    "\n",
    "Below we fit a multiple logistic regression using several of the independent variables in our data set:"
   ]
  },
  {
   "cell_type": "code",
   "execution_count": 2,
   "id": "896a2044",
   "metadata": {},
   "outputs": [
    {
     "data": {
      "text/plain": [
       "\n",
       "Call:\n",
       "glm(formula = subscription ~ duration + campaign + loan + marital, \n",
       "    family = \"binomial\", data = deposit)\n",
       "\n",
       "Deviance Residuals: \n",
       "    Min       1Q   Median       3Q      Max  \n",
       "-3.9111  -0.4469  -0.3560  -0.2684   2.7765  \n",
       "\n",
       "Coefficients:\n",
       "                 Estimate Std. Error z value Pr(>|z|)    \n",
       "(Intercept)    -2.6923460  0.1629547 -16.522  < 2e-16 ***\n",
       "duration        0.0036105  0.0001753  20.594  < 2e-16 ***\n",
       "campaign       -0.0995488  0.0256961  -3.874 0.000107 ***\n",
       "loanyes        -0.8927075  0.1821953  -4.900  9.6e-07 ***\n",
       "maritalmarried -0.3825457  0.1547694  -2.472 0.013447 *  \n",
       "maritalsingle  -0.0539759  0.1668874  -0.323 0.746372    \n",
       "---\n",
       "Signif. codes:  0 '***' 0.001 '**' 0.01 '*' 0.05 '.' 0.1 ' ' 1\n",
       "\n",
       "(Dispersion parameter for binomial family taken to be 1)\n",
       "\n",
       "    Null deviance: 3231  on 4520  degrees of freedom\n",
       "Residual deviance: 2641  on 4515  degrees of freedom\n",
       "AIC: 2653\n",
       "\n",
       "Number of Fisher Scoring iterations: 6\n"
      ]
     },
     "metadata": {},
     "output_type": "display_data"
    }
   ],
   "source": [
    "depositLogMultiple <- glm(subscription ~ duration + campaign + loan + marital, \n",
    "                          data = deposit, family = \"binomial\")\n",
    "summary(depositLogMultiple)"
   ]
  },
  {
   "cell_type": "markdown",
   "id": "478a90ac",
   "metadata": {},
   "source": [
    "We interpret these estimated coefficients as follows:\n",
    "\n",
    "+ On average, a one-unit increase in `duration` corresponds to an *increase* in the probability that the contacted person makes a deposit, assuming all other variables in the model are kept constant.\n",
    "+ On average, a one-unit increase in `campaign` corresponds to a *decrease* in the probability that the contacted person makes a deposit, assuming all other variables in the model are kept constant.\n",
    "+ On average, contacted persons with a personal loan are *less* likely to make a deposit than contacted persons without a personal loan, assuming all other variables in the model are kept constant.\n",
    "+ On average, contacted persons who are married are *less* likely to make a deposit than contacted persons who are divorced, assuming all other variables in the model are kept constant. Note that `marital` can take on three possible values (`divorced`, `married`, and `single`), so `divorced` is our baseline because the model created explicit dummies for the other two categories (`maritalmarried` and `maritalsingle`).\n",
    "+ On average, contacted persons who are single are *less* likely to make a deposit than contacted persons who are divorced, assuming all other variables in the model are kept constant. However, the p-value on this coefficient is quite large, so we cannot conclude that this difference is statistically significant."
   ]
  }
 ],
 "metadata": {
  "jupytext": {
   "cell_metadata_filter": "-all",
   "formats": "md:myst",
   "text_representation": {
    "extension": ".md",
    "format_name": "myst",
    "format_version": 0.13,
    "jupytext_version": "1.11.5"
   }
  },
  "kernelspec": {
   "display_name": "R",
   "language": "R",
   "name": "ir"
  },
  "language_info": {
   "codemirror_mode": "r",
   "file_extension": ".r",
   "mimetype": "text/x-r-source",
   "name": "R",
   "pygments_lexer": "r",
   "version": "3.6.1"
  },
  "source_map": [
   16,
   21,
   31,
   35
  ]
 },
 "nbformat": 4,
 "nbformat_minor": 5
}