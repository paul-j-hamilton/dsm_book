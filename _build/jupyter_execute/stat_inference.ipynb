{
 "cells": [
  {
   "cell_type": "markdown",
   "id": "da9be55a",
   "metadata": {},
   "source": [
    "# Statistical Inference\n",
    "\n",
    "Broadly speaking, the field of statistics allows us to make more informed business decisions by providing tools to analyze data and model uncertainty. In the ideal world, we would make decisions by studying a population of interest and calculating summary statistics over all individuals in that population. However, this is often infeasible due to the time and expense of collecting data on the entire population. Instead, **statistical inference** allows us to draw conclusions based on only a randomly-selected collection of individuals, which is called a **sample**. **Confidence intervals** allow us to make estimates about population quantities using only the sample data. If we have specific hypotheses about the population of interest, **hypothesis testing** allows us to rigorously test the validity of those hypotheses using the sample data."
   ]
  }
 ],
 "metadata": {
  "jupytext": {
   "cell_metadata_filter": "-all",
   "formats": "md:myst",
   "text_representation": {
    "extension": ".md",
    "format_name": "myst",
    "format_version": 0.13,
    "jupytext_version": "1.11.5"
   }
  },
  "kernelspec": {
   "display_name": "R",
   "language": "R",
   "name": "ir"
  },
  "language_info": {
   "codemirror_mode": "r",
   "file_extension": ".r",
   "mimetype": "text/x-r-source",
   "name": "R",
   "pygments_lexer": "r",
   "version": "3.6.1"
  },
  "source_map": [
   14
  ]
 },
 "nbformat": 4,
 "nbformat_minor": 5
}