{
 "cells": [
  {
   "cell_type": "code",
   "execution_count": 1,
   "id": "20c7330a",
   "metadata": {
    "tags": [
     "remove-cell"
    ]
   },
   "outputs": [
    {
     "name": "stderr",
     "output_type": "stream",
     "text": [
      "Registered S3 methods overwritten by 'ggplot2':\n",
      "  method         from \n",
      "  [.quosures     rlang\n",
      "  c.quosures     rlang\n",
      "  print.quosures rlang\n"
     ]
    },
    {
     "name": "stderr",
     "output_type": "stream",
     "text": [
      "Registered S3 method overwritten by 'rvest':\n",
      "  method            from\n",
      "  read_xml.response xml2\n"
     ]
    },
    {
     "name": "stderr",
     "output_type": "stream",
     "text": [
      "-- Attaching packages --------------------------------------- tidyverse 1.2.1 --\n"
     ]
    },
    {
     "name": "stderr",
     "output_type": "stream",
     "text": [
      "v ggplot2 3.1.1       v purrr   0.3.2  \n",
      "v tibble  2.1.1       v dplyr   0.8.0.1\n",
      "v tidyr   0.8.3       v stringr 1.4.0  \n",
      "v readr   1.3.1       v forcats 0.4.0  \n"
     ]
    },
    {
     "name": "stderr",
     "output_type": "stream",
     "text": [
      "-- Conflicts ------------------------------------------ tidyverse_conflicts() --\n",
      "x dplyr::filter() masks stats::filter()\n",
      "x dplyr::lag()    masks stats::lag()\n"
     ]
    },
    {
     "name": "stderr",
     "output_type": "stream",
     "text": [
      "Parsed with column specification:\n",
      "cols(\n",
      "  ID = col_double(),\n",
      "  Name = col_character(),\n",
      "  Gender = col_character(),\n",
      "  Age = col_double(),\n",
      "  Rating = col_double(),\n",
      "  Degree = col_character(),\n",
      "  Start_Date = col_character(),\n",
      "  Retired = col_logical(),\n",
      "  Division = col_character(),\n",
      "  Salary = col_character()\n",
      ")\n"
     ]
    }
   ],
   "source": [
    "library(tidyverse)\n",
    "employees <- read_csv(\"../_build/data/employee_data.csv\")\n",
    "employees$Salary <- parse_number(employees$Salary)\n",
    "employees$Start_Date <- parse_date(employees$Start_Date, format = \"%m/%d/%Y\")\n",
    "degreeLevels <- c(\"High School\", \"Associate's\", \"Bachelor's\", \"Master's\", \"Ph.D\")\n",
    "employees$Degree <- parse_factor(employees$Degree, levels = degreeLevels, ordered = TRUE)"
   ]
  },
  {
   "cell_type": "markdown",
   "id": "655af7fd",
   "metadata": {},
   "source": [
    "# Correlation\n",
    "\n",
    "Relationships between variables are often at the heart of what we'd like to learn from data. For example:\n",
    "\n",
    "+ Do students learn better when they get more sleep?\n",
    "+ How much should a car lease charge per mile used?\n",
    "\n",
    "Questions such as these relate two quantitative variables and ask whether there is an association between them. Scatterplots are the ideal way to picture such associations, but how does one rigorously summarize an association between two variables? To explore this question, we will return to the `employees` data set. As a reminder, this data set has data on 1,000 employees at a software company, including their income, age, gender and job function. Below we show the first few observations of this data."
   ]
  },
  {
   "cell_type": "code",
   "execution_count": 2,
   "id": "5df01175",
   "metadata": {},
   "outputs": [
    {
     "data": {
      "text/html": [
       "<table>\n",
       "<thead><tr><th scope=col>ID</th><th scope=col>Name</th><th scope=col>Gender</th><th scope=col>Age</th><th scope=col>Rating</th><th scope=col>Degree</th><th scope=col>Start_Date</th><th scope=col>Retired</th><th scope=col>Division</th><th scope=col>Salary</th></tr></thead>\n",
       "<tbody>\n",
       "\t<tr><td>6881               </td><td>al-Rahimi, Tayyiba </td><td>Female             </td><td>51                 </td><td>10                 </td><td>High School        </td><td>1990-02-23         </td><td>FALSE              </td><td>Operations         </td><td>108804             </td></tr>\n",
       "\t<tr><td>2671               </td><td>Lewis, Austin      </td><td>Male               </td><td>34                 </td><td> 4                 </td><td>Ph.D               </td><td>2007-02-23         </td><td>FALSE              </td><td>Engineering        </td><td>182343             </td></tr>\n",
       "\t<tr><td>8925               </td><td>el-Jaffer, Manaal  </td><td>Female             </td><td>50                 </td><td>10                 </td><td>Master's           </td><td>1991-02-23         </td><td>FALSE              </td><td>Engineering        </td><td>206770             </td></tr>\n",
       "\t<tr><td>2769               </td><td>Soto, Michael      </td><td>Male               </td><td>52                 </td><td>10                 </td><td>High School        </td><td>1987-02-23         </td><td>FALSE              </td><td>Sales              </td><td>183407             </td></tr>\n",
       "\t<tr><td>2658               </td><td>al-Ebrahimi, Mamoon</td><td>Male               </td><td>55                 </td><td> 8                 </td><td>Ph.D               </td><td>1985-02-23         </td><td>FALSE              </td><td>Corporate          </td><td>236240             </td></tr>\n",
       "\t<tr><td>1933               </td><td>Medina, Brandy     </td><td>Female             </td><td>62                 </td><td> 7                 </td><td>Associate's        </td><td>1979-02-23         </td><td> TRUE              </td><td>Sales              </td><td>    NA             </td></tr>\n",
       "</tbody>\n",
       "</table>\n"
      ],
      "text/latex": [
       "\\begin{tabular}{r|llllllllll}\n",
       " ID & Name & Gender & Age & Rating & Degree & Start\\_Date & Retired & Division & Salary\\\\\n",
       "\\hline\n",
       "\t 6881                & al-Rahimi, Tayyiba  & Female              & 51                  & 10                  & High School         & 1990-02-23          & FALSE               & Operations          & 108804             \\\\\n",
       "\t 2671                & Lewis, Austin       & Male                & 34                  &  4                  & Ph.D                & 2007-02-23          & FALSE               & Engineering         & 182343             \\\\\n",
       "\t 8925                & el-Jaffer, Manaal   & Female              & 50                  & 10                  & Master's            & 1991-02-23          & FALSE               & Engineering         & 206770             \\\\\n",
       "\t 2769                & Soto, Michael       & Male                & 52                  & 10                  & High School         & 1987-02-23          & FALSE               & Sales               & 183407             \\\\\n",
       "\t 2658                & al-Ebrahimi, Mamoon & Male                & 55                  &  8                  & Ph.D                & 1985-02-23          & FALSE               & Corporate           & 236240             \\\\\n",
       "\t 1933                & Medina, Brandy      & Female              & 62                  &  7                  & Associate's         & 1979-02-23          &  TRUE               & Sales               &     NA             \\\\\n",
       "\\end{tabular}\n"
      ],
      "text/markdown": [
       "\n",
       "| ID | Name | Gender | Age | Rating | Degree | Start_Date | Retired | Division | Salary |\n",
       "|---|---|---|---|---|---|---|---|---|---|\n",
       "| 6881                | al-Rahimi, Tayyiba  | Female              | 51                  | 10                  | High School         | 1990-02-23          | FALSE               | Operations          | 108804              |\n",
       "| 2671                | Lewis, Austin       | Male                | 34                  |  4                  | Ph.D                | 2007-02-23          | FALSE               | Engineering         | 182343              |\n",
       "| 8925                | el-Jaffer, Manaal   | Female              | 50                  | 10                  | Master's            | 1991-02-23          | FALSE               | Engineering         | 206770              |\n",
       "| 2769                | Soto, Michael       | Male                | 52                  | 10                  | High School         | 1987-02-23          | FALSE               | Sales               | 183407              |\n",
       "| 2658                | al-Ebrahimi, Mamoon | Male                | 55                  |  8                  | Ph.D                | 1985-02-23          | FALSE               | Corporate           | 236240              |\n",
       "| 1933                | Medina, Brandy      | Female              | 62                  |  7                  | Associate's         | 1979-02-23          |  TRUE               | Sales               |     NA              |\n",
       "\n"
      ],
      "text/plain": [
       "  ID   Name                Gender Age Rating Degree      Start_Date Retired\n",
       "1 6881 al-Rahimi, Tayyiba  Female 51  10     High School 1990-02-23 FALSE  \n",
       "2 2671 Lewis, Austin       Male   34   4     Ph.D        2007-02-23 FALSE  \n",
       "3 8925 el-Jaffer, Manaal   Female 50  10     Master's    1991-02-23 FALSE  \n",
       "4 2769 Soto, Michael       Male   52  10     High School 1987-02-23 FALSE  \n",
       "5 2658 al-Ebrahimi, Mamoon Male   55   8     Ph.D        1985-02-23 FALSE  \n",
       "6 1933 Medina, Brandy      Female 62   7     Associate's 1979-02-23  TRUE  \n",
       "  Division    Salary\n",
       "1 Operations  108804\n",
       "2 Engineering 182343\n",
       "3 Engineering 206770\n",
       "4 Sales       183407\n",
       "5 Corporate   236240\n",
       "6 Sales           NA"
      ]
     },
     "metadata": {},
     "output_type": "display_data"
    }
   ],
   "source": [
    "head(employees)"
   ]
  },
  {
   "cell_type": "markdown",
   "id": "c96af109",
   "metadata": {},
   "source": [
    "Now let's create a scatter plot depicting the relationship between annual income and age in years:"
   ]
  },
  {
   "cell_type": "code",
   "execution_count": 3,
   "id": "e8a04fc9",
   "metadata": {},
   "outputs": [
    {
     "data": {
      "image/png": "[encoded data removed]",
      "text/plain": [
       "Plot with title \"Salary vs Age\""
      ]
     },
     "metadata": {
      "filenames": {
       "image/png": "C:\\Users\\phamilton\\Documents\\dsm\\dsm_book\\_build\\jupyter_execute\\05_linear_regression\\correlation_4_0.png"
      }
     },
     "output_type": "display_data"
    }
   ],
   "source": [
    "plot(employees$Age, employees$Salary, \n",
    "        main=\"Salary vs Age\",\n",
    "        xlab=\"Age\",\n",
    "        ylab=\"Salary\")"
   ]
  },
  {
   "cell_type": "markdown",
   "id": "1da8759e",
   "metadata": {},
   "source": [
    "We might describe this plot as having a \"moderate, positive relationship\" between income and employee age. The strength of this relationship can be summarized by a statistical measure called the **correlation coefficient**, or simply the **correlation**.\n",
    "\n",
    "The correlation, denoted $r$, is a value between -1 and 1 and measures the direction and strength of a linear relationship between two variables. In short, how well would a line fit our observed data? If the correlation is positive, then on average as one variable rises the other variable rises as well. If the correlation is negative, then on average as one variable rises the other variable falls. Keep in mind that correlation is a measure of *linear* relationship. Thus, a correlation of zero means that there is no *linear* relationship between two variables, but there could be a non-linear relationship. For example, in the chart below, $X$ and $Y$ are clearly related, but not in a linear fashion. Indeed, the correlation between $X$ and $Y$ in the graph below is zero.\n",
    "\n",
    "```{figure} ../_build/images/correlation_nonlinear.png\n",
    "---\n",
    "height: 400px\n",
    "align: center\n",
    "name: corr_nonlinear\n",
    "---\n",
    "Correlation of a Non-Linear Relationship\n",
    "```\n",
    "\n",
    "A rough rule of thumb table for how to interpret the correlation in absolute value \\|$r$\\| is as follows:\n",
    "\n",
    "| \\|$r$\\| | Interpretation |\n",
    "| :-: | :-: |\n",
    "| 0 - 0.2 | Very weak |\n",
    "| 0.2 - 0.4 | Weak to moderate |\n",
    "| 0.4 - 0.6 | Medium to substantial |\n",
    "| 0.6-0.8 | Very strong |\n",
    "| 0.8-1.0 | Extremely strong |\n",
    "\n",
    "In R, we can compute correlation using the command `cor()`:\n",
    "\n",
    "```{admonition} Syntax\n",
    "`cor(x, y, use = \"everything\")`\n",
    "+ *Required arguments*\n",
    "  - `x`: A numeric vector that represents the $X$ variable.\n",
    "  - `y`: A numeric vector that represents the $Y$ variable.\n",
    "+ *Optional arguments*\n",
    "  - `use`: If `use` equals `\"everything\"`, all observations are used to calculate the correlation. If `use` equals `\"complete.obs\"`, only the **obs**ervations that **complete** (*i.e.*, that are not missing values for either variable) are used. \n",
    "```\n",
    "\n",
    "For example, we can use `cor()` to calculate the correlation between `Salary` and `Age` in the `employees` data. Note that we set `use=\"complete.obs\"` because `Salary` is missing for some of the observations in the data set."
   ]
  },
  {
   "cell_type": "code",
   "execution_count": 4,
   "id": "1ebfcbc5",
   "metadata": {
    "tags": [
     "remove-output"
    ]
   },
   "outputs": [
    {
     "data": {
      "text/html": [
       "0.563512484947283"
      ],
      "text/latex": [
       "0.563512484947283"
      ],
      "text/markdown": [
       "0.563512484947283"
      ],
      "text/plain": [
       "[1] 0.5635125"
      ]
     },
     "metadata": {},
     "output_type": "display_data"
    }
   ],
   "source": [
    "cor(employees$Age, employees$Salary, use = \"complete.obs\")"
   ]
  },
  {
   "cell_type": "code",
   "execution_count": 5,
   "id": "479b99f9",
   "metadata": {
    "tags": [
     "remove-input"
    ]
   },
   "outputs": [
    {
     "name": "stdout",
     "output_type": "stream",
     "text": [
      "[1] 0.5635125\n"
     ]
    }
   ],
   "source": [
    "print(cor(employees$Age, employees$Salary, use = \"complete.obs\"))"
   ]
  },
  {
   "cell_type": "markdown",
   "id": "d940833d",
   "metadata": {},
   "source": [
    "The R command `cor.test()` returns the correlation between two variables, as well as a 95% confidence interval for the population correlation. It also returns the p-value of a hypothesis where the null and alternative hypotheses are:\n",
    "\n",
    "+ $H_o$: $r = 0$ (the population correlation equals zero)\n",
    "+ $H_a$: $r \\ne 0$ (the population correlation does not equal zero)\n",
    "\n",
    "The `cor.test()` function uses the following syntax:\n",
    "\n",
    "```{admonition} Syntax\n",
    "`cor.test(x, y, alternative = \"two.sided\")`\n",
    "+ *Required arguments*\n",
    "  - `x`: A numeric vector that represents the $X$ variable.\n",
    "  - `y`: A numeric vector that represents the $Y$ variable.\n",
    "+ *Optional arguments*\n",
    "  - `use`: If `alternative` equals `\"two.sided`, the **alternative** hypothesis is $r \\ne 0$. If `alternative` equals `\"less`, the **alternative** hypothesis is $r \\le 0$. If `alternative` equals `\"greater`, the **alternative** hypothesis is $r \\ge 0$.\n",
    "```"
   ]
  },
  {
   "cell_type": "code",
   "execution_count": 6,
   "id": "fe4c3877",
   "metadata": {},
   "outputs": [
    {
     "data": {
      "text/plain": [
       "\n",
       "\tPearson's product-moment correlation\n",
       "\n",
       "data:  employees$Age and employees$Salary\n",
       "t = 20.668, df = 918, p-value < 2.2e-16\n",
       "alternative hypothesis: true correlation is not equal to 0\n",
       "95 percent confidence interval:\n",
       " 0.5177359 0.6060718\n",
       "sample estimates:\n",
       "      cor \n",
       "0.5635125 \n"
      ]
     },
     "metadata": {},
     "output_type": "display_data"
    }
   ],
   "source": [
    "cor.test(employees$Age, employees$Salary)"
   ]
  },
  {
   "cell_type": "markdown",
   "id": "8dee0b90",
   "metadata": {},
   "source": [
    "One must remember that the correlation shown in the output (0.56) is a **point estimate** based on our sample data and should *not* be interpreted as the true correlation between the variables in the full population. If we were to draw a different sample, the resulting estimate would almost certainly be different. Although we cannot calculate the true correlation from the sample data, we can calculate a range of values (called a **confidence interval**) where we believe it is very likely the true population correlation lies. For example, based on the output above, we are 95% confident that the true population correlation lies between 0.52 and 0.61.\n",
    "\n",
    "The result also tells us that the correlation coefficient is statistically significant at the 95% level because (1) the p value is less than 0.05 and (2) the 95% confidence interval does not contain zero. These are equivalent tests: the p value is less than 0.05 if, and only if, the 95% confidence interval does not contain zero.\n",
    "\n",
    "## Correlation is Not Causation\n",
    "\n",
    "Although the correlation coefficient measures the strength of a linear relationship between two variables, it provides no information about cause or effect. A high correlation may imply that two variables move in tandem, but it does *not* imply that one causes the other. For example, there is a high correlation between the number of fire fighters at a fire and the dollar amount of the resulting damage. However, this does *not* mean that fire fighters cause damage. In this case there is a third variable (called a **confounding variable**) - the size of the fire. The confounding variable is causally related to the other two variables; a larger fire causes more damage, *and* causes more fire fighters to show up. One must always consider whether an observed correlation can be explained by a confounding variable.\n",
    "\n",
    "```{warning}\n",
    "Correlation does not imply causation.\n",
    "```\n",
    "\n",
    "## The Correlation Matrix\n",
    "\n",
    "If we have several variables, we can create a **correlation matrix**, which lists the correlations between each pair of variables. As an example, the following R code will create a correlation matrix between the `Age`, `Rating`, and `Salary` variables in the `employees` data. Note that this is the same `cor()` command that we saw above; instead of passing in two numeric vectors `x` and `y`, we can pass in a data frame and `cor()` will calculate the correlation between all of the variables in the data frame."
   ]
  },
  {
   "cell_type": "code",
   "execution_count": 7,
   "id": "ff7bd4ba",
   "metadata": {},
   "outputs": [
    {
     "data": {
      "text/html": [
       "<table>\n",
       "<thead><tr><th></th><th scope=col>Age</th><th scope=col>Rating</th><th scope=col>Salary</th></tr></thead>\n",
       "<tbody>\n",
       "\t<tr><th scope=row>Age</th><td>1.00000000</td><td>0.06199581</td><td>0.5635125 </td></tr>\n",
       "\t<tr><th scope=row>Rating</th><td>0.06199581</td><td>1.00000000</td><td>0.3064684 </td></tr>\n",
       "\t<tr><th scope=row>Salary</th><td>0.56351248</td><td>0.30646840</td><td>1.0000000 </td></tr>\n",
       "</tbody>\n",
       "</table>\n"
      ],
      "text/latex": [
       "\\begin{tabular}{r|lll}\n",
       "  & Age & Rating & Salary\\\\\n",
       "\\hline\n",
       "\tAge & 1.00000000 & 0.06199581 & 0.5635125 \\\\\n",
       "\tRating & 0.06199581 & 1.00000000 & 0.3064684 \\\\\n",
       "\tSalary & 0.56351248 & 0.30646840 & 1.0000000 \\\\\n",
       "\\end{tabular}\n"
      ],
      "text/markdown": [
       "\n",
       "| <!--/--> | Age | Rating | Salary |\n",
       "|---|---|---|---|\n",
       "| Age | 1.00000000 | 0.06199581 | 0.5635125  |\n",
       "| Rating | 0.06199581 | 1.00000000 | 0.3064684  |\n",
       "| Salary | 0.56351248 | 0.30646840 | 1.0000000  |\n",
       "\n"
      ],
      "text/plain": [
       "       Age        Rating     Salary   \n",
       "Age    1.00000000 0.06199581 0.5635125\n",
       "Rating 0.06199581 1.00000000 0.3064684\n",
       "Salary 0.56351248 0.30646840 1.0000000"
      ]
     },
     "metadata": {},
     "output_type": "display_data"
    }
   ],
   "source": [
    "cor(employees[,c(\"Age\", \"Rating\", \"Salary\")], use = \"complete.obs\")"
   ]
  },
  {
   "cell_type": "markdown",
   "id": "f2349597",
   "metadata": {},
   "source": [
    "From the results, we learn, for example, that the correlation between `Salary` and `Rating` is 0.3065. The matrix is symmetric, meaning that the correlation of `Salary` and `Rating` is the same as the correlation of `Rating` and `Salary`. The diagonal of this matrix is all ones, indicating that the correlation of a variable with itself is one."
   ]
  }
 ],
 "metadata": {
  "jupytext": {
   "cell_metadata_filter": "-all",
   "formats": "md:myst",
   "text_representation": {
    "extension": ".md",
    "format_name": "myst",
    "format_version": 0.13,
    "jupytext_version": "1.11.5"
   }
  },
  "kernelspec": {
   "display_name": "R",
   "language": "R",
   "name": "ir"
  },
  "language_info": {
   "codemirror_mode": "r",
   "file_extension": ".r",
   "mimetype": "text/x-r-source",
   "name": "R",
   "pygments_lexer": "r",
   "version": "3.6.1"
  },
  "source_map": [
   16,
   24,
   35,
   37,
   41,
   46,
   84,
   89,
   92,
   110,
   112,
   130,
   132
  ]
 },
 "nbformat": 4,
 "nbformat_minor": 5
}