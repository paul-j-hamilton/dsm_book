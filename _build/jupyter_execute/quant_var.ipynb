{
 "cells": [
  {
   "cell_type": "code",
   "execution_count": 1,
   "id": "ed48bb3a",
   "metadata": {
    "tags": [
     "remove-cell"
    ]
   },
   "outputs": [
    {
     "name": "stderr",
     "output_type": "stream",
     "text": [
      "Registered S3 methods overwritten by 'ggplot2':\n",
      "  method         from \n",
      "  [.quosures     rlang\n",
      "  c.quosures     rlang\n",
      "  print.quosures rlang\n"
     ]
    },
    {
     "name": "stderr",
     "output_type": "stream",
     "text": [
      "Registered S3 method overwritten by 'rvest':\n",
      "  method            from\n",
      "  read_xml.response xml2\n"
     ]
    },
    {
     "name": "stderr",
     "output_type": "stream",
     "text": [
      "-- Attaching packages --------------------------------------- tidyverse 1.2.1 --\n"
     ]
    },
    {
     "name": "stderr",
     "output_type": "stream",
     "text": [
      "v ggplot2 3.1.1       v purrr   0.3.2  \n",
      "v tibble  2.1.1       v dplyr   0.8.0.1\n",
      "v tidyr   0.8.3       v stringr 1.4.0  \n",
      "v readr   1.3.1       v forcats 0.4.0  \n"
     ]
    },
    {
     "name": "stderr",
     "output_type": "stream",
     "text": [
      "-- Conflicts ------------------------------------------ tidyverse_conflicts() --\n",
      "x dplyr::filter() masks stats::filter()\n",
      "x dplyr::lag()    masks stats::lag()\n"
     ]
    },
    {
     "name": "stderr",
     "output_type": "stream",
     "text": [
      "Parsed with column specification:\n",
      "cols(\n",
      "  ID = col_double(),\n",
      "  Name = col_character(),\n",
      "  Gender = col_character(),\n",
      "  Age = col_double(),\n",
      "  Rating = col_double(),\n",
      "  Degree = col_character(),\n",
      "  Start_Date = col_character(),\n",
      "  Retired = col_logical(),\n",
      "  Division = col_character(),\n",
      "  Salary = col_character()\n",
      ")\n"
     ]
    }
   ],
   "source": [
    "library(tidyverse)\n",
    "employees <- read_csv(\"_build/data/employee_data.csv\")\n",
    "employees$Salary <- parse_number(employees$Salary)\n",
    "employees$Start_Date <- parse_date(employees$Start_Date, format = \"%m/%d/%Y\")"
   ]
  },
  {
   "cell_type": "markdown",
   "id": "897d8131",
   "metadata": {},
   "source": [
    "# Quantitative Variables\n",
    "\n",
    "As we explore a data set, it is often useful to calculate summary statistics that provide a preliminary overview of the variables we are working with. There are two main types of quantitative variables, continuous and discrete. A **continuous** variable is one that can take on any value within a certain numerical range. For example, in the `employees` data set `Salary` is continuous because it can take on any value above \\$0. A **discrete** variable can take on only a discrete set of values (*e.g.*, 2,4,6,8). \n",
    "The most basic summary statistics for quantitative variables are measures of **central tendency**, such as:\n",
    "\n",
    "+ The **mode** - the most frequent value in the data.\n",
    "\n",
    "+ The **mean** - the average value, defined as the sum of all observations divided by the total number of observations. In mathematical notation, we would write this as: \n",
    "\n",
    "$$\\bar{x} = \\frac{1}{n} \\sum^{n}_{i=1}{x_i}$$\n",
    "\n",
    "  Conventionally, we have a data set with $n$ observations, and $x_i$ represents the value of the $i^{th}$ observation in that data set. In the formula above, the expression $\\sum^{n}_{i=1}{x_i}$ means \"the sum of the $n$ values of $x$ in the data set.\" To get the mean ($\\bar{x}$), we divide that total by $n$.\n",
    "\n",
    "  As we've seen before, we can calculate the mean in R with the `mean()` function."
   ]
  },
  {
   "cell_type": "code",
   "execution_count": 2,
   "id": "5f25bafa",
   "metadata": {
    "tags": [
     "remove-output"
    ]
   },
   "outputs": [
    {
     "data": {
      "text/html": [
       "156485.988043478"
      ],
      "text/latex": [
       "156485.988043478"
      ],
      "text/markdown": [
       "156485.988043478"
      ],
      "text/plain": [
       "[1] 156486"
      ]
     },
     "metadata": {},
     "output_type": "display_data"
    }
   ],
   "source": [
    "mean(employees$Salary, na.rm = TRUE)"
   ]
  },
  {
   "cell_type": "code",
   "execution_count": 3,
   "id": "72c29c6f",
   "metadata": {
    "tags": [
     "remove-input"
    ]
   },
   "outputs": [
    {
     "name": "stdout",
     "output_type": "stream",
     "text": [
      "[1] 156486\n"
     ]
    }
   ],
   "source": [
    "print(mean(employees$Salary, na.rm = TRUE))"
   ]
  },
  {
   "cell_type": "markdown",
   "id": "28df4315",
   "metadata": {},
   "source": [
    "+ The **median** & **quartiles** - when the data is sorted:\n",
    "  + The median is the middle value (*i.e.*, the 50th percentile, also called the second quartile),\n",
    "  + The first quartile is the 25th percentile, and \n",
    "  + The third quartile is the 75th percentile.\n",
    "  \n",
    "  We can calculate the median in R withinh the `median()` function.\n",
    "  \n",
    "```{admonition} Syntax\n",
    "`median(x, na.rm = FALSE)`\n",
    "+ *Required arguments*\n",
    "  - `x`: The atomic vector whose values one would like to find the median of.\n",
    "+ *Optional arguments*\n",
    "  - `na.rm`: If `TRUE`, the function will **r**e**m**ove any missing values (`NA`s) in the atomic vector and find the median of the non-missing values. If `FALSE`, the function does *not* remove `NA`s and will return a value of `NA` if there is an `NA` in the atomic vector.\n",
    "```"
   ]
  },
  {
   "cell_type": "code",
   "execution_count": 4,
   "id": "ae5d2fbd",
   "metadata": {
    "tags": [
     "remove-output"
    ]
   },
   "outputs": [
    {
     "data": {
      "text/html": [
       "156289.5"
      ],
      "text/latex": [
       "156289.5"
      ],
      "text/markdown": [
       "156289.5"
      ],
      "text/plain": [
       "[1] 156289.5"
      ]
     },
     "metadata": {},
     "output_type": "display_data"
    }
   ],
   "source": [
    "median(employees$Salary, na.rm = TRUE)"
   ]
  },
  {
   "cell_type": "code",
   "execution_count": 5,
   "id": "51935101",
   "metadata": {
    "tags": [
     "remove-input"
    ]
   },
   "outputs": [
    {
     "name": "stdout",
     "output_type": "stream",
     "text": [
      "[1] 156289.5\n"
     ]
    }
   ],
   "source": [
    "print(median(employees$Salary, na.rm = TRUE))"
   ]
  },
  {
   "cell_type": "markdown",
   "id": "a1bb3880",
   "metadata": {},
   "source": [
    "  We can calculate the first and third quartiles with `quantile()`.\n",
    "\n",
    "```{admonition} Syntax\n",
    "`quantile(x, probs = c(0, 0.25, 0.5, 0.75, 1), na.rm = FALSE)`\n",
    "+ *Required arguments*\n",
    "  - `x`: The atomic vector of values where we would like to find the quantiles.\n",
    "+ *Optional arguments*\n",
    "  - `probs`: An atomic vector with the percentiles (between 0 and 1) we would like to calculate.\n",
    "  - `na.rm`: If `TRUE`, the function will **r**e**m**ove any missing values (`NA`s) in the atomic vector and find the percentiles of the non-missing values. If `FALSE`, the function does *not* remove `NA`s and will return a value of `NA` if there is an `NA` in the atomic vector.\n",
    "```"
   ]
  },
  {
   "cell_type": "code",
   "execution_count": 6,
   "id": "32e04f6f",
   "metadata": {
    "tags": [
     "remove-output"
    ]
   },
   "outputs": [
    {
     "data": {
      "text/html": [
       "<dl class=dl-horizontal>\n",
       "\t<dt>0%</dt>\n",
       "\t\t<dd>29825</dd>\n",
       "\t<dt>25%</dt>\n",
       "\t\t<dd>129693.75</dd>\n",
       "\t<dt>50%</dt>\n",
       "\t\t<dd>156289.5</dd>\n",
       "\t<dt>75%</dt>\n",
       "\t\t<dd>184742.25</dd>\n",
       "\t<dt>100%</dt>\n",
       "\t\t<dd>266235</dd>\n",
       "</dl>\n"
      ],
      "text/latex": [
       "\\begin{description*}\n",
       "\\item[0\\textbackslash{}\\%] 29825\n",
       "\\item[25\\textbackslash{}\\%] 129693.75\n",
       "\\item[50\\textbackslash{}\\%] 156289.5\n",
       "\\item[75\\textbackslash{}\\%] 184742.25\n",
       "\\item[100\\textbackslash{}\\%] 266235\n",
       "\\end{description*}\n"
      ],
      "text/markdown": [
       "0%\n",
       ":   2982525%\n",
       ":   129693.7550%\n",
       ":   156289.575%\n",
       ":   184742.25100%\n",
       ":   266235\n",
       "\n"
      ],
      "text/plain": [
       "      0%      25%      50%      75%     100% \n",
       " 29825.0 129693.8 156289.5 184742.2 266235.0 "
      ]
     },
     "metadata": {},
     "output_type": "display_data"
    }
   ],
   "source": [
    "quantile(employees$Salary, na.rm = TRUE)"
   ]
  },
  {
   "cell_type": "code",
   "execution_count": 7,
   "id": "1363ffef",
   "metadata": {
    "tags": [
     "remove-input"
    ]
   },
   "outputs": [
    {
     "name": "stdout",
     "output_type": "stream",
     "text": [
      "      0%      25%      50%      75%     100% \n",
      " 29825.0 129693.8 156289.5 184742.2 266235.0 \n"
     ]
    }
   ],
   "source": [
    "print(quantile(employees$Salary, na.rm = TRUE))"
   ]
  },
  {
   "cell_type": "markdown",
   "id": "2b34bcc2",
   "metadata": {},
   "source": [
    "In addition to measures of central tendency, we often also want to measure the dispersion, or spread, of a data set. We can do that with the following measures:\n",
    "\n",
    "+ The **interquartile range (IQR)** - the difference between the first quartile (*i.e.*, the 25th percentile) and the third quartile (*i.e.*, the 75th percentile).\n",
    "\n",
    "+ The **standard deviation** & **variance** - variance and standard deviation are both measures of the spread of a data set. The minimum value of both measures is zero (which indicates no variation in the data), and the higher the values the more spread out the data are. The variance is calculated in squared units, while the standard deviation is recorded in the base units.\n",
    "  + Formally, the variance of a data set is written as:\n",
    "\n",
    "\n",
    "  $$s^2 = \\frac{1}{n - 1}\\sum^{n}_{i=1}{(x_i - \\bar{x})^2}$$\n",
    "\n",
    "  + Although variance is an important concept in statistics, it does not provide a very intuitive understanding of the spread of a data set, because it is in squared units. Instead we more commonly look at the standard deviation, which is the square root of the variance.\n",
    "  + Formally, the standard deviation of a data set is written as:\n",
    "\n",
    "\n",
    "  $$s = \\sqrt{\\frac{1}{n - 1}\\sum^{n}_{i=1}{(x_i - \\bar{x})^2}}$$\n",
    "\n",
    "  This can be thought of as roughly the average distance observations in the data set fall from the mean.\n",
    "\n",
    "  We can calculate standard deviation and variance with the `sd()` and `var()` functions, respectively.\n",
    "\n",
    "```{admonition} Syntax\n",
    "`sd(vectorName, na.rm = FALSE)` & `var(vectorName, na.rm = FALSE)`\n",
    "+ *Required arguments*\n",
    "  - The atomic vector whose values one would like to find the standard deviation/variance of.\n",
    "+ *Optional arguments*\n",
    "  - `na.rm`: If `TRUE`, the function will **r**e**m**ove any missing values (`NA`s) in the atomic vector and find the standard deviation/variance of the non-missing values. If `FALSE`, the function does *not* remove `NA`s and will return a value of `NA` if there is an `NA` in the atomic vector.\n",
    "```"
   ]
  },
  {
   "cell_type": "code",
   "execution_count": 8,
   "id": "d6c85ddc",
   "metadata": {
    "tags": [
     "remove-output"
    ]
   },
   "outputs": [
    {
     "data": {
      "text/html": [
       "39479.8363616329"
      ],
      "text/latex": [
       "39479.8363616329"
      ],
      "text/markdown": [
       "39479.8363616329"
      ],
      "text/plain": [
       "[1] 39479.84"
      ]
     },
     "metadata": {},
     "output_type": "display_data"
    },
    {
     "data": {
      "text/html": [
       "1558657479.14131"
      ],
      "text/latex": [
       "1558657479.14131"
      ],
      "text/markdown": [
       "1558657479.14131"
      ],
      "text/plain": [
       "[1] 1558657479"
      ]
     },
     "metadata": {},
     "output_type": "display_data"
    }
   ],
   "source": [
    "sd(employees$Salary, na.rm = TRUE)\n",
    "var(employees$Salary, na.rm = TRUE)"
   ]
  },
  {
   "cell_type": "code",
   "execution_count": 9,
   "id": "bbc9c34b",
   "metadata": {
    "tags": [
     "remove-input"
    ]
   },
   "outputs": [
    {
     "name": "stdout",
     "output_type": "stream",
     "text": [
      "[1] 39479.84\n"
     ]
    },
    {
     "name": "stdout",
     "output_type": "stream",
     "text": [
      "[1] 1558657479\n"
     ]
    }
   ],
   "source": [
    "print(sd(employees$Salary, na.rm = TRUE))\n",
    "print(var(employees$Salary, na.rm = TRUE))"
   ]
  }
 ],
 "metadata": {
  "jupytext": {
   "formats": "md:myst",
   "text_representation": {
    "extension": ".md",
    "format_name": "myst"
   }
  },
  "kernelspec": {
   "display_name": "R",
   "language": "R",
   "name": "ir"
  },
  "language_info": {
   "codemirror_mode": "r",
   "file_extension": ".r",
   "mimetype": "text/x-r-source",
   "name": "R",
   "pygments_lexer": "r",
   "version": "3.6.1"
  },
  "source_map": [
   13,
   19,
   36,
   41,
   44,
   61,
   66,
   69,
   82,
   87,
   90,
   120,
   126
  ]
 },
 "nbformat": 4,
 "nbformat_minor": 5
}