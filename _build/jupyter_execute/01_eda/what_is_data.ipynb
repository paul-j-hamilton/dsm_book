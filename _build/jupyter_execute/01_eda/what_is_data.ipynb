{
 "cells": [
  {
   "cell_type": "code",
   "execution_count": 1,
   "id": "626ac918",
   "metadata": {
    "tags": [
     "remove-cell"
    ]
   },
   "outputs": [
    {
     "name": "stderr",
     "output_type": "stream",
     "text": [
      "Registered S3 methods overwritten by 'ggplot2':\n",
      "  method         from \n",
      "  [.quosures     rlang\n",
      "  c.quosures     rlang\n",
      "  print.quosures rlang\n"
     ]
    },
    {
     "name": "stderr",
     "output_type": "stream",
     "text": [
      "Registered S3 method overwritten by 'rvest':\n",
      "  method            from\n",
      "  read_xml.response xml2\n"
     ]
    },
    {
     "name": "stderr",
     "output_type": "stream",
     "text": [
      "-- Attaching packages --------------------------------------- tidyverse 1.2.1 --\n"
     ]
    },
    {
     "name": "stderr",
     "output_type": "stream",
     "text": [
      "v ggplot2 3.1.1       v purrr   0.3.2  \n",
      "v tibble  2.1.1       v dplyr   0.8.0.1\n",
      "v tidyr   0.8.3       v stringr 1.4.0  \n",
      "v readr   1.3.1       v forcats 0.4.0  \n"
     ]
    },
    {
     "name": "stderr",
     "output_type": "stream",
     "text": [
      "-- Conflicts ------------------------------------------ tidyverse_conflicts() --\n",
      "x dplyr::filter() masks stats::filter()\n",
      "x dplyr::lag()    masks stats::lag()\n"
     ]
    },
    {
     "name": "stderr",
     "output_type": "stream",
     "text": [
      "Parsed with column specification:\n",
      "cols(\n",
      "  ID = col_double(),\n",
      "  Name = col_character(),\n",
      "  Gender = col_character(),\n",
      "  Age = col_double(),\n",
      "  Rating = col_double(),\n",
      "  Degree = col_character(),\n",
      "  Start_Date = col_character(),\n",
      "  Retired = col_logical(),\n",
      "  Division = col_character(),\n",
      "  Salary = col_character()\n",
      ")\n"
     ]
    }
   ],
   "source": [
    "library(tidyverse)\n",
    "employees <- read_csv(\"../_build/data/employee_data.csv\")\n",
    "employees$Salary <- parse_number(employees$Salary)\n",
    "employees$Start_Date <- parse_date(employees$Start_Date, format = \"%m/%d/%Y\")"
   ]
  },
  {
   "cell_type": "markdown",
   "id": "4d3e64cf",
   "metadata": {},
   "source": [
    "# What Is Data?\n",
    "\n",
    "In this note, we define data as any recorded information. In our application, data is used to inform business decisions. All of the following are examples of data that a company might collect:\n",
    "+ Customer purchasing behavoirs;\n",
    "+ The demographic characteristics of customers;\n",
    "+ Quarterly sales figures;\n",
    "+ Tweets describing customers' experiences with a given product;\n",
    "+ Real-time information on the heart rate of customers wearing a smart device. \n",
    "\n",
    "The term “data” is constantly evolving and expanding; data can be anything from spreadsheets to videos and images to audio files! Nevertheless, we classify data into two main types: structured and unstructured data. **Structured data** refers to information that is stored in a consistent, well-defined format such that it can be analyzed without extensive processing.  A basic example of structured data is an Excel file that recorded the weekly sales of widgets over several years. Conversely, **unstructured data** does not follow a consistent format and is stored in a way that makes it difficult to analyze without extensive processing. For example, image data, such as pictures of the lines at different registers in a grocery store throughout the day, is typically considered unstructured data. In general, structured data is much more useful for the applications covered in this note. Additionally, unstructured data can often be represented as structured data; in the previous example, we do not care about the pictures themselves so much as the waiting times of customers in the grocery store lines, which could be represented as a structured data set. Therefore, this note will focus on structured data.\n",
    "\n",
    "The most basic form of structured data is tabular data, which is characterized by rows and columns. You are already familiar with tabular data if you have ever worked with an Excel spreadsheet. For example, in the figure below, we have a data set with information on 1,000 employees from a software company. For convenience, we only display the first few rows of the data. By convention, the observations (*i.e.*, the employees) form the rows of the data set, and the variables (*i.e.*, the characteristics of the employees we are measuring) form the columns. The dimensions of the data set are typically written as $n x m$ (read as \"n-by-m\"), where $n$ is the number of observations (or rows) and $m$ is the number of variables (or columns)."
   ]
  },
  {
   "cell_type": "code",
   "execution_count": 2,
   "id": "8d59297c",
   "metadata": {
    "tags": [
     "remove-input"
    ]
   },
   "outputs": [
    {
     "data": {
      "text/html": [
       "<table>\n",
       "<thead><tr><th scope=col>ID</th><th scope=col>Name</th><th scope=col>Gender</th><th scope=col>Age</th><th scope=col>Rating</th><th scope=col>Degree</th><th scope=col>Start_Date</th><th scope=col>Retired</th><th scope=col>Division</th><th scope=col>Salary</th></tr></thead>\n",
       "<tbody>\n",
       "\t<tr><td>6881               </td><td>al-Rahimi, Tayyiba </td><td>Female             </td><td>51                 </td><td>10                 </td><td>High School        </td><td>1990-02-23         </td><td>FALSE              </td><td>Operations         </td><td>108804             </td></tr>\n",
       "\t<tr><td>2671               </td><td>Lewis, Austin      </td><td>Male               </td><td>34                 </td><td> 4                 </td><td>Ph.D               </td><td>2007-02-23         </td><td>FALSE              </td><td>Engineering        </td><td>182343             </td></tr>\n",
       "\t<tr><td>8925               </td><td>el-Jaffer, Manaal  </td><td>Female             </td><td>50                 </td><td>10                 </td><td>Master's           </td><td>1991-02-23         </td><td>FALSE              </td><td>Engineering        </td><td>206770             </td></tr>\n",
       "\t<tr><td>2769               </td><td>Soto, Michael      </td><td>Male               </td><td>52                 </td><td>10                 </td><td>High School        </td><td>1987-02-23         </td><td>FALSE              </td><td>Sales              </td><td>183407             </td></tr>\n",
       "\t<tr><td>2658               </td><td>al-Ebrahimi, Mamoon</td><td>Male               </td><td>55                 </td><td> 8                 </td><td>Ph.D               </td><td>1985-02-23         </td><td>FALSE              </td><td>Corporate          </td><td>236240             </td></tr>\n",
       "\t<tr><td>1933               </td><td>Medina, Brandy     </td><td>Female             </td><td>62                 </td><td> 7                 </td><td>Associate's        </td><td>1979-02-23         </td><td> TRUE              </td><td>Sales              </td><td>    NA             </td></tr>\n",
       "</tbody>\n",
       "</table>\n"
      ],
      "text/latex": [
       "\\begin{tabular}{r|llllllllll}\n",
       " ID & Name & Gender & Age & Rating & Degree & Start\\_Date & Retired & Division & Salary\\\\\n",
       "\\hline\n",
       "\t 6881                & al-Rahimi, Tayyiba  & Female              & 51                  & 10                  & High School         & 1990-02-23          & FALSE               & Operations          & 108804             \\\\\n",
       "\t 2671                & Lewis, Austin       & Male                & 34                  &  4                  & Ph.D                & 2007-02-23          & FALSE               & Engineering         & 182343             \\\\\n",
       "\t 8925                & el-Jaffer, Manaal   & Female              & 50                  & 10                  & Master's            & 1991-02-23          & FALSE               & Engineering         & 206770             \\\\\n",
       "\t 2769                & Soto, Michael       & Male                & 52                  & 10                  & High School         & 1987-02-23          & FALSE               & Sales               & 183407             \\\\\n",
       "\t 2658                & al-Ebrahimi, Mamoon & Male                & 55                  &  8                  & Ph.D                & 1985-02-23          & FALSE               & Corporate           & 236240             \\\\\n",
       "\t 1933                & Medina, Brandy      & Female              & 62                  &  7                  & Associate's         & 1979-02-23          &  TRUE               & Sales               &     NA             \\\\\n",
       "\\end{tabular}\n"
      ],
      "text/markdown": [
       "\n",
       "| ID | Name | Gender | Age | Rating | Degree | Start_Date | Retired | Division | Salary |\n",
       "|---|---|---|---|---|---|---|---|---|---|\n",
       "| 6881                | al-Rahimi, Tayyiba  | Female              | 51                  | 10                  | High School         | 1990-02-23          | FALSE               | Operations          | 108804              |\n",
       "| 2671                | Lewis, Austin       | Male                | 34                  |  4                  | Ph.D                | 2007-02-23          | FALSE               | Engineering         | 182343              |\n",
       "| 8925                | el-Jaffer, Manaal   | Female              | 50                  | 10                  | Master's            | 1991-02-23          | FALSE               | Engineering         | 206770              |\n",
       "| 2769                | Soto, Michael       | Male                | 52                  | 10                  | High School         | 1987-02-23          | FALSE               | Sales               | 183407              |\n",
       "| 2658                | al-Ebrahimi, Mamoon | Male                | 55                  |  8                  | Ph.D                | 1985-02-23          | FALSE               | Corporate           | 236240              |\n",
       "| 1933                | Medina, Brandy      | Female              | 62                  |  7                  | Associate's         | 1979-02-23          |  TRUE               | Sales               |     NA              |\n",
       "\n"
      ],
      "text/plain": [
       "  ID   Name                Gender Age Rating Degree      Start_Date Retired\n",
       "1 6881 al-Rahimi, Tayyiba  Female 51  10     High School 1990-02-23 FALSE  \n",
       "2 2671 Lewis, Austin       Male   34   4     Ph.D        2007-02-23 FALSE  \n",
       "3 8925 el-Jaffer, Manaal   Female 50  10     Master's    1991-02-23 FALSE  \n",
       "4 2769 Soto, Michael       Male   52  10     High School 1987-02-23 FALSE  \n",
       "5 2658 al-Ebrahimi, Mamoon Male   55   8     Ph.D        1985-02-23 FALSE  \n",
       "6 1933 Medina, Brandy      Female 62   7     Associate's 1979-02-23  TRUE  \n",
       "  Division    Salary\n",
       "1 Operations  108804\n",
       "2 Engineering 182343\n",
       "3 Engineering 206770\n",
       "4 Sales       183407\n",
       "5 Corporate   236240\n",
       "6 Sales           NA"
      ]
     },
     "metadata": {},
     "output_type": "display_data"
    }
   ],
   "source": [
    "head(employees)"
   ]
  },
  {
   "cell_type": "markdown",
   "id": "d9d3a28e",
   "metadata": {},
   "source": [
    "This example illustrates the different types of information storable in a tabular data set. For instance, some of the columns, such as `Degree` and `Division`, take on a fixed, discrete set of values. These types of variables are known as **categorical variables**. The `Retired` variable is also a categorical variable, but since it takes on precisely two values (`TRUE` and `FALSE`) it's often called a **binary** (or **boolean**) **variable**. On the other hand, the `Salary` column is a **quantitative variable** because it is measured numerically and takes on many values. Finally, notice that some of the cells in the above table are `NA`; these are referred to as **missing data** and will be discussed further below.\n",
    "\n",
    "Directly examining the data set is an important start, but typically, we can gain additional insights by summarizing the data. The methods used to summarize data depend on whether the variable is categorical or quantitative; therefore, each section is divided into a subsection for quantitative and categorical variables for the remainder of this note. \n",
    "\n",
    "## Data Lineage\n",
    "\n",
    "Before analyzing the data, it is vital to understand how the data were generated and collected.  Collectively, we call this information the lineage of the data. This is key for understanding how the data can be used, what limitations the data might have, and what methods of analysis are appropriate. Keeping track of a data set’s lineage is a collaborative effort between managers, data scientists, business analysts, etc., and requires good documentation and organization practices. \n",
    "\n",
    "### Data Generating Process\n",
    "\n",
    "Data lineage begins with an understanding of the **data generating process (DGP)**, which is the fundamental mechanism by which the data were produced. Often, it is impossible to precisely know the exact DGP that generated our data, so we make approximations and assumptions about the data which must be well documented and understood by all stakeholders. \n",
    "\n",
    "### Data Collection\n",
    "\n",
    "#### Why were the data collected?\n",
    "\n",
    "#### Who collected the data, and who do the data represent?\n",
    "\n",
    "#### Where are the data stored? \n",
    "\n",
    "#### When were the data collected?\n",
    "\n",
    "## Missing Data\n",
    "\n",
    "Most modern data sets are likely to have missing values. Good data practice requires that missing values are indicated in a unique way, such as with a symbol like `NA` or a null entry. Using a numeric value such as -1 or 99 to indicate missing values can be dangerous and is not encouraged.\n",
    "\n",
    "To determine the best strategy for handling missing values, we need to understand how the missing values were created. Typically, this requires examining the pattern that the missing data forms. If there are no discernable patterns, we say that the missing data are missing completely at random (MCAR). For example, imagine that the entire data set was printed on a large sheet of paper with no missing values, then someone accidentally dropped random spots of ink on the paper so that some values were hidden. If the data are MCAR, a complete case analysis (where rows with missing data are ignored) will produce valid results. On the other hand, if there are patterns in the missing data, we need to apply more advanced statistical techniques that are not covered in this course. An example of a pattern would be seeing that taller people failed to report their weight at a higher rate."
   ]
  }
 ],
 "metadata": {
  "jupytext": {
   "formats": "md:myst",
   "text_representation": {
    "extension": ".md",
    "format_name": "myst"
   }
  },
  "kernelspec": {
   "display_name": "R",
   "language": "R",
   "name": "ir"
  },
  "language_info": {
   "codemirror_mode": "r",
   "file_extension": ".r",
   "mimetype": "text/x-r-source",
   "name": "R",
   "pygments_lexer": "r",
   "version": "3.6.1"
  },
  "source_map": [
   13,
   19,
   34,
   37
  ]
 },
 "nbformat": 4,
 "nbformat_minor": 5
}