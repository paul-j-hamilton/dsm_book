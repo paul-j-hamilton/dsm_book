{
 "cells": [
  {
   "cell_type": "code",
   "execution_count": 1,
   "id": "19f9f1f2",
   "metadata": {
    "tags": [
     "remove-cell"
    ]
   },
   "outputs": [],
   "source": [
    "myFirstTextVar <- \"I love DSM!\""
   ]
  },
  {
   "cell_type": "markdown",
   "id": "62937208",
   "metadata": {},
   "source": [
    "# Data Types\n",
    "\n",
    "You are likely framiliar with the window below from Excel, which shows the format of a cell (or group of cells). The proper choice of format depends on the type of data contained in the cell. For example, a column containing customers’ names should be formatted as *General* or *Text*; a column with the transaction dates of customer orders should be formatted as *Date*; a column with sales prices should be formatted as *Currency* or *Accounting*.\n",
    "\n",
    "```{figure} ../images/Excel_Formats.png\n",
    "---\n",
    "height: 400px\n",
    "name: excel2\n",
    "---\n",
    "Data Formats in Excel\n",
    "```\n",
    "\n",
    "Just like Excel, R has several **data types** that specify the type of data you are working with. We can see the data type of a variable by applying the `class()` function (we'll learn more about functions in an upcoming section). For example, if we apply `class()` to our variable `myFirstTextVar`, we see it is a `character`, which means that it stores text. Note that we did not need to explicitly tell R which class `myFirstTextVar` should belong to - because we were storing text in `myFirstTextVar`, R automatically knew to create a `character` object."
   ]
  },
  {
   "cell_type": "code",
   "execution_count": 2,
   "id": "55663b72",
   "metadata": {
    "tags": [
     "remove-output"
    ]
   },
   "outputs": [
    {
     "data": {
      "text/html": [
       "'character'"
      ],
      "text/latex": [
       "'character'"
      ],
      "text/markdown": [
       "'character'"
      ],
      "text/plain": [
       "[1] \"character\""
      ]
     },
     "metadata": {},
     "output_type": "display_data"
    }
   ],
   "source": [
    "class(myFirstTextVar)"
   ]
  },
  {
   "cell_type": "code",
   "execution_count": 3,
   "id": "f0238ee1",
   "metadata": {
    "tags": [
     "remove-input"
    ]
   },
   "outputs": [
    {
     "name": "stdout",
     "output_type": "stream",
     "text": [
      "[1] \"character\"\n"
     ]
    }
   ],
   "source": [
    "print(class(myFirstTextVar))"
   ]
  },
  {
   "cell_type": "markdown",
   "id": "7c642503",
   "metadata": {},
   "source": [
    "The following are the primary data types that you should be aware of:\n",
    "\n",
    "+ **Logical** - Used to store Boolean data, which only take on the values `TRUE` or `FALSE`."
   ]
  },
  {
   "cell_type": "code",
   "execution_count": 4,
   "id": "1553755a",
   "metadata": {
    "tags": [
     "remove-output"
    ]
   },
   "outputs": [
    {
     "data": {
      "text/html": [
       "'logical'"
      ],
      "text/latex": [
       "'logical'"
      ],
      "text/markdown": [
       "'logical'"
      ],
      "text/plain": [
       "[1] \"logical\""
      ]
     },
     "metadata": {},
     "output_type": "display_data"
    }
   ],
   "source": [
    "logicalVar <- TRUE\n",
    "class(logicalVar)"
   ]
  },
  {
   "cell_type": "code",
   "execution_count": 5,
   "id": "092638b7",
   "metadata": {
    "tags": [
     "remove-input"
    ]
   },
   "outputs": [
    {
     "name": "stdout",
     "output_type": "stream",
     "text": [
      "[1] \"logical\"\n"
     ]
    }
   ],
   "source": [
    "print(class(logicalVar))"
   ]
  },
  {
   "cell_type": "markdown",
   "id": "f1897804",
   "metadata": {},
   "source": [
    "+ **Numeric** - Used to store numbers with or without values after the decimal."
   ]
  },
  {
   "cell_type": "code",
   "execution_count": 6,
   "id": "f5feb86a",
   "metadata": {
    "tags": [
     "remove-output"
    ]
   },
   "outputs": [
    {
     "data": {
      "text/html": [
       "'numeric'"
      ],
      "text/latex": [
       "'numeric'"
      ],
      "text/markdown": [
       "'numeric'"
      ],
      "text/plain": [
       "[1] \"numeric\""
      ]
     },
     "metadata": {},
     "output_type": "display_data"
    }
   ],
   "source": [
    "income <- 50000.25\n",
    "class(income)"
   ]
  },
  {
   "cell_type": "code",
   "execution_count": 7,
   "id": "bcd592a6",
   "metadata": {
    "tags": [
     "remove-input"
    ]
   },
   "outputs": [
    {
     "name": "stdout",
     "output_type": "stream",
     "text": [
      "[1] \"numeric\"\n"
     ]
    }
   ],
   "source": [
    "print(class(income))"
   ]
  },
  {
   "cell_type": "markdown",
   "id": "1cc8c10f",
   "metadata": {},
   "source": [
    "+ **Character** - Used to store text data, in particular text variables that can take on an infinite or very large set of possible values. For example, someone's name, which could be nearly anything, should be stored as a character."
   ]
  },
  {
   "cell_type": "code",
   "execution_count": 8,
   "id": "0bce9850",
   "metadata": {
    "tags": [
     "remove-output"
    ]
   },
   "outputs": [
    {
     "data": {
      "text/html": [
       "'character'"
      ],
      "text/latex": [
       "'character'"
      ],
      "text/markdown": [
       "'character'"
      ],
      "text/plain": [
       "[1] \"character\""
      ]
     },
     "metadata": {},
     "output_type": "display_data"
    }
   ],
   "source": [
    "message <- \"hello world\"\n",
    "class(message)"
   ]
  },
  {
   "cell_type": "code",
   "execution_count": 9,
   "id": "c30e2310",
   "metadata": {
    "tags": [
     "remove-input"
    ]
   },
   "outputs": [
    {
     "name": "stdout",
     "output_type": "stream",
     "text": [
      "[1] \"character\"\n"
     ]
    }
   ],
   "source": [
    "print(class(message))"
   ]
  },
  {
   "cell_type": "markdown",
   "id": "0ffcb5e9",
   "metadata": {},
   "source": [
    "+ **Factor** - Used to represent categorical variables that take on a fixed set of values. For example, in our data set from  {numref}`excel2`, the `Division` variable can only take on three possible values: `Operations`, `Human Resources`, and `Sales`. Therefore, this data should ideally be stored as a factor.\n",
    "\n",
    "\t+ Note that in practice it can often be difficult to decide whether something should be stored as a factor or a character. It is possible to store division as a character instead of as a factor, and in many circumstances this would not be an issue. However, there are certain circumstances where you want R to recognize that a variable takes on a limited set of values. We will come back to this later in the course."
   ]
  },
  {
   "cell_type": "code",
   "execution_count": 10,
   "id": "e2323337",
   "metadata": {
    "tags": [
     "remove-output"
    ]
   },
   "outputs": [
    {
     "data": {
      "text/html": [
       "'factor'"
      ],
      "text/latex": [
       "'factor'"
      ],
      "text/markdown": [
       "'factor'"
      ],
      "text/plain": [
       "[1] \"factor\""
      ]
     },
     "metadata": {},
     "output_type": "display_data"
    }
   ],
   "source": [
    "division <- as.factor(\"Operations\")\n",
    "class(division)"
   ]
  },
  {
   "cell_type": "code",
   "execution_count": 11,
   "id": "b067394b",
   "metadata": {
    "tags": [
     "remove-input"
    ]
   },
   "outputs": [
    {
     "name": "stdout",
     "output_type": "stream",
     "text": [
      "[1] \"factor\"\n"
     ]
    }
   ],
   "source": [
    "print(class(division))"
   ]
  },
  {
   "cell_type": "markdown",
   "id": "836da6ba",
   "metadata": {},
   "source": [
    "+ **Date** - Used to store dates in R."
   ]
  },
  {
   "cell_type": "code",
   "execution_count": 12,
   "id": "22bfe894",
   "metadata": {
    "tags": [
     "remove-output"
    ]
   },
   "outputs": [
    {
     "data": {
      "text/html": [
       "'Date'"
      ],
      "text/latex": [
       "'Date'"
      ],
      "text/markdown": [
       "'Date'"
      ],
      "text/plain": [
       "[1] \"Date\""
      ]
     },
     "metadata": {},
     "output_type": "display_data"
    }
   ],
   "source": [
    "birthday <- as.Date(\"2000-01-01\")\n",
    "class(birthday)"
   ]
  },
  {
   "cell_type": "code",
   "execution_count": 13,
   "id": "84369605",
   "metadata": {
    "tags": [
     "remove-input"
    ]
   },
   "outputs": [
    {
     "name": "stdout",
     "output_type": "stream",
     "text": [
      "[1] \"Date\"\n"
     ]
    }
   ],
   "source": [
    "print(class(birthday))"
   ]
  },
  {
   "cell_type": "markdown",
   "id": "b054f7aa",
   "metadata": {},
   "source": [
    "Although not a data type, you should also be framiliar with `NA`, which is used to represent missing data in R. We often work with data sets that have missing values. For example, in our employees data set, we may not know the salary of some of the employees. In Excel we might represent this with `#N/A`, but in R it would be stored as `NA`. Because missing data is such a common issue, we will revisit `NA` frequently throughout this book. One has to be particularly careful with missing data in R, as `NA` values can create issues and unexpected behaviors that are sometimes difficult to detect."
   ]
  }
 ],
 "metadata": {
  "jupytext": {
   "cell_metadata_filter": "-all",
   "formats": "md:myst",
   "text_representation": {
    "extension": ".md",
    "format_name": "myst",
    "format_version": 0.13,
    "jupytext_version": "1.11.5"
   }
  },
  "kernelspec": {
   "display_name": "R",
   "language": "R",
   "name": "ir"
  },
  "language_info": {
   "codemirror_mode": "r",
   "file_extension": ".r",
   "mimetype": "text/x-r-source",
   "name": "R",
   "pygments_lexer": "r",
   "version": "3.6.1"
  },
  "source_map": [
   17,
   20,
   36,
   41,
   44,
   50,
   56,
   59,
   63,
   69,
   72,
   76,
   82,
   85,
   91,
   97,
   100,
   104,
   110,
   113
  ]
 },
 "nbformat": 4,
 "nbformat_minor": 5
}